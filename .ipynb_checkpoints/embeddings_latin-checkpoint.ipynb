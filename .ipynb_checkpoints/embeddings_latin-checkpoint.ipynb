{
 "cells": [
  {
   "cell_type": "code",
   "metadata": {
    "tags": [],
    "cell_id": "00000-7e66fa3e-b36d-48be-80cf-0505f6af3d57",
    "deepnote_to_be_reexecuted": false,
    "source_hash": "dfbe4956",
    "execution_start": 1640114525520,
    "execution_millis": 43,
    "deepnote_cell_type": "code"
   },
   "source": "INFERNO_LAT = \"ml-project-2-scikit-learn2/texts/DivineComedyLatinOCR.txt\"\nLATIN_AIX = \"ml-project-2-scikit-learn2/texts/Latin_Aix.txt\"\nBENCHMARK_LAT = \"ml-project-2-scikit-learn2/benchmarks/latin_benchmark.tsv\"",
   "execution_count": 1,
   "outputs": []
  },
  {
   "cell_type": "code",
   "metadata": {
    "tags": [],
    "cell_id": "00001-3be59eef-3223-4fe3-b785-f1e1ed2ce20f",
    "deepnote_to_be_reexecuted": false,
    "source_hash": "c664cc34",
    "execution_start": 1640114525564,
    "execution_millis": 117456,
    "deepnote_cell_type": "code"
   },
   "source": "!pip install cltk==1.0.21\n!pip install gensim==4.1.2",
   "outputs": [
    {
     "name": "stdout",
     "text": "Requirement already satisfied: cltk==1.0.21 in /root/venv/lib/python3.7/site-packages (1.0.21)\nRequirement already satisfied: gitpython<4.0,>=3.0 in /root/venv/lib/python3.7/site-packages (from cltk==1.0.21) (3.1.24)\nRequirement already satisfied: nltk<4.0,>=3.5 in /shared-libs/python3.7/py/lib/python3.7/site-packages (from cltk==1.0.21) (3.6.5)\nCollecting gensim<4.0.0,>=3.8.1\n  Using cached gensim-3.8.3-cp37-cp37m-manylinux1_x86_64.whl (24.2 MB)\nRequirement already satisfied: greek-accentuation<2.0.0,>=1.2.0 in /root/venv/lib/python3.7/site-packages (from cltk==1.0.21) (1.2.0)\nRequirement already satisfied: requests<3.0.0,>=2.22.0 in /shared-libs/python3.7/py/lib/python3.7/site-packages (from cltk==1.0.21) (2.26.0)\nRequirement already satisfied: scikit-learn<0.25.0,>=0.24.2 in /root/venv/lib/python3.7/site-packages (from cltk==1.0.21) (0.24.2)\nRequirement already satisfied: spacy<3.0.0,>=2.3.5 in /root/venv/lib/python3.7/site-packages (from cltk==1.0.21) (2.3.7)\nRequirement already satisfied: stringcase<2.0,>=1.2 in /root/venv/lib/python3.7/site-packages (from cltk==1.0.21) (1.2.0)\nRequirement already satisfied: stanza<2.0.0,>=1.3.0 in /root/venv/lib/python3.7/site-packages (from cltk==1.0.21) (1.3.0)\nRequirement already satisfied: tqdm<5.0.0,>=4.41.1 in /shared-libs/python3.7/py/lib/python3.7/site-packages (from cltk==1.0.21) (4.62.3)\nRequirement already satisfied: fasttext<0.10.0,>=0.9.1 in /root/venv/lib/python3.7/site-packages (from cltk==1.0.21) (0.9.2)\nRequirement already satisfied: boltons<21.0.0,>=20.0.0 in /root/venv/lib/python3.7/site-packages (from cltk==1.0.21) (20.2.1)\nRequirement already satisfied: python-Levenshtein<0.13.0,>=0.12.0 in /root/venv/lib/python3.7/site-packages (from cltk==1.0.21) (0.12.2)\nRequirement already satisfied: PyYAML<6.0.0,>=5.4.1 in /root/venv/lib/python3.7/site-packages (from cltk==1.0.21) (5.4.1)\nRequirement already satisfied: typing-extensions>=3.7.4.3; python_version < \"3.10\" in /shared-libs/python3.7/py-core/lib/python3.7/site-packages (from gitpython<4.0,>=3.0->cltk==1.0.21) (4.0.1)\nRequirement already satisfied: gitdb<5,>=4.0.1 in /root/venv/lib/python3.7/site-packages (from gitpython<4.0,>=3.0->cltk==1.0.21) (4.0.9)\nRequirement already satisfied: joblib in /shared-libs/python3.7/py/lib/python3.7/site-packages (from nltk<4.0,>=3.5->cltk==1.0.21) (1.1.0)\nRequirement already satisfied: regex>=2021.8.3 in /shared-libs/python3.7/py/lib/python3.7/site-packages (from nltk<4.0,>=3.5->cltk==1.0.21) (2021.11.10)\nRequirement already satisfied: click in /shared-libs/python3.7/py/lib/python3.7/site-packages (from nltk<4.0,>=3.5->cltk==1.0.21) (8.0.3)\nRequirement already satisfied: six>=1.5.0 in /shared-libs/python3.7/py-core/lib/python3.7/site-packages (from gensim<4.0.0,>=3.8.1->cltk==1.0.21) (1.16.0)\nRequirement already satisfied: scipy>=0.18.1 in /shared-libs/python3.7/py/lib/python3.7/site-packages (from gensim<4.0.0,>=3.8.1->cltk==1.0.21) (1.7.3)\nRequirement already satisfied: numpy>=1.11.3 in /shared-libs/python3.7/py/lib/python3.7/site-packages (from gensim<4.0.0,>=3.8.1->cltk==1.0.21) (1.19.5)\nRequirement already satisfied: smart-open>=1.8.1 in /shared-libs/python3.7/py/lib/python3.7/site-packages (from gensim<4.0.0,>=3.8.1->cltk==1.0.21) (5.2.1)\nRequirement already satisfied: charset-normalizer~=2.0.0; python_version >= \"3\" in /shared-libs/python3.7/py-core/lib/python3.7/site-packages (from requests<3.0.0,>=2.22.0->cltk==1.0.21) (2.0.9)\nRequirement already satisfied: urllib3<1.27,>=1.21.1 in /shared-libs/python3.7/py/lib/python3.7/site-packages (from requests<3.0.0,>=2.22.0->cltk==1.0.21) (1.26.7)\nRequirement already satisfied: idna<4,>=2.5; python_version >= \"3\" in /shared-libs/python3.7/py-core/lib/python3.7/site-packages (from requests<3.0.0,>=2.22.0->cltk==1.0.21) (3.3)\nRequirement already satisfied: certifi>=2017.4.17 in /shared-libs/python3.7/py/lib/python3.7/site-packages (from requests<3.0.0,>=2.22.0->cltk==1.0.21) (2021.10.8)\nRequirement already satisfied: threadpoolctl>=2.0.0 in /shared-libs/python3.7/py/lib/python3.7/site-packages (from scikit-learn<0.25.0,>=0.24.2->cltk==1.0.21) (3.0.0)\nRequirement already satisfied: murmurhash<1.1.0,>=0.28.0 in /shared-libs/python3.7/py/lib/python3.7/site-packages (from spacy<3.0.0,>=2.3.5->cltk==1.0.21) (1.0.6)\nRequirement already satisfied: plac<1.2.0,>=0.9.6 in /root/venv/lib/python3.7/site-packages (from spacy<3.0.0,>=2.3.5->cltk==1.0.21) (1.1.3)\nRequirement already satisfied: thinc<7.5.0,>=7.4.1 in /root/venv/lib/python3.7/site-packages (from spacy<3.0.0,>=2.3.5->cltk==1.0.21) (7.4.5)\nRequirement already satisfied: cymem<2.1.0,>=2.0.2 in /shared-libs/python3.7/py/lib/python3.7/site-packages (from spacy<3.0.0,>=2.3.5->cltk==1.0.21) (2.0.6)\nRequirement already satisfied: setuptools in /root/venv/lib/python3.7/site-packages (from spacy<3.0.0,>=2.3.5->cltk==1.0.21) (47.1.0)\nRequirement already satisfied: blis<0.8.0,>=0.4.0 in /shared-libs/python3.7/py/lib/python3.7/site-packages (from spacy<3.0.0,>=2.3.5->cltk==1.0.21) (0.7.5)\nRequirement already satisfied: catalogue<1.1.0,>=0.0.7 in /root/venv/lib/python3.7/site-packages (from spacy<3.0.0,>=2.3.5->cltk==1.0.21) (1.0.0)\nRequirement already satisfied: preshed<3.1.0,>=3.0.2 in /shared-libs/python3.7/py/lib/python3.7/site-packages (from spacy<3.0.0,>=2.3.5->cltk==1.0.21) (3.0.6)\nRequirement already satisfied: wasabi<1.1.0,>=0.4.0 in /shared-libs/python3.7/py/lib/python3.7/site-packages (from spacy<3.0.0,>=2.3.5->cltk==1.0.21) (0.9.0)\nRequirement already satisfied: srsly<1.1.0,>=1.0.2 in /root/venv/lib/python3.7/site-packages (from spacy<3.0.0,>=2.3.5->cltk==1.0.21) (1.0.5)\nRequirement already satisfied: protobuf in /shared-libs/python3.7/py/lib/python3.7/site-packages (from stanza<2.0.0,>=1.3.0->cltk==1.0.21) (3.19.1)\nRequirement already satisfied: torch>=1.3.0 in /shared-libs/python3.7/py/lib/python3.7/site-packages (from stanza<2.0.0,>=1.3.0->cltk==1.0.21) (1.10.0)\nRequirement already satisfied: emoji in /root/venv/lib/python3.7/site-packages (from stanza<2.0.0,>=1.3.0->cltk==1.0.21) (1.6.1)\nRequirement already satisfied: pybind11>=2.2 in /root/venv/lib/python3.7/site-packages (from fasttext<0.10.0,>=0.9.1->cltk==1.0.21) (2.8.1)\nRequirement already satisfied: smmap<6,>=3.0.1 in /root/venv/lib/python3.7/site-packages (from gitdb<5,>=4.0.1->gitpython<4.0,>=3.0->cltk==1.0.21) (5.0.0)\nRequirement already satisfied: importlib-metadata; python_version < \"3.8\" in /shared-libs/python3.7/py-core/lib/python3.7/site-packages (from click->nltk<4.0,>=3.5->cltk==1.0.21) (4.8.2)\nRequirement already satisfied: zipp>=0.5 in /shared-libs/python3.7/py-core/lib/python3.7/site-packages (from importlib-metadata; python_version < \"3.8\"->click->nltk<4.0,>=3.5->cltk==1.0.21) (3.6.0)\n",
     "output_type": "stream",
     "data": {}
    }
   ],
   "execution_count": null
  },
  {
   "cell_type": "code",
   "metadata": {
    "tags": [],
    "cell_id": "00000-0e1f2274-445d-4558-9ddc-c4f56e2cc135",
    "deepnote_to_be_reexecuted": true,
    "source_hash": "4ff9cc07",
    "execution_start": 1640111483735,
    "execution_millis": 18010,
    "deepnote_output_heights": [
     21.1875
    ],
    "deepnote_cell_type": "code"
   },
   "source": "import numpy as np\nimport pandas as pd\nimport matplotlib.pyplot as plt\nimport scipy as scipy\nimport nltk\nimport gensim\nfrom gensim.models import Word2Vec, FastText\nfrom gensim.corpora.dictionary import Dictionary\nimport math\n\nfrom cltk.tokenizers.lat.lat import LatinPunktSentenceTokenizer\nfrom cltk.tokenizers.lat.lat import LatinWordTokenizer\nfrom cltk.data.fetch import FetchCorpus\ncorpus_downloader = FetchCorpus(language=\"lat\")\ncorpus_downloader.list_corpora\ncorpus_downloader.import_corpus(\"lat_models_cltk\")\ngensim.__version__\n",
   "outputs": [
    {
     "output_type": "execute_result",
     "execution_count": 7,
     "data": {
      "text/plain": "'4.1.2'"
     },
     "metadata": {}
    }
   ],
   "execution_count": null
  },
  {
   "cell_type": "code",
   "metadata": {
    "tags": [],
    "cell_id": "00002-8f420ea3-e931-4070-96d0-2e058c28e6a2",
    "deepnote_to_be_reexecuted": true,
    "source_hash": "8e7563df",
    "execution_start": 1640111679835,
    "execution_millis": 425,
    "deepnote_cell_type": "code"
   },
   "source": "with open(LATIN_AIX, \"r\") as doc:\n    text = doc.read().replace(\"\\n\", \" \")",
   "outputs": [
    {
     "output_type": "error",
     "ename": "TypeError",
     "evalue": "object of type '_io.TextIOWrapper' has no len()",
     "traceback": [
      "\u001b[0;31m---------------------------------------------------------------------------\u001b[0m",
      "\u001b[0;31mTypeError\u001b[0m                                 Traceback (most recent call last)",
      "\u001b[0;32m<ipython-input-12-b6a2190b83ea>\u001b[0m in \u001b[0;36m<module>\u001b[0;34m\u001b[0m\n\u001b[1;32m      1\u001b[0m \u001b[0;32mwith\u001b[0m \u001b[0mopen\u001b[0m\u001b[0;34m(\u001b[0m\u001b[0mLATIN_AIX\u001b[0m\u001b[0;34m,\u001b[0m \u001b[0;34m\"r\"\u001b[0m\u001b[0;34m)\u001b[0m \u001b[0;32mas\u001b[0m \u001b[0mdoc\u001b[0m\u001b[0;34m:\u001b[0m\u001b[0;34m\u001b[0m\u001b[0;34m\u001b[0m\u001b[0m\n\u001b[0;32m----> 2\u001b[0;31m     \u001b[0mlen\u001b[0m\u001b[0;34m(\u001b[0m\u001b[0mdoc\u001b[0m\u001b[0;34m)\u001b[0m\u001b[0;34m\u001b[0m\u001b[0;34m\u001b[0m\u001b[0m\n\u001b[0m\u001b[1;32m      3\u001b[0m     \u001b[0mtext\u001b[0m \u001b[0;34m=\u001b[0m \u001b[0mdoc\u001b[0m\u001b[0;34m.\u001b[0m\u001b[0mread\u001b[0m\u001b[0;34m(\u001b[0m\u001b[0;34m)\u001b[0m\u001b[0;34m.\u001b[0m\u001b[0mreplace\u001b[0m\u001b[0;34m(\u001b[0m\u001b[0;34m\"\\n\"\u001b[0m\u001b[0;34m,\u001b[0m \u001b[0;34m\" \"\u001b[0m\u001b[0;34m)\u001b[0m\u001b[0;34m\u001b[0m\u001b[0;34m\u001b[0m\u001b[0m\n",
      "\u001b[0;31mTypeError\u001b[0m: object of type '_io.TextIOWrapper' has no len()"
     ],
     "data": {}
    }
   ],
   "execution_count": null
  },
  {
   "cell_type": "code",
   "metadata": {
    "tags": [],
    "cell_id": "00003-8c5aec47-77af-4beb-93a5-0cf8ef921918",
    "deepnote_to_be_reexecuted": true,
    "source_hash": "bb2f5a64",
    "execution_start": 1640111508163,
    "execution_millis": 1,
    "deepnote_cell_type": "code"
   },
   "source": "def tokenize_latin_to_words(txt):\n    '''\n    tokenize text, casefold to lowercase and remove punctuation.\n    '''\n    word_tokenizer = LatinWordTokenizer()\n    #tokens = [word_tokenizer.tokenize(sentence) for sentence in txt]\n    tokenized_text = word_tokenizer.tokenize(txt)\n    words = [[word.lower() for word in tokenized_text if word.isalpha()]]\n    return words",
   "outputs": [],
   "execution_count": null
  },
  {
   "cell_type": "code",
   "metadata": {
    "tags": [],
    "cell_id": "00004-e4294c15-3353-474c-b569-799ef52e2f34",
    "deepnote_to_be_reexecuted": true,
    "source_hash": "cccde481",
    "execution_start": 1640111699120,
    "execution_millis": 3223,
    "deepnote_output_heights": [
     null,
     611
    ],
    "deepnote_cell_type": "code"
   },
   "source": "print(len(text))\ntokenized = tokenize_latin_to_words(text)\nprint(len(tokenized[0]))\ntokenized[:20]",
   "outputs": [
    {
     "name": "stdout",
     "text": "900782\n126091\n",
     "output_type": "stream",
     "data": {}
    },
    {
     "output_type": "execute_result",
     "execution_count": 13,
     "data": {
      "text/plain": "[['albert',\n  'of',\n  'aixhistoria',\n  'hierosolymitanae',\n  'expeditionisliber',\n  'icap',\n  'i',\n  'prooemium',\n  'sequentis',\n  'operis',\n  'incipit',\n  'liber',\n  'primus',\n  'expeditionis',\n  'hierosolymitanae',\n  'urbis',\n  'ubi',\n  'clarissimi',\n  'ducis',\n  'godefridi',\n  'inclita',\n  'gesta',\n  'narrantur',\n  'cujus',\n  'labore',\n  'et',\n  'studio',\n  'civitas',\n  'sancta',\n  'ab',\n  'infidelibus',\n  'liberata',\n  'sanctae',\n  'ecclesiae',\n  'filiis',\n  'est',\n  'restituta',\n  'diu',\n  'multum',\n  'his',\n  'usque',\n  'diebus',\n  'ob',\n  'inaudita',\n  'et',\n  'plurimum',\n  'admiranda',\n  'saepius',\n  'accensus',\n  'sum',\n  'desiderio',\n  'ejusdem',\n  'expeditionis',\n  'et',\n  'faciendae',\n  'orationis',\n  'illic',\n  'dum',\n  'ferverem',\n  'sed',\n  'cum',\n  'minime',\n  'ob',\n  'diversa',\n  'impedimenta',\n  'intentioni',\n  'meae',\n  'effectus',\n  'daretur',\n  'temerario',\n  'ausu',\n  'decrevi',\n  'saltem',\n  'ex',\n  'his',\n  'aliqua',\n  'memoriae',\n  'commendare',\n  'quae',\n  'auditu',\n  'et',\n  'revelatio',\n  'nota',\n  'fierent',\n  'ab',\n  'his',\n  'qui',\n  'praesentes',\n  'adfuissent',\n  'ut',\n  'vel',\n  'sic',\n  'non',\n  'in',\n  'otio',\n  'sed',\n  'quasi',\n  'in',\n  'via',\n  'si',\n  'non',\n  'corpore',\n  'at',\n  'tota',\n  'mente',\n  'et',\n  'animo',\n  'consocius',\n  'essem',\n  'elaborare',\n  'quapropter',\n  'de',\n  'labore',\n  'et',\n  'miseriis',\n  'de',\n  'firmata',\n  'fide',\n  'de',\n  'robustorum',\n  'principum',\n  'caeterorum',\n  'hominum',\n  'conspiratio',\n  'bona',\n  'in',\n  'amore',\n  'christi',\n  'quomodo',\n  'scilicet',\n  'relinquerint',\n  'patriam',\n  'cognatos',\n  'uxores',\n  'filios',\n  'filias',\n  'urbes',\n  'castella',\n  'agros',\n  'regna',\n  'et',\n  'omnem',\n  'hujus',\n  'mundi',\n  'dulcedinem',\n  'certa',\n  'pro',\n  'incertis',\n  'et',\n  'in',\n  'nomine',\n  'jesu',\n  'exsilia',\n  'quaesierint',\n  'quomodo',\n  'in',\n  'manu',\n  'forti',\n  'et',\n  'exercitu',\n  'robusto',\n  'iter',\n  'hierosolymam',\n  'fecerint',\n  'et',\n  'mille',\n  'millies',\n  'turcorum',\n  'sarracenorum',\n  'legiones',\n  'audaci',\n  'assultu',\n  'triumphantes',\n  'occiderint',\n  'quomodo',\n  'introitum',\n  'et',\n  'accessum',\n  'sacri',\n  'sepulcri',\n  'domini',\n  'nostri',\n  'jesu',\n  'christi',\n  'patefecerint',\n  'census',\n  'et',\n  'tributa',\n  'peregrinorum',\n  'huc',\n  'intrare',\n  'cupientium',\n  'ex',\n  'toto',\n  'remiserint',\n  'pro',\n  'viribus',\n  'nostris',\n  'exiguis',\n  'puerili',\n  'et',\n  'incauto',\n  'stylo',\n  'scribere',\n  'praesumpsicap',\n  'ii',\n  'quomodo',\n  'petrus',\n  'eremita',\n  'primus',\n  'auctor',\n  'exstiterit',\n  'expeditionis',\n  'in',\n  'jerusalemsacerdos',\n  'quidam',\n  'petrus',\n  'nomine',\n  'quondam',\n  'eremita',\n  'ortus',\n  'de',\n  'civitate',\n  'amiens',\n  'quae',\n  'est',\n  'in',\n  'occidente',\n  'de',\n  'regno',\n  'francorum',\n  'omni',\n  'instinctu',\n  'quo',\n  'potuit',\n  'hujus',\n  'viae',\n  'constantiam',\n  'primum',\n  'adhortatus',\n  'est',\n  'in',\n  'beru',\n  'regione',\n  'praefati',\n  'regni',\n  'factus',\n  'praedicator',\n  'in',\n  'omni',\n  'admonitio',\n  'et',\n  'sermone',\n  'hujus',\n  'admonitio',\n  'assidua',\n  'et',\n  'vocatio',\n  'episcopi',\n  'abbates',\n  'clerici',\n  'et',\n  'monachi',\n  'deinde',\n  'laici',\n  'nobilissimi',\n  'diversorum',\n  'regnorum',\n  'principes',\n  'totum',\n  'vulgus',\n  'tam',\n  'casti',\n  'quam',\n  'incesti',\n  'adulteri',\n  'homicidae',\n  'fures',\n  'perjuri',\n  'praedones',\n  'universum',\n  'scilicet',\n  'genus',\n  'christianae',\n  'professionis',\n  'quin',\n  'et',\n  'sexus',\n  'femineus',\n  'poenitentia',\n  'ducti',\n  'ad',\n  'hanc',\n  'laetanter',\n  'concurrunt',\n  'viam',\n  'qua',\n  'occasio',\n  'et',\n  'intentio',\n  'hanc',\n  'viam',\n  'idem',\n  'eremita',\n  'praedicaverit',\n  'et',\n  'ejus',\n  'primus',\n  'ductor',\n  'exstiterit',\n  'praesens',\n  'pagina',\n  'declarabitcap',\n  'iii',\n  'quomodo',\n  'patriarcham',\n  'adierithic',\n  'sacerdos',\n  'aliquot',\n  'annis',\n  'ante',\n  'hujus',\n  'viae',\n  'initium',\n  'causa',\n  'orationis',\n  'hierosolymam',\n  'profectus',\n  'est',\n  'ubi',\n  'in',\n  'oratorio',\n  'dominici',\n  'sepulcri',\n  'proh',\n  'dolor',\n  'visa',\n  'quaedam',\n  'illicita',\n  'et',\n  'nefanda',\n  'tristi',\n  'animo',\n  'accepit',\n  'et',\n  'infremuit',\n  'spiritu',\n  'ipsum',\n  'dominum',\n  'judicem',\n  'super',\n  'istis',\n  'injuriis',\n  'appellat',\n  'tandem',\n  'super',\n  'nefariis',\n  'operibus',\n  'motus',\n  'patriarcham',\n  'sanctae',\n  'hierosolymitanae',\n  'ecclesiae',\n  'expetit',\n  'et',\n  'cur',\n  'pateretur',\n  'gentiles',\n  'et',\n  'impios',\n  'sancta',\n  'inquinare',\n  'et',\n  'ab',\n  'his',\n  'fidelium',\n  'oblationes',\n  'asportare',\n  'item',\n  'ecclesia',\n  'uti',\n  'pro',\n  'prostibulis',\n  'christianos',\n  'colaphizari',\n  'peregrinos',\n  'sanctos',\n  'injusta',\n  'mercede',\n  'spoliari',\n  'et',\n  'multis',\n  'oppressionibus',\n  'angustiari',\n  'requiritcap',\n  'iv',\n  'quid',\n  'patriarcha',\n  'petro',\n  'responderit',\n  'et',\n  'quomodo',\n  'auxilia',\n  'christianorum',\n  'invitaveritpatriarcha',\n  'vero',\n  'et',\n  'venerabilis',\n  'sacerdos',\n  'sepulcri',\n  'dominici',\n  'his',\n  'auditis',\n  'pia',\n  'et',\n  'fidelia',\n  'profert',\n  'responsa',\n  'o',\n  'fidelissime',\n  'christianorum',\n  'quid',\n  'super',\n  'his',\n  'compellas',\n  'et',\n  'inquietas',\n  'paternitatem',\n  'nostram',\n  'cum',\n  'nostrae',\n  'vires',\n  'vel',\n  'potentia',\n  'non',\n  'magis',\n  'quam',\n  'formica',\n  'exigua',\n  'adversus',\n  'tantorum',\n  'superbiam',\n  'computentur',\n  'vita',\n  'enim',\n  'nostra',\n  'aut',\n  'assiduis',\n  'redimitur',\n  'tributis',\n  'aut',\n  'mortiferis',\n  'deputatur',\n  'suppliciis',\n  'et',\n  'majora',\n  'asperamus',\n  'de',\n  'die',\n  'in',\n  'diem',\n  'adfore',\n  'pericula',\n  'nisi',\n  'christianorum',\n  'adfuerint',\n  'auxilia',\n  'quae',\n  'tua',\n  'legatio',\n  'invitamus',\n  'cui',\n  'petrus',\n  'in',\n  'hunc',\n  'modum',\n  'respondit',\n  'venerande',\n  'pater',\n  'satis',\n  'comperimus',\n  'et',\n  'nunc',\n  'intelligimus',\n  'ac',\n  'videmus',\n  'quam',\n  'invalida',\n  'manus',\n  'christianorum',\n  'sit',\n  'cum',\n  'te',\n  'hic',\n  'inhabitantium',\n  'et',\n  'quantis',\n  'subjacentis',\n  'oppressionibus',\n  'gentilium',\n  'qua',\n  'de',\n  'causa',\n  'ob',\n  'domini',\n  'gratiam',\n  'et',\n  'vestram',\n  'liberationem',\n  'et',\n  'sanctorum',\n  'emundationem',\n  'domino',\n  'comite',\n  'vita',\n  'sospite',\n  'rediens',\n  'imprimis',\n  'dominum',\n  'apostolicum',\n  'requiram',\n  'deinde',\n  'omnes',\n  'primates',\n  'christianorum',\n  'reges',\n  'duces',\n  'comites',\n  'et',\n  'principatum',\n  'regni',\n  'tenentes',\n  'servitutis',\n  'vestrae',\n  'miseriam',\n  'et',\n  'angustiarum',\n  'tolerantiam',\n  'cunctis',\n  'insinuans',\n  'jam',\n  'omnia',\n  'inter',\n  'se',\n  'haec',\n  'nuntia',\n  'aeque',\n  'videntur',\n  'ut',\n  'fiantcap',\n  'v',\n  'quomodo',\n  'majestas',\n  'domini',\n  'jesu',\n  'in',\n  'somnis',\n  'petro',\n  'apparuerit',\n  'eum',\n  'allocuta',\n  'sitinterim',\n  'tenebris',\n  'coelo',\n  'circumqua',\n  'incumbentibus',\n  'petrus',\n  'orandi',\n  'causa',\n  'ad',\n  'sanctum',\n  'sepulcrum',\n  'redit',\n  'ubi',\n  'sub',\n  'vigiliis',\n  'et',\n  'orationibus',\n  'fatigatus',\n  'somno',\n  'decipitur',\n  'cui',\n  'in',\n  'visu',\n  'majestas',\n  'domini',\n  'jesu',\n  'oblata',\n  'est',\n  'hominem',\n  'mortalem',\n  'et',\n  'fragilem',\n  'sic',\n  'dignata',\n  'alloqui',\n  'petre',\n  'dilectissime',\n  'fili',\n  'christianorum',\n  'surgens',\n  'visitabis',\n  'patriarcham',\n  'nostrum',\n  'et',\n  'ab',\n  'eo',\n  'sumes',\n  'cum',\n  'sigillo',\n  'sanctae',\n  'crucis',\n  'litteras',\n  'legationis',\n  'nostrae',\n  'et',\n  'in',\n  'terram',\n  'cognationis',\n  'tuae',\n  'iter',\n  'quantocius',\n  'accelerabis',\n  'calumnias',\n  'et',\n  'injurias',\n  'populo',\n  'nostro',\n  'et',\n  'loco',\n  'sancto',\n  'illatas',\n  'reserabis',\n  'et',\n  'suscitabis',\n  'corda',\n  'fidelium',\n  'ad',\n  'purganda',\n  'loca',\n  'sancta',\n  'jerusalem',\n  'et',\n  'ad',\n  'restauranda',\n  'officia',\n  'sanctorum',\n  'per',\n  'pericula',\n  'enim',\n  'et',\n  'tentationes',\n  'varias',\n  'paradisi',\n  'portae',\n  'nunc',\n  'aperientur',\n  'vocatis',\n  'et',\n  'electiscap',\n  'vi',\n  'quomodo',\n  'petrus',\n  'romam',\n  'venerit',\n  'legatio',\n  'apostolica',\n  'retulerit',\n  'et',\n  'de',\n  'terraemotuad',\n  'hanc',\n  'itaque',\n  'miram',\n  'et',\n  'dignam',\n  'domino',\n  'revelationem',\n  'subtracta',\n  'visio',\n  'petrus',\n  'somno',\n  'expergefactus',\n  'est',\n  'qui',\n  'in',\n  'primo',\n  'diei',\n  'crepusculo',\n  'processit',\n  'a',\n  'limine',\n  'templi',\n  'patriarcham',\n  'petiit',\n  'visionem',\n  'domini',\n  'sibi',\n  'ex',\n  'ordine',\n  'aperuit',\n  'litteras',\n  'legationis',\n  'divinae',\n  'cum',\n  'signo',\n  'sanctae',\n  'crucis',\n  'requirit',\n  'quas',\n  'ille',\n  'dare',\n  'non',\n  'recusavit',\n  'sed',\n  'cum',\n  'gratiarum',\n  'actio',\n  'accommodavit',\n  'accepta',\n  'hinc',\n  'licentia',\n  'in',\n  'obedientia',\n  'legationis',\n  'ad',\n  'natales',\n  'oras',\n  'regressus',\n  'est',\n  'non',\n  'modica',\n  'anxietate',\n  'navigio',\n  'per',\n  'mare',\n  'regressus',\n  'ad',\n  'civitatem',\n  'barum',\n  'revehitur',\n  'ubi',\n  'terris',\n  'redditus',\n  'romam',\n  'sine',\n  'mora',\n  'proficiscitur',\n  'ibi',\n  'reperto',\n  'apostolico',\n  'quam',\n  'audivit',\n  'et',\n  'accepit',\n  'a',\n  'deo',\n  'et',\n  'patriarcha',\n  'legationem',\n  'retulit',\n  'super',\n  'immunditiis',\n  'gentilium',\n  'et',\n  'injuriis',\n  'sanctorum',\n  'et',\n  'peregrinorum',\n  'haec',\n  'autem',\n  'apostolicus',\n  'mente',\n  'voluntaria',\n  'et',\n  'intenta',\n  'ut',\n  'accepit',\n  'in',\n  'omnibus',\n  'se',\n  'promisit',\n  'mandatis',\n  'parere',\n  'sanctorum',\n  'precibus',\n  'qua',\n  'de',\n  'causa',\n  'sollicitus',\n  'venit',\n  'ad',\n  'civitatem',\n  'vercellas',\n  'transactis',\n  'alpibus',\n  'conventum',\n  'totius',\n  'occidentalis',\n  'franciae',\n  'et',\n  'concilium',\n  'apud',\n  'podium',\n  'civitatem',\n  'sanctae',\n  'mariae',\n  'fieri',\n  'decrevit',\n  'deinde',\n  'ad',\n  'clarummontem',\n  'in',\n  'arvernis',\n  'proficiscitur',\n  'ubi',\n  'audita',\n  'legatio',\n  'divina',\n  'et',\n  'admonitio',\n  'apostolica',\n  'episcopi',\n  'totius',\n  'franciae',\n  'duces',\n  'ac',\n  'comites',\n  'magni',\n  'principes',\n  'cujus',\n  'ordinis',\n  'ac',\n  'gradus',\n  'expeditionem',\n  'ex',\n  'proprio',\n  'sumptu',\n  'ad',\n  'ipsum',\n  'sepulcrum',\n  'domini',\n  'annuerunt',\n  'ipso',\n  'etenim',\n  'in',\n  'regno',\n  'amplissimo',\n  'conspiratio',\n  'et',\n  'conjuratio',\n  'sancta',\n  'hujus',\n  'viae',\n  'datis',\n  'dextris',\n  'inter',\n  'potentissimos',\n  'exivit',\n  'in',\n  'quorum',\n  'affirmatio',\n  'terraemotus',\n  'magnus',\n  'factus',\n  'est',\n  'nil',\n  'aliud',\n  'portendens',\n  'quam',\n  'diversorum',\n  'regnorum',\n  'iter',\n  'moturas',\n  'legiones',\n  'tam',\n  'ex',\n  'regno',\n  'franciae',\n  'quam',\n  'lotharingiae',\n  'terrae',\n  'teutonicorum',\n  'simul',\n  'et',\n  'anglorum',\n  'et',\n  'ex',\n  'regione',\n  'danorumcap',\n  'vii',\n  'de',\n  'quodam',\n  'waltero',\n  'eunte',\n  'hierosolymam',\n  'quid',\n  'egerit',\n  'vel',\n  'quid',\n  'pertuleritanno',\n  'dominicae',\n  'incarnationis',\n  'millesimo',\n  'nonagesimo',\n  'quinto',\n  'indictio',\n  'quarta',\n  'henrico',\n  'quarto',\n  'rege',\n  'ac',\n  'tertio',\n  'imperatore',\n  'romanorum',\n  'augusto',\n  'anno',\n  'regni',\n  'sui',\n  'quadragesimo',\n  'tertio',\n  'imperii',\n  'vero',\n  'decimo',\n  'tertio',\n  'urbano',\n  'secundo',\n  'qui',\n  'et',\n  'odardus',\n  'apostolico',\n  'octavo',\n  'die',\n  'mensis',\n  'martii',\n  'walterus',\n  'cognomento',\n  'senzavehor',\n  'miles',\n  'egregius',\n  'cum',\n  'magna',\n  'societate',\n  'francigenarum',\n  'peditum',\n  'solummodo',\n  'octo',\n  'habens',\n  'equites',\n  'ex',\n  'admonitio',\n  'praedicti',\n  'petri',\n  'eremitae',\n  'in',\n  'initio',\n  'viae',\n  'hierosolymitanae',\n  'intravit',\n  'regnum',\n  'hungariae',\n  'ubi',\n  'cognita',\n  'virtute',\n  'et',\n  'audita',\n  'animi',\n  'illius',\n  'intentio',\n  'et',\n  'causa',\n  'assumptae',\n  'viae',\n  'a',\n  'domino',\n  'calomano',\n  'rege',\n  'christianissimo',\n  'hungarorum',\n  'benigne',\n  'susceptus',\n  'est',\n  'et',\n  'concessus',\n  'est',\n  'sibi',\n  'pacifice',\n  'transitus',\n  'per',\n  'universam',\n  'terram',\n  'regni',\n  'sui',\n  'et',\n  'emendi',\n  'licentia',\n  'hic',\n  'itaque',\n  'sine',\n  'offensio',\n  ...]]"
     },
     "metadata": {}
    }
   ],
   "execution_count": null
  },
  {
   "cell_type": "markdown",
   "source": "# Embedings",
   "metadata": {
    "tags": [],
    "cell_id": "00005-f60f53b5-8157-4557-819a-f6dd68d0a197",
    "deepnote_cell_type": "markdown"
   }
  },
  {
   "cell_type": "code",
   "metadata": {
    "tags": [],
    "cell_id": "00005-09001830-bd39-4dc9-ad2a-2bdaa8f61b16",
    "deepnote_to_be_reexecuted": true,
    "source_hash": "185b85b5",
    "execution_start": 1639926525241,
    "execution_millis": 1,
    "deepnote_cell_type": "code"
   },
   "source": "# Word2Vec parameters\nmin_count = 1                # minimum number of  word occurrencies\nvector_size = 100            # embeddings size\nwindow = 5                   # context window size\nalpha = 0.5                  # initial learning rate\nmin_alpha = 0.5              # limit learning rate\nepochs = 20                  # epochs number\nnegative = 20                # number of draws for negative sampling",
   "execution_count": null,
   "outputs": []
  },
  {
   "cell_type": "code",
   "metadata": {
    "tags": [],
    "cell_id": "00007-bbfbe25e-2c8b-4984-817e-19e2d7d6f78b",
    "deepnote_to_be_reexecuted": true,
    "source_hash": "3d850edf",
    "execution_start": 1639926528129,
    "execution_millis": 2768,
    "deepnote_output_heights": [
     155.60000610351562
    ],
    "deepnote_cell_type": "code"
   },
   "source": "embeddings_W2V_CBOW = Word2Vec(tokenized, min_count=min_count, vector_size=vector_size, \n                               window=window, sg=0, negative=negative, alpha=alpha,\n                               min_alpha=min_alpha, epochs=epochs)",
   "execution_count": null,
   "outputs": []
  },
  {
   "cell_type": "code",
   "metadata": {
    "tags": [],
    "cell_id": "00007-f061767e-493d-4448-be68-a9f7c516e835",
    "deepnote_to_be_reexecuted": true,
    "source_hash": "d534404c",
    "execution_start": 1639926531849,
    "execution_millis": 7361,
    "deepnote_cell_type": "code"
   },
   "source": "embeddings_W2V_SkipGram = Word2Vec(tokenized, min_count=min_count, vector_size=vector_size, \n                               window=window, sg=1, negative=negative, alpha=alpha,\n                               min_alpha=min_alpha, epochs=epochs)",
   "execution_count": null,
   "outputs": []
  },
  {
   "cell_type": "code",
   "metadata": {
    "tags": [],
    "cell_id": "00007-a5ed0de3-0521-4fc6-9660-cabe5087c2a2",
    "deepnote_to_be_reexecuted": true,
    "source_hash": "779b0e06",
    "execution_start": 1639926540792,
    "execution_millis": 5,
    "deepnote_cell_type": "code"
   },
   "source": "# FastText parameters\nmin_count = 1                # minimum number of  word occurrencies\nvector_size = 100            # embeddings size\nwindow = 5                   # context window size\nalpha = 0.05                 # initial learning rate\nmin_alpha = 0.0001           # limit learning rate\nepochs = 20                  # epochs number\nnegative = 20                # number of draws for negative sampling\nmin_n = 3                    # min length of char ngram\nmax_n = 6                    # max length of char ngram",
   "execution_count": null,
   "outputs": []
  },
  {
   "cell_type": "code",
   "metadata": {
    "tags": [],
    "cell_id": "00010-d7baa589-36af-4925-9a3a-c7ca2ade8d2d",
    "deepnote_to_be_reexecuted": true,
    "source_hash": "f5044292",
    "execution_start": 1639926543566,
    "execution_millis": 17435,
    "deepnote_cell_type": "code"
   },
   "source": "embeddings_FT_CBOW = FastText(tokenized, min_count=min_count, vector_size=vector_size,\n                              window=window, sg=0, negative=negative, alpha=alpha,\n                              min_alpha=min_alpha, epochs=epochs,\n                              min_n=min_n, max_n=max_n)",
   "execution_count": null,
   "outputs": []
  },
  {
   "cell_type": "code",
   "metadata": {
    "tags": [],
    "cell_id": "00011-0d48d968-25cb-42bf-9e63-282447bf5cb2",
    "deepnote_to_be_reexecuted": true,
    "source_hash": "54944714",
    "execution_start": 1639926561008,
    "execution_millis": 21929,
    "deepnote_cell_type": "code"
   },
   "source": "embeddings_FT_SkipGram = FastText(tokenized, min_count=min_count, vector_size=vector_size,\n                              window=window, sg=1, negative=negative, alpha=alpha,\n                              min_alpha=min_alpha, epochs=epochs,\n                              min_n=min_n, max_n=max_n)",
   "execution_count": null,
   "outputs": []
  },
  {
   "cell_type": "markdown",
   "source": "# Evaluate the Embeddings with benchmark",
   "metadata": {
    "tags": [],
    "cell_id": "00012-29879eae-c33f-4fa4-9857-4570d8d59be6",
    "deepnote_cell_type": "markdown"
   }
  },
  {
   "cell_type": "code",
   "metadata": {
    "tags": [],
    "cell_id": "00012-14678cd7-bead-4052-8e33-a1ee827e3dc1",
    "deepnote_to_be_reexecuted": true,
    "source_hash": "e7c582dc",
    "execution_start": 1639926585962,
    "execution_millis": 43,
    "deepnote_output_heights": [
     21.199996948242188,
     21.199996948242188
    ],
    "deepnote_cell_type": "code"
   },
   "source": "# Only use first 2 columns, for synonyms\nlatin_benchmark = pd.read_csv(BENCHMARK_LAT, sep='\\t', header = None, usecols=[0,2])\n\n#Build 2 way dictionary\ndictionary1 = dict(latin_benchmark.values)\ndictionary = dict(latin_benchmark.values)\n# example: inclino only appears as synonym for word acclino and never again... So we need to map inclino to acclino (Reverse map)\nfor k,v in dictionary1.items():\n    if v not in dictionary1:\n        dictionary[v] = k",
   "execution_count": null,
   "outputs": []
  },
  {
   "cell_type": "markdown",
   "source": "Now we have synonym dictionary and can evaluate our latin embeddings",
   "metadata": {
    "tags": [],
    "cell_id": "00014-ebb5ce64-7b50-4570-ba5f-730c2d22c16e",
    "deepnote_cell_type": "markdown"
   }
  },
  {
   "cell_type": "code",
   "metadata": {
    "tags": [],
    "cell_id": "00015-331879da-ca5b-4d40-bec3-02700eedc20a",
    "deepnote_to_be_reexecuted": true,
    "source_hash": "1ba287a7",
    "execution_start": 1639926594450,
    "execution_millis": 2,
    "deepnote_cell_type": "code"
   },
   "source": "#For now see how many simmilar words specific model can match\n#So far no words can be matched at all\ndef calculate_matches(model, word_set):\n    score = 0\n    triedWords = 0\n    for word in word_set:\n        if word in dictionary:\n            pos_synonyms = model.wv.similar_by_word(word)\n            true_synonym = dictionary[word]\n            if true_synonym not in model.wv.key_to_index:\n                continue;\n            triedWords += 1\n            sim = 0\n            for syn, val in pos_synonyms:\n                # Not sure how to fully deal with cosine similarity the values are between [-1;1] and -1 means oposite word.\n                # For now I will assume man and woman are synonyms\n                sim_ = model.wv.similarity(syn, true_synonym)\n                sim += sim_\n            #avg similarity\n            \n            score += sim/len(pos_synonyms)\n    #print(\"Tried words = \" + str(triedWords) + \" Score = \" + str(score/triedWords)) \n    return score/triedWords",
   "execution_count": null,
   "outputs": []
  },
  {
   "cell_type": "code",
   "metadata": {
    "tags": [],
    "cell_id": "00014-cde74f6a-9f83-4857-96c2-09ceb26b41c1",
    "deepnote_to_be_reexecuted": true,
    "source_hash": "a0d7a9c0",
    "execution_start": 1639926597912,
    "execution_millis": 11689,
    "deepnote_output_heights": [
     194,
     328.3999938964844
    ],
    "deepnote_cell_type": "code"
   },
   "source": "word_list = [word for sentence in tokenized for word in sentence]\n\n# Text still contains many artifacts...\nprint(len(word_list))\nprint(len(set(word_list)))\nprint(\"#\"*80)\nword_set = set(word_list)\n\nprint(\"Word 2 Vec CBOW score: \")\nprint(calculate_matches(embeddings_W2V_CBOW,word_set))\nprint(\"Word 2 Vec Skipgram score: \")\nprint(calculate_matches(embeddings_W2V_SkipGram,word_set))\nprint(\"Fast Text CBOW score: \")\nprint(calculate_matches(embeddings_FT_CBOW,word_set))\nprint(\"Fast Text Skipgram score: \")\nprint(calculate_matches(embeddings_FT_SkipGram,word_set))",
   "execution_count": null,
   "outputs": [
    {
     "name": "stdout",
     "text": "126091\n19610\n################################################################################\nWord 2 Vec CBOW score: \n0.03081980943570389\nWord 2 Vec Skipgram score: \n0.1299283536143155\nFast Text CBOW score: \n0.99974467206833\nFast Text Skipgram score: \n0.9330448905857963\n",
     "output_type": "stream",
     "data": {}
    }
   ]
  },
  {
   "cell_type": "markdown",
   "source": "",
   "metadata": {
    "tags": [],
    "cell_id": "00015-900770e8-e52b-41f5-bcc0-e4fada803ccf",
    "deepnote_cell_type": "markdown"
   }
  },
  {
   "cell_type": "markdown",
   "source": "Baseline...",
   "metadata": {
    "tags": [],
    "cell_id": "00019-e93cf54d-204e-47c6-9b98-e387623b9e10",
    "deepnote_cell_type": "markdown"
   }
  },
  {
   "cell_type": "code",
   "metadata": {
    "tags": [],
    "cell_id": "00020-af7b5714-ec1f-40f9-9a4d-bf98a97c63f8",
    "deepnote_to_be_reexecuted": true,
    "source_hash": "6035e114",
    "deepnote_cell_type": "code"
   },
   "source": "dsds",
   "execution_count": null,
   "outputs": []
  },
  {
   "cell_type": "markdown",
   "source": "# Report\n1. Abstract [Jirka]\n2. intro [Jirka]\n- Voynich (we have to explain our problem => transliteration => types of uncertainties & their frequencies {table/bar graph})\n- Embeddings\n3. Methods [Choosing Fasttext vs Word2vec] [Francesco]\n- describe what they are\n- describe cbow vs skipgram\n- how we choose one over the other\n- eval: nearest neighbours (italian), benchmark comparison (latin)\n4. Methods [Liudvikas]\n- baseline\n- noising text\n- our model\n5. Results on Latin/Italian\n6. Results on Voynich\n7. Conclusion\n",
   "metadata": {
    "tags": [],
    "cell_id": "00021-2d6df12e-1fa2-433d-ac7c-c7246e8b3e7b",
    "deepnote_cell_type": "markdown"
   }
  },
  {
   "cell_type": "markdown",
   "source": "<a style='text-decoration:none;line-height:16px;display:flex;color:#5B5B62;padding:10px;justify-content:end;' href='https://deepnote.com?utm_source=created-in-deepnote-cell&projectId=232308e3-5ead-45f3-9639-338eb193dfaf' target=\"_blank\">\n<img alt='Created in deepnote.com' style='display:inline;max-height:16px;margin:0px;margin-right:7.5px;' src='data:image/svg+xml;base64,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' > </img>\nCreated in <span style='font-weight:600;margin-left:4px;'>Deepnote</span></a>",
   "metadata": {
    "tags": [],
    "created_in_deepnote_cell": true,
    "deepnote_cell_type": "markdown"
   }
  }
 ],
 "nbformat": 4,
 "nbformat_minor": 2,
 "metadata": {
  "orig_nbformat": 2,
  "deepnote": {
   "is_reactive": false
  },
  "deepnote_notebook_id": "78aca9b3-2c67-4911-9286-ae9e16dac88f",
  "deepnote_execution_queue": [
   {
    "cellId": "00001-3be59eef-3223-4fe3-b785-f1e1ed2ce20f",
    "sessionId": "30d93fb6-d899-450d-bc53-627c44a4755e",
    "msgId": "12617f92-7dd5-471e-8e79-c1187ef4b76a"
   },
   {
    "cellId": "00000-0e1f2274-445d-4558-9ddc-c4f56e2cc135",
    "sessionId": "30d93fb6-d899-450d-bc53-627c44a4755e",
    "msgId": "31664b6a-cd39-4abe-ae94-f6c21549ca20"
   },
   {
    "cellId": "00002-8f420ea3-e931-4070-96d0-2e058c28e6a2",
    "sessionId": "30d93fb6-d899-450d-bc53-627c44a4755e",
    "msgId": "88ea5d84-e1e1-4b91-85b2-fce1fe713615"
   },
   {
    "cellId": "00003-8c5aec47-77af-4beb-93a5-0cf8ef921918",
    "sessionId": "30d93fb6-d899-450d-bc53-627c44a4755e",
    "msgId": "ed859eb3-6660-4c02-a6e3-5b932fb1b3e5"
   },
   {
    "cellId": "00004-e4294c15-3353-474c-b569-799ef52e2f34",
    "sessionId": "30d93fb6-d899-450d-bc53-627c44a4755e",
    "msgId": "5af21202-6886-495b-997c-4b27188b75d6"
   },
   {
    "cellId": "00005-09001830-bd39-4dc9-ad2a-2bdaa8f61b16",
    "sessionId": "30d93fb6-d899-450d-bc53-627c44a4755e",
    "msgId": "0b1cdd6f-977f-4505-89b8-0bd0ca4222be"
   },
   {
    "cellId": "00007-bbfbe25e-2c8b-4984-817e-19e2d7d6f78b",
    "sessionId": "30d93fb6-d899-450d-bc53-627c44a4755e",
    "msgId": "94197dc0-18a2-45d7-adbb-b5e30d36a958"
   },
   {
    "cellId": "00007-f061767e-493d-4448-be68-a9f7c516e835",
    "sessionId": "30d93fb6-d899-450d-bc53-627c44a4755e",
    "msgId": "efb67dbc-e5e3-4c15-ad49-f778573aa2da"
   },
   {
    "cellId": "00007-a5ed0de3-0521-4fc6-9660-cabe5087c2a2",
    "sessionId": "30d93fb6-d899-450d-bc53-627c44a4755e",
    "msgId": "877f628c-3fea-4a07-88f3-fbddabe66850"
   },
   {
    "cellId": "00010-d7baa589-36af-4925-9a3a-c7ca2ade8d2d",
    "sessionId": "30d93fb6-d899-450d-bc53-627c44a4755e",
    "msgId": "f5692b0a-7ce2-4d4f-971c-637e7c1e1f8d"
   },
   {
    "cellId": "00011-0d48d968-25cb-42bf-9e63-282447bf5cb2",
    "sessionId": "30d93fb6-d899-450d-bc53-627c44a4755e",
    "msgId": "3e6b6f02-621f-4ee9-8794-566cfe98aa7c"
   },
   {
    "cellId": "00012-14678cd7-bead-4052-8e33-a1ee827e3dc1",
    "sessionId": "30d93fb6-d899-450d-bc53-627c44a4755e",
    "msgId": "ec0212b9-75be-47e4-b523-111e7c8868fd"
   },
   {
    "cellId": "00015-331879da-ca5b-4d40-bec3-02700eedc20a",
    "sessionId": "30d93fb6-d899-450d-bc53-627c44a4755e",
    "msgId": "555dff8b-23f4-4605-a46b-839d45eb865b"
   },
   {
    "cellId": "00014-cde74f6a-9f83-4857-96c2-09ceb26b41c1",
    "sessionId": "30d93fb6-d899-450d-bc53-627c44a4755e",
    "msgId": "29025ba5-47e0-419a-95ac-f69ccab526af"
   },
   {
    "cellId": "00020-af7b5714-ec1f-40f9-9a4d-bf98a97c63f8",
    "sessionId": "30d93fb6-d899-450d-bc53-627c44a4755e",
    "msgId": "8dce1f04-3cc4-4761-9843-4590b72bb2a6"
   }
  ]
 }
}