{
 "cells": [
  {
   "cell_type": "code",
   "execution_count": 9,
   "metadata": {
    "id": "d0gQk4IDzaSd"
   },
   "outputs": [],
   "source": [
    "# Mount Google Drive (comment out on local)\n",
    "# Shared folder link (set a shortcut to MyDrive to run): https://drive.google.com/drive/folders/1zwnMrxiQ6o_haHlEzJLAZNv223TxjRcP?usp=sharing\n",
    "# from google.colab import drive\n",
    "# drive._mount('/content/drive')"
   ]
  },
  {
   "cell_type": "code",
   "execution_count": 10,
   "metadata": {
    "executionInfo": {
     "elapsed": 2412,
     "status": "ok",
     "timestamp": 1640217266689,
     "user": {
      "displayName": "Francesco Salvi",
      "photoUrl": "https://lh3.googleusercontent.com/a/default-user=s64",
      "userId": "17039456355099176000"
     },
     "user_tz": -60
    },
    "id": "k5phujw3oJFQ"
   },
   "outputs": [],
   "source": [
    "# comment out on local\n",
    "# !cp '/content/drive/MyDrive/Voynich/corruptions.py' corruptions.py\n",
    "# !cp '/content/drive/MyDrive/Voynich/uncertainties.py' uncertainties.py\n",
    "# !cp '/content/drive/MyDrive/Voynich/validation.py' validation.py\n",
    "# !cp '/content/drive/MyDrive/Voynich/baseline.py' baseline.py"
   ]
  },
  {
   "cell_type": "code",
   "execution_count": 11,
   "metadata": {
    "id": "zE3ek2Ua1BGv"
   },
   "outputs": [],
   "source": [
    "# !pip install numpy==1.19.5\n",
    "# !pip install scipy==1.7.3\n",
    "# !pip install nltk==3.6.5\n",
    "# !pip install gensim==4.1.2\n",
    "# !pip install smart-open==5.2.1"
   ]
  },
  {
   "cell_type": "code",
   "execution_count": 12,
   "metadata": {
    "executionInfo": {
     "elapsed": 9,
     "status": "ok",
     "timestamp": 1640217292637,
     "user": {
      "displayName": "Francesco Salvi",
      "photoUrl": "https://lh3.googleusercontent.com/a/default-user=s64",
      "userId": "17039456355099176000"
     },
     "user_tz": -60
    },
    "id": "CHyqdnaDzZQV"
   },
   "outputs": [],
   "source": [
    "# Colab\n",
    "# INFERNO_IT = '/content/drive/MyDrive/Voynich/texts/Inferno_IT.txt'\n",
    "# ZL = '/content/drive/MyDrive/Voynich/texts/ZL_raw.txt'\n",
    "\n",
    "# DeepNote\n",
    "# INFERNO_IT = \"ml-project-2-scikit-learn2/texts/Inferno_IT.txt\"\n",
    "# ZL = 'ml-project-2-scikit-learn2/texts/ZL_raw.txt'\n",
    "\n",
    "# local\n",
    "INFERNO_IT = 'texts/Inferno_IT.txt'\n",
    "ZL = 'texts/ZL_raw.txt'"
   ]
  },
  {
   "cell_type": "code",
   "execution_count": 13,
   "metadata": {
    "colab": {
     "base_uri": "https://localhost:8080/"
    },
    "executionInfo": {
     "elapsed": 2206,
     "status": "ok",
     "timestamp": 1640217294835,
     "user": {
      "displayName": "Francesco Salvi",
      "photoUrl": "https://lh3.googleusercontent.com/a/default-user=s64",
      "userId": "17039456355099176000"
     },
     "user_tz": -60
    },
    "id": "lZav8TkXzZQa",
    "outputId": "c59fcfb6-d7ca-419b-a2bc-6fef643ca6ad"
   },
   "outputs": [
    {
     "name": "stderr",
     "output_type": "stream",
     "text": [
      "[nltk_data] Downloading package punkt to\n",
      "[nltk_data]     C:\\Users\\liudv\\AppData\\Roaming\\nltk_data...\n",
      "[nltk_data]   Package punkt is already up-to-date!\n"
     ]
    }
   ],
   "source": [
    "import numpy as np\n",
    "import numpy.linalg as npl\n",
    "import pandas as pd\n",
    "import matplotlib.pyplot as plt\n",
    "import random\n",
    "import time\n",
    "import string\n",
    "import nltk\n",
    "import gensim\n",
    "from gensim.models import Word2Vec, FastText\n",
    "from gensim.corpora.dictionary import Dictionary\n",
    "nltk.download('punkt')\n",
    "\n",
    "import corruptions as corr\n",
    "import uncertainties as unc\n",
    "import validation as valid\n",
    "import baseline as base"
   ]
  },
  {
   "cell_type": "markdown",
   "metadata": {
    "id": "Nbr6z8nFzZQb"
   },
   "source": [
    "## Preprocess text"
   ]
  },
  {
   "cell_type": "markdown",
   "metadata": {
    "id": "OY2eendwqPBI"
   },
   "source": [
    "Firstly, we need to read and clean the input file, removing the index and the chapter numbers, and tokenizing the text."
   ]
  },
  {
   "cell_type": "code",
   "execution_count": 14,
   "metadata": {
    "executionInfo": {
     "elapsed": 471,
     "status": "ok",
     "timestamp": 1640217295292,
     "user": {
      "displayName": "Francesco Salvi",
      "photoUrl": "https://lh3.googleusercontent.com/a/default-user=s64",
      "userId": "17039456355099176000"
     },
     "user_tz": -60
    },
    "id": "LeYJYx5czZQd"
   },
   "outputs": [],
   "source": [
    "with open(INFERNO_IT, \"r\", encoding='utf-8') as doc:\n",
    "    inferno = doc.read()"
   ]
  },
  {
   "cell_type": "code",
   "execution_count": 15,
   "metadata": {
    "colab": {
     "base_uri": "https://localhost:8080/"
    },
    "executionInfo": {
     "elapsed": 19,
     "status": "ok",
     "timestamp": 1640217295292,
     "user": {
      "displayName": "Francesco Salvi",
      "photoUrl": "https://lh3.googleusercontent.com/a/default-user=s64",
      "userId": "17039456355099176000"
     },
     "user_tz": -60
    },
    "id": "OzQLWasLzZQe",
    "outputId": "5db704ab-5402-4be6-ffa4-bb2b9964ca76"
   },
   "outputs": [
    {
     "data": {
      "text/plain": [
       "['LA DIVINA COMMEDIA  di Dante Alighieri  CANTICA I: INFERNO',\n",
       " 'Contents   INFERNO  Canto I',\n",
       " 'Canto II',\n",
       " 'Canto III',\n",
       " 'Canto IV',\n",
       " 'Canto V',\n",
       " 'Canto VI',\n",
       " 'Canto VII',\n",
       " 'Canto VIII',\n",
       " 'Canto IX',\n",
       " 'Canto X',\n",
       " 'Canto XI',\n",
       " 'Canto XII',\n",
       " 'Canto XIII',\n",
       " 'Canto XIV',\n",
       " 'Canto XV',\n",
       " 'Canto XVI',\n",
       " 'Canto XVII',\n",
       " 'Canto XVIII',\n",
       " 'Canto XIX',\n",
       " 'Canto XX',\n",
       " 'Canto XXI',\n",
       " 'Canto XXII',\n",
       " 'Canto XXIII',\n",
       " 'Canto XXIV',\n",
       " 'Canto XXV',\n",
       " 'Canto XXVI',\n",
       " 'Canto XXVII',\n",
       " 'Canto XXVIII',\n",
       " 'Canto XXIX',\n",
       " 'Canto XXX',\n",
       " 'Canto XXXI',\n",
       " 'Canto XXXII',\n",
       " 'Canto XXXIII',\n",
       " 'Canto XXXIV',\n",
       " '',\n",
       " 'INFERNO',\n",
       " 'Inferno Canto I',\n",
       " 'Nel mezzo del cammin di nostra vita mi ritrovai per una selva oscura, ché la diritta via era smarrita',\n",
       " 'Ahi quanto a dir qual era è cosa dura esta selva selvaggia e aspra e forte che nel pensier rinova la paura!  Tant’ è amara che poco è più morte; ma per trattar del ben ch’i’ vi trovai, dirò de l’altre cose ch’i’ v’ho scorte',\n",
       " 'Io non so ben ridir com’ i’ v’intrai, tant’ era pien di sonno a quel punto che la verace via abbandonai',\n",
       " 'Ma poi ch’i’ fui al piè d’un colle giunto, là dove terminava quella valle che m’avea di paura il cor compunto,  guardai in alto e vidi le sue spalle vestite già de’ raggi del pianeta che mena dritto altrui per ogne calle',\n",
       " 'Allor fu la paura un poco queta, che nel lago del cor m’era durata la notte ch’i’ passai con tanta pieta',\n",
       " 'E come quei che con lena affannata, uscito fuor del pelago a la riva, si volge a l’acqua perigliosa e guata,  così l’animo mio, ch’ancor fuggiva, si volse a retro a rimirar lo passo che non lasciò già mai persona viva',\n",
       " 'Poi ch’èi posato un poco il corpo lasso, ripresi via per la piaggia diserta, sì che ’l piè fermo sempre era ’l più basso',\n",
       " 'Ed ecco, quasi al cominciar de l’erta, una lonza leggera e presta molto, che di pel macolato era coverta;  e non mi si partia dinanzi al volto, anzi ’mpediva tanto il mio cammino, ch’i’ fui per ritornar più volte vòlto',\n",
       " 'Temp’ era dal principio del mattino, e ’l sol montava ’n sù con quelle stelle ch’eran con lui quando l’amor divino  mosse di prima quelle cose belle; sì ch’a bene sperar m’era cagione di quella fiera a la gaetta pelle  l’ora del tempo e la dolce stagione; ma non sì che paura non mi desse la vista che m’apparve d’un leone',\n",
       " 'Questi parea che contra me venisse con la test’ alta e con rabbiosa fame, sì che parea che l’aere ne tremesse',\n",
       " 'Ed una lupa, che di tutte brame sembiava carca ne la sua magrezza, e molte genti fé già viver grame,  questa mi porse tanto di gravezza con la paura ch’uscia di sua vista, ch’io perdei la speranza de l’altezza',\n",
       " 'E qual è quei che volontieri acquista, e giugne ’l tempo che perder lo face, che ’n tutti suoi pensier piange e s’attrista;  tal mi fece la bestia sanza pace, che, venendomi ’ncontro, a poco a poco mi ripigneva là dove ’l sol tace']"
      ]
     },
     "execution_count": 15,
     "metadata": {},
     "output_type": "execute_result"
    }
   ],
   "source": [
    "# Split text to sentences\n",
    "inferno = list(map(lambda x: x.strip(), inferno.replace('\\n\\n\\n', '.').replace('\\n', ' ').split('.')))\n",
    "inferno[:50]"
   ]
  },
  {
   "cell_type": "code",
   "execution_count": 16,
   "metadata": {
    "executionInfo": {
     "elapsed": 16,
     "status": "ok",
     "timestamp": 1640217295293,
     "user": {
      "displayName": "Francesco Salvi",
      "photoUrl": "https://lh3.googleusercontent.com/a/default-user=s64",
      "userId": "17039456355099176000"
     },
     "user_tz": -60
    },
    "id": "Cq-kcKRezZQf"
   },
   "outputs": [],
   "source": [
    "def tokenize_to_words(txt, lang):\n",
    "    '''\n",
    "    tokenize text, casefold to lowercase and remove punctuation.\n",
    "    '''\n",
    "    tokens = [nltk.tokenize.word_tokenize(sentence, language=lang) for sentence in txt]\n",
    "    words = [[word.lower() for word in senc if word.isalpha()] for senc in tokens if len(senc) > 0]\n",
    "    return words"
   ]
  },
  {
   "cell_type": "code",
   "execution_count": 17,
   "metadata": {
    "colab": {
     "base_uri": "https://localhost:8080/"
    },
    "executionInfo": {
     "elapsed": 15,
     "status": "ok",
     "timestamp": 1640217295293,
     "user": {
      "displayName": "Francesco Salvi",
      "photoUrl": "https://lh3.googleusercontent.com/a/default-user=s64",
      "userId": "17039456355099176000"
     },
     "user_tz": -60
    },
    "id": "CKfHJkpKzZQg",
    "outputId": "11b81b4a-d4a9-425e-bfe4-4db135190f15"
   },
   "outputs": [
    {
     "name": "stdout",
     "output_type": "stream",
     "text": [
      "['nel', 'mezzo', 'del', 'cammin', 'di', 'nostra', 'vita', 'mi', 'ritrovai', 'per', 'una', 'selva', 'oscura', 'ché', 'la', 'diritta', 'via', 'era', 'smarrita']\n",
      "['ahi', 'quanto', 'a', 'dir', 'qual', 'era', 'è', 'cosa', 'dura', 'esta', 'selva', 'selvaggia', 'e', 'aspra', 'e', 'forte', 'che', 'nel', 'pensier', 'rinova', 'la', 'paura', 'tant', 'è', 'amara', 'che', 'poco', 'è', 'più', 'morte', 'ma', 'per', 'trattar', 'del', 'ben', 'ch', 'i', 'vi', 'trovai', 'dirò', 'de', 'l', 'altre', 'cose', 'ch', 'i', 'v', 'ho', 'scorte']\n",
      "['io', 'non', 'so', 'ben', 'ridir', 'com', 'i', 'v', 'intrai', 'tant', 'era', 'pien', 'di', 'sonno', 'a', 'quel', 'punto', 'che', 'la', 'verace', 'via', 'abbandonai']\n",
      "['ma', 'poi', 'ch', 'i', 'fui', 'al', 'piè', 'd', 'un', 'colle', 'giunto', 'là', 'dove', 'terminava', 'quella', 'valle', 'che', 'm', 'avea', 'di', 'paura', 'il', 'cor', 'compunto', 'guardai', 'in', 'alto', 'e', 'vidi', 'le', 'sue', 'spalle', 'vestite', 'già', 'de', 'raggi', 'del', 'pianeta', 'che', 'mena', 'dritto', 'altrui', 'per', 'ogne', 'calle']\n",
      "['allor', 'fu', 'la', 'paura', 'un', 'poco', 'queta', 'che', 'nel', 'lago', 'del', 'cor', 'm', 'era', 'durata', 'la', 'notte', 'ch', 'i', 'passai', 'con', 'tanta', 'pieta']\n",
      "['e', 'come', 'quei', 'che', 'con', 'lena', 'affannata', 'uscito', 'fuor', 'del', 'pelago', 'a', 'la', 'riva', 'si', 'volge', 'a', 'l', 'acqua', 'perigliosa', 'e', 'guata', 'così', 'l', 'animo', 'mio', 'ch', 'ancor', 'fuggiva', 'si', 'volse', 'a', 'retro', 'a', 'rimirar', 'lo', 'passo', 'che', 'non', 'lasciò', 'già', 'mai', 'persona', 'viva']\n",
      "['poi', 'ch', 'èi', 'posato', 'un', 'poco', 'il', 'corpo', 'lasso', 'ripresi', 'via', 'per', 'la', 'piaggia', 'diserta', 'sì', 'che', 'l', 'piè', 'fermo', 'sempre', 'era', 'l', 'più', 'basso']\n",
      "['ed', 'ecco', 'quasi', 'al', 'cominciar', 'de', 'l', 'erta', 'una', 'lonza', 'leggera', 'e', 'presta', 'molto', 'che', 'di', 'pel', 'macolato', 'era', 'coverta', 'e', 'non', 'mi', 'si', 'partia', 'dinanzi', 'al', 'volto', 'anzi', 'mpediva', 'tanto', 'il', 'mio', 'cammino', 'ch', 'i', 'fui', 'per', 'ritornar', 'più', 'volte', 'vòlto']\n",
      "['temp', 'era', 'dal', 'principio', 'del', 'mattino', 'e', 'l', 'sol', 'montava', 'n', 'sù', 'con', 'quelle', 'stelle', 'ch', 'eran', 'con', 'lui', 'quando', 'l', 'amor', 'divino', 'mosse', 'di', 'prima', 'quelle', 'cose', 'belle', 'sì', 'ch', 'a', 'bene', 'sperar', 'm', 'era', 'cagione', 'di', 'quella', 'fiera', 'a', 'la', 'gaetta', 'pelle', 'l', 'ora', 'del', 'tempo', 'e', 'la', 'dolce', 'stagione', 'ma', 'non', 'sì', 'che', 'paura', 'non', 'mi', 'desse', 'la', 'vista', 'che', 'm', 'apparve', 'd', 'un', 'leone']\n",
      "['questi', 'parea', 'che', 'contra', 'me', 'venisse', 'con', 'la', 'test', 'alta', 'e', 'con', 'rabbiosa', 'fame', 'sì', 'che', 'parea', 'che', 'l', 'aere', 'ne', 'tremesse']\n"
     ]
    }
   ],
   "source": [
    "inferno_tokenized = tokenize_to_words(inferno, 'italian')\n",
    "\n",
    "# Remove index of contents\n",
    "inferno_tokenized = inferno_tokenized[36:]\n",
    "\n",
    "# Remove 'Canto' numbering\n",
    "inferno_tokenized = list(filter(lambda x: x[0] != 'inferno' or x[1] != 'canto' or len(x) != 3, inferno_tokenized))\n",
    "\n",
    "print(*inferno_tokenized[:10], sep='\\n')"
   ]
  },
  {
   "cell_type": "code",
   "execution_count": 18,
   "metadata": {
    "colab": {
     "base_uri": "https://localhost:8080/"
    },
    "executionInfo": {
     "elapsed": 13,
     "status": "ok",
     "timestamp": 1640217295294,
     "user": {
      "displayName": "Francesco Salvi",
      "photoUrl": "https://lh3.googleusercontent.com/a/default-user=s64",
      "userId": "17039456355099176000"
     },
     "user_tz": -60
    },
    "id": "dyAsB16MvVeQ",
    "outputId": "5e60aa80-968e-4215-db82-be8141f8c955"
   },
   "outputs": [
    {
     "data": {
      "text/plain": [
       "34124"
      ]
     },
     "execution_count": 18,
     "metadata": {},
     "output_type": "execute_result"
    }
   ],
   "source": [
    "len([word for sentence in inferno_tokenized for word in sentence])"
   ]
  },
  {
   "cell_type": "markdown",
   "metadata": {
    "id": "1Rr8e9GB_TSL"
   },
   "source": [
    "## Corrupt text"
   ]
  },
  {
   "cell_type": "markdown",
   "metadata": {
    "id": "qw3oaL7U_VGe"
   },
   "source": [
    "Before proceeding to create the embeddings, we need to modify the original text in order to have the same distribution of uncertainties as in the Voynich manuscript. To do so, we firstly merge toghether the tokenized Inferno to have it as one single clean string, and then we artificially corrupt it using for each type of uncertainty a probability obtained by analyzing the distribution of that uncertainty on the Voynich manuscript."
   ]
  },
  {
   "cell_type": "markdown",
   "metadata": {
    "id": "1HIVlDNLrBQB"
   },
   "source": [
    "For Voynich, the **raw** translitterations are scraped with [ivtt](http://www.voynich.nu/extra/sp_transcr.html#ivtt) using the options:\n",
    "- -c5: Remove hash (#) comment lines, inline comments and page header comments. This also remove text tags.\n",
    "- -f1 Remove all foliation information. This will also remove spaces before the transliterated text.\n",
    "- -p2 (**modified**) Remove illustration intrusion codes and replace the paragraph start/end codes by an additional newline.\n",
    "- -a2 Convert @nnn; codes to a single high ascii byte\n",
    "- -l1 Remove ligature brackets (but keep text contained between them)\n",
    "- -s1 Convert certain spaces (those marked with a dot) to blanks\n",
    "\n",
    "use: ivtt -c5 -f1 -p2 -a2 -l1 -s1 {input file} {output file}\n",
    "\n",
    "Note that the [original code](http://www.voynich.nu/software/ivtt/ivtt.c) of ivtt by Rene Zandbergen has been sligthly modified to adapt the option -p2 to our needs.\n",
    "\n",
    "They serve the purpose of analyzing the distribution of ambiguities.\n",
    "Later, to create embeddings, decisions must be made regarding the options **u** (alternate readings and words with ambiguities), **h** (uncertain spaces), as well as that loci to use (Only P? L, C, R?)"
   ]
  },
  {
   "cell_type": "code",
   "execution_count": 19,
   "metadata": {
    "executionInfo": {
     "elapsed": 857,
     "status": "ok",
     "timestamp": 1640217296141,
     "user": {
      "displayName": "Francesco Salvi",
      "photoUrl": "https://lh3.googleusercontent.com/a/default-user=s64",
      "userId": "17039456355099176000"
     },
     "user_tz": -60
    },
    "id": "KwOGrBr9RlyR"
   },
   "outputs": [],
   "source": [
    "with open(ZL, 'r', encoding='latin-1') as doc:\n",
    "    voynich = doc.read()"
   ]
  },
  {
   "cell_type": "code",
   "execution_count": 20,
   "metadata": {
    "colab": {
     "base_uri": "https://localhost:8080/"
    },
    "executionInfo": {
     "elapsed": 34,
     "status": "ok",
     "timestamp": 1640217296142,
     "user": {
      "displayName": "Francesco Salvi",
      "photoUrl": "https://lh3.googleusercontent.com/a/default-user=s64",
      "userId": "17039456355099176000"
     },
     "user_tz": -60
    },
    "id": "m8Q8syHTR3Nc",
    "outputId": "8e2991c8-9459-4a35-b2e1-ca9b138363fe"
   },
   "outputs": [
    {
     "data": {
      "text/plain": [
       "array(['\\n', ' ', \"'\", '*', ',', ':', '?', 'I', '[', ']', 'a', 'b', 'c',\n",
       "       'd', 'e', 'f', 'g', 'h', 'i', 'j', 'k', 'l', 'm', 'n', 'o', 'p',\n",
       "       'q', 'r', 's', 't', 'u', 'v', 'x', 'y', 'z', '\\x82', '\\x83',\n",
       "       '\\x84', '\\x85', '\\x86', '\\x87', '\\x88', '\\x89', '\\x8a', '\\x8b',\n",
       "       '\\x8c', '\\x91', '\\x92', '\\x93', '\\x94', '\\x95', '\\x96', '\\x97',\n",
       "       '\\x98', '\\x99', '\\x9a', '\\x9b', '\\x9c', '\\x9f', '¡', '¢', '£', '¤',\n",
       "       '¥', '¦', '§', '¨', '©', 'ª', '«', '¬', '®', '¯', '°', '±', '²',\n",
       "       '³', '´', 'µ', '¶', '·', '¸', '¹', 'º', '»', '¼', '½', '¾', '¿',\n",
       "       'À', 'Á', 'Â', 'Ã', 'Ä', 'Å', 'Ç', 'È', 'É', 'Ë', 'Ì', 'Î', 'Ï',\n",
       "       'Ð', 'Ñ', 'Ò', 'Ó', 'Ô', 'Õ', 'Ö', 'Ø', 'ð', 'ñ', 'ò', 'ó', 'ô',\n",
       "       'õ', 'ö'], dtype='<U1')"
      ]
     },
     "execution_count": 20,
     "metadata": {},
     "output_type": "execute_result"
    }
   ],
   "source": [
    "np.unique([*voynich])"
   ]
  },
  {
   "cell_type": "code",
   "execution_count": 21,
   "metadata": {
    "executionInfo": {
     "elapsed": 31,
     "status": "ok",
     "timestamp": 1640217296142,
     "user": {
      "displayName": "Francesco Salvi",
      "photoUrl": "https://lh3.googleusercontent.com/a/default-user=s64",
      "userId": "17039456355099176000"
     },
     "user_tz": -60
    },
    "id": "3yRSMc7DR7C8"
   },
   "outputs": [],
   "source": [
    "voynich_uncertainty_chars = {'ALTERNATE_CHAR': 'ž',\n",
    "                             'SINGLE_UNCERTAINTY': '?',\n",
    "                             'DOUBLE_UNCERTAINTY': '??',\n",
    "                             'UNCERTAIN_SEQUENCE': '???',\n",
    "                             'UNCERTAIN_SPACE': ','\n",
    "                            }"
   ]
  },
  {
   "cell_type": "code",
   "execution_count": 22,
   "metadata": {
    "colab": {
     "base_uri": "https://localhost:8080/"
    },
    "executionInfo": {
     "elapsed": 32,
     "status": "ok",
     "timestamp": 1640217296143,
     "user": {
      "displayName": "Francesco Salvi",
      "photoUrl": "https://lh3.googleusercontent.com/a/default-user=s64",
      "userId": "17039456355099176000"
     },
     "user_tz": -60
    },
    "id": "3HWMk3QMSHNp",
    "outputId": "43996be1-e161-4f1b-e32a-467347349869"
   },
   "outputs": [
    {
     "name": "stdout",
     "output_type": "stream",
     "text": [
      "Number of alternate readings: 847, 0.427% of chars\n",
      "Number of single uncertainty: 237, 0.119% of chars\n",
      "Number of uncertain sequences: 32, 0.016% of chars\n",
      "Number of uncertain spaces: 2737, 8.139% of spaces\n"
     ]
    }
   ],
   "source": [
    "voynich_uncertainty_ratios = corr.calculate_uncertainties_statistics(voynich, voynich_uncertainty_chars)"
   ]
  },
  {
   "cell_type": "code",
   "execution_count": 23,
   "metadata": {
    "colab": {
     "base_uri": "https://localhost:8080/"
    },
    "executionInfo": {
     "elapsed": 30,
     "status": "ok",
     "timestamp": 1640217296143,
     "user": {
      "displayName": "Francesco Salvi",
      "photoUrl": "https://lh3.googleusercontent.com/a/default-user=s64",
      "userId": "17039456355099176000"
     },
     "user_tz": -60
    },
    "id": "AZQ1WMNmvug6",
    "outputId": "89f43fb7-bda4-4f80-e690-3ae99b279cae"
   },
   "outputs": [
    {
     "data": {
      "text/plain": [
       "{'ALTERNATE_READINGS_RATIO': 0.004270487753229336,\n",
       " 'SINGLE_UNCERTAINTY_RATIO': 0.001194929867196402,\n",
       " 'UNCERTAIN_SEQUENCE_RATIO': 0.0001613407415623834,\n",
       " 'SPACE_UNCERTAINTY_RATIO': 0.0813880876624342}"
      ]
     },
     "execution_count": 23,
     "metadata": {},
     "output_type": "execute_result"
    }
   ],
   "source": [
    "voynich_uncertainty_ratios"
   ]
  },
  {
   "cell_type": "markdown",
   "metadata": {
    "id": "c-q-6bMkFo0x"
   },
   "source": [
    "For practical purposes, we will ignore in our model uncertain sequences, which occurs only with very low frequency."
   ]
  },
  {
   "cell_type": "code",
   "execution_count": 24,
   "metadata": {
    "executionInfo": {
     "elapsed": 29,
     "status": "ok",
     "timestamp": 1640217296144,
     "user": {
      "displayName": "Francesco Salvi",
      "photoUrl": "https://lh3.googleusercontent.com/a/default-user=s64",
      "userId": "17039456355099176000"
     },
     "user_tz": -60
    },
    "id": "uCppDhoYFl6F"
   },
   "outputs": [],
   "source": [
    "voynich_uncertainty_ratios['UNCERTAIN_SEQUENCE_RATIO'] = 0"
   ]
  },
  {
   "cell_type": "code",
   "execution_count": 25,
   "metadata": {
    "executionInfo": {
     "elapsed": 28,
     "status": "ok",
     "timestamp": 1640217296144,
     "user": {
      "displayName": "Francesco Salvi",
      "photoUrl": "https://lh3.googleusercontent.com/a/default-user=s64",
      "userId": "17039456355099176000"
     },
     "user_tz": -60
    },
    "id": "QLx0A5RNrtWV"
   },
   "outputs": [],
   "source": [
    "# Merge back tokenized Inferno as one single string\n",
    "inferno_clean = list(map(lambda sentence: ' '.join(sentence), inferno_tokenized))\n",
    "inferno_merged = '\\n'.join(inferno_clean)"
   ]
  },
  {
   "cell_type": "code",
   "execution_count": 26,
   "metadata": {
    "colab": {
     "base_uri": "https://localhost:8080/",
     "height": 145
    },
    "executionInfo": {
     "elapsed": 29,
     "status": "ok",
     "timestamp": 1640217296145,
     "user": {
      "displayName": "Francesco Salvi",
      "photoUrl": "https://lh3.googleusercontent.com/a/default-user=s64",
      "userId": "17039456355099176000"
     },
     "user_tz": -60
    },
    "id": "kINIGg8gforL",
    "outputId": "6a3ae38c-9b0e-48ab-d220-e80f02a2fa61"
   },
   "outputs": [
    {
     "data": {
      "text/plain": [
       "'nel mezzo del cammin di nostra vita mi ritrovai per una selva oscura ché la diritta via era smarrita\\nahi quanto a dir qual era è cosa dura esta selva selvaggia e aspra e forte che nel pensier rinova la paura tant è amara che poco è più morte ma per trattar del ben ch i vi trovai dirò de l altre cose ch i v ho scorte\\nio non so ben ridir com i v intrai tant era pien di sonno a quel punto che la verace via abbandonai\\nma poi ch i fui al piè d un colle giunto là dove terminava quella valle che m avea di paura il cor compunto guardai in alto e vidi le sue spalle vestite già de raggi del pianeta che mena dritto altrui per ogne calle\\nallor fu la paura un poco queta che nel lago del cor m era durata la notte ch i passai con tanta pieta\\ne come quei che con lena affannata uscito fuor del pelago a la riva si volge a l acqua perigliosa e guata così l animo mio ch ancor fuggiva si volse a retro a rimirar lo passo che non lasciò già mai persona viva\\npoi ch èi posato un poco il corpo lasso ripresi via per la piaggia diserta sì che l piè fermo sempre era l più basso\\ned ecco quasi al cominciar de l erta una lonza leggera e presta molto che di pel macolato era coverta e non mi si partia dinanzi al volto anzi mpediva tanto il mio cammino ch i fui per ritornar più volte vòlto\\ntemp era dal principio del mattino e l sol montava n sù con quelle stelle ch eran con lui quando l amor divino mosse di prima quelle cose belle sì ch a bene sperar m era cagione di quella fiera a la gaetta pelle l ora del tempo e la dolce stagione ma non sì che paura non mi desse la vista che m apparve d un leone\\nquesti parea che contra me venisse con la test alta e con rabbiosa fame sì che parea che l aere ne tremesse\\ned una lupa che di tutte brame sembiava carca ne la sua magrezza e molte genti fé già viver grame questa mi porse tanto di gravezza con la paura ch uscia di sua vista ch io perdei la speranza de l altezza\\ne qual è quei che volontieri acquista e giugne l tempo che perder lo face che n tutti suoi pensier piange e s attrista tal mi fece la bestia sanza pace che venendomi ncontro a poco a poco mi ripigneva là dove l sol tace\\nmentre ch i rovinava in basso loco dinanzi a li occhi mi si fu offerto chi per lungo silenzio parea fioco\\nquando vidi costui nel gran diserto miserere di me gridai a lui qual che tu sii od ombra od omo certo\\nrispuosemi non omo omo già fui e li parenti miei furon lombardi mantoani per patrïa ambedui\\nnacqui sub iulio ancor che fosse tardi e vissi a roma sotto l buono augusto nel tempo de li dèi falsi e bugiardi\\npoeta fui e cantai di quel giusto figliuol d anchise che venne di troia poi che l superbo ilïón fu combusto\\nma tu perché ritorni a tanta noia perché non sali il dilettoso monte ch è principio e cagion di tutta gioia\\nor se tu quel virgilio e quella fonte che spandi di parlar sì largo fiume rispuos io lui con vergognosa fronte\\no de li altri poeti onore e lume vagliami l lungo studio e l grande amore che m ha fatto cercar lo tuo volume\\ntu se lo mio maestro e l mio autore tu se solo colui da cu io tolsi lo bello stilo che m ha fatto onore\\nvedi la bestia per cu io mi volsi aiutami da lei famoso saggio ch ella mi fa tremar le vene e i polsi\\na te convien tenere altro vïaggio rispuose poi che lagrimar mi vide se vuo campar d esto loco selvaggio ché questa bestia per la qual tu gride non lascia altrui passar per la sua via ma tanto lo mpedisce che l uccide e ha natura sì malvagia e ria che mai non empie la bramosa voglia e dopo l pasto ha più fame che pria\\nmolti son li animali a cui s ammoglia e più saranno ancora infin che l veltro verrà che la farà morir con doglia\\nquesti non ciberà terra né peltro ma sapïenza amore e virtute e sua nazion sarà tra feltro e feltro\\ndi quella umile italia fia salute per cui morì la vergine cammilla eurialo e turno e niso di ferute\\nquesti la caccerà per ogne villa fin che l avrà rimessa ne lo nferno là onde nvidia prima dipartilla\\nond io per lo tuo me penso e discerno che tu mi segui e io sarò tua guida e trarrotti di qui per loco etterno ove udirai le disperate strida vedrai li antichi spiriti dolenti ch a la seconda morte ciascun grida e vederai color che son contenti nel foco perché speran di venire quando che sia a le beate genti\\na le quai poi se tu vorrai salire anima fia a ciò più di me degna con lei ti lascerò nel mio partire ché quello imperador che là sù regna perch i fu ribellante a la sua legge non vuol che n sua città per me si vegna\\nin tutte parti impera e quivi regge quivi è la sua città e l alto seggio oh felice colui cu ivi elegge\\ne io a lui poeta io ti richeggio per quello dio che tu non conoscesti acciò ch io fugga questo male e peggio che tu mi meni là dov or dicesti sì ch io veggia la porta di san pietro e color cui tu fai cotanto mesti\\nallor si mosse e io li tenni dietro\\nlo giorno se n andava e l aere bruno toglieva li animai che sono in terra da le fatiche loro e io sol uno m apparecchiava a sostener la guerra sì del cammino e sì de la pietate che ritrarrà la mente che non erra\\no muse o alto ingegno or m aiutate o mente che scrivesti ciò ch io vidi qui si parrà la tua nobilitate\\nio cominciai poeta che mi guidi guarda la mia virtù s ell è possente prima ch a l alto passo tu mi fidi\\ntu dici che di silvïo il parente corruttibile ancora ad immortale secolo andò e fu sensibilmente\\nperò se l avversario d ogne male cortese i fu pensando l alto effetto ch uscir dovea di lui e l chi e l quale non pare indegno ad omo d intelletto ch e fu de l alma roma e di suo impero ne l empireo ciel per padre eletto la quale e l quale a voler dir lo vero fu stabilita per lo loco santo u siede il successor del maggior piero\\nper quest andata onde li dai tu vanto intese cose che furon cagione di sua vittoria e del papale ammanto\\nandovvi poi lo vas d elezïone per recarne conforto a quella fede ch è principio a la via di salvazione\\nma io perché venirvi o chi l concede io non enëa io non paulo sono me degno a ciò né io né altri l crede\\nper che se del venire io m abbandono temo che la venuta non sia folle\\nse savio intendi me ch i non ragiono\\ne qual è quei che disvuol ciò che volle e per novi pensier cangia proposta sì che dal cominciar tutto si tolle tal mi fec ïo n quella oscura costa perché pensando consumai la mpresa che fu nel cominciar cotanto tosta\\ns i ho ben la parola tua intesa rispuose del magnanimo quell ombra l anima tua è da viltade offesa la qual molte fïate l omo ingombra sì che d onrata impresa lo rivolve come falso veder bestia quand ombra\\nda questa tema acciò che tu ti solve dirotti perch io venni e quel ch io ntesi nel primo punto che di te mi dolve\\nio era tra color che son sospesi e donna mi chiamò beata e bella tal che di comandare io la richiesi\\nlucevan li occhi suoi più che la stella e cominciommi a dir soave e piana con angelica voce in sua favella o anima cortese mantoana di cui la fama ancor nel mondo dura e durerà quanto l mondo lontana l amico mio e non de la ventura ne la diserta piaggia è impedito sì nel cammin che vòlt è per paura e temo che non sia già sì smarrito ch io mi sia tardi al soccorso levata per quel ch i ho di lui nel cielo udito\\nor movi e con la tua parola ornata e con ciò c ha mestieri al suo campare l aiuta sì ch i ne sia consolata\\ni son beatrice che ti faccio andare vegno del loco ove tornar disio amor mi mosse che mi fa parlare\\nquando sarò dinanzi al segnor mio di te mi loderò sovente a lui\\ntacette allora e poi comincia io o donna di virtù sola per cui l umana spezie eccede ogne contento di quel ciel c ha minor li cerchi sui tanto m aggrada il tuo comandamento che l ubidir se già fosse m è tardi più non t è uo ch aprirmi il tuo talento\\nma dimmi la cagion che non ti guardi de lo scender qua giuso in questo centro de l ampio loco ove tornar tu ardi\\nda che tu vuo saver cotanto a dentro dirotti brievemente mi rispuose perch i non temo di venir qua entro\\ntemer si dee di sole quelle cose c hanno potenza di fare altrui male de l altre no ché non son paurose\\ni son fatta da dio sua mercé tale che la vostra miseria non mi tange né fiamma d esto ncendio non m assale\\ndonna è gentil nel ciel che si compiange di questo mpedimento ov io ti mando sì che duro giudicio là sù frange\\nquesta chiese lucia in suo dimando e disse ha bisogno il tuo fedele di te e io a te lo\\nlucia nimica di ciascun crudele si mosse e venne al loco dov i era che mi sedea con l antica rachele\\ndisse loda di dio vera ché non soccorri quei che t amò tanto ch uscì per te de la volgare schiera non odi tu la pieta del suo pianto non vedi tu la morte che l combatte su la fiumana ove l mar non ha vanto\\nal mondo non fur mai persone ratte a far lor pro o a fuggir lor danno com io dopo cotai parole fatte venni qua giù del mio beato scanno fidandomi del tuo parlare onesto ch onora te e quei ch udito l hanno\\nposcia che m ebbe ragionato questo li occhi lucenti lagrimando volse per che mi fece del venir più presto\\ne venni a te così com ella volse d inanzi a quella fiera ti levai che del bel monte il corto andar ti tolse\\ndunque che è perché perché restai perché tanta viltà nel core allette perché ardire e franchezza non hai poscia che tai tre donne benedette curan di te ne la corte del cielo e l mio parlar tanto ben ti promette\\nquali fioretti dal notturno gelo chinati e chiusi poi che l sol li mbianca si drizzan tutti aperti in loro stelo tal mi fec io di mia virtude stanca e tanto buono ardire al cor mi corse ch i cominciai come persona franca oh pietosa colei che mi soccorse e te cortese ch ubidisti tosto a le vere parole che ti porse tu m hai con disiderio il cor disposto sì al venir con le parole tue ch i son tornato nel primo proposto\\nor va ch un sol volere è d ambedue tu duca tu segnore e tu maestro\\ncosì li dissi e poi che mosso fue intrai per lo cammino alto e silvestro\\nper me si va ne la città dolente per me si va ne l etterno dolore per me si va tra la perduta gente\\ngiustizia mosse il mio alto fattore fecemi la divina podestate la somma sapïenza e l primo amore\\ndinanzi a me non fuor cose create se non etterne e io etterno duro\\nlasciate ogne speranza voi ch intrate\\nqueste parole di colore oscuro vid ïo scritte al sommo d una porta per ch io maestro il senso lor m è duro\\ned elli a me come persona accorta qui si convien lasciare ogne sospetto ogne viltà convien che qui sia morta\\nnoi siam venuti al loco ov i t ho detto che tu vedrai le genti dolorose c hanno perduto il ben de l intelletto\\ne poi che la sua mano a la mia puose con lieto volto ond io mi confortai mi mise dentro a le segrete cose\\nquivi sospiri pianti e alti guai risonavan per l aere sanza stelle per ch io al cominciar ne lagrimai\\ndiverse lingue orribili favelle parole di dolore accenti d ira voci alte e fioche e suon di man con elle facevano un tumulto il qual s aggira sempre in quell aura sanza tempo tinta come la rena quando turbo spira\\ne io ch avea d error la testa cinta dissi maestro che è quel ch i odo e che gent è che par nel duol sì vinta\\ned elli a me questo misero modo tegnon l anime triste di coloro che visser sanza nfamia e sanza lodo\\nmischiate sono a quel cattivo coro de li angeli che non furon ribelli né fur fedeli a dio ma per sé fuoro\\ncaccianli i ciel per non esser men belli né lo profondo inferno li riceve ch alcuna gloria i rei avrebber d elli\\ne io maestro che è tanto greve a lor che lamentar li fa sì forte\\nrispuose dicerolti molto breve\\nquesti non hanno speranza di morte e la lor cieca vita è tanto bassa che nvidïosi son d ogne altra sorte\\nfama di loro il mondo esser non lassa misericordia e giustizia li sdegna non ragioniam di lor ma guarda e passa\\ne io che riguardai vidi una nsegna che girando correva tanto ratta che d ogne posa mi parea indegna e dietro le venìa sì lunga tratta di gente ch i non averei creduto che morte tanta n avesse disfatta\\nposcia ch io v ebbi alcun riconosciuto vidi e conobbi l ombra di colui che fece per viltade il gran rifiuto\\nincontanente intesi e certo fui che questa era la setta d i cattivi a dio spiacenti e a nemici sui\\nquesti sciaurati che mai non fur vivi erano ignudi e stimolati molto da mosconi e da vespe ch eran ivi\\nelle rigavan lor di sangue il volto che mischiato di lagrime a lor piedi da fastidiosi vermi era ricolto\\ne poi ch a riguardar oltre mi diedi vidi genti a la riva d un gran fiume per ch io dissi maestro or mi concedi ch i sappia quali sono e qual costume le fa di trapassar parer sì pronte com i discerno per lo fioco lume\\ned elli a me le cose ti fier conte quando noi fermerem li nostri passi su la trista riviera d acheronte\\nallor con li occhi vergognosi e bassi temendo no l mio dir li fosse grave infino al fiume del parlar mi trassi\\ned ecco verso noi venir per nave un vecchio bianco per antico pelo gridando guai a voi anime prave non isperate mai veder lo cielo i vegno per menarvi a l altra riva ne le tenebre etterne in caldo e n gelo\\ne tu che se costì anima viva pàrtiti da cotesti che son morti\\nma poi che vide ch io non mi partiva disse per altra via per altri porti verrai a piaggia non qui per passare più lieve legno convien che ti porti\\ne l duca lui caron non ti crucciare vuolsi così colà dove si puote ciò che si vuole e più non dimandare\\nquinci fuor quete le lanose gote al nocchier de la livida palude che ntorno a li occhi avea di fiamme rote\\nma quell anime ch eran lasse e nude cangiar colore e dibattero i denti ratto che nteser le parole crude\\nbestemmiavano dio e lor parenti l umana spezie e l loco e l tempo e l seme di lor semenza e di lor nascimenti\\npoi si ritrasser tutte quante insieme forte piangendo a la riva malvagia ch attende ciascun uom che dio non teme\\ncaron dimonio con occhi di bragia loro accennando tutte le raccoglie batte col remo qualunque s adagia\\ncome d autunno si levan le foglie l una appresso de l altra fin che l ramo vede a la terra tutte le sue spoglie similemente il mal seme d adamo gittansi di quel lito ad una ad una per cenni come augel per suo richiamo\\ncosì sen vanno su per l onda bruna e avanti che sien di là discese anche di qua nuova schiera s auna\\nfigliuol mio disse l maestro cortese quelli che muoion ne l ira di dio tutti convegnon qui d ogne paese e pronti sono a trapassar lo rio ché la divina giustizia li sprona sì che la tema si volve in disio\\nquinci non passa mai anima buona e però se caron di te si lagna ben puoi sapere omai che l suo dir suona\\nfinito questo la buia campagna tremò sì forte che de lo spavento la mente di sudore ancor mi bagna\\nla terra lagrimosa diede vento che balenò una luce vermiglia la qual mi vinse ciascun sentimento e caddi come l uom cui sonno piglia\\nruppemi l alto sonno ne la testa un greve truono sì ch io mi riscossi come persona ch è per forza desta e l occhio riposato intorno mossi dritto levato e fiso riguardai per conoscer lo loco dov io fossi\\nvero è che n su la proda mi trovai de la valle d abisso dolorosa che ntrono accoglie d infiniti guai\\noscura e profonda era e nebulosa tanto che per ficcar lo viso a fondo io non vi discernea alcuna cosa\\nor discendiam qua giù nel cieco mondo cominciò il poeta tutto smorto\\nio sarò primo e tu sarai secondo\\ne io che del color mi fui accorto dissi come verrò se tu paventi che suoli al mio dubbiare esser conforto\\ned elli a me l angoscia de le genti che son qua giù nel viso mi dipigne quella pietà che tu per tema senti\\nandiam ché la via lunga ne sospigne\\ncosì si mise e così mi fé intrare nel primo cerchio che l abisso cigne\\nquivi secondo che per ascoltare non avea pianto mai che di sospiri che l aura etterna facevan tremare ciò avvenia di duol sanza martìri ch avean le turbe ch eran molte e grandi d infanti e di femmine e di viri\\nlo buon maestro a me tu non dimandi che spiriti son questi che tu vedi or vo che sappi innanzi che più andi ch ei non peccaro e s elli hanno mercedi non basta perché non ebber battesmo ch è porta de la fede che tu credi e s e furon dinanzi al cristianesmo non adorar debitamente a dio e di questi cotai son io medesmo\\nper tai difetti non per altro rio semo perduti e sol di tanto offesi che sanza speme vivemo in disio\\ngran duol mi prese al cor quando lo ntesi però che gente di molto valore conobbi che n quel limbo eran sospesi\\ndimmi maestro mio dimmi segnore comincia io per voler esser certo di quella fede che vince ogne errore uscicci mai alcuno o per suo merto o per altrui che poi fosse beato\\ne quei che ntese il mio parlar coverto rispuose io era nuovo in questo stato quando ci vidi venire un possente con segno di vittoria coronato\\ntrasseci l ombra del primo parente d abèl suo figlio e quella di noè di moïsè legista e ubidente abraàm patrïarca e davìd re israèl con lo padre e co suoi nati e con rachele per cui tanto fé e altri molti e feceli beati\\ne vo che sappi che dinanzi ad essi spiriti umani non eran salvati\\nnon lasciavam l andar perch ei dicessi ma passavam la selva tuttavia la selva dico di spiriti spessi\\nnon era lunga ancor la nostra via di qua dal sonno quand io vidi un foco ch emisperio di tenebre vincia\\ndi lungi n eravamo ancora un poco ma non sì ch io non discernessi in parte ch orrevol gente possedea quel loco\\no tu ch onori scïenzïa e arte questi chi son c hanno cotanta onranza che dal modo de li altri li diparte\\ne quelli a me l onrata nominanza che di lor suona sù ne la tua vita grazïa acquista in ciel che sì li avanza\\nintanto voce fu per me udita onorate l altissimo poeta l ombra sua torna ch era dipartita\\npoi che la voce fu restata e queta vidi quattro grand ombre a noi venire sembianz avevan né trista né lieta\\nlo buon maestro cominciò a dire mira colui con quella spada in mano che vien dinanzi ai tre sì come sire quelli è omero poeta sovrano l altro è orazio satiro che vene ovidio è l terzo e l ultimo lucano\\nperò che ciascun meco si convene nel nome che sonò la voce sola fannomi onore e di ciò fanno bene\\ncosì vid i adunar la bella scola di quel segnor de l altissimo canto che sovra li altri com aquila vola\\nda ch ebber ragionato insieme alquanto volsersi a me con salutevol cenno e l mio maestro sorrise di tanto e più d onore ancora assai mi fenno ch e sì mi fecer de la loro schiera sì ch io fui sesto tra cotanto senno\\ncosì andammo infino a la lumera parlando cose che l tacere è bello sì com era l parlar colà dov era\\nvenimmo al piè d un nobile castello sette volte cerchiato d alte mura difeso intorno d un bel fiumicello\\nquesto passammo come terra dura per sette porte intrai con questi savi giugnemmo in prato di fresca verdura\\ngenti v eran con occhi tardi e gravi di grande autorità ne lor sembianti parlavan rado con voci soavi\\ntraemmoci così da l un de canti in loco aperto luminoso e alto sì che veder si potien tutti quanti\\ncolà diritto sovra l verde smalto mi fuor mostrati li spiriti magni che del vedere in me stesso m essalto\\ni vidi eletra con molti compagni tra quai conobbi ettòr ed enea cesare armato con li occhi grifagni\\nvidi cammilla e la pantasilea da l altra parte vidi l re latino che con lavina sua figlia sedea\\nvidi quel bruto che cacciò tarquino lucrezia iulia marzïa e corniglia e solo in parte vidi l saladino\\npoi ch innalzai un poco più le ciglia vidi l maestro di color che sanno seder tra filosofica famiglia\\ntutti lo miran tutti onor li fanno quivi vid ïo socrate e platone che nnanzi a li altri più presso li stanno democrito che l mondo a caso pone dïogenès anassagora e tale empedoclès eraclito e zenone e vidi il buono accoglitor del quale dïascoride dico e vidi orfeo tulïo e lino e seneca morale euclide geomètra e tolomeo ipocràte avicenna e galïeno averoìs che l gran comento feo\\nio non posso ritrar di tutti a pieno però che sì mi caccia il lungo tema che molte volte al fatto il dir vien meno\\nla sesta compagnia in due si scema per altra via mi mena il savio duca fuor de la queta ne l aura che trema\\ne vegno in parte ove non è che luca\\ncosì discesi del cerchio primaio giù nel secondo che men loco cinghia e tanto più dolor che punge a guaio\\nstavvi minòs orribilmente e ringhia essamina le colpe ne l intrata giudica e manda secondo ch avvinghia\\ndico che quando l anima mal nata li vien dinanzi tutta si confessa e quel conoscitor de le peccata vede qual loco d inferno è da essa cignesi con la coda tante volte quantunque gradi vuol che giù sia messa\\nsempre dinanzi a lui ne stanno molte vanno a vicenda ciascuna al giudizio dicono e odono e poi son giù volte\\no tu che vieni al doloroso ospizio disse minòs a me quando mi vide lasciando l atto di cotanto offizio guarda com entri e di cui tu ti fide non t inganni l ampiezza de l intrare\\ne l duca mio a lui perché pur gride non impedir lo suo fatale andare vuolsi così colà dove si puote ciò che si vuole e più non dimandare\\nor incomincian le dolenti note a farmisi sentire or son venuto là dove molto pianto mi percuote\\nio venni in loco d ogne luce muto che mugghia come fa mar per tempesta se da contrari venti è combattuto\\nla bufera infernal che mai non resta mena li spirti con la sua rapina voltando e percotendo li molesta\\nquando giungon davanti a la ruina quivi le strida il compianto il lamento bestemmian quivi la virtù divina\\nintesi ch a così fatto tormento enno dannati i peccator carnali che la ragion sommettono al talento\\ne come li stornei ne portan l ali nel freddo tempo a schiera larga e piena così quel fiato li spiriti mali di qua di là di giù di sù li mena nulla speranza li conforta mai non che di posa ma di minor pena\\ne come i gru van cantando lor lai faccendo in aere di sé lunga riga così vid io venir traendo guai ombre portate da la detta briga per ch i dissi maestro chi son quelle genti che l aura nera sì gastiga\\nla prima di color di cui novelle tu vuo saper mi disse quelli allotta fu imperadrice di molte favelle\\na vizio di lussuria fu sì rotta che libito fé licito in sua legge per tòrre il biasmo in che era condotta\\nell è semiramìs di cui si legge che succedette a nino e fu sua sposa tenne la terra che l soldan corregge\\nl altra è colei che s ancise amorosa e ruppe fede al cener di sicheo poi è cleopatràs lussurïosa\\nelena vedi per cui tanto reo tempo si volse e vedi l grande achille che con amore al fine combatteo\\nvedi parìs tristano e più di mille ombre mostrommi e nominommi a dito ch amor di nostra vita dipartille\\nposcia ch io ebbi l mio dottore udito nomar le donne antiche e cavalieri pietà mi giunse e fui quasi smarrito\\ni cominciai poeta volontieri parlerei a quei due che nsieme vanno e paion sì al vento esser leggeri\\ned elli a me vedrai quando saranno più presso a noi e tu allor li priega per quello amor che i mena ed ei verranno\\nsì tosto come il vento a noi li piega mossi la voce o anime affannate venite a noi parlar s altri nol niega\\nquali colombe dal disio chiamate con l ali alzate e ferme al dolce nido vegnon per l aere dal voler portate cotali uscir de la schiera ov è dido a noi venendo per l aere maligno sì forte fu l affettüoso grido\\no animal grazïoso e benigno che visitando vai per l aere perso noi che tignemmo il mondo di sanguigno se fosse amico il re de l universo noi pregheremmo lui de la tua pace poi c hai pietà del nostro mal perverso\\ndi quel che udire e che parlar vi piace noi udiremo e parleremo a voi mentre che l vento come fa ci tace\\nsiede la terra dove nata fui su la marina dove l po discende per aver pace co seguaci sui\\namor ch al cor gentil ratto s apprende prese costui de la bella persona che mi fu tolta e l modo ancor m offende\\namor ch a nullo amato amar perdona mi prese del costui piacer sì forte che come vedi ancor non m abbandona\\namor condusse noi ad una morte\\ncaina attende chi a vita ci spense\\nqueste parole da lor ci fuor porte\\nquand io intesi quell anime offense china il viso e tanto il tenni basso fin che l poeta mi disse che pense\\nquando rispuosi cominciai oh lasso quanti dolci pensier quanto disio menò costoro al doloroso passo\\npoi mi rivolsi a loro e parla io e cominciai francesca i tuoi martìri a lagrimar mi fanno tristo e pio\\nma dimmi al tempo d i dolci sospiri a che e come concedette amore che conosceste i dubbiosi disiri\\ne quella a me nessun maggior dolore che ricordarsi del tempo felice nella miseria e ciò sa l tuo dottore\\nma s a conoscer la prima radice del nostro amor tu hai cotanto affetto dirò come colui che piange e dice\\nnoi leggiavamo un giorno per diletto di lancialotto come amor lo strinse soli eravamo e sanza alcun sospetto\\nper più fïate li occhi ci sospinse quella lettura e scolorocci il viso ma solo un punto fu quel che ci vinse\\nquando leggemmo il disïato riso esser basciato da cotanto amante questi che mai da me non fia diviso la bocca mi basciò tutto tremante\\ngaleotto fu l libro e chi lo scrisse quel giorno più non vi leggemmo avante\\nmentre che l uno spirto questo disse l altro piangëa sì che di pietade io venni men così com io morisse\\ne caddi come corpo morto cade\\nal tornar de la mente che si chiuse dinanzi a la pietà d i due cognati che di trestizia tutto mi confuse novi tormenti e novi tormentati mi veggio intorno come ch io mi mova e ch io mi volga e come che io guati\\nio sono al terzo cerchio de la piova etterna maladetta fredda e greve regola e qualità mai non l è nova\\ngrandine grossa acqua tinta e neve per l aere tenebroso si riversa pute la terra che questo riceve\\ncerbero fiera crudele e diversa con tre gole caninamente latra sovra la gente che quivi è sommersa\\nli occhi ha vermigli la barba unta e atra e l ventre largo e unghiate le mani graffia li spirti ed iscoia ed isquatra\\nurlar li fa la pioggia come cani de l un de lati fanno a l altro schermo volgonsi spesso i miseri profani\\nquando ci scorse cerbero il gran vermo le bocche aperse e mostrocci le sanne non avea membro che tenesse fermo\\ne l duca mio distese le sue spanne prese la terra e con piene le pugna la gittò dentro a le bramose canne\\nqual è quel cane ch abbaiando agogna e si racqueta poi che l pasto morde ché solo a divorarlo intende e pugna cotai si fecer quelle facce lorde de lo demonio cerbero che ntrona l anime sì ch esser vorrebber sorde\\nnoi passavam su per l ombre che adona la greve pioggia e ponavam le piante sovra lor vanità che par persona\\nelle giacean per terra tutte quante fuor d una ch a seder si levò ratto ch ella ci vide passarsi davante\\no tu che se per questo nferno tratto mi disse riconoscimi se sai tu fosti prima ch io disfatto fatto\\ne io a lui l angoscia che tu hai forse ti tira fuor de la mia mente sì che non par ch i ti vedessi mai\\nma dimmi chi tu se che n sì dolente loco se messo e hai sì fatta pena che s altra è maggio nulla è sì spiacente\\ned elli a me la tua città ch è piena d invidia sì che già trabocca il sacco seco mi tenne in la vita serena\\nvoi cittadini mi chiamaste ciacco per la dannosa colpa de la gola come tu vedi a la pioggia mi fiacco\\ne io anima trista non son sola ché tutte queste a simil pena stanno per simil colpa\\ne più non fé parola\\nio li rispuosi ciacco il tuo affanno mi pesa sì ch a lagrimar mi nvita ma dimmi se tu sai a che verranno li cittadin de la città partita s alcun v è giusto e dimmi la cagione per che l ha tanta discordia assalita\\ne quelli a me dopo lunga tencione verranno al sangue e la parte selvaggia caccerà l altra con molta offensione\\npoi appresso convien che questa caggia infra tre soli e che l altra sormonti con la forza di tal che testé piaggia\\nalte terrà lungo tempo le fronti tenendo l altra sotto gravi pesi come che di ciò pianga o che n aonti\\ngiusti son due e non vi sono intesi superbia invidia e avarizia sono le tre faville c hanno i cuori accesi\\nqui puose fine al lagrimabil suono\\ne io a lui ancor vo che mi nsegni e che di più parlar mi facci dono\\nfarinata e l tegghiaio che fuor sì degni iacopo rusticucci arrigo e l mosca e li altri ch a ben far puoser li ngegni dimmi ove sono e fa ch io li conosca ché gran disio mi stringe di savere se l ciel li addolcia o lo nferno li attosca\\ne quelli ei son tra l anime più nere diverse colpe giù li grava al fondo se tanto scendi là i potrai vedere\\nma quando tu sarai nel dolce mondo priegoti ch a la mente altrui mi rechi più non ti dico e più non ti rispondo\\nli diritti occhi torse allora in biechi guardommi un poco e poi chinò la testa cadde con essa a par de li altri ciechi\\ne l duca disse a me più non si desta di qua dal suon de l angelica tromba quando verrà la nimica podesta ciascun rivederà la trista tomba ripiglierà sua carne e sua figura udirà quel ch in etterno rimbomba\\nsì trapassammo per sozza mistura de l ombre e de la pioggia a passi lenti toccando un poco la vita futura per ch io dissi maestro esti tormenti crescerann ei dopo la gran sentenza o fier minori o saran sì cocenti\\ned elli a me ritorna a tua scïenza che vuol quanto la cosa è più perfetta più senta il bene e così la doglienza\\ntutto che questa gente maladetta in vera perfezion già mai non vada di là più che di qua essere aspetta\\nnoi aggirammo a tondo quella strada parlando più assai ch i non ridico venimmo al punto dove si digrada quivi trovammo pluto il gran nemico\\npape satàn pape satàn aleppe cominciò pluto con la voce chioccia e quel savio gentil che tutto seppe disse per confortarmi non ti noccia la tua paura ché poder ch elli abbia non ci torrà lo scender questa roccia\\npoi si rivolse a quella nfiata labbia e disse taci maladetto lupo consuma dentro te con la tua rabbia\\nnon è sanza cagion l andare al cupo vuolsi ne l alto là dove michele fé la vendetta del superbo strupo\\nquali dal vento le gonfiate vele caggiono avvolte poi che l alber fiacca tal cadde a terra la fiera crudele\\ncosì scendemmo ne la quarta lacca pigliando più de la dolente ripa che l mal de l universo tutto insacca\\nahi giustizia di dio tante chi stipa nove travaglie e pene quant io viddi e perché nostra colpa sì ne scipa come fa l onda là sovra cariddi che si frange con quella in cui s intoppa così convien che qui la gente riddi\\nqui vid i gente più ch altrove troppa e d una parte e d altra con grand urli voltando pesi per forza di poppa\\npercotëansi ncontro e poscia pur lì si rivolgea ciascun voltando a retro gridando perché tieni e perché burli\\ncosì tornavan per lo cerchio tetro da ogne mano a l opposito punto gridandosi anche loro ontoso metro poi si volgea ciascun quand era giunto per lo suo mezzo cerchio a l altra giostra\\ne io ch avea lo cor quasi compunto dissi maestro mio or mi dimostra che gente è questa e se tutti fuor cherci questi chercuti a la sinistra nostra\\ned elli a me tutti quanti fuor guerci sì de la mente in la vita primaia che con misura nullo spendio ferci\\nassai la voce lor chiaro l abbaia quando vegnono a due punti del cerchio dove colpa contraria li dispaia\\nquesti fuor cherci che non han coperchio piloso al capo e papi e cardinali in cui usa avarizia il suo soperchio\\ne io maestro tra questi cotali dovre io ben riconoscere alcuni che furo immondi di cotesti mali\\ned elli a me vano pensiero aduni la sconoscente vita che i fé sozzi ad ogne conoscenza or li fa bruni\\nin etterno verranno a li due cozzi questi resurgeranno del sepulcro col pugno chiuso e questi coi crin mozzi\\nmal dare e mal tener lo mondo pulcro ha tolto loro e posti a questa zuffa qual ella sia parole non ci appulcro\\nor puoi figliuol veder la corta buffa d i ben che son commessi a la fortuna per che l umana gente si rabbuffa ché tutto l oro ch è sotto la luna e che già fu di quest anime stanche non poterebbe farne posare una\\nmaestro mio diss io or mi dì anche questa fortuna di che tu mi tocche che è che i ben del mondo ha sì tra branche\\ne quelli a me oh creature sciocche quanta ignoranza è quella che v offende or vo che tu mia sentenza ne mbocche\\ncolui lo cui saver tutto trascende fece li cieli e diè lor chi conduce sì ch ogne parte ad ogne parte splende distribuendo igualmente la luce\\nsimilemente a li splendor mondani ordinò general ministra e duce che permutasse a tempo li ben vani di gente in gente e d uno in altro sangue oltre la difension d i senni umani per ch una gente impera e l altra langue seguendo lo giudicio di costei che è occulto come in erba l angue\\nvostro saver non ha contasto a lei questa provede giudica e persegue suo regno come il loro li altri dèi\\nle sue permutazion non hanno triegue necessità la fa esser veloce sì spesso vien chi vicenda consegue\\nquest è colei ch è tanto posta in croce pur da color che le dovrien dar lode dandole biasmo a torto e mala voce ma ella s è beata e ciò non ode con l altre prime creature lieta volve sua spera e beata si gode\\nor discendiamo omai a maggior pieta già ogne stella cade che saliva quand io mi mossi e l troppo star si vieta\\nnoi ricidemmo il cerchio a l altra riva sovr una fonte che bolle e riversa per un fossato che da lei deriva\\nl acqua era buia assai più che persa e noi in compagnia de l onde bige intrammo giù per una via diversa\\nin la palude va c ha nome stige questo tristo ruscel quand è disceso al piè de le maligne piagge grige\\ne io che di mirare stava inteso vidi genti fangose in quel pantano ignude tutte con sembiante offeso\\nqueste si percotean non pur con mano ma con la testa e col petto e coi piedi troncandosi co denti a brano a brano\\nlo buon maestro disse figlio or vedi l anime di color cui vinse l ira e anche vo che tu per certo credi che sotto l acqua è gente che sospira e fanno pullular quest acqua al summo come l occhio ti dice u che s aggira\\nfitti nel limo dicon tristi fummo ne l aere dolce che dal sol s allegra portando dentro accidïoso fummo or ci attristiam ne la belletta negra\\nquest inno si gorgoglian ne la strozza ché dir nol posson con parola integra\\ncosì girammo de la lorda pozza grand arco tra la ripa secca e l mézzo con li occhi vòlti a chi del fango ingozza\\nvenimmo al piè d una torre al da sezzo\\nio dico seguitando ch assai prima che noi fossimo al piè de l alta torre li occhi nostri n andar suso a la cima per due fiammette che i vedemmo porre e un altra da lungi render cenno tanto ch a pena il potea l occhio tòrre\\ne io mi volsi al mar di tutto l senno dissi questo che dice e che risponde quell altro foco e chi son quei che l fenno\\ned elli a me su per le sucide onde già scorgere puoi quello che s aspetta se l fummo del pantan nol ti nasconde\\ncorda non pinse mai da sé saetta che sì corresse via per l aere snella com io vidi una nave piccioletta venir per l acqua verso noi in quella sotto l governo d un sol galeoto che gridava or se giunta anima fella\\nflegïàs flegïàs tu gridi a vòto disse lo mio segnore a questa volta più non ci avrai che sol passando il loto\\nqual è colui che grande inganno ascolta che li sia fatto e poi se ne rammarca fecesi flegïàs ne l ira accolta\\nlo duca mio discese ne la barca e poi mi fece intrare appresso lui e sol quand io fui dentro parve carca\\ntosto che l duca e io nel legno fui segando se ne va l antica prora de l acqua più che non suol con altrui\\nmentre noi corravam la morta gora dinanzi mi si fece un pien di fango e disse chi se tu che vieni anzi ora\\ne io a lui s i vegno non rimango ma tu chi se che sì se fatto brutto\\nrispuose vedi che son un che piango\\ne io a lui con piangere e con lutto spirito maladetto ti rimani ch i ti conosco ancor sie lordo tutto\\nallor distese al legno ambo le mani per che l maestro accorto lo sospinse dicendo via costà con li altri cani\\nlo collo poi con le braccia mi cinse basciommi l volto e disse alma sdegnosa benedetta colei che n te s incinse quei fu al mondo persona orgogliosa bontà non è che sua memoria fregi così s è l ombra sua qui furïosa\\nquanti si tegnon or là sù gran regi che qui staranno come porci in brago di sé lasciando orribili dispregi\\ne io maestro molto sarei vago di vederlo attuffare in questa broda prima che noi uscissimo del lago\\ned elli a me avante che la proda ti si lasci veder tu sarai sazio di tal disïo convien che tu goda\\ndopo ciò poco vid io quello strazio far di costui a le fangose genti che dio ancor ne lodo e ne ringrazio\\ntutti gridavano a filippo argenti e l fiorentino spirito bizzarro in sé medesmo si volvea co denti\\nquivi il lasciammo che più non ne narro ma ne l orecchie mi percosse un duolo per ch io avante l occhio intento sbarro\\nlo buon maestro disse omai figliuolo s appressa la città c ha nome dite coi gravi cittadin col grande stuolo\\ne io maestro già le sue meschite là entro certe ne la valle cerno vermiglie come se di foco uscite fossero\\ned ei mi disse il foco etterno ch entro l affoca le dimostra rosse come tu vedi in questo basso inferno\\nnoi pur giugnemmo dentro a l alte fosse che vallan quella terra sconsolata le mura mi parean che ferro fosse\\nnon sanza prima far grande aggirata venimmo in parte dove il nocchier forte usciteci gridò qui è l intrata\\nio vidi più di mille in su le porte da ciel piovuti che stizzosamente dicean chi è costui che sanza morte va per lo regno de la morta gente\\ne l savio mio maestro fece segno di voler lor parlar segretamente\\nallor chiusero un poco il gran disdegno e disser vien tu solo e quei sen vada che sì ardito intrò per questo regno\\nsol si ritorni per la folle strada pruovi se sa ché tu qui rimarrai che li ha iscorta sì buia contrada\\npensa lettor se io mi sconfortai nel suon de le parole maladette ché non credetti ritornarci mai\\no caro duca mio che più di sette volte m hai sicurtà renduta e tratto d alto periglio che ncontra mi stette non mi lasciar diss io così disfatto e se l passar più oltre ci è negato ritroviam l orme nostre insieme ratto\\ne quel segnor che lì m avea menato mi disse non temer ché l nostro passo non ci può tòrre alcun da tal n è dato\\nma qui m attendi e lo spirito lasso conforta e ciba di speranza buona ch i non ti lascerò nel mondo basso\\ncosì sen va e quivi m abbandona lo dolce padre e io rimagno in forse che sì e no nel capo mi tenciona\\nudir non potti quello ch a lor porse ma ei non stette là con essi guari che ciascun dentro a pruova si ricorse\\nchiuser le porte que nostri avversari nel petto al mio segnor che fuor rimase e rivolsesi a me con passi rari\\nli occhi a la terra e le ciglia avea rase d ogne baldanza e dicea ne sospiri chi m ha negate le dolenti case\\ne a me disse tu perch io m adiri non sbigottir ch io vincerò la prova qual ch a la difension dentro s aggiri\\nquesta lor tracotanza non è nova ché già l usaro a men segreta porta la qual sanza serrame ancor si trova\\nsovr essa vedestù la scritta morta e già di qua da lei discende l erta passando per li cerchi sanza scorta tal che per lui ne fia la terra aperta\\nquel color che viltà di fuor mi pinse veggendo il duca mio tornare in volta più tosto dentro il suo novo ristrinse\\nattento si fermò com uom ch ascolta ché l occhio nol potea menare a lunga per l aere nero e per la nebbia folta\\npur a noi converrà vincer la punga cominciò el se non\\ntal ne s offerse\\noh quanto tarda a me ch altri qui giunga\\ni vidi ben sì com ei ricoperse lo cominciar con l altro che poi venne che fur parole a le prime diverse ma nondimen paura il suo dir dienne perch io traeva la parola tronca forse a peggior sentenzia che non tenne\\nin questo fondo de la trista conca discende mai alcun del primo grado che sol per pena ha la speranza cionca\\nquesta question fec io e quei di rado incontra mi rispuose che di noi faccia il cammino alcun per qual io vado\\nver è ch altra fïata qua giù fui congiurato da quella eritón cruda che richiamava l ombre a corpi sui\\ndi poco era di me la carne nuda ch ella mi fece intrar dentr a quel muro per trarne un spirto del cerchio di giuda\\nquell è l più basso loco e l più oscuro e l più lontan dal ciel che tutto gira ben so l cammin però ti fa sicuro\\nquesta palude che l gran puzzo spira cigne dintorno la città dolente u non potemo intrare omai sanz ira\\ne altro disse ma non l ho a mente però che l occhio m avea tutto tratto ver l alta torre a la cima rovente dove in un punto furon dritte ratto tre furïe infernal di sangue tinte che membra feminine avieno e atto e con idre verdissime eran cinte serpentelli e ceraste avien per crine onde le fiere tempie erano avvinte\\ne quei che ben conobbe le meschine de la regina de l etterno pianto guarda mi disse le feroci erine\\nquest è megera dal sinistro canto quella che piange dal destro è aletto tesifón è nel mezzo e tacque a tanto\\ncon l unghie si fendea ciascuna il petto battiensi a palme e gridavan sì alto ch i mi strinsi al poeta per sospetto\\nvegna medusa sì l farem di smalto dicevan tutte riguardando in giuso mal non vengiammo in tesëo l assalto\\nvolgiti n dietro e tien lo viso chiuso ché se l gorgón si mostra e tu l vedessi nulla sarebbe di tornar mai suso\\ncosì disse l maestro ed elli stessi mi volse e non si tenne a le mie mani che con le sue ancor non mi chiudessi\\no voi ch avete li ntelletti sani mirate la dottrina che s asconde sotto l velame de li versi strani\\ne già venìa su per le torbide onde un fracasso d un suon pien di spavento per cui tremavano amendue le sponde non altrimenti fatto che d un vento impetüoso per li avversi ardori che fier la selva e sanz alcun rattento li rami schianta abbatte e porta fori dinanzi polveroso va superbo e fa fuggir le fiere e li pastori\\nli occhi mi sciolse e disse or drizza il nerbo del viso su per quella schiuma antica per indi ove quel fummo è più acerbo\\ncome le rane innanzi a la nimica biscia per l acqua si dileguan tutte fin ch a la terra ciascuna s abbica vid io più di mille anime distrutte fuggir così dinanzi ad un ch al passo passava stige con le piante asciutte\\ndal volto rimovea quell aere grasso menando la sinistra innanzi spesso e sol di quell angoscia parea lasso\\nben m accorsi ch elli era da ciel messo e volsimi al maestro e quei fé segno ch i stessi queto ed inchinassi ad esso\\nahi quanto mi parea pien di disdegno venne a la porta e con una verghetta l aperse che non v ebbe alcun ritegno\\no cacciati del ciel gente dispetta cominciò elli in su l orribil soglia ond esta oltracotanza in voi s alletta perché recalcitrate a quella voglia a cui non puote il fin mai esser mozzo e che più volte v ha cresciuta doglia che giova ne le fata dar di cozzo cerbero vostro se ben vi ricorda ne porta ancor pelato il mento e l gozzo\\npoi si rivolse per la strada lorda e non fé motto a noi ma fé sembiante d omo cui altra cura stringa e morda che quella di colui che li è davante e noi movemmo i piedi inver la terra sicuri appresso le parole sante\\ndentro li ntrammo sanz alcuna guerra e io ch avea di riguardar disio la condizion che tal fortezza serra com io fui dentro l occhio intorno invio e veggio ad ogne man grande campagna piena di duolo e di tormento rio\\nsì come ad arli ove rodano stagna sì com a pola presso del carnaro ch italia chiude e suoi termini bagna fanno i sepulcri tutt il loco varo così facevan quivi d ogne parte salvo che l modo v era più amaro ché tra li avelli fiamme erano sparte per le quali eran sì del tutto accesi che ferro più non chiede verun arte\\ntutti li lor coperchi eran sospesi e fuor n uscivan sì duri lamenti che ben parean di miseri e d offesi\\ne io maestro quai son quelle genti che seppellite dentro da quell arche si fan sentir coi sospiri dolenti\\ne quelli a me qui son li eresïarche con lor seguaci d ogne setta e molto più che non credi son le tombe carche\\nsimile qui con simile è sepolto e i monimenti son più e men caldi\\ne poi ch a la man destra si fu vòlto passammo tra i martìri e li alti spaldi\\nora sen va per un secreto calle tra l muro de la terra e li martìri lo mio maestro e io dopo le spalle\\no virtù somma che per li empi giri mi volvi cominciai com a te piace parlami e sodisfammi a miei disiri\\nla gente che per li sepolcri giace potrebbesi veder già son levati tutt i coperchi e nessun guardia face\\ne quelli a me tutti saran serrati quando di iosafàt qui torneranno coi corpi che là sù hanno lasciati\\nsuo cimitero da questa parte hanno con epicuro tutti suoi seguaci che l anima col corpo morta fanno\\nperò a la dimanda che mi faci quinc entro satisfatto sarà tosto e al disio ancor che tu mi taci\\ne io buon duca non tegno riposto a te mio cuor se non per dicer poco e tu m hai non pur mo a ciò disposto\\no tosco che per la città del foco vivo ten vai così parlando onesto piacciati di restare in questo loco\\nla tua loquela ti fa manifesto di quella nobil patrïa natio a la qual forse fui troppo molesto\\nsubitamente questo suono uscìo d una de l arche però m accostai temendo un poco più al duca mio\\ned el mi disse volgiti che fai vedi là farinata che s è dritto da la cintola in sù tutto l vedrai\\nio avea già il mio viso nel suo fitto ed el s ergea col petto e con la fronte com avesse l inferno a gran dispitto\\ne l animose man del duca e pronte mi pinser tra le sepulture a lui dicendo le parole tue sien conte\\ncom io al piè de la sua tomba fui guardommi un poco e poi quasi sdegnoso mi dimandò chi fuor li maggior tui\\nio ch era d ubidir disideroso non gliel celai ma tutto gliel apersi ond ei levò le ciglia un poco in suso poi disse fieramente furo avversi a me e a miei primi e a mia parte sì che per due fïate li dispersi\\ns ei fur cacciati ei tornar d ogne parte rispuos io lui l una e l altra fïata ma i vostri non appreser ben quell arte\\nallor surse a la vista scoperchiata un ombra lungo questa infino al mento credo che s era in ginocchie levata\\ndintorno mi guardò come talento avesse di veder s altri era meco e poi che l sospecciar fu tutto spento piangendo disse se per questo cieco carcere vai per altezza d ingegno mio figlio ov è e perché non è teco\\ne io a lui da me stesso non vegno colui ch attende là per qui mi mena forse cui guido vostro ebbe a disdegno\\nle sue parole e l modo de la pena m avean di costui già letto il nome però fu la risposta così piena\\ndi sùbito drizzato gridò come dicesti elli ebbe non viv elli ancora non fiere li occhi suoi lo dolce lume\\nquando s accorse d alcuna dimora ch io facëa dinanzi a la risposta supin ricadde e più non parve fora\\nma quell altro magnanimo a cui posta restato m era non mutò aspetto né mosse collo né piegò sua costa e sé continüando al primo detto s elli han quell arte disse male appresa ciò mi tormenta più che questo letto\\nma non cinquanta volte fia raccesa la faccia de la donna che qui regge che tu saprai quanto quell arte pesa\\ne se tu mai nel dolce mondo regge dimmi perché quel popolo è sì empio incontr a miei in ciascuna sua legge\\nond io a lui lo strazio e l grande scempio che fece l arbia colorata in rosso tal orazion fa far nel nostro tempio\\npoi ch ebbe sospirando il capo mosso a ciò non fu io sol disse né certo sanza cagion con li altri sarei mosso\\nma fu io solo là dove sofferto fu per ciascun di tòrre via fiorenza colui che la difesi a viso aperto\\ndeh se riposi mai vostra semenza prega io lui solvetemi quel nodo che qui ha nviluppata mia sentenza\\nel par che voi veggiate se ben odo dinanzi quel che l tempo seco adduce e nel presente tenete altro modo\\nnoi veggiam come quei c ha mala luce le cose disse che ne son lontano cotanto ancor ne splende il sommo duce\\nquando s appressano o son tutto è vano nostro intelletto e s altri non ci apporta nulla sapem di vostro stato umano\\nperò comprender puoi che tutta morta fia nostra conoscenza da quel punto che del futuro fia chiusa la porta\\nallor come di mia colpa compunto dissi or direte dunque a quel caduto che l suo nato è co vivi ancor congiunto e s i fui dianzi a la risposta muto fate i saper che l fei perché pensava già ne l error che m avete soluto\\ne già l maestro mio mi richiamava per ch i pregai lo spirto più avaccio che mi dicesse chi con lu istava\\ndissemi qui con più di mille giaccio qua dentro è l secondo federico e l cardinale e de li altri mi taccio\\nindi s ascose e io inver l antico poeta volsi i passi ripensando a quel parlar che mi parea nemico\\nelli si mosse e poi così andando mi disse perché se tu sì smarrito\\ne io li sodisfeci al suo dimando\\nla mente tua conservi quel ch udito hai contra te mi comandò quel saggio e ora attendi qui e drizzò l dito quando sarai dinanzi al dolce raggio di quella il cui bell occhio tutto vede da lei saprai di tua vita il vïaggio\\nappresso mosse a man sinistra il piede lasciammo il muro e gimmo inver lo mezzo per un sentier ch a una valle fiede che nfin là sù facea spiacer suo lezzo\\nin su l estremità d un alta ripa che facevan gran pietre rotte in cerchio venimmo sopra più crudele stipa e quivi per l orribile soperchio del puzzo che l profondo abisso gitta ci raccostammo in dietro ad un coperchio d un grand avello ov io vidi una scritta che dicea anastasio papa guardo lo qual trasse fotin de la via dritta\\nlo nostro scender conviene esser tardo sì che s ausi un poco in prima il senso al tristo fiato e poi no i fia riguardo\\ncosì l maestro e io alcun compenso dissi lui trova che l tempo non passi perduto\\ned elli vedi ch a ciò penso\\nfigliuol mio dentro da cotesti sassi cominciò poi a dir son tre cerchietti di grado in grado come que che lassi\\ntutti son pien di spirti maladetti ma perché poi ti basti pur la vista intendi come e perché son costretti\\nd ogne malizia ch odio in cielo acquista ingiuria è l fine ed ogne fin cotale o con forza o con frode altrui contrista\\nma perché frode è de l uom proprio male più spiace a dio e però stan di sotto li frodolenti e più dolor li assale\\ndi vïolenti il primo cerchio è tutto ma perché si fa forza a tre persone in tre gironi è distinto e costrutto\\na dio a sé al prossimo si pòne far forza dico in loro e in lor cose come udirai con aperta ragione\\nmorte per forza e ferute dogliose nel prossimo si danno e nel suo avere ruine incendi e tollette dannose onde omicide e ciascun che mal fiere guastatori e predon tutti tormenta lo giron primo per diverse schiere\\npuote omo avere in sé man vïolenta e ne suoi beni e però nel secondo giron convien che sanza pro si penta qualunque priva sé del vostro mondo biscazza e fonde la sua facultade e piange là dov esser de giocondo\\npuossi far forza ne la deïtade col cor negando e bestemmiando quella e spregiando natura e sua bontade e però lo minor giron suggella del segno suo e soddoma e caorsa e chi spregiando dio col cor favella\\nla frode ond ogne coscïenza è morsa può l omo usare in colui che n lui fida e in quel che fidanza non imborsa\\nquesto modo di retro par ch incida pur lo vinco d amor che fa natura onde nel cerchio secondo s annida ipocresia lusinghe e chi affattura falsità ladroneccio e simonia ruffian baratti e simile lordura\\nper l altro modo quell amor s oblia che fa natura e quel ch è poi aggiunto di che la fede spezïal si cria onde nel cerchio minore ov è l punto de l universo in su che dite siede qualunque trade in etterno è consunto\\ne io maestro assai chiara procede la tua ragione e assai ben distingue questo baràtro e l popol ch e possiede\\nma dimmi quei de la palude pingue che mena il vento e che batte la pioggia e che s incontran con sì aspre lingue perché non dentro da la città roggia sono ei puniti se dio li ha in ira e se non li ha perché sono a tal foggia\\ned elli a me perché tanto delira disse lo ngegno tuo da quel che sòle o ver la mente dove altrove mira non ti rimembra di quelle parole con le quai la tua etica pertratta le tre disposizion che l ciel non vole incontenenza malizia e la matta bestialitade e come incontenenza men dio offende e men biasimo accatta se tu riguardi ben questa sentenza e rechiti a la mente chi son quelli che sù di fuor sostegnon penitenza tu vedrai ben perché da questi felli sien dipartiti e perché men crucciata la divina vendetta li martelli\\no sol che sani ogne vista turbata tu mi contenti sì quando tu solvi che non men che saver dubbiar m aggrata\\nancora in dietro un poco ti rivolvi diss io là dove di ch usura offende la divina bontade e l groppo solvi\\nfilosofia mi disse a chi la ntende nota non pure in una sola parte come natura lo suo corso prende dal divino ntelletto e da sua arte e se tu ben la tua fisica note tu troverai non dopo molte carte che l arte vostra quella quanto pote segue come l maestro fa l discente sì che vostr arte a dio quasi è nepote\\nda queste due se tu ti rechi a mente lo genesì dal principio convene prender sua vita e avanzar la gente e perché l usuriere altra via tene per sé natura e per la sua seguace dispregia poi ch in altro pon la spene\\nma seguimi oramai che l gir mi piace ché i pesci guizzan su per l orizzonta e l carro tutto sovra l coro giace e l balzo via là oltra si dismonta\\nera lo loco ov a scender la riva venimmo alpestro e per quel che v er anco tal ch ogne vista ne sarebbe schiva\\nqual è quella ruina che nel fianco di qua da trento l adice percosse o per tremoto o per sostegno manco che da cima del monte onde si mosse al piano è sì la roccia discoscesa ch alcuna via darebbe a chi sù fosse cotal di quel burrato era la scesa e n su la punta de la rotta lacca l infamïa di creti era distesa che fu concetta ne la falsa vacca e quando vide noi sé stesso morse sì come quei cui l ira dentro fiacca\\nlo savio mio inver lui gridò forse tu credi che qui sia l duca d atene che sù nel mondo la morte ti porse pàrtiti bestia ché questi non vene ammaestrato da la tua sorella ma vassi per veder le vostre pene\\nqual è quel toro che si slaccia in quella c ha ricevuto già l colpo mortale che gir non sa ma qua e là saltella vid io lo minotauro far cotale e quello accorto gridò corri al varco mentre ch e nfuria è buon che tu ti cale\\ncosì prendemmo via giù per lo scarco di quelle pietre che spesso moviensi sotto i miei piedi per lo novo carco\\nio gia pensando e quei disse tu pensi forse a questa ruina ch è guardata da quell ira bestial ch i ora spensi\\nor vo che sappi che l altra fïata ch i discesi qua giù nel basso inferno questa roccia non era ancor cascata\\nma certo poco pria se ben discerno che venisse colui che la gran preda levò a dite del cerchio superno da tutte parti l alta valle feda tremò sì ch i pensai che l universo sentisse amor per lo qual è chi creda più volte il mondo in caòsso converso e in quel punto questa vecchia roccia qui e altrove tal fece riverso\\nma ficca li occhi a valle ché s approccia la riviera del sangue in la qual bolle qual che per vïolenza in altrui noccia\\noh cieca cupidigia e ira folle che sì ci sproni ne la vita corta e ne l etterna poi sì mal c immolle io vidi un ampia fossa in arco torta come quella che tutto l piano abbraccia secondo ch avea detto la mia scorta e tra l piè de la ripa ed essa in traccia corrien centauri armati di saette come solien nel mondo andare a caccia\\nveggendoci calar ciascun ristette e de la schiera tre si dipartiro con archi e asticciuole prima elette e l un gridò da lungi a qual martiro venite voi che scendete la costa ditel costinci se non l arco tiro\\nlo mio maestro disse la risposta farem noi a chirón costà di presso mal fu la voglia tua sempre sì tosta\\npoi mi tentò e disse quelli è nesso che morì per la bella deianira e fé di sé la vendetta elli stesso\\ne quel di mezzo ch al petto si mira è il gran chirón il qual nodrì achille quell altro è folo che fu sì pien d ira\\ndintorno al fosso vanno a mille a mille saettando qual anima si svelle del sangue più che sua colpa sortille\\nnoi ci appressammo a quelle fiere isnelle chirón prese uno strale e con la cocca fece la barba in dietro a le mascelle\\nquando s ebbe scoperta la gran bocca disse a compagni siete voi accorti che quel di retro move ciò ch el tocca così non soglion far li piè d i morti\\ne l mio buon duca che già li er al petto dove le due nature son consorti rispuose ben è vivo e sì soletto mostrar li mi convien la valle buia necessità l ci nduce e non diletto\\ntal si partì da cantare alleluia che mi commise quest officio novo non è ladron né io anima fuia\\nma per quella virtù per cu io movo li passi miei per sì selvaggia strada danne un de tuoi a cui noi siamo a provo e che ne mostri là dove si guada e che porti costui in su la groppa ché non è spirto che per l aere vada\\nchirón si volse in su la destra poppa e disse a nesso torna e sì li guida e fa cansar s altra schiera v intoppa\\nor ci movemmo con la scorta fida lungo la proda del bollor vermiglio dove i bolliti facieno alte strida\\nio vidi gente sotto infino al ciglio e l gran centauro disse e son tiranni che dier nel sangue e ne l aver di piglio\\nquivi si piangon li spietati danni quivi è alessandro e dïonisio fero che fé cicilia aver dolorosi anni\\ne quella fronte c ha l pel così nero è azzolino e quell altro ch è biondo è opizzo da esti il qual per vero fu spento dal figliastro sù nel mondo\\nallor mi volsi al poeta e quei disse questi ti sia or primo e io secondo\\npoco più oltre il centauro s affisse sovr una gente che nfino a la gola parea che di quel bulicame uscisse\\nmostrocci un ombra da l un canto sola dicendo colui fesse in grembo a dio lo cor che n su tamisi ancor si cola\\npoi vidi gente che di fuor del rio tenean la testa e ancor tutto l casso e di costoro assai riconobb io\\ncosì a più a più si facea basso quel sangue sì che cocea pur li piedi e quindi fu del fosso il nostro passo\\nsì come tu da questa parte vedi lo bulicame che sempre si scema disse l centauro voglio che tu credi che da quest altra a più a più giù prema lo fondo suo infin ch el si raggiunge ove la tirannia convien che gema\\nla divina giustizia di qua punge quell attila che fu flagello in terra e pirro e sesto e in etterno munge le lagrime che col bollor diserra a rinier da corneto a rinier pazzo che fecero a le strade tanta guerra\\npoi si rivolse e ripassossi l guazzo\\nnon era ancor di là nesso arrivato quando noi ci mettemmo per un bosco che da neun sentiero era segnato\\nnon fronda verde ma di color fosco non rami schietti ma nodosi e nvolti non pomi v eran ma stecchi con tòsco\\nnon han sì aspri sterpi né sì folti quelle fiere selvagge che n odio hanno tra cecina e corneto i luoghi cólti\\nquivi le brutte arpie lor nidi fanno che cacciar de le strofade i troiani con tristo annunzio di futuro danno\\nali hanno late e colli e visi umani piè con artigli e pennuto l gran ventre fanno lamenti in su li alberi strani\\ne l buon maestro prima che più entre sappi che se nel secondo girone mi cominciò a dire e sarai mentre che tu verrai ne l orribil sabbione\\nperò riguarda ben sì vederai cose che torrien fede al mio sermone\\nio sentia d ogne parte trarre guai e non vedea persona che l facesse per ch io tutto smarrito m arrestai\\ncred ïo ch ei credette ch io credesse che tante voci uscisser tra quei bronchi da gente che per noi si nascondesse\\nperò disse l maestro se tu tronchi qualche fraschetta d una d este piante li pensier c hai si faran tutti monchi\\nallor porsi la mano un poco avante e colsi un ramicel da un gran pruno e l tronco suo gridò perché mi schiante\\nda che fatto fu poi di sangue bruno ricominciò a dir perché mi scerpi non hai tu spirto di pietade alcuno uomini fummo e or siam fatti sterpi ben dovrebb esser la tua man più pia se state fossimo anime di serpi\\ncome d un stizzo verde ch arso sia da l un de capi che da l altro geme e cigola per vento che va via sì de la scheggia rotta usciva insieme parole e sangue ond io lasciai la cima cadere e stetti come l uom che teme\\ns elli avesse potuto creder prima rispuose l savio mio anima lesa ciò c ha veduto pur con la mia rima non averebbe in te la man distesa ma la cosa incredibile mi fece indurlo ad ovra ch a me stesso pesa\\nma dilli chi tu fosti sì che n vece d alcun ammenda tua fama rinfreschi nel mondo sù dove tornar li lece\\ne l tronco sì col dolce dir m adeschi ch i non posso tacere e voi non gravi perch ïo un poco a ragionar m inveschi\\nio son colui che tenni ambo le chiavi del cor di federigo e che le volsi serrando e diserrando sì soavi che dal secreto suo quasi ogn uom tolsi fede portai al glorïoso offizio tanto ch i ne perde li sonni e polsi\\nla meretrice che mai da l ospizio di cesare non torse li occhi putti morte comune e de le corti vizio infiammò contra me li animi tutti e li nfiammati infiammar sì augusto che lieti onor tornaro in tristi lutti\\nl animo mio per disdegnoso gusto credendo col morir fuggir disdegno ingiusto fece me contra me giusto\\nper le nove radici d esto legno vi giuro che già mai non ruppi fede al mio segnor che fu d onor sì degno\\ne se di voi alcun nel mondo riede conforti la memoria mia che giace ancor del colpo che nvidia le diede\\nun poco attese e poi da ch el si tace disse l poeta a me non perder l ora ma parla e chiedi a lui se più ti piace\\nond ïo a lui domandal tu ancora di quel che credi ch a me satisfaccia ch i non potrei tanta pietà m accora\\nperciò ricominciò se l om ti faccia liberamente ciò che l tuo dir priega spirito incarcerato ancor ti piaccia di dirne come l anima si lega in questi nocchi e dinne se tu puoi s alcuna mai di tai membra si spiega\\nallor soffiò il tronco forte e poi si convertì quel vento in cotal voce brievemente sarà risposto a voi\\nquando si parte l anima feroce dal corpo ond ella stessa s è disvelta minòs la manda a la settima foce\\ncade in la selva e non l è parte scelta ma là dove fortuna la balestra quivi germoglia come gran di spelta\\nsurge in vermena e in pianta silvestra l arpie pascendo poi de le sue foglie fanno dolore e al dolor fenestra\\ncome l altre verrem per nostre spoglie ma non però ch alcuna sen rivesta ché non è giusto aver ciò ch om si toglie\\nqui le strascineremo e per la mesta selva saranno i nostri corpi appesi ciascuno al prun de l ombra sua molesta\\nnoi eravamo ancora al tronco attesi credendo ch altro ne volesse dire quando noi fummo d un romor sorpresi similemente a colui che venire sente l porco e la caccia a la sua posta ch ode le bestie e le frasche stormire\\ned ecco due da la sinistra costa nudi e graffiati fuggendo sì forte che de la selva rompieno ogne rosta\\nquel dinanzi or accorri accorri morte\\ne l altro cui pareva tardar troppo gridava lano sì non furo accorte le gambe tue a le giostre dal toppo\\ne poi che forse li fallia la lena di sé e d un cespuglio fece un groppo\\ndi rietro a loro era la selva piena di nere cagne bramose e correnti come veltri ch uscisser di catena\\nin quel che s appiattò miser li denti e quel dilaceraro a brano a brano poi sen portar quelle membra dolenti\\npresemi allor la mia scorta per mano e menommi al cespuglio che piangea per le rotture sanguinenti in vano\\no iacopo dicea da santo andrea che t è giovato di me fare schermo che colpa ho io de la tua vita rea\\nquando l maestro fu sovr esso fermo disse chi fosti che per tante punte soffi con sangue doloroso sermo\\ned elli a noi o anime che giunte siete a veder lo strazio disonesto c ha le mie fronde sì da me disgiunte raccoglietele al piè del tristo cesto\\ni fui de la città che nel batista mutò l primo padrone ond ei per questo sempre con l arte sua la farà trista e se non fosse che n sul passo d arno rimane ancor di lui alcuna vista que cittadin che poi la rifondarno sovra l cener che d attila rimase avrebber fatto lavorare indarno\\nio fei gibetto a me de le mie case\\npoi che la carità del natio loco mi strinse raunai le fronde sparte e rende le a colui ch era già fioco\\nindi venimmo al fine ove si parte lo secondo giron dal terzo e dove si vede di giustizia orribil arte\\na ben manifestar le cose nove dico che arrivammo ad una landa che dal suo letto ogne pianta rimove\\nla dolorosa selva l è ghirlanda intorno come l fosso tristo ad essa quivi fermammo i passi a randa a randa\\nlo spazzo era una rena arida e spessa non d altra foggia fatta che colei che fu da piè di caton già soppressa\\no vendetta di dio quanto tu dei esser temuta da ciascun che legge ciò che fu manifesto a li occhi mei d anime nude vidi molte gregge che piangean tutte assai miseramente e parea posta lor diversa legge\\nsupin giacea in terra alcuna gente alcuna si sedea tutta raccolta e altra andava continüamente\\nquella che giva ntorno era più molta e quella men che giacëa al tormento ma più al duolo avea la lingua sciolta\\nsovra tutto l sabbion d un cader lento piovean di foco dilatate falde come di neve in alpe sanza vento\\nquali alessandro in quelle parti calde d indïa vide sopra l süo stuolo fiamme cadere infino a terra salde per ch ei provide a scalpitar lo suolo con le sue schiere acciò che lo vapore mei si stingueva mentre ch era solo tale scendeva l etternale ardore onde la rena s accendea com esca sotto focile a doppiar lo dolore\\nsanza riposo mai era la tresca de le misere mani or quindi or quinci escotendo da sé l arsura fresca\\ni cominciai maestro tu che vinci tutte le cose fuor che demon duri ch a l intrar de la porta incontra uscinci chi è quel grande che non par che curi lo ncendio e giace dispettoso e torto sì che la pioggia non par che l marturi\\ne quel medesmo che si fu accorto ch io domandava il mio duca di lui gridò qual io fui vivo tal son morto\\nse giove stanchi l suo fabbro da cui crucciato prese la folgore aguta onde l ultimo dì percosso fui o s elli stanchi li altri a muta a muta in mongibello a la focina negra chiamando buon vulcano aiuta aiuta sì com el fece a la pugna di flegra e me saetti con tutta sua forza non ne potrebbe aver vendetta allegra\\nallora il duca mio parlò di forza tanto ch i non l avea sì forte udito o capaneo in ciò che non s ammorza la tua superbia se tu più punito nullo martiro fuor che la tua rabbia sarebbe al tuo furor dolor compito\\npoi si rivolse a me con miglior labbia dicendo quei fu l un d i sette regi ch assiser tebe ed ebbe e par ch elli abbia dio in disdegno e poco par che l pregi ma com io dissi lui li suoi dispetti sono al suo petto assai debiti fregi\\nor mi vien dietro e guarda che non metti ancor li piedi ne la rena arsiccia ma sempre al bosco tien li piedi stretti\\ntacendo divenimmo là ve spiccia fuor de la selva un picciol fiumicello lo cui rossore ancor mi raccapriccia\\nquale del bulicame esce ruscello che parton poi tra lor le peccatrici tal per la rena giù sen giva quello\\nlo fondo suo e ambo le pendici fatt era n pietra e margini dallato per ch io m accorsi che l passo era lici\\ntra tutto l altro ch i t ho dimostrato poscia che noi intrammo per la porta lo cui sogliare a nessuno è negato cosa non fu da li tuoi occhi scorta notabile com è l presente rio che sovra sé tutte fiammelle ammorta\\nqueste parole fuor del duca mio per ch io l pregai che mi largisse l pasto di cui largito m avëa il disio\\nin mezzo mar siede un paese guasto diss elli allora che s appella creta sotto l cui rege fu già l mondo casto\\nuna montagna v è che già fu lieta d acqua e di fronde che si chiamò ida or è diserta come cosa vieta\\nrëa la scelse già per cuna fida del suo figliuolo e per celarlo meglio quando piangea vi facea far le grida\\ndentro dal monte sta dritto un gran veglio che tien volte le spalle inver dammiata e roma guarda come süo speglio\\nla sua testa è di fin oro formata e puro argento son le braccia e l petto poi è di rame infino a la forcata da indi in giuso è tutto ferro eletto salvo che l destro piede è terra cotta e sta n su quel più che n su l altro eretto\\nciascuna parte fuor che l oro è rotta d una fessura che lagrime goccia le quali accolte fóran quella grotta\\nlor corso in questa valle si diroccia fanno acheronte stige e flegetonta poi sen van giù per questa stretta doccia infin là ove più non si dismonta fanno cocito e qual sia quello stagno tu lo vedrai però qui non si conta\\ne io a lui se l presente rigagno si diriva così dal nostro mondo perché ci appar pur a questo vivagno\\ned elli a me tu sai che l loco è tondo e tutto che tu sie venuto molto pur a sinistra giù calando al fondo non se ancor per tutto l cerchio vòlto per che se cosa n apparisce nova non de addur maraviglia al tuo volto\\ne io ancor maestro ove si trova flegetonta e letè ché de l un taci e l altro di che si fa d esta piova\\nin tutte tue question certo mi piaci rispuose ma l bollor de l acqua rossa dovea ben solver l una che tu faci\\nletè vedrai ma fuor di questa fossa là dove vanno l anime a lavarsi quando la colpa pentuta è rimossa\\npoi disse omai è tempo da scostarsi dal bosco fa che di retro a me vegne li margini fan via che non son arsi e sopra loro ogne vapor si spegne\\nora cen porta l un de duri margini e l fummo del ruscel di sopra aduggia sì che dal foco salva l acqua e li argini\\nquali fiamminghi tra guizzante e bruggia temendo l fiotto che nver lor s avventa fanno lo schermo perché l mar si fuggia e quali padoan lungo la brenta per difender lor ville e lor castelli anzi che carentana il caldo senta a tale imagine eran fatti quelli tutto che né sì alti né sì grossi qual che si fosse lo maestro félli\\ngià eravam da la selva rimossi tanto ch i non avrei visto dov era perch io in dietro rivolto mi fossi quando incontrammo d anime una schiera che venian lungo l argine e ciascuna ci riguardava come suol da sera guardare uno altro sotto nuova luna e sì ver noi aguzzavan le ciglia come l vecchio sartor fa ne la cruna\\ncosì adocchiato da cotal famiglia fui conosciuto da un che mi prese per lo lembo e gridò qual maraviglia\\ne io quando l suo braccio a me distese ficcaï li occhi per lo cotto aspetto sì che l viso abbrusciato non difese la conoscenza süa al mio ntelletto e chinando la mano a la sua faccia rispuosi siete voi qui ser brunetto\\ne quelli o figliuol mio non ti dispiaccia se brunetto latino un poco teco ritorna n dietro e lascia andar la traccia\\ni dissi lui quanto posso ven preco e se volete che con voi m asseggia faròl se piace a costui che vo seco\\no figliuol disse qual di questa greggia s arresta punto giace poi cent anni sanz arrostarsi quando l foco il feggia\\nperò va oltre i ti verrò a panni e poi rigiugnerò la mia masnada che va piangendo i suoi etterni danni\\nio non osava scender de la strada per andar par di lui ma l capo chino tenea com uom che reverente vada\\nel cominciò qual fortuna o destino anzi l ultimo dì qua giù ti mena e chi è questi che mostra l cammino\\nlà sù di sopra in la vita serena rispuos io lui mi smarri in una valle avanti che l età mia fosse piena\\npur ier mattina le volsi le spalle questi m apparve tornand ïo in quella e reducemi a ca per questo calle\\ned elli a me se tu segui tua stella non puoi fallire a glorïoso porto se ben m accorsi ne la vita bella e s io non fossi sì per tempo morto veggendo il cielo a te così benigno dato t avrei a l opera conforto\\nma quello ingrato popolo maligno che discese di fiesole ab antico e tiene ancor del monte e del macigno ti si farà per tuo ben far nimico ed è ragion ché tra li lazzi sorbi si disconvien fruttare al dolce fico\\nvecchia fama nel mondo li chiama orbi gent è avara invidiosa e superba dai lor costumi fa che tu ti forbi\\nla tua fortuna tanto onor ti serba che l una parte e l altra avranno fame di te ma lungi fia dal becco l erba\\nfaccian le bestie fiesolane strame di lor medesme e non tocchin la pianta s alcuna surge ancora in lor letame in cui riviva la sementa santa di que roman che vi rimaser quando fu fatto il nido di malizia tanta\\nse fosse tutto pieno il mio dimando rispuos io lui voi non sareste ancora de l umana natura posto in bando ché n la mente m è fitta e or m accora la cara e buona imagine paterna di voi quando nel mondo ad ora ad ora m insegnavate come l uom s etterna e quant io l abbia in grado mentr io vivo convien che ne la mia lingua si scerna\\nciò che narrate di mio corso scrivo e serbolo a chiosar con altro testo a donna che saprà s a lei arrivo\\ntanto vogl io che vi sia manifesto pur che mia coscïenza non mi garra ch a la fortuna come vuol son presto\\nnon è nuova a li orecchi miei tal arra però giri fortuna la sua rota come le piace e l villan la sua marra\\nlo mio maestro allora in su la gota destra si volse in dietro e riguardommi poi disse bene ascolta chi la nota\\nné per tanto di men parlando vommi con ser brunetto e dimando chi sono li suoi compagni più noti e più sommi\\ned elli a me saper d alcuno è buono de li altri fia laudabile tacerci ché l tempo saria corto a tanto suono\\nin somma sappi che tutti fur cherci e litterati grandi e di gran fama d un peccato medesmo al mondo lerci\\npriscian sen va con quella turba grama e francesco d accorso anche e vedervi s avessi avuto di tal tigna brama colui potei che dal servo de servi fu trasmutato d arno in bacchiglione dove lasciò li mal protesi nervi\\ndi più direi ma l venire e l sermone più lungo esser non può però ch i veggio là surger nuovo fummo del sabbione\\ngente vien con la quale esser non deggio\\nsieti raccomandato il mio tesoro nel qual io vivo ancora e più non cheggio\\npoi si rivolse e parve di coloro che corrono a verona il drappo verde per la campagna e parve di costoro quelli che vince non colui che perde\\ngià era in loco onde s udia l rimbombo de l acqua che cadea ne l altro giro simile a quel che l arnie fanno rombo quando tre ombre insieme si partiro correndo d una torma che passava sotto la pioggia de l aspro martiro\\nvenian ver noi e ciascuna gridava sòstati tu ch a l abito ne sembri esser alcun di nostra terra prava\\nahimè che piaghe vidi ne lor membri ricenti e vecchie da le fiamme incese ancor men duol pur ch i me ne rimembri\\na le lor grida il mio dottor s attese volse l viso ver me e or aspetta disse a costor si vuole esser cortese\\ne se non fosse il foco che saetta la natura del loco i dicerei che meglio stesse a te che a lor la fretta\\nricominciar come noi restammo ei l antico verso e quando a noi fuor giunti fenno una rota di sé tutti e trei\\nqual sogliono i campion far nudi e unti avvisando lor presa e lor vantaggio prima che sien tra lor battuti e punti così rotando ciascuno il visaggio drizzava a me sì che n contraro il collo faceva ai piè continüo vïaggio\\ne se miseria d esto loco sollo rende in dispetto noi e nostri prieghi cominciò l uno e l tinto aspetto e brollo la fama nostra il tuo animo pieghi a dirne chi tu se che i vivi piedi così sicuro per lo nferno freghi\\nquesti l orme di cui pestar mi vedi tutto che nudo e dipelato vada fu di grado maggior che tu non credi nepote fu de la buona gualdrada guido guerra ebbe nome e in sua vita fece col senno assai e con la spada\\nl altro ch appresso me la rena trita è tegghiaio aldobrandi la cui voce nel mondo sù dovria esser gradita\\ne io che posto son con loro in croce iacopo rusticucci fui e certo la fiera moglie più ch altro mi nuoce\\ns i fossi stato dal foco coperto gittato mi sarei tra lor di sotto e credo che l dottor l avria sofferto ma perch io mi sarei brusciato e cotto vinse paura la mia buona voglia che di loro abbracciar mi facea ghiotto\\npoi cominciai non dispetto ma doglia la vostra condizion dentro mi fisse tanta che tardi tutta si dispoglia tosto che questo mio segnor mi disse parole per le quali i mi pensai che qual voi siete tal gente venisse\\ndi vostra terra sono e sempre mai l ovra di voi e li onorati nomi con affezion ritrassi e ascoltai\\nlascio lo fele e vo per dolci pomi promessi a me per lo verace duca ma nfino al centro pria convien ch i tomi\\nse lungamente l anima conduca le membra tue rispuose quelli ancora e se la fama tua dopo te luca cortesia e valor dì se dimora ne la nostra città sì come suole o se del tutto se n è gita fora ché guiglielmo borsiere il qual si duole con noi per poco e va là coi compagni assai ne cruccia con le sue parole\\nla gente nuova e i sùbiti guadagni orgoglio e dismisura han generata fiorenza in te sì che tu già ten piagni\\ncosì gridai con la faccia levata e i tre che ciò inteser per risposta guardar l un l altro com al ver si guata\\nse l altre volte sì poco ti costa rispuoser tutti il satisfare altrui felice te se sì parli a tua posta però se campi d esti luoghi bui e torni a riveder le belle stelle quando ti gioverà dicere i fui fa che di noi a la gente favelle\\nindi rupper la rota e a fuggirsi ali sembiar le gambe loro isnelle\\nun amen non saria possuto dirsi tosto così com e fuoro spariti per ch al maestro parve di partirsi\\nio lo seguiva e poco eravam iti che l suon de l acqua n era sì vicino che per parlar saremmo a pena uditi\\ncome quel fiume c ha proprio cammino prima dal monte viso nver levante da la sinistra costa d apennino che si chiama acquacheta suso avante che si divalli giù nel basso letto e a forlì di quel nome è vacante rimbomba là sovra san benedetto de l alpe per cadere ad una scesa ove dovea per mille esser recetto così giù d una ripa discoscesa trovammo risonar quell acqua tinta sì che n poc ora avria l orecchia offesa\\nio avea una corda intorno cinta e con essa pensai alcuna volta prender la lonza a la pelle dipinta\\nposcia ch io l ebbi tutta da me sciolta sì come l duca m avea comandato porsila a lui aggroppata e ravvolta\\nond ei si volse inver lo destro lato e alquanto di lunge da la sponda la gittò giuso in quell alto burrato\\ne pur convien che novità risponda dicea fra me medesmo al novo cenno che l maestro con l occhio sì seconda\\nahi quanto cauti li uomini esser dienno presso a color che non veggion pur l ovra ma per entro i pensier miran col senno el disse a me tosto verrà di sovra ciò ch io attendo e che il tuo pensier sogna tosto convien ch al tuo viso si scovra\\nsempre a quel ver c ha faccia di menzogna de l uom chiuder le labbra fin ch el puote però che sanza colpa fa vergogna ma qui tacer nol posso e per le note di questa comedìa lettor ti giuro s elle non sien di lunga grazia vòte ch i vidi per quell aere grosso e scuro venir notando una figura in suso maravigliosa ad ogne cor sicuro sì come torna colui che va giuso talora a solver l àncora ch aggrappa o scoglio o altro che nel mare è chiuso che n sù si stende e da piè si rattrappa\\necco la fiera con la coda aguzza che passa i monti e rompe i muri e l armi ecco colei che tutto l mondo appuzza\\nsì cominciò lo mio duca a parlarmi e accennolle che venisse a proda vicino al fin d i passeggiati marmi\\ne quella sozza imagine di froda sen venne e arrivò la testa e l busto ma n su la riva non trasse la coda\\nla faccia sua era faccia d uom giusto tanto benigna avea di fuor la pelle e d un serpente tutto l altro fusto due branche avea pilose insin l ascelle lo dosso e l petto e ambedue le coste dipinti avea di nodi e di rotelle\\ncon più color sommesse e sovraposte non fer mai drappi tartari né turchi né fuor tai tele per aragne imposte\\ncome talvolta stanno a riva i burchi che parte sono in acqua e parte in terra e come là tra li tedeschi lurchi lo bivero s assetta a far sua guerra così la fiera pessima si stava su l orlo ch è di pietra e l sabbion serra\\nnel vano tutta sua coda guizzava torcendo in sù la venenosa forca ch a guisa di scorpion la punta armava\\nlo duca disse or convien che si torca la nostra via un poco insino a quella bestia malvagia che colà si corca\\nperò scendemmo a la destra mammella e diece passi femmo in su lo stremo per ben cessar la rena e la fiammella\\ne quando noi a lei venuti semo poco più oltre veggio in su la rena gente seder propinqua al loco scemo\\nquivi l maestro acciò che tutta piena esperïenza d esto giron porti mi disse va e vedi la lor mena\\nli tuoi ragionamenti sian là corti mentre che torni parlerò con questa che ne conceda i suoi omeri forti\\ncosì ancor su per la strema testa di quel settimo cerchio tutto solo andai dove sedea la gente mesta\\nper li occhi fora scoppiava lor duolo di qua di là soccorrien con le mani quando a vapori e quando al caldo suolo non altrimenti fan di state i cani or col ceffo or col piè quando son morsi o da pulci o da mosche o da tafani\\npoi che nel viso a certi li occhi porsi ne quali l doloroso foco casca non ne conobbi alcun ma io m accorsi che dal collo a ciascun pendea una tasca ch avea certo colore e certo segno e quindi par che l loro occhio si pasca\\ne com io riguardando tra lor vegno in una borsa gialla vidi azzurro che d un leone avea faccia e contegno\\npoi procedendo di mio sguardo il curro vidine un altra come sangue rossa mostrando un oca bianca più che burro\\ne un che d una scrofa azzurra e grossa segnato avea lo suo sacchetto bianco mi disse che fai tu in questa fossa or te ne va e perché se vivo anco sappi che l mio vicin vitalïano sederà qui dal mio sinistro fianco\\ncon questi fiorentin son padoano spesse fïate mi ntronan li orecchi gridando vegna l cavalier sovrano che recherà la tasca con tre becchi\\nqui distorse la bocca e di fuor trasse la lingua come bue che l naso lecchi\\ne io temendo no l più star crucciasse lui che di poco star m avea mmonito torna mi in dietro da l anime lasse\\ntrova il duca mio ch era salito già su la groppa del fiero animale e disse a me or sie forte e ardito\\nomai si scende per sì fatte scale monta dinanzi ch i voglio esser mezzo sì che la coda non possa far male\\nqual è colui che sì presso ha l riprezzo de la quartana c ha già l unghie smorte e triema tutto pur guardando l rezzo tal divenn io a le parole porte ma vergogna mi fé le sue minacce che innanzi a buon segnor fa servo forte\\ni m assettai in su quelle spallacce sì volli dir ma la voce non venne com io credetti fa che tu m abbracce\\nma esso ch altra volta mi sovvenne ad altro forse tosto ch i montai con le braccia m avvinse e mi sostenne e disse gerïon moviti omai le rote larghe e lo scender sia poco pensa la nova soma che tu hai\\ncome la navicella esce di loco in dietro in dietro sì quindi si tolse e poi ch al tutto si sentì a gioco là v era l petto la coda rivolse e quella tesa come anguilla mosse e con le branche l aere a sé raccolse\\nmaggior paura non credo che fosse quando fetonte abbandonò li freni per che l ciel come pare ancor si cosse né quando icaro misero le reni sentì spennar per la scaldata cera gridando il padre a lui mala via tieni che fu la mia quando vidi ch i era ne l aere d ogne parte e vidi spenta ogne veduta fuor che de la fera\\nella sen va notando lenta lenta rota e discende ma non me n accorgo se non che al viso e di sotto mi venta\\nio sentia già da la man destra il gorgo far sotto noi un orribile scroscio per che con li occhi n giù la testa sporgo\\nallor fu io più timido a lo stoscio però ch i vidi fuochi e senti pianti ond io tremando tutto mi raccoscio\\ne vidi poi ché nol vedea davanti lo scendere e l girar per li gran mali che s appressavan da diversi canti\\ncome l falcon ch è stato assai su l ali che sanza veder logoro o uccello fa dire al falconiere omè tu cali discende lasso onde si move isnello per cento rote e da lunge si pone dal suo maestro disdegnoso e fello così ne puose al fondo gerïone al piè al piè de la stagliata rocca e discarcate le nostre persone si dileguò come da corda cocca\\nluogo è in inferno detto malebolge tutto di pietra di color ferrigno come la cerchia che dintorno il volge\\nnel dritto mezzo del campo maligno vaneggia un pozzo assai largo e profondo di cui suo loco dicerò l ordigno\\nquel cinghio che rimane adunque è tondo tra l pozzo e l piè de l alta ripa dura e ha distinto in dieci valli il fondo\\nquale dove per guardia de le mura più e più fossi cingon li castelli la parte dove son rende figura tale imagine quivi facean quelli e come a tai fortezze da lor sogli a la ripa di fuor son ponticelli così da imo de la roccia scogli movien che ricidien li argini e fossi infino al pozzo che i tronca e raccogli\\nin questo luogo de la schiena scossi di gerïon trovammoci e l poeta tenne a sinistra e io dietro mi mossi\\na la man destra vidi nova pieta novo tormento e novi frustatori di che la prima bolgia era repleta\\nnel fondo erano ignudi i peccatori dal mezzo in qua ci venien verso l volto di là con noi ma con passi maggiori come i roman per l essercito molto l anno del giubileo su per lo ponte hanno a passar la gente modo colto che da l un lato tutti hanno la fronte verso l castello e vanno a santo pietro da l altra sponda vanno verso l monte\\ndi qua di là su per lo sasso tetro vidi demon cornuti con gran ferze che li battien crudelmente di retro\\nahi come facean lor levar le berze a le prime percosse già nessuno le seconde aspettava né le terze\\nmentr io andava li occhi miei in uno furo scontrati e io sì tosto dissi già di veder costui non son digiuno\\nper ch ïo a figurarlo i piedi affissi e l dolce duca meco si ristette e assentio ch alquanto in dietro gissi\\ne quel frustato celar si credette bassando l viso ma poco li valse ch io dissi o tu che l occhio a terra gette se le fazion che porti non son false venedico se tu caccianemico\\nma che ti mena a sì pungenti salse\\ned elli a me mal volontier lo dico ma sforzami la tua chiara favella che mi fa sovvenir del mondo antico\\ni fui colui che la ghisolabella condussi a far la voglia del marchese come che suoni la sconcia novella\\ne non pur io qui piango bolognese anzi n è questo loco tanto pieno che tante lingue non son ora apprese a dicer sipa tra sàvena e reno e se di ciò vuoi fede o testimonio rècati a mente il nostro avaro seno\\ncosì parlando il percosse un demonio de la sua scurïada e disse via ruffian qui non son femmine da conio\\ni mi raggiunsi con la scorta mia poscia con pochi passi divenimmo là v uno scoglio de la ripa uscia\\nassai leggeramente quel salimmo e vòlti a destra su per la sua scheggia da quelle cerchie etterne ci partimmo\\nquando noi fummo là dov el vaneggia di sotto per dar passo a li sferzati lo duca disse attienti e fa che feggia lo viso in te di quest altri mal nati ai quali ancor non vedesti la faccia però che son con noi insieme andati\\ndel vecchio ponte guardavam la traccia che venìa verso noi da l altra banda e che la ferza similmente scaccia\\ne l buon maestro sanza mia dimanda mi disse guarda quel grande che vene e per dolor non par lagrime spanda quanto aspetto reale ancor ritene quelli è iasón che per cuore e per senno li colchi del monton privati féne\\nello passò per l isola di lenno poi che l ardite femmine spietate tutti li maschi loro a morte dienno\\nivi con segni e con parole ornate isifile ingannò la giovinetta che prima avea tutte l altre ingannate\\nlasciolla quivi gravida soletta tal colpa a tal martiro lui condanna e anche di medea si fa vendetta\\ncon lui sen va chi da tal parte inganna e questo basti de la prima valle sapere e di color che n sé assanna\\ngià eravam là ve lo stretto calle con l argine secondo s incrocicchia e fa di quello ad un altr arco spalle\\nquindi sentimmo gente che si nicchia ne l altra bolgia e che col muso scuffa e sé medesma con le palme picchia\\nle ripe eran grommate d una muffa per l alito di giù che vi s appasta che con li occhi e col naso facea zuffa\\nlo fondo è cupo sì che non ci basta loco a veder sanza montare al dosso de l arco ove lo scoglio più sovrasta\\nquivi venimmo e quindi giù nel fosso vidi gente attuffata in uno sterco che da li uman privadi parea mosso\\ne mentre ch io là giù con l occhio cerco vidi un col capo sì di merda lordo che non parëa s era laico o cherco\\nquei mi sgridò perché se tu sì gordo di riguardar più me che li altri brutti\\ne io a lui perché se ben ricordo già t ho veduto coi capelli asciutti e se alessio interminei da lucca però t adocchio più che li altri tutti\\ned elli allor battendosi la zucca qua giù m hanno sommerso le lusinghe ond io non ebbi mai la lingua stucca\\nappresso ciò lo duca fa che pinghe mi disse il viso un poco più avante sì che la faccia ben con l occhio attinghe di quella sozza e scapigliata fante che là si graffia con l unghie merdose e or s accoscia e ora è in piedi stante\\ntaïde è la puttana che rispuose al drudo suo quando disse ho io grazie grandi apo te anzi maravigliose\\ne quinci sian le nostre viste sazie\\no simon mago o miseri seguaci che le cose di dio che di bontate deon essere spose e voi rapaci per oro e per argento avolterate or convien che per voi suoni la tromba però che ne la terza bolgia state\\ngià eravamo a la seguente tomba montati de lo scoglio in quella parte ch a punto sovra mezzo l fosso piomba\\no somma sapïenza quanta è l arte che mostri in cielo in terra e nel mal mondo e quanto giusto tua virtù comparte io vidi per le coste e per lo fondo piena la pietra livida di fóri d un largo tutti e ciascun era tondo\\nnon mi parean men ampi né maggiori che que che son nel mio bel san giovanni fatti per loco d i battezzatori l un de li quali ancor non è molt anni rupp io per un che dentro v annegava e questo sia suggel ch ogn omo sganni\\nfuor de la bocca a ciascun soperchiava d un peccator li piedi e de le gambe infino al grosso e l altro dentro stava\\nle piante erano a tutti accese intrambe per che sì forte guizzavan le giunte che spezzate averien ritorte e strambe\\nqual suole il fiammeggiar de le cose unte muoversi pur su per la strema buccia tal era lì dai calcagni a le punte\\nchi è colui maestro che si cruccia guizzando più che li altri suoi consorti diss io e cui più roggia fiamma succia\\ned elli a me se tu vuo ch i ti porti là giù per quella ripa che più giace da lui saprai di sé e de suoi torti\\ne io tanto m è bel quanto a te piace tu se segnore e sai ch i non mi parto dal tuo volere e sai quel che si tace\\nallor venimmo in su l argine quarto volgemmo e discendemmo a mano stanca là giù nel fondo foracchiato e arto\\nlo buon maestro ancor de la sua anca non mi dipuose sì mi giunse al rotto di quel che si piangeva con la zanca\\no qual che se che l di sù tien di sotto anima trista come pal commessa comincia io a dir se puoi fa motto\\nio stava come l frate che confessa lo perfido assessin che poi ch è fitto richiama lui per che la morte cessa\\ned el gridò se tu già costì ritto se tu già costì ritto bonifazio di parecchi anni mi mentì lo scritto\\nse tu sì tosto di quell aver sazio per lo qual non temesti tòrre a nganno la bella donna e poi di farne strazio\\ntal mi fec io quai son color che stanno per non intender ciò ch è lor risposto quasi scornati e risponder non sanno\\nallor virgilio disse dilli tosto non son colui non son colui che credi e io rispuosi come a me fu imposto\\nper che lo spirto tutti storse i piedi poi sospirando e con voce di pianto mi disse dunque che a me richiedi se di saper ch i sia ti cal cotanto che tu abbi però la ripa corsa sappi ch i fui vestito del gran manto e veramente fui figliuol de l orsa cupido sì per avanzar li orsatti che sù l avere e qui me misi in borsa\\ndi sotto al capo mio son li altri tratti che precedetter me simoneggiando per le fessure de la pietra piatti\\nlà giù cascherò io altresì quando verrà colui ch i credea che tu fossi allor ch i feci l sùbito dimando\\nma più è l tempo già che i piè mi cossi e ch i son stato così sottosopra ch el non starà piantato coi piè rossi ché dopo lui verrà di più laida opra di ver ponente un pastor sanza legge tal che convien che lui e me ricuopra\\nnuovo iasón sarà di cui si legge ne maccabei e come a quel fu molle suo re così fia lui chi francia regge\\nio non so s i mi fui qui troppo folle ch i pur rispuosi lui a questo metro deh or mi dì quanto tesoro volle nostro segnore in prima da san pietro ch ei ponesse le chiavi in sua balìa certo non chiese se non viemmi retro\\nné pier né li altri tolsero a matia oro od argento quando fu sortito al loco che perdé l anima ria\\nperò ti sta ché tu se ben punito e guarda ben la mal tolta moneta ch esser ti fece contra carlo ardito\\ne se non fosse ch ancor lo mi vieta la reverenza de le somme chiavi che tu tenesti ne la vita lieta io userei parole ancor più gravi ché la vostra avarizia il mondo attrista calcando i buoni e sollevando i pravi\\ndi voi pastor s accorse il vangelista quando colei che siede sopra l acque puttaneggiar coi regi a lui fu vista quella che con le sette teste nacque e da le diece corna ebbe argomento fin che virtute al suo marito piacque\\nfatto v avete dio d oro e d argento e che altro è da voi a l idolatre se non ch elli uno e voi ne orate cento ahi costantin di quanto mal fu matre non la tua conversion ma quella dote che da te prese il primo ricco patre\\ne mentr io li cantava cotai note o ira o coscïenza che l mordesse forte spingava con ambo le piote\\ni credo ben ch al mio duca piacesse con sì contenta labbia sempre attese lo suon de le parole vere espresse\\nperò con ambo le braccia mi prese e poi che tutto su mi s ebbe al petto rimontò per la via onde discese\\nné si stancò d avermi a sé distretto sì men portò sovra l colmo de l arco che dal quarto al quinto argine è tragetto\\nquivi soavemente spuose il carco soave per lo scoglio sconcio ed erto che sarebbe a le capre duro varco\\nindi un altro vallon mi fu scoperto\\ndi nova pena mi conven far versi e dar matera al ventesimo canto de la prima canzon ch è d i sommersi\\nio era già disposto tutto quanto a riguardar ne lo scoperto fondo che si bagnava d angoscioso pianto e vidi gente per lo vallon tondo venir tacendo e lagrimando al passo che fanno le letane in questo mondo\\ncome l viso mi scese in lor più basso mirabilmente apparve esser travolto ciascun tra l mento e l principio del casso ché da le reni era tornato l volto e in dietro venir li convenia perché l veder dinanzi era lor tolto\\nforse per forza già di parlasia si travolse così alcun del tutto ma io nol vidi né credo che sia\\nse dio ti lasci lettor prender frutto di tua lezione or pensa per te stesso com io potea tener lo viso asciutto quando la nostra imagine di presso vidi sì torta che l pianto de li occhi le natiche bagnava per lo fesso\\ncerto io piangea poggiato a un de rocchi del duro scoglio sì che la mia scorta mi disse ancor se tu de li altri sciocchi qui vive la pietà quand è ben morta chi è più scellerato che colui che al giudicio divin passion comporta drizza la testa drizza e vedi a cui s aperse a li occhi d i teban la terra per ch ei gridavan tutti dove rui anfïarao perché lasci la guerra\\ne non restò di ruinare a valle fino a minòs che ciascheduno afferra\\nmira c ha fatto petto de le spalle perché volle veder troppo davante di retro guarda e fa retroso calle\\nvedi tiresia che mutò sembiante quando di maschio femmina divenne cangiandosi le membra tutte quante e prima poi ribatter li convenne li duo serpenti avvolti con la verga che rïavesse le maschili penne\\naronta è quel ch al ventre li s atterga che ne monti di luni dove ronca lo carrarese che di sotto alberga ebbe tra bianchi marmi la spelonca per sua dimora onde a guardar le stelle e l mar non li era la veduta tronca\\ne quella che ricuopre le mammelle che tu non vedi con le trecce sciolte e ha di là ogne pilosa pelle manto fu che cercò per terre molte poscia si puose là dove nacqu io onde un poco mi piace che m ascolte\\nposcia che l padre suo di vita uscìo e venne serva la città di baco questa gran tempo per lo mondo gio\\nsuso in italia bella giace un laco a piè de l alpe che serra lamagna sovra tiralli c ha nome benaco\\nper mille fonti credo e più si bagna tra garda e val camonica e pennino de l acqua che nel detto laco stagna\\nloco è nel mezzo là dove l trentino pastore e quel di brescia e l veronese segnar poria s e fesse quel cammino\\nsiede peschiera bello e forte arnese da fronteggiar bresciani e bergamaschi ove la riva ntorno più discese\\nivi convien che tutto quanto caschi ciò che n grembo a benaco star non può e fassi fiume giù per verdi paschi\\ntosto che l acqua a correr mette co non più benaco ma mencio si chiama fino a governol dove cade in po\\nnon molto ha corso ch el trova una lama ne la qual si distende e la mpaluda e suol di state talor essere grama\\nquindi passando la vergine cruda vide terra nel mezzo del pantano sanza coltura e d abitanti nuda\\nlì per fuggire ogne consorzio umano ristette con suoi servi a far sue arti e visse e vi lasciò suo corpo vano\\nli uomini poi che ntorno erano sparti s accolsero a quel loco ch era forte per lo pantan ch avea da tutte parti\\nfer la città sovra quell ossa morte e per colei che l loco prima elesse mantüa l appellar sanz altra sorte\\ngià fuor le genti sue dentro più spesse prima che la mattia da casalodi da pinamonte inganno ricevesse\\nperò t assenno che se tu mai odi originar la mia terra altrimenti la verità nulla menzogna frodi\\ne io maestro i tuoi ragionamenti mi son sì certi e prendon sì mia fede che li altri mi sarien carboni spenti\\nma dimmi de la gente che procede se tu ne vedi alcun degno di nota ché solo a ciò la mia mente rifiede\\nallor mi disse quel che da la gota porge la barba in su le spalle brune grecia fu di maschi vòta sì ch a pena rimaser per le augure e diede l punto con calcanta in aulide a tagliar la prima fune\\neuripilo ebbe nome e così l canta l alta mia tragedìa in alcun loco ben lo sai tu che la sai tutta quanta\\nquell altro che ne fianchi è così poco michele scotto fu che veramente de le magiche frode seppe l gioco\\nvedi guido bonatti vedi asdente ch avere inteso al cuoio e a lo spago ora vorrebbe ma tardi si pente\\nvedi le triste che lasciaron l ago la spuola e l fuso e fecersi ndivine fecer malie con erbe e con imago\\nma vienne omai ché già tiene l confine d amendue li emisperi e tocca l onda sotto sobilia caino e le spine e già iernotte fu la luna tonda ben ten de ricordar ché non ti nocque alcuna volta per la selva fonda\\nsì mi parlava e andavamo introcque\\ncosì di ponte in ponte altro parlando che la mia comedìa cantar non cura venimmo e tenavamo l colmo quando restammo per veder l altra fessura di malebolge e li altri pianti vani e vidila mirabilmente oscura\\nquale ne l arzanà de viniziani bolle l inverno la tenace pece a rimpalmare i legni lor non sani ché navicar non quella vece chi fa suo legno novo e chi ristoppa le coste a quel che più vïaggi fece chi ribatte da proda e chi da poppa altri fa remi e altri volge sarte chi terzeruolo e artimon tal non per foco ma per divin arte bollia là giuso una pegola spessa che nviscava la ripa d ogne parte\\ni vedea lei ma non vedëa in essa mai che le bolle che l bollor levava e gonfiar tutta e riseder compressa\\nmentr io là giù fisamente mirava lo duca mio dicendo guarda guarda mi trasse a sé del loco dov io stava\\nallor mi volsi come l uom cui tarda di veder quel che li convien fuggire e cui paura sùbita sgagliarda che per veder non indugia l partire e vidi dietro a noi un diavol nero correndo su per lo scoglio venire\\nahi quant elli era ne l aspetto fero e quanto mi parea ne l atto acerbo con l ali aperte e sovra i piè leggero l omero suo ch era aguto e superbo carcava un peccator con ambo l anche e quei tenea de piè ghermito l nerbo\\ndel nostro ponte disse o malebranche ecco un de li anzïan di santa zita mettetel sotto ch i torno per anche a quella terra che n è ben fornita ogn uom v è barattier fuor che bonturo del no per li denar vi si fa ita\\nlà giù l buttò e per lo scoglio duro si volse e mai non fu mastino sciolto con tanta fretta a seguitar lo furo\\nquel s attuffò e tornò sù convolto ma i demon che del ponte avean coperchio gridar qui non ha loco il santo volto qui si nuota altrimenti che nel serchio però se tu non vuo di nostri graffi non far sopra la pegola soverchio\\npoi l addentar con più di cento raffi disser coverto convien che qui balli sì che se puoi nascosamente accaffi\\nnon altrimenti i cuoci a lor vassalli fanno attuffare in mezzo la caldaia la carne con li uncin perché non galli\\nlo buon maestro acciò che non si paia che tu ci sia mi disse giù t acquatta dopo uno scheggio ch alcun schermo t aia e per nulla offension che mi sia fatta non temer tu ch i ho le cose conte perch altra volta fui a tal baratta\\nposcia passò di là dal co del ponte e com el giunse in su la ripa sesta mestier li fu d aver sicura fronte\\ncon quel furore e con quella tempesta ch escono i cani a dosso al poverello che di sùbito chiede ove s arresta usciron quei di sotto al ponticello e volser contra lui tutt i runcigli ma el gridò nessun di voi sia fello innanzi che l uncin vostro mi pigli traggasi avante l un di voi che m oda e poi d arruncigliarmi si consigli\\ntutti gridaron vada malacoda per ch un si li altri stetter e venne a lui dicendo che li approda\\ncredi tu malacoda qui vedermi esser venuto disse l mio maestro sicuro già da tutti vostri schermi sanza voler divino e fato destro lascian andar ché nel cielo è voluto ch i mostri altrui questo cammin silvestro\\nallor li fu l orgoglio sì caduto ch e si lasciò cascar l uncino a piedi e disse a li altri omai non sia feruto\\ne l duca mio a me o tu che siedi tra li scheggion del ponte quatto quatto sicuramente omai a me ti riedi\\nper ch io mi mossi e a lui venni ratto e i diavoli si fecer tutti avanti sì ch io temetti ch ei tenesser patto così vid ïo già temer li fanti ch uscivan patteggiati di caprona veggendo sé tra nemici cotanti\\ni m accostai con tutta la persona lungo l mio duca e non torceva li occhi da la sembianza lor ch era non buona\\nei chinavan li raffi e vuo che l tocchi diceva l un con l altro in sul groppone\\ne rispondien sì fa che gliel accocchi\\nma quel demonio che tenea sermone col duca mio si volse tutto presto e disse posa posa scarmiglione\\npoi disse a noi più oltre andar per questo iscoglio non si può però che giace tutto spezzato al fondo l arco sesto\\ne se l andare avante pur vi piace andatevene su per questa grotta presso è un altro scoglio che via face\\nier più oltre cinqu ore che quest otta mille dugento con sessanta sei anni compié che qui la via fu rotta\\nio mando verso là di questi miei a riguardar s alcun se ne sciorina gite con lor che non saranno rei\\ntra ti avante alichino e calcabrina cominciò elli a dire e tu cagnazzo e barbariccia guidi la decina\\nlibicocco vegn oltre e draghignazzo cirïatto sannuto e graffiacane e farfarello e rubicante pazzo\\ncercate ntorno le boglienti pane costor sian salvi infino a l altro scheggio che tutto intero va sovra le tane\\nomè maestro che è quel ch i veggio diss io deh sanza scorta andianci soli se tu sa ir ch i per me non la cheggio\\nse tu se sì accorto come suoli non vedi tu ch e digrignan li denti e con le ciglia ne minaccian duoli\\ned elli a me non vo che tu paventi lasciali digrignar pur a lor senno ch e fanno ciò per li lessi dolenti\\nper l argine sinistro volta dienno ma prima avea ciascun la lingua stretta coi denti verso lor duca per cenno ed elli avea del cul fatto trombetta\\nio vidi già cavalier muover campo e cominciare stormo e far lor mostra e talvolta partir per loro scampo corridor vidi per la terra vostra o aretini e vidi gir gualdane fedir torneamenti e correr giostra quando con trombe e quando con campane con tamburi e con cenni di castella e con cose nostrali e con istrane né già con sì diversa cennamella cavalier vidi muover né pedoni né nave a segno di terra o di stella\\nnoi andavam con li diece demoni\\nahi fiera compagnia ma ne la chiesa coi santi e in taverna coi ghiottoni\\npur a la pegola era la mia ntesa per veder de la bolgia ogne contegno e de la gente ch entro v era incesa\\ncome i dalfini quando fanno segno a marinar con l arco de la schiena che s argomentin di campar lor legno talor così ad alleggiar la pena mostrav alcun de peccatori l dosso e nascondea in men che non balena\\ne come a l orlo de l acqua d un fosso stanno i ranocchi pur col muso fuori sì che celano i piedi e l altro grosso sì stavan d ogne parte i peccatori ma come s appressava barbariccia così si ritraén sotto i bollori\\ni vidi e anco il cor me n accapriccia uno aspettar così com elli ncontra ch una rana rimane e l altra spiccia e graffiacan che li era più di contra li arruncigliò le mpegolate chiome e trassel sù che mi parve una lontra\\ni sapea già di tutti quanti l nome sì li notai quando fuorono eletti e poi ch e si chiamaro attesi come\\no rubicante fa che tu li metti li unghioni a dosso sì che tu lo scuoi gridavan tutti insieme i maladetti\\ne io maestro mio fa se tu puoi che tu sappi chi è lo sciagurato venuto a man de li avversari suoi\\nlo duca mio li s accostò allato domandollo ond ei fosse e quei rispuose i fui del regno di navarra nato\\nmia madre a servo d un segnor mi puose che m avea generato d un ribaldo distruggitor di sé e di sue cose\\npoi fui famiglia del buon re tebaldo quivi mi misi a far baratteria di ch io rendo ragione in questo caldo\\ne cirïatto a cui di bocca uscia d ogne parte una sanna come a porco li fé sentir come l una sdruscia\\ntra male gatte era venuto l sorco ma barbariccia il chiuse con le braccia e disse state in là mentr io lo nforco\\ne al maestro mio volse la faccia domanda disse ancor se più disii saper da lui prima ch altri l disfaccia\\nlo duca dunque or dì de li altri rii conosci tu alcun che sia latino sotto la pece\\ne quelli i mi partii poco è da un che fu di là vicino\\ncosì foss io ancor con lui coperto ch i non temerei unghia né uncino\\ne libicocco troppo avem sofferto disse e preseli l braccio col runciglio sì che stracciando ne portò un lacerto\\ndraghignazzo anco i volle dar di piglio giuso a le gambe onde l decurio loro si volse intorno intorno con mal piglio\\nquand elli un poco rappaciati fuoro a lui ch ancor mirava sua ferita domandò l duca mio sanza dimoro chi fu colui da cui mala partita di che facesti per venire a proda\\ned ei rispuose fu frate gomita quel di gallura vasel d ogne froda ch ebbe i nemici di suo donno in mano e fé sì lor che ciascun se ne loda\\ndanar si tolse e lasciolli di piano sì com e dice e ne li altri offici anche barattier fu non picciol ma sovrano\\nusa con esso donno michel zanche di logodoro e a dir di sardigna le lingue lor non si sentono stanche\\nomè vedete l altro che digrigna i direi anche ma i temo ch ello non s apparecchi a grattarmi la tigna\\ne l gran proposto vòlto a farfarello che stralunava li occhi per fedire disse fatti n costà malvagio uccello\\nse voi volete vedere o udire ricominciò lo spaürato appresso toschi o lombardi io ne farò venire ma stieno i malebranche un poco in cesso sì ch ei non teman de le lor vendette e io seggendo in questo loco stesso per un ch io son ne farò venir sette quand io suffolerò com è nostro uso di fare allor che fori alcun si mette\\ncagnazzo a cotal motto levò l muso crollando l capo e disse odi malizia ch elli ha pensata per gittarsi giuso\\nond ei ch avea lacciuoli a gran divizia rispuose malizioso son io troppo quand io procuro a mia maggior trestizia\\nalichin non si tenne e di rintoppo a li altri disse a lui se tu ti cali io non ti verrò dietro di gualoppo ma batterò sovra la pece l ali\\nlascisi l collo e sia la ripa scudo a veder se tu sol più di noi vali\\no tu che leggi udirai nuovo ludo ciascun da l altra costa li occhi volse quel prima ch a ciò fare era più crudo\\nlo navarrese ben suo tempo colse fermò le piante a terra e in un punto saltò e dal proposto lor si sciolse\\ndi che ciascun di colpa fu compunto ma quei più che cagion fu del difetto però si mosse e gridò tu se giunto\\nma poco i valse ché l ali al sospetto non potero avanzar quelli andò sotto e quei drizzò volando suso il petto non altrimenti l anitra di botto quando l falcon s appressa giù s attuffa ed ei ritorna sù crucciato e rotto\\nirato calcabrina de la buffa volando dietro li tenne invaghito che quei campasse per aver la zuffa e come l barattier fu disparito così volse li artigli al suo compagno e fu con lui sopra l fosso ghermito\\nma l altro fu bene sparvier grifagno ad artigliar ben lui e amendue cadder nel mezzo del bogliente stagno\\nlo caldo sghermitor sùbito fue ma però di levarsi era neente sì avieno inviscate l ali sue\\nbarbariccia con li altri suoi dolente quattro ne fé volar da l altra costa con tutt i raffi e assai prestamente di qua di là discesero a la posta porser li uncini verso li mpaniati ch eran già cotti dentro da la crosta\\ne noi lasciammo lor così mpacciati\\ntaciti soli sanza compagnia n andavam l un dinanzi e l altro dopo come frati minor vanno per via\\nvòlt era in su la favola d isopo lo mio pensier per la presente rissa dov el parlò de la rana e del topo ché più non si pareggia mo e issa che l un con l altro fa se ben s accoppia principio e fine con la mente fissa\\ne come l un pensier de l altro scoppia così nacque di quello un altro poi che la prima paura mi fé doppia\\nio pensava così questi per noi sono scherniti con danno e con beffa sì fatta ch assai credo che lor nòi\\nse l ira sovra l mal voler s aggueffa ei ne verranno dietro più crudeli che l cane a quella lievre ch elli acceffa\\ngià mi sentia tutti arricciar li peli de la paura e stava in dietro intento quand io dissi maestro se non celi te e me tostamente i ho pavento d i malebranche\\nnoi li avem già dietro io li magino sì che già li sento\\ne quei s i fossi di piombato vetro l imagine di fuor tua non trarrei più tosto a me che quella dentro mpetro\\npur mo venieno i tuo pensier tra miei con simile atto e con simile faccia sì che d intrambi un sol consiglio fei\\ns elli è che sì la destra costa giaccia che noi possiam ne l altra bolgia scendere noi fuggirem l imaginata caccia\\ngià non compié di tal consiglio rendere ch io li vidi venir con l ali tese non molto lungi per volerne prendere\\nlo duca mio di sùbito mi prese come la madre ch al romore è desta e vede presso a sé le fiamme accese che prende il figlio e fugge e non s arresta avendo più di lui che di sé cura tanto che solo una camiscia vesta e giù dal collo de la ripa dura supin si diede a la pendente roccia che l un de lati a l altra bolgia tura\\nnon corse mai sì tosto acqua per doccia a volger ruota di molin terragno quand ella più verso le pale approccia come l maestro mio per quel vivagno portandosene me sovra l suo petto come suo figlio non come compagno\\na pena fuoro i piè suoi giunti al letto del fondo giù ch e furon in sul colle sovresso noi ma non lì era sospetto ché l alta provedenza che lor volle porre ministri de la fossa quinta poder di partirs indi a tutti tolle\\nlà giù trovammo una gente dipinta che giva intorno assai con lenti passi piangendo e nel sembiante stanca e vinta\\nelli avean cappe con cappucci bassi dinanzi a li occhi fatte de la taglia che in clugnì per li monaci fassi\\ndi fuor dorate son sì ch elli abbaglia ma dentro tutte piombo e gravi tanto che federigo le mettea di paglia\\noh in etterno faticoso manto noi ci volgemmo ancor pur a man manca con loro insieme intenti al tristo pianto ma per lo peso quella gente stanca venìa sì pian che noi eravam nuovi di compagnia ad ogne mover d anca\\nper ch io al duca mio fa che tu trovi alcun ch al fatto o al nome si conosca e li occhi sì andando intorno movi\\ne un che ntese la parola tosca di retro a noi gridò tenete i piedi voi che correte sì per l aura fosca forse ch avrai da me quel che tu chiedi\\nonde l duca si volse e disse aspetta e poi secondo il suo passo procedi\\nristetti e vidi due mostrar gran fretta de l animo col viso d esser meco ma tardavali l carco e la via stretta\\nquando fuor giunti assai con l occhio bieco mi rimiraron sanza far parola poi si volsero in sé e dicean seco costui par vivo a l atto de la gola e s e son morti per qual privilegio vanno scoperti de la grave stola\\npoi disser me o tosco ch al collegio de l ipocriti tristi se venuto dir chi tu se non avere in dispregio\\ne io a loro i fui nato e cresciuto sovra l bel fiume d arno a la gran villa e son col corpo ch i ho sempre avuto\\nma voi chi siete a cui tanto distilla quant i veggio dolor giù per le guance e che pena è in voi che sì sfavilla\\ne l un rispuose a me le cappe rance son di piombo sì grosse che li pesi fan così cigolar le lor bilance\\nfrati godenti fummo e bolognesi io catalano e questi loderingo nomati e da tua terra insieme presi come suole esser tolto un uom solingo per conservar sua pace e fummo tali ch ancor si pare intorno dal gardingo\\nio cominciai o frati i vostri mali\\nma più non dissi ch a l occhio mi corse un crucifisso in terra con tre pali\\nquando mi vide tutto si distorse soffiando ne la barba con sospiri e l frate catalan ch a ciò s accorse mi disse quel confitto che tu miri consigliò i farisei che convenia porre un uom per lo popolo a martìri\\nattraversato è nudo ne la via come tu vedi ed è mestier ch el senta qualunque passa come pesa pria\\ne a tal modo il socero si stenta in questa fossa e li altri dal concilio che fu per li giudei mala sementa\\nallor vid io maravigliar virgilio sovra colui ch era disteso in croce tanto vilmente ne l etterno essilio\\nposcia drizzò al frate cotal voce non vi dispiaccia se vi lece dirci s a la man destra giace alcuna foce onde noi amendue possiamo uscirci sanza costrigner de li angeli neri che vegnan d esto fondo a dipartirci\\nrispuose adunque più che tu non speri s appressa un sasso che da la gran cerchia si move e varca tutt i vallon feri salvo che n questo è rotto e nol coperchia montar potrete su per la ruina che giace in costa e nel fondo soperchia\\nlo duca stette un poco a testa china poi disse mal contava la bisogna colui che i peccator di qua uncina\\ne l frate io udi già dire a bologna del diavol vizi assai tra quali udi ch elli è bugiardo e padre di menzogna\\nappresso il duca a gran passi sen gì turbato un poco d ira nel sembiante ond io da li ncarcati mi parti dietro a le poste de le care piante\\nin quella parte del giovanetto anno che l sole i crin sotto l aquario tempra e già le notti al mezzo dì sen vanno quando la brina in su la terra assempra l imagine di sua sorella bianca ma poco dura a la sua penna tempra lo villanello a cui la roba manca si leva e guarda e vede la campagna biancheggiar tutta ond ei si batte l anca ritorna in casa e qua e là si lagna come l tapin che non sa che si faccia poi riede e la speranza ringavagna veggendo l mondo aver cangiata faccia in poco d ora e prende suo vincastro e fuor le pecorelle a pascer caccia\\ncosì mi fece sbigottir lo mastro quand io li vidi sì turbar la fronte e così tosto al mal giunse lo mpiastro ché come noi venimmo al guasto ponte lo duca a me si volse con quel piglio dolce ch io vidi prima a piè del monte\\nle braccia aperse dopo alcun consiglio eletto seco riguardando prima ben la ruina e diedemi di piglio\\ne come quei ch adopera ed estima che sempre par che nnanzi si proveggia così levando me sù ver la cima d un ronchione avvisava un altra scheggia dicendo sovra quella poi t aggrappa ma tenta pria s è tal ch ella ti reggia\\nnon era via da vestito di cappa ché noi a pena ei lieve e io sospinto potavam sù montar di chiappa in chiappa\\ne se non fosse che da quel precinto più che da l altro era la costa corta non so di lui ma io sarei ben vinto\\nma perché malebolge inver la porta del bassissimo pozzo tutta pende lo sito di ciascuna valle porta che l una costa surge e l altra scende noi pur venimmo al fine in su la punta onde l ultima pietra si scoscende\\nla lena m era del polmon sì munta quand io fui sù ch i non potea più oltre anzi m assisi ne la prima giunta\\nomai convien che tu così ti spoltre disse l maestro ché seggendo in piuma in fama non si vien né sotto coltre sanza la qual chi sua vita consuma cotal vestigio in terra di sé lascia qual fummo in aere e in acqua la schiuma\\ne però leva sù vinci l ambascia con l animo che vince ogne battaglia se col suo grave corpo non s accascia\\npiù lunga scala convien che si saglia non basta da costoro esser partito\\nse tu mi ntendi or fa sì che ti vaglia\\nleva mi allor mostrandomi fornito meglio di lena ch i non mi sentia e dissi va ch i son forte e ardito\\nsu per lo scoglio prendemmo la via ch era ronchioso stretto e malagevole ed erto più assai che quel di pria\\nparlando andava per non parer fievole onde una voce uscì de l altro fosso a parole formar disconvenevole\\nnon so che disse ancor che sovra l dosso fossi de l arco già che varca quivi ma chi parlava ad ire parea mosso\\nio era vòlto in giù ma li occhi vivi non poteano ire al fondo per lo scuro per ch io maestro fa che tu arrivi da l altro cinghio e dismontiam lo muro ché com i odo quinci e non intendo così giù veggio e neente affiguro\\naltra risposta disse non ti rendo se non lo far ché la dimanda onesta si de seguir con l opera tacendo\\nnoi discendemmo il ponte da la testa dove s aggiugne con l ottava ripa e poi mi fu la bolgia manifesta e vidivi entro terribile stipa di serpenti e di sì diversa mena che la memoria il sangue ancor mi scipa\\npiù non si vanti libia con sua rena ché se chelidri iaculi e faree produce e cencri con anfisibena né tante pestilenzie né sì ree mostrò già mai con tutta l etïopia né con ciò che di sopra al mar rosso èe\\ntra questa cruda e tristissima copia corrëan genti nude e spaventate sanza sperar pertugio o elitropia con serpi le man dietro avean legate quelle ficcavan per le ren la coda e l capo ed eran dinanzi aggroppate\\ned ecco a un ch era da nostra proda s avventò un serpente che l trafisse là dove l collo a le spalle s annoda\\nné o sì tosto mai né i si scrisse com el s accese e arse e cener tutto convenne che cascando divenisse e poi che fu a terra sì distrutto la polver si raccolse per sé stessa e n quel medesmo ritornò di butto\\ncosì per li gran savi si confessa che la fenice more e poi rinasce quando al cinquecentesimo anno appressa erba né biado in sua vita non pasce ma sol d incenso lagrime e d amomo e nardo e mirra son l ultime fasce\\ne qual è quel che cade e non sa como per forza di demon ch a terra il tira o d altra oppilazion che lega l omo quando si leva che ntorno si mira tutto smarrito de la grande angoscia ch elli ha sofferta e guardando sospira tal era l peccator levato poscia\\noh potenza di dio quant è severa che cotai colpi per vendetta croscia lo duca il domandò poi chi ello era per ch ei rispuose io piovvi di toscana poco tempo è in questa gola fiera\\nvita bestial mi piacque e non umana sì come a mul ch i fui son vanni fucci bestia e pistoia mi fu degna tana\\ne ïo al duca dilli che non mucci e domanda che colpa qua giù l pinse ch io l vidi uomo di sangue e di crucci\\ne l peccator che ntese non s infinse ma drizzò verso me l animo e l volto e di trista vergogna si dipinse poi disse più mi duol che tu m hai colto ne la miseria dove tu mi vedi che quando fui de l altra vita tolto\\nio non posso negar quel che tu chiedi in giù son messo tanto perch io fui ladro a la sagrestia d i belli arredi e falsamente già fu apposto altrui\\nma perché di tal vista tu non godi se mai sarai di fuor da luoghi bui apri li orecchi al mio annunzio e odi\\npistoia in pria d i neri si dimagra poi fiorenza rinova gente e modi\\ntragge marte vapor di val di magra ch è di torbidi nuvoli involuto e con tempesta impetüosa e agra sovra campo picen fia combattuto ond ei repente spezzerà la nebbia sì ch ogne bianco ne sarà feruto\\ne detto l ho perché doler ti debbia\\nal fine de le sue parole il ladro le mani alzò con amendue le fiche gridando togli dio ch a te le squadro\\nda indi in qua mi fuor le serpi amiche perch una li s avvolse allora al collo come dicesse non vo che più diche e un altra a le braccia e rilegollo ribadendo sé stessa sì dinanzi che non potea con esse dare un crollo\\nahi pistoia pistoia ché non stanzi d incenerarti sì che più non duri poi che n mal fare il seme tuo avanzi per tutt i cerchi de lo nferno scuri non vidi spirto in dio tanto superbo non quel che cadde a tebe giù da muri\\nel si fuggì che non parlò più verbo e io vidi un centauro pien di rabbia venir chiamando ov è ov è l acerbo\\nmaremma non cred io che tante n abbia quante bisce elli avea su per la groppa infin ove comincia nostra labbia\\nsovra le spalle dietro da la coppa con l ali aperte li giacea un draco e quello affuoca qualunque s intoppa\\nlo mio maestro disse questi è caco che sotto l sasso di monte aventino di sangue fece spesse volte laco\\nnon va co suoi fratei per un cammino per lo furto che frodolente fece del grande armento ch elli ebbe a vicino onde cessar le sue opere biece sotto la mazza d ercule che forse gliene diè cento e non sentì le diece\\nmentre che sì parlava ed el trascorse e tre spiriti venner sotto noi de quai né io né l duca mio s accorse se non quando gridar chi siete voi per che nostra novella si ristette e intendemmo pur ad essi poi\\nio non li conoscea ma ei seguette come suol seguitar per alcun caso che l un nomar un altro convenette dicendo cianfa dove fia rimaso per ch io acciò che l duca stesse attento mi puosi l dito su dal mento al naso\\nse tu se or lettore a creder lento ciò ch io dirò non sarà maraviglia ché io che l vidi a pena il mi consento\\ncom io tenea levate in lor le ciglia e un serpente con sei piè si lancia dinanzi a l uno e tutto a lui s appiglia\\nco piè di mezzo li avvinse la pancia e con li anterïor le braccia prese poi li addentò e l una e l altra guancia li diretani a le cosce distese e miseli la coda tra mbedue e dietro per le ren sù la ritese\\nellera abbarbicata mai non fue ad alber sì come l orribil fiera per l altrui membra avviticchiò le sue\\npoi s appiccar come di calda cera fossero stati e mischiar lor colore né l un né l altro già parea quel ch era come procede innanzi da l ardore per lo papiro suso un color bruno che non è nero ancora e l bianco more\\nli altri due l riguardavano e ciascuno gridava omè agnel come ti muti vedi che già non se né due né uno\\ngià eran li due capi un divenuti quando n apparver due figure miste in una faccia ov eran due perduti\\nfersi le braccia due di quattro liste le cosce con le gambe e l ventre e l casso divenner membra che non fuor mai viste\\nogne primaio aspetto ivi era casso due e nessun l imagine perversa parea e tal sen gio con lento passo\\ncome l ramarro sotto la gran fersa dei dì canicular cangiando sepe folgore par se la via attraversa sì pareva venendo verso l epe de li altri due un serpentello acceso livido e nero come gran di pepe e quella parte onde prima è preso nostro alimento a l un di lor trafisse poi cadde giuso innanzi lui disteso\\nlo trafitto l mirò ma nulla disse anzi co piè fermati sbadigliava pur come sonno o febbre l assalisse\\nelli l serpente e quei lui riguardava l un per la piaga e l altro per la bocca fummavan forte e l fummo si scontrava\\ntaccia lucano ormai là dov e tocca del misero sabello e di nasidio e attenda a udir quel ch or si scocca\\ntaccia di cadmo e d aretusa ovidio ché se quello in serpente e quella in fonte converte poetando io non lo nvidio ché due nature mai a fronte a fronte non trasmutò sì ch amendue le forme a cambiar lor matera fosser pronte\\ninsieme si rispuosero a tai norme che l serpente la coda in forca fesse e l feruto ristrinse insieme l orme\\nle gambe con le cosce seco stesse s appiccar sì che n poco la giuntura non facea segno alcun che si paresse\\ntogliea la coda fessa la figura che si perdeva là e la sua pelle si facea molle e quella di là dura\\nio vidi intrar le braccia per l ascelle e i due piè de la fiera ch eran corti tanto allungar quanto accorciavan quelle\\nposcia li piè di rietro insieme attorti diventaron lo membro che l uom cela e l misero del suo n avea due porti\\nmentre che l fummo l uno e l altro vela di color novo e genera l pel suso per l una parte e da l altra il dipela l un si levò e l altro cadde giuso non torcendo però le lucerne empie sotto le quai ciascun cambiava muso\\nquel ch era dritto il trasse ver le tempie e di troppa matera ch in là venne uscir li orecchi de le gote scempie ciò che non corse in dietro e si ritenne di quel soverchio fé naso a la faccia e le labbra ingrossò quanto convenne\\nquel che giacëa il muso innanzi caccia e li orecchi ritira per la testa come face le corna la lumaccia e la lingua ch avëa unita e presta prima a parlar si fende e la forcuta ne l altro si richiude e l fummo resta\\nl anima ch era fiera divenuta suffolando si fugge per la valle e l altro dietro a lui parlando sputa\\nposcia li volse le novelle spalle e disse a l altro i vo che buoso corra com ho fatt io carpon per questo calle\\ncosì vid io la settima zavorra mutare e trasmutare e qui mi scusi la novità se fior la penna abborra\\ne avvegna che li occhi miei confusi fossero alquanto e l animo smagato non poter quei fuggirsi tanto chiusi ch i non scorgessi ben puccio sciancato ed era quel che sol di tre compagni che venner prima non era mutato l altr era quel che tu gaville piagni\\ngodi fiorenza poi che se sì grande che per mare e per terra batti l ali e per lo nferno tuo nome si spande tra li ladron trovai cinque cotali tuoi cittadini onde mi ven vergogna e tu in grande orranza non ne sali\\nma se presso al mattin del ver si sogna tu sentirai di qua da picciol tempo di quel che prato non ch altri t agogna\\ne se già fosse non saria per tempo\\ncosì foss ei da che pur esser dee ché più mi graverà com più m attempo\\nnoi ci partimmo e su per le scalee che n avea fatto iborni a scender pria rimontò l duca mio e trasse mee e proseguendo la solinga via tra le schegge e tra rocchi de lo scoglio lo piè sanza la man non si spedia\\nallor mi dolsi e ora mi ridoglio quando drizzo la mente a ciò ch io vidi e più lo ngegno affreno ch i non soglio perché non corra che virtù nol guidi sì che se stella bona o miglior cosa m ha dato l ben ch io stessi nol m invidi\\nquante l villan ch al poggio si riposa nel tempo che colui che l mondo schiara la faccia sua a noi tien meno ascosa come la mosca cede a la zanzara vede lucciole giù per la vallea forse colà dov e vendemmia e ara di tante fiamme tutta risplendea l ottava bolgia sì com io m accorsi tosto che fui là ve l fondo parea\\ne qual colui che si vengiò con li orsi vide l carro d elia al dipartire quando i cavalli al cielo erti levorsi che nol potea sì con li occhi seguire ch el vedesse altro che la fiamma sola sì come nuvoletta in sù salire tal si move ciascuna per la gola del fosso ché nessuna mostra l furto e ogne fiamma un peccatore invola\\nio stava sovra l ponte a veder surto sì che s io non avessi un ronchion preso caduto sarei giù sanz esser urto\\ne l duca che mi vide tanto atteso disse dentro dai fuochi son li spirti catun si fascia di quel ch elli è inceso\\nmaestro mio rispuos io per udirti son io più certo ma già m era avviso che così fosse e già voleva dirti chi è n quel foco che vien sì diviso di sopra che par surger de la pira dov eteòcle col fratel fu miso\\nrispuose a me là dentro si martira ulisse e dïomede e così insieme a la vendetta vanno come a l ira e dentro da la lor fiamma si geme l agguato del caval che fé la porta onde uscì de romani il gentil seme\\npiangevisi entro l arte per che morta deïdamìa ancor si duol d achille e del palladio pena vi si porta\\ns ei posson dentro da quelle faville parlar diss io maestro assai ten priego e ripriego che l priego vaglia mille che non mi facci de l attender niego fin che la fiamma cornuta qua vegna vedi che del disio ver lei mi piego\\ned elli a me la tua preghiera è degna di molta loda e io però l accetto ma fa che la tua lingua si sostegna\\nlascia parlare a me ch i ho concetto ciò che tu vuoi ch ei sarebbero schivi perch e fuor greci forse del tuo detto\\npoi che la fiamma fu venuta quivi dove parve al mio duca tempo e loco in questa forma lui parlare audivi o voi che siete due dentro ad un foco s io meritai di voi mentre ch io vissi s io meritai di voi assai o poco quando nel mondo li alti versi scrissi non vi movete ma l un di voi dica dove per lui perduto a morir gissi\\nlo maggior corno de la fiamma antica cominciò a crollarsi mormorando pur come quella cui vento affatica indi la cima qua e là menando come fosse la lingua che parlasse gittò voce di fuori e disse quando mi diparti da circe che sottrasse me più d un anno là presso a gaeta prima che sì enëa la nomasse né dolcezza di figlio né la pieta del vecchio padre né l debito amore lo qual dovea penelopè far lieta vincer potero dentro a me l ardore ch i ebbi a divenir del mondo esperto e de li vizi umani e del valore ma misi me per l alto mare aperto sol con un legno e con quella compagna picciola da la qual non fui diserto\\nl un lito e l altro vidi infin la spagna fin nel morrocco e l isola d i sardi e l altre che quel mare intorno bagna\\nio e compagni eravam vecchi e tardi quando venimmo a quella foce stretta dov ercule segnò li suoi riguardi acciò che l uom più oltre non si metta da la man destra mi lasciai sibilia da l altra già m avea lasciata setta\\no frati dissi che per cento milia perigli siete giunti a l occidente a questa tanto picciola vigilia d i nostri sensi ch è del rimanente non vogliate negar l esperïenza di retro al sol del mondo sanza gente\\nconsiderate la vostra semenza fatti non foste a viver come bruti ma per seguir virtute e canoscenza\\nli miei compagni fec io sì aguti con questa orazion picciola al cammino che a pena poscia li avrei ritenuti e volta nostra poppa nel mattino de remi facemmo ali al folle volo sempre acquistando dal lato mancino\\ntutte le stelle già de l altro polo vedea la notte e l nostro tanto basso che non surgëa fuor del marin suolo\\ncinque volte racceso e tante casso lo lume era di sotto da la luna poi che ntrati eravam ne l alto passo quando n apparve una montagna bruna per la distanza e parvemi alta tanto quanto veduta non avëa alcuna\\nnoi ci allegrammo e tosto tornò in pianto ché de la nova terra un turbo nacque e percosse del legno il primo canto\\ntre volte il fé girar con tutte l acque a la quarta levar la poppa in suso e la prora ire in giù com altrui piacque infin che l mar fu sovra noi richiuso\\ngià era dritta in sù la fiamma e queta per non dir più e già da noi sen gia con la licenza del dolce poeta quand un altra che dietro a lei venìa ne fece volger li occhi a la sua cima per un confuso suon che fuor n uscia\\ncome l bue cicilian che mugghiò prima col pianto di colui e ciò fu dritto che l avea temperato con sua lima mugghiava con la voce de l afflitto sì che con tutto che fosse di rame pur el pareva dal dolor trafitto così per non aver via né forame dal principio nel foco in suo linguaggio si convertïan le parole grame\\nma poscia ch ebber colto lor vïaggio su per la punta dandole quel guizzo che dato avea la lingua in lor passaggio udimmo dire o tu a cu io drizzo la voce e che parlavi mo lombardo dicendo istra ten va più non t adizzo perch io sia giunto forse alquanto tardo non t incresca restare a parlar meco vedi che non incresce a me e ardo se tu pur mo in questo mondo cieco caduto se di quella dolce terra latina ond io mia colpa tutta reco dimmi se romagnuoli han pace o guerra ch io fui d i monti là intra orbino e l giogo di che tever si diserra\\nio era in giuso ancora attento e chino quando il mio duca mi tentò di costa dicendo parla tu questi è latino\\ne io ch avea già pronta la risposta sanza indugio a parlare incominciai o anima che se là giù nascosta romagna tua non è e non fu mai sanza guerra ne cuor de suoi tiranni ma n palese nessuna or vi lasciai\\nravenna sta come stata è molt anni l aguglia da polenta la si cova sì che cervia ricuopre co suoi vanni\\nla terra che fé già la lunga prova e di franceschi sanguinoso mucchio sotto le branche verdi si ritrova\\ne l mastin vecchio e l nuovo da verrucchio che fecer di montagna il mal governo là dove soglion fan d i denti succhio\\nle città di lamone e di santerno conduce il lïoncel dal nido bianco che muta parte da la state al verno\\ne quella cu il savio bagna il fianco così com ella sie tra l piano e l monte tra tirannia si vive e stato franco\\nora chi se ti priego che ne conte non esser duro più ch altri sia stato se l nome tuo nel mondo tegna fronte\\nposcia che l foco alquanto ebbe rugghiato al modo suo l aguta punta mosse di qua di là e poi diè cotal fiato s i credesse che mia risposta fosse a persona che mai tornasse al mondo questa fiamma staria sanza più scosse ma però che già mai di questo fondo non tornò vivo alcun s i odo il vero sanza tema d infamia ti rispondo\\nio fui uom d arme e poi fui cordigliero credendomi sì cinto fare ammenda e certo il creder mio venìa intero se non fosse il gran prete a cui mal prenda che mi rimise ne le prime colpe e come e quare voglio che m intenda\\nmentre ch io forma fui d ossa e di polpe che la madre mi diè l opere mie non furon leonine ma di volpe\\nli accorgimenti e le coperte vie io seppi tutte e sì menai lor arte ch al fine de la terra il suono uscie\\nquando mi vidi giunto in quella parte di mia etade ove ciascun dovrebbe calar le vele e raccoglier le sarte ciò che pria mi piacëa allor m increbbe e pentuto e confesso mi rendei ahi miser lasso e giovato sarebbe\\nlo principe d i novi farisei avendo guerra presso a laterano e non con saracin né con giudei ché ciascun suo nimico era cristiano e nessun era stato a vincer acri né mercatante in terra di soldano né sommo officio né ordini sacri guardò in sé né in me quel capestro che solea fare i suoi cinti più macri\\nma come costantin chiese silvestro d entro siratti a guerir de la lebbre così mi chiese questi per maestro a guerir de la sua superba febbre domandommi consiglio e io tacetti perché le sue parole parver ebbre\\ne poi ridisse tuo cuor non sospetti finor t assolvo e tu m insegna fare sì come penestrino in terra getti\\nlo ciel poss io serrare e diserrare come tu sai però son due le chiavi che l mio antecessor non ebbe care\\nallor mi pinser li argomenti gravi là ve l tacer mi fu avviso l peggio e dissi padre da che tu mi lavi di quel peccato ov io mo cader deggio lunga promessa con l attender corto ti farà trïunfar ne l alto seggio\\nfrancesco venne poi com io fu morto per me ma un d i neri cherubini li disse non portar non mi far torto\\nvenir se ne dee giù tra miei meschini perché diede l consiglio frodolente dal quale in qua stato li sono a crini ch assolver non si può chi non si pente né pentere e volere insieme puossi per la contradizion che nol consente\\noh me dolente come mi riscossi quando mi prese dicendomi forse tu non pensavi ch io löico fossi\\na minòs mi portò e quelli attorse otto volte la coda al dosso duro e poi che per gran rabbia la si morse disse questi è d i rei del foco furo per ch io là dove vedi son perduto e sì vestito andando mi rancuro\\nquand elli ebbe l suo dir così compiuto la fiamma dolorando si partio torcendo e dibattendo l corno aguto\\nnoi passamm oltre e io e l duca mio su per lo scoglio infino in su l altr arco che cuopre l fosso in che si paga il fio a quei che scommettendo acquistan carco\\nchi poria mai pur con parole sciolte dicer del sangue e de le piaghe a pieno ch i ora vidi per narrar più volte ogne lingua per certo verria meno per lo nostro sermone e per la mente c hanno a tanto comprender poco seno\\ns el s aunasse ancor tutta la gente che già in su la fortunata terra di puglia fu del suo sangue dolente per li troiani e per la lunga guerra che de l anella fé sì alte spoglie come livïo scrive che non erra con quella che sentio di colpi doglie per contastare a ruberto guiscardo e l altra il cui ossame ancor s accoglie a ceperan là dove fu bugiardo ciascun pugliese e là da tagliacozzo dove sanz arme vinse il vecchio alardo e qual forato suo membro e qual mozzo mostrasse d aequar sarebbe nulla il modo de la nona bolgia sozzo\\ngià veggia per mezzul perdere o lulla com io vidi un così non si pertugia rotto dal mento infin dove si trulla\\ntra le gambe pendevan le minugia la corata pareva e l tristo sacco che merda fa di quel che si trangugia\\nmentre che tutto in lui veder m attacco guardommi e con le man s aperse il petto dicendo or vedi com io mi dilacco vedi come storpiato è mäometto dinanzi a me sen va piangendo alì fesso nel volto dal mento al ciuffetto\\ne tutti li altri che tu vedi qui seminator di scandalo e di scisma fuor vivi e però son fessi così\\nun diavolo è qua dietro che n accisma sì crudelmente al taglio de la spada rimettendo ciascun di questa risma quand avem volta la dolente strada però che le ferite son richiuse prima ch altri dinanzi li rivada\\nma tu chi se che n su lo scoglio muse forse per indugiar d ire a la pena ch è giudicata in su le tue accuse\\nné morte l giunse ancor né colpa l mena rispuose l mio maestro a tormentarlo ma per dar lui esperïenza piena a me che morto son convien menarlo per lo nferno qua giù di giro in giro e quest è ver così com io ti parlo\\npiù fuor di cento che quando l udiro s arrestaron nel fosso a riguardarmi per maraviglia oblïando il martiro\\nor dì a fra dolcin dunque che s armi tu che forse vedra il sole in breve s ello non vuol qui tosto seguitarmi sì di vivanda che stretta di neve non rechi la vittoria al noarese ch altrimenti acquistar non saria leve\\npoi che l un piè per girsene sospese mäometto mi disse esta parola indi a partirsi in terra lo distese\\nun altro che forata avea la gola e tronco l naso infin sotto le ciglia e non avea mai ch una orecchia sola ristato a riguardar per maraviglia con li altri innanzi a li altri aprì la canna ch era di fuor d ogne parte vermiglia e disse o tu cui colpa non condanna e cu io vidi su in terra latina se troppa simiglianza non m inganna rimembriti di pier da medicina se mai torni a veder lo dolce piano che da vercelli a marcabò dichina\\ne fa saper a due miglior da fano a messer guido e anco ad angiolello che se l antiveder qui non è vano gittati saran fuor di lor vasello e mazzerati presso a la cattolica per tradimento d un tiranno fello\\ntra l isola di cipri e di maiolica non vide mai sì gran fallo nettuno non da pirate non da gente argolica\\nquel traditor che vede pur con l uno e tien la terra che tale qui meco vorrebbe di vedere esser digiuno farà venirli a parlamento seco poi farà sì ch al vento di focara non sarà lor mestier voto né preco\\ne io a lui dimostrami e dichiara se vuo ch i porti sù di te novella chi è colui da la veduta amara\\nallor puose la mano a la mascella d un suo compagno e la bocca li aperse gridando questi è desso e non favella\\nquesti scacciato il dubitar sommerse in cesare affermando che l fornito sempre con danno l attender sofferse\\noh quanto mi pareva sbigottito con la lingua tagliata ne la strozza curïo ch a dir fu così ardito e un ch avea l una e l altra man mozza levando i moncherin per l aura fosca sì che l sangue facea la faccia sozza gridò ricordera ti anche del mosca che disse lasso capo ha cosa fatta che fu mal seme per la gente tosca\\ne io li aggiunsi e morte di tua schiatta per ch elli accumulando duol con duolo sen gio come persona trista e matta\\nma io rimasi a riguardar lo stuolo e vidi cosa ch io avrei paura sanza più prova di contarla solo se non che coscïenza m assicura la buona compagnia che l uom francheggia sotto l asbergo del sentirsi pura\\nio vidi certo e ancor par ch io l veggia un busto sanza capo andar sì come andavan li altri de la trista greggia e l capo tronco tenea per le chiome pesol con mano a guisa di lanterna e quel mirava noi e dicea oh me\\ndi sé facea a sé stesso lucerna ed eran due in uno e uno in due com esser può quei sa che sì governa\\nquando diritto al piè del ponte fue levò l braccio alto con tutta la testa per appressarne le parole sue che fuoro or vedi la pena molesta tu che spirando vai veggendo i morti vedi s alcuna è grande come questa\\ne perché tu di me novella porti sappi ch i son bertram dal bornio quelli che diedi al re giovane i ma conforti\\nio feci il padre e l figlio in sé ribelli achitofèl non fé più d absalone e di davìd coi malvagi punzelli\\nperch io parti così giunte persone partito porto il mio cerebro lasso dal suo principio ch è in questo troncone\\ncosì s osserva in me lo contrapasso\\nla molta gente e le diverse piaghe avean le luci mie sì inebrïate che de lo stare a piangere eran vaghe\\nma virgilio mi disse che pur guate perché la vista tua pur si soffolge là giù tra l ombre triste smozzicate tu non hai fatto sì a l altre bolge pensa se tu annoverar le credi che miglia ventidue la valle volge\\ne già la luna è sotto i nostri piedi lo tempo è poco omai che n è concesso e altro è da veder che tu non vedi\\nse tu avessi rispuos io appresso atteso a la cagion per ch io guardava forse m avresti ancor lo star dimesso\\nparte sen giva e io retro li andava lo duca già faccendo la risposta e soggiugnendo dentro a quella cava dov io tenea or li occhi sì a posta credo ch un spirto del mio sangue pianga la colpa che là giù cotanto costa\\nallor disse l maestro non si franga lo tuo pensier da qui innanzi sovr ello\\nattendi ad altro ed ei là si rimanga ch io vidi lui a piè del ponticello mostrarti e minacciar forte col dito e udi l nominar geri del bello\\ntu eri allor sì del tutto impedito sovra colui che già tenne altaforte che non guardasti in là sì fu partito\\no duca mio la vïolenta morte che non li è vendicata ancor diss io per alcun che de l onta sia consorte fece lui disdegnoso ond el sen gio sanza parlarmi sì com ïo estimo e in ciò m ha el fatto a sé più pio\\ncosì parlammo infino al loco primo che de lo scoglio l altra valle mostra se più lume vi fosse tutto ad imo\\nquando noi fummo sor l ultima chiostra di malebolge sì che i suoi conversi potean parere a la veduta nostra lamenti saettaron me diversi che di pietà ferrati avean li strali ond io li orecchi con le man copersi\\nqual dolor fora se de li spedali di valdichiana tra l luglio e l settembre e di maremma e di sardigna i mali fossero in una fossa tutti nsembre tal era quivi e tal puzzo n usciva qual suol venir de le marcite membre\\nnoi discendemmo in su l ultima riva del lungo scoglio pur da man sinistra e allor fu la mia vista più viva giù ver lo fondo la ve la ministra de l alto sire infallibil giustizia punisce i falsador che qui registra\\nnon credo ch a veder maggior tristizia fosse in egina il popol tutto infermo quando fu l aere sì pien di malizia che li animali infino al picciol vermo cascaron tutti e poi le genti antiche secondo che i poeti hanno per fermo si ristorar di seme di formiche ch era a veder per quella oscura valle languir li spirti per diverse biche\\nqual sovra l ventre e qual sovra le spalle l un de l altro giacea e qual carpone si trasmutava per lo tristo calle\\npasso passo andavam sanza sermone guardando e ascoltando li ammalati che non potean levar le lor persone\\nio vidi due sedere a sé poggiati com a scaldar si poggia tegghia a tegghia dal capo al piè di schianze macolati e non vidi già mai menare stregghia a ragazzo aspettato dal segnorso né a colui che mal volontier vegghia come ciascun menava spesso il morso de l unghie sopra sé per la gran rabbia del pizzicor che non ha più soccorso e sì traevan giù l unghie la scabbia come coltel di scardova le scaglie o d altro pesce che più larghe l abbia\\no tu che con le dita ti dismaglie cominciò l duca mio a l un di loro e che fai d esse talvolta tanaglie dinne s alcun latino è tra costoro che son quinc entro se l unghia ti basti etternalmente a cotesto lavoro\\nlatin siam noi che tu vedi sì guasti qui ambedue rispuose l un piangendo ma tu chi se che di noi dimandasti\\ne l duca disse i son un che discendo con questo vivo giù di balzo in balzo e di mostrar lo nferno a lui intendo\\nallor si ruppe lo comun rincalzo e tremando ciascuno a me si volse con altri che l udiron di rimbalzo\\nlo buon maestro a me tutto s accolse dicendo dì a lor ciò che tu vuoli e io incominciai poscia ch ei volse se la vostra memoria non s imboli nel primo mondo da l umane menti ma s ella viva sotto molti soli ditemi chi voi siete e di che genti la vostra sconcia e fastidiosa pena di palesarvi a me non vi spaventi\\nio fui d arezzo e albero da siena rispuose l un mi fé mettere al foco ma quel per ch io mori qui non mi mena\\nvero è ch i dissi lui parlando a gioco i mi saprei levar per l aere a volo e quei ch avea vaghezza e senno poco volle ch i li mostrassi l arte e solo perch io nol feci dedalo mi fece ardere a tal che l avea per figliuolo\\nma ne l ultima bolgia de le diece me per l alchìmia che nel mondo usai dannò minòs a cui fallar non lece\\ne io dissi al poeta or fu già mai gente sì vana come la sanese certo non la francesca sì d assai\\nonde l altro lebbroso che m intese rispuose al detto mio tra mene stricca che seppe far le temperate spese e niccolò che la costuma ricca del garofano prima discoverse ne l orto dove tal seme s appicca e tra ne la brigata in che disperse caccia d ascian la vigna e la gran fonda e l abbagliato suo senno proferse\\nma perché sappi chi sì ti seconda contra i sanesi aguzza ver me l occhio sì che la faccia mia ben ti risponda sì vedrai ch io son l ombra di capocchio che falsai li metalli con l alchìmia e te dee ricordar se ben t adocchio com io fui di natura buona scimia\\nnel tempo che iunone era crucciata per semelè contra l sangue tebano come mostrò una e altra fïata atamante divenne tanto insano che veggendo la moglie con due figli andar carcata da ciascuna mano gridò tendiam le reti sì ch io pigli la leonessa e leoncini al varco e poi distese i dispietati artigli prendendo l un ch avea nome learco e rotollo e percosselo ad un sasso e quella s annegò con l altro carco\\ne quando la fortuna volse in basso l altezza de troian che tutto ardiva sì che nsieme col regno il re fu casso ecuba trista misera e cattiva poscia che vide polissena morta e del suo polidoro in su la riva del mar si fu la dolorosa accorta forsennata latrò sì come cane tanto il dolor le fé la mente torta\\nma né di tebe furie né troiane si vider mäi in alcun tanto crude non punger bestie nonché membra umane quant io vidi in due ombre smorte e nude che mordendo correvan di quel modo che l porco quando del porcil si schiude\\nl una giunse a capocchio e in sul nodo del collo l assannò sì che tirando grattar li fece il ventre al fondo sodo\\ne l aretin che rimase tremando mi disse quel folletto è gianni schicchi e va rabbioso altrui così conciando\\noh diss io lui se l altro non ti ficchi li denti a dosso non ti sia fatica a dir chi è pria che di qui si spicchi\\ned elli a me quell è l anima antica di mirra scellerata che divenne al padre fuor del dritto amore amica\\nquesta a peccar con esso così venne falsificando sé in altrui forma come l altro che là sen va sostenne per guadagnar la donna de la torma falsificare in sé buoso donati testando e dando al testamento norma\\ne poi che i due rabbiosi fuor passati sovra cu io avea l occhio tenuto rivolsilo a guardar li altri mal nati\\nio vidi un fatto a guisa di lëuto pur ch elli avesse avuta l anguinaia tronca da l altro che l uomo ha forcuto\\nla grave idropesì che sì dispaia le membra con l omor che mal converte che l viso non risponde a la ventraia faceva lui tener le labbra aperte come l etico fa che per la sete l un verso l mento e l altro in sù rinverte\\no voi che sanz alcuna pena siete e non so io perché nel mondo gramo diss elli a noi guardate e attendete a la miseria del maestro adamo io ebbi vivo assai di quel ch i volli e ora lasso un gocciol d acqua bramo\\nli ruscelletti che d i verdi colli del casentin discendon giuso in arno faccendo i lor canali freddi e molli sempre mi stanno innanzi e non indarno ché l imagine lor vie più m asciuga che l male ond io nel volto mi discarno\\nla rigida giustizia che mi fruga tragge cagion del loco ov io peccai a metter più li miei sospiri in fuga\\nivi è romena là dov io falsai la lega suggellata del batista per ch io il corpo sù arso lasciai\\nma s io vedessi qui l anima trista di guido o d alessandro o di lor frate per fonte branda non darei la vista\\ndentro c è l una già se l arrabbiate ombre che vanno intorno dicon vero ma che mi val c ho le membra legate s io fossi pur di tanto ancor leggero ch i potessi in cent anni andare un oncia io sarei messo già per lo sentiero cercando lui tra questa gente sconcia con tutto ch ella volge undici miglia e men d un mezzo di traverso non ci ha\\nio son per lor tra sì fatta famiglia e m indussero a batter li fiorini ch avevan tre carati di mondiglia\\ne io a lui chi son li due tapini che fumman come man bagnate l verno giacendo stretti a tuoi destri confini\\nqui li poi volta non rispuose quando piovvi in questo greppo e non credo che dieno in sempiterno\\nl una è la falsa ch accusò gioseppo l altr è l falso sinon greco di troia per febbre aguta gittan tanto leppo\\ne l un di lor che si recò a noia forse d esser nomato sì oscuro col pugno li percosse l epa croia\\nquella sonò come fosse un tamburo e mastro adamo li percosse il volto col braccio suo che non parve men duro dicendo a lui ancor che mi sia tolto lo muover per le membra che son gravi ho io il braccio a tal mestiere sciolto\\nond ei rispuose quando tu andavi al fuoco non l avei tu così presto ma sì e più l avei quando coniavi\\ne l idropico tu di ver di questo ma tu non fosti sì ver testimonio là ve del ver fosti a troia richesto\\ns io dissi falso e tu falsasti il conio disse sinon e son qui per un fallo e tu per più ch alcun altro demonio\\nricorditi spergiuro del cavallo rispuose quel ch avëa infiata l epa e sieti reo che tutto il mondo sallo\\ne te sia rea la sete onde ti crepa disse l greco la lingua e l acqua marcia che l ventre innanzi a li occhi sì t assiepa\\nallora il monetier così si squarcia la bocca tua per tuo mal come suole ché s i ho sete e omor mi rinfarcia tu hai l arsura e l capo che ti duole e per leccar lo specchio di narcisso non vorresti a nvitar molte parole\\nad ascoltarli er io del tutto fisso quando l maestro mi disse or pur mira che per poco che teco non mi risso\\nquand io l senti a me parlar con ira volsimi verso lui con tal vergogna ch ancor per la memoria mi si gira\\nqual è colui che suo dannaggio sogna che sognando desidera sognare sì che quel ch è come non fosse agogna tal mi fec io non possendo parlare che disïava scusarmi e scusava me tuttavia e nol mi credea fare\\nmaggior difetto men vergogna lava disse l maestro che l tuo non è stato però d ogne trestizia ti disgrava\\ne fa ragion ch io ti sia sempre allato se più avvien che fortuna t accoglia dove sien genti in simigliante piato ché voler ciò udire è bassa voglia\\nuna medesma lingua pria mi morse sì che mi tinse l una e l altra guancia e poi la medicina mi riporse così od io che solea far la lancia d achille e del suo padre esser cagione prima di trista e poi di buona mancia\\nnoi demmo il dosso al misero vallone su per la ripa che l cinge dintorno attraversando sanza alcun sermone\\nquiv era men che notte e men che giorno sì che l viso m andava innanzi poco ma io senti sonare un alto corno tanto ch avrebbe ogne tuon fatto fioco che contra sé la sua via seguitando dirizzò li occhi miei tutti ad un loco\\ndopo la dolorosa rotta quando carlo magno perdé la santa gesta non sonò sì terribilmente orlando\\npoco portäi in là volta la testa che me parve veder molte alte torri ond io maestro dì che terra è questa\\ned elli a me però che tu trascorri per le tenebre troppo da la lungi avvien che poi nel maginare abborri\\ntu vedrai ben se tu là ti congiungi quanto l senso s inganna di lontano però alquanto più te stesso pungi\\npoi caramente mi prese per mano e disse pria che noi siam più avanti acciò che l fatto men ti paia strano sappi che non son torri ma giganti e son nel pozzo intorno da la ripa da l umbilico in giuso tutti quanti\\ncome quando la nebbia si dissipa lo sguardo a poco a poco raffigura ciò che cela l vapor che l aere stipa così forando l aura grossa e scura più e più appressando ver la sponda fuggiemi errore e cresciemi paura però che come su la cerchia tonda montereggion di torri si corona così la proda che l pozzo circonda torreggiavan di mezza la persona li orribili giganti cui minaccia giove del cielo ancora quando tuona\\ne io scorgeva già d alcun la faccia le spalle e l petto e del ventre gran parte e per le coste giù ambo le braccia\\nnatura certo quando lasciò l arte di sì fatti animali assai fé bene per tòrre tali essecutori a marte\\ne s ella d elefanti e di balene non si pente chi guarda sottilmente più giusta e più discreta la ne tene ché dove l argomento de la mente s aggiugne al mal volere e a la possa nessun riparo vi può far la gente\\nla faccia sua mi parea lunga e grossa come la pina di san pietro a roma e a sua proporzione eran l altre ossa sì che la ripa ch era perizoma dal mezzo in giù ne mostrava ben tanto di sovra che di giugnere a la chioma tre frison s averien dato mal vanto però ch i ne vedea trenta gran palmi dal loco in giù dov omo affibbia l manto\\nraphèl maì amècche zabì almi cominciò a gridar la fiera bocca cui non si convenia più dolci salmi\\ne l duca mio ver lui anima sciocca tienti col corno e con quel ti disfoga quand ira o altra passïon ti tocca cércati al collo e troverai la soga che l tien legato o anima confusa e vedi lui che l gran petto ti doga\\npoi disse a me elli stessi s accusa questi è nembrotto per lo cui mal coto pur un linguaggio nel mondo non s usa\\nlasciànlo stare e non parliamo a vòto ché così è a lui ciascun linguaggio come l suo ad altrui ch a nullo è noto\\nfacemmo adunque più lungo vïaggio vòlti a sinistra e al trar d un balestro trovammo l altro assai più fero e maggio\\na cigner lui qual che fosse l maestro non so io dir ma el tenea soccinto dinanzi l altro e dietro il braccio destro d una catena che l tenea avvinto dal collo in giù sì che n su lo scoperto si ravvolgëa infino al giro quinto\\nquesto superbo volle esser esperto di sua potenza contra l sommo giove disse l mio duca ond elli ha cotal merto\\nfïalte ha nome e fece le gran prove quando i giganti fer paura a dèi le braccia ch el menò già mai non move\\ne io a lui s esser puote io vorrei che de lo smisurato brïareo esperïenza avesser li occhi mei\\nond ei rispuose tu vedrai anteo presso di qui che parla ed è disciolto che ne porrà nel fondo d ogne reo\\nquel che tu vuo veder più là è molto ed è legato e fatto come questo salvo che più feroce par nel volto\\nnon fu tremoto già tanto rubesto che scotesse una torre così forte come fïalte a scuotersi fu presto\\nallor temett io più che mai la morte e non v era mestier più che la dotta s io non avessi viste le ritorte\\nnoi procedemmo più avante allotta e venimmo ad anteo che ben cinque alle sanza la testa uscia fuor de la grotta\\no tu che ne la fortunata valle che fece scipïon di gloria reda quand anibàl co suoi diede le spalle recasti già mille leon per preda e che se fossi stato a l alta guerra de tuoi fratelli ancor par che si creda ch avrebber vinto i figli de la terra mettine giù e non ten vegna schifo dove cocito la freddura serra\\nnon ci fare ire a tizio né a tifo questi può dar di quel che qui si brama però ti china e non torcer lo grifo\\nancor ti può nel mondo render fama ch el vive e lunga vita ancor aspetta se nnanzi tempo grazia a sé nol chiama\\ncosì disse l maestro e quelli in fretta le man distese e prese l duca mio ond ercule sentì già grande stretta\\nvirgilio quando prender si sentio disse a me fatti qua sì ch io ti prenda poi fece sì ch un fascio era elli e io\\nqual pare a riguardar la carisenda sotto l chinato quando un nuvol vada sovr essa sì ched ella incontro penda tal parve antëo a me che stava a bada di vederlo chinare e fu tal ora ch i avrei voluto ir per altra strada\\nma lievemente al fondo che divora lucifero con giuda ci sposò né sì chinato lì fece dimora e come albero in nave si levò\\ns ïo avessi le rime aspre e chiocce come si converrebbe al tristo buco sovra l qual pontan tutte l altre rocce io premerei di mio concetto il suco più pienamente ma perch io non l abbo non sanza tema a dicer mi conduco ché non è impresa da pigliare a gabbo discriver fondo a tutto l universo né da lingua che chiami mamma o babbo\\nma quelle donne aiutino il mio verso ch aiutaro anfïone a chiuder tebe sì che dal fatto il dir non sia diverso\\noh sovra tutte mal creata plebe che stai nel loco onde parlare è duro mei foste state qui pecore o zebe come noi fummo giù nel pozzo scuro sotto i piè del gigante assai più bassi e io mirava ancora a l alto muro dicere udi mi guarda come passi va sì che tu non calchi con le piante le teste de fratei miseri lassi\\nper ch io mi volsi e vidimi davante e sotto i piedi un lago che per gelo avea di vetro e non d acqua sembiante\\nnon fece al corso suo sì grosso velo di verno la danoia in osterlicchi né tanaï là sotto l freddo cielo com era quivi che se tambernicchi vi fosse sù caduto o pietrapana non avria pur da l orlo fatto cricchi\\ne come a gracidar si sta la rana col muso fuor de l acqua quando sogna di spigolar sovente la villana livide insin là dove appar vergogna eran l ombre dolenti ne la ghiaccia mettendo i denti in nota di cicogna\\nognuna in giù tenea volta la faccia da bocca il freddo e da li occhi il cor tristo tra lor testimonianza si procaccia\\nquand io m ebbi dintorno alquanto visto volsimi a piedi e vidi due sì stretti che l pel del capo avieno insieme misto\\nditemi voi che sì strignete i petti diss io chi siete\\ne quei piegaro i colli e poi ch ebber li visi a me eretti li occhi lor ch eran pria pur dentro molli gocciar su per le labbra e l gelo strinse le lagrime tra essi e riserrolli\\ncon legno legno spranga mai non cinse forte così ond ei come due becchi cozzaro insieme tanta ira li vinse\\ne un ch avea perduti ambo li orecchi per la freddura pur col viso in giùe disse perché cotanto in noi ti specchi se vuoi saper chi son cotesti due la valle onde bisenzo si dichina del padre loro alberto e di lor fue\\nd un corpo usciro e tutta la caina potrai cercare e non troverai ombra degna più d esser fitta in gelatina non quelli a cui fu rotto il petto e l ombra con esso un colpo per la man d artù non focaccia non questi che m ingombra col capo sì ch i non veggio oltre più e fu nomato sassol mascheroni se tosco se ben sai omai chi fu\\ne perché non mi metti in più sermoni sappi ch i fu il camiscion de pazzi e aspetto carlin che mi scagioni\\nposcia vid io mille visi cagnazzi fatti per freddo onde mi vien riprezzo e verrà sempre de gelati guazzi\\ne mentre ch andavamo inver lo mezzo al quale ogne gravezza si rauna e io tremava ne l etterno rezzo se voler fu o destino o fortuna non so ma passeggiando tra le teste forte percossi l piè nel viso ad una\\npiangendo mi sgridò perché mi peste se tu non vieni a crescer la vendetta di montaperti perché mi moleste\\ne io maestro mio or qui m aspetta sì ch io esca d un dubbio per costui poi mi farai quantunque vorrai fretta\\nlo duca stette e io dissi a colui che bestemmiava duramente ancora qual se tu che così rampogni altrui\\nor tu chi se che vai per l antenora percotendo rispuose altrui le gote sì che se fossi vivo troppo fora\\nvivo son io e caro esser ti puote fu mia risposta se dimandi fama ch io metta il nome tuo tra l altre note\\ned elli a me del contrario ho io brama\\nlèvati quinci e non mi dar più lagna ché mal sai lusingar per questa lama\\nallor lo presi per la cuticagna e dissi el converrà che tu ti nomi o che capel qui sù non ti rimagna\\nond elli a me perché tu mi dischiomi né ti dirò ch io sia né mosterrolti se mille fiate in sul capo mi tomi\\nio avea già i capelli in mano avvolti e tratti glien avea più d una ciocca latrando lui con li occhi in giù raccolti quando un altro gridò che hai tu bocca non ti basta sonar con le mascelle se tu non latri qual diavol ti tocca\\nomai diss io non vo che più favelle malvagio traditor ch a la tua onta io porterò di te vere novelle\\nva via rispuose e ciò che tu vuoi conta ma non tacer se tu di qua entro eschi di quel ch ebbe or così la lingua pronta\\nel piange qui l argento de franceschi io vidi potrai dir quel da duera là dove i peccatori stanno freschi\\nse fossi domandato altri chi v era tu hai dallato quel di beccheria di cui segò fiorenza la gorgiera\\ngianni de soldanier credo che sia più là con ganellone e tebaldello ch aprì faenza quando si dormia\\nnoi eravam partiti già da ello ch io vidi due ghiacciati in una buca sì che l un capo a l altro era cappello e come l pan per fame si manduca così l sovran li denti a l altro pose là ve l cervel s aggiugne con la nuca non altrimenti tidëo si rose le tempie a menalippo per disdegno che quei faceva il teschio e l altre cose\\no tu che mostri per sì bestial segno odio sovra colui che tu ti mangi dimmi l perché diss io per tal convegno che se tu a ragion di lui ti piangi sappiendo chi voi siete e la sua pecca nel mondo suso ancora io te ne cangi se quella con ch io parlo non si secca\\nla bocca sollevò dal fiero pasto quel peccator forbendola a capelli del capo ch elli avea di retro guasto\\npoi cominciò tu vuo ch io rinovelli disperato dolor che l cor mi preme già pur pensando pria ch io ne favelli\\nma se le mie parole esser dien seme che frutti infamia al traditor ch i rodo parlar e lagrimar vedrai insieme\\nio non so chi tu se né per che modo venuto se qua giù ma fiorentino mi sembri veramente quand io t odo\\ntu dei saper ch i fui conte ugolino e questi è l arcivescovo ruggieri or ti dirò perché i son tal vicino\\nche per l effetto de suo mai pensieri fidandomi di lui io fossi preso e poscia morto dir non è mestieri però quel che non puoi avere inteso cioè come la morte mia fu cruda udirai e saprai s e m ha offeso\\nbreve pertugio dentro da la muda la qual per me ha l titol de la fame e che conviene ancor ch altrui si chiuda m avea mostrato per lo suo forame più lune già quand io feci l mal sonno che del futuro mi squarciò l velame\\nquesti pareva a me maestro e donno cacciando il lupo e lupicini al monte per che i pisan veder lucca non ponno\\ncon cagne magre studïose e conte gualandi con sismondi e con lanfranchi s avea messi dinanzi da la fronte\\nin picciol corso mi parieno stanchi lo padre e figli e con l agute scane mi parea lor veder fender li fianchi\\nquando fui desto innanzi la dimane pianger senti fra l sonno i miei figliuoli ch eran con meco e dimandar del pane\\nben se crudel se tu già non ti duoli pensando ciò che l mio cor s annunziava e se non piangi di che pianger suoli già eran desti e l ora s appressava che l cibo ne solëa essere addotto e per suo sogno ciascun dubitava e io senti chiavar l uscio di sotto a l orribile torre ond io guardai nel viso a mie figliuoi sanza far motto\\nio non piangëa sì dentro impetrai piangevan elli e anselmuccio mio disse tu guardi sì padre che hai\\nperciò non lagrimai né rispuos io tutto quel giorno né la notte appresso infin che l altro sol nel mondo uscìo\\ncome un poco di raggio si fu messo nel doloroso carcere e io scorsi per quattro visi il mio aspetto stesso ambo le man per lo dolor mi morsi ed ei pensando ch io l fessi per voglia di manicar di sùbito levorsi e disser padre assai ci fia men doglia se tu mangi di noi tu ne vestisti queste misere carni e tu le spoglia\\nqueta mi allor per non farli più tristi lo dì e l altro stemmo tutti muti ahi dura terra perché non t apristi poscia che fummo al quarto dì venuti gaddo mi si gittò disteso a piedi dicendo padre mio ché non m aiuti\\nquivi morì e come tu mi vedi vid io cascar li tre ad uno ad uno tra l quinto dì e l sesto ond io mi diedi già cieco a brancolar sovra ciascuno e due dì li chiamai poi che fur morti\\nposcia più che l dolor poté l digiuno\\nquand ebbe detto ciò con li occhi torti riprese l teschio misero co denti che furo a l osso come d un can forti\\nahi pisa vituperio de le genti del bel paese là dove l sì suona poi che i vicini a te punir son lenti muovasi la capraia e la gorgona e faccian siepe ad arno in su la foce sì ch elli annieghi in te ogne persona che se l conte ugolino aveva voce d aver tradita te de le castella non dovei tu i figliuoi porre a tal croce\\ninnocenti facea l età novella novella tebe uguiccione e l brigata e li altri due che l canto suso appella\\nnoi passammo oltre là ve la gelata ruvidamente un altra gente fascia non volta in giù ma tutta riversata\\nlo pianto stesso lì pianger non lascia e l duol che truova in su li occhi rintoppo si volge in entro a far crescer l ambascia ché le lagrime prime fanno groppo e sì come visiere di cristallo rïempion sotto l ciglio tutto il coppo\\ne avvegna che sì come d un callo per la freddura ciascun sentimento cessato avesse del mio viso stallo già mi parea sentire alquanto vento per ch io maestro mio questo chi move non è qua giù ogne vapore spento\\nond elli a me avaccio sarai dove di ciò ti farà l occhio la risposta veggendo la cagion che l fiato piove\\ne un de tristi de la fredda crosta gridò a noi o anime crudeli tanto che data v è l ultima posta levatemi dal viso i duri veli sì ch ïo sfoghi l duol che l cor m impregna un poco pria che l pianto si raggeli\\nper ch io a lui se vuo ch i ti sovvegna dimmi chi se e s io non ti disbrigo al fondo de la ghiaccia ir mi convegna\\nrispuose adunque i son frate alberigo i son quel da le frutta del mal orto che qui riprendo dattero per figo\\noh diss io lui or se tu ancor morto\\ned elli a me come l mio corpo stea nel mondo sù nulla scïenza porto\\ncotal vantaggio ha questa tolomea che spesse volte l anima ci cade innanzi ch atropòs mossa le dea\\ne perché tu più volentier mi rade le nvetrïate lagrime dal volto sappie che tosto che l anima trade come fec ïo il corpo suo l è tolto da un demonio che poscia il governa mentre che l tempo suo tutto sia vòlto\\nella ruina in sì fatta cisterna e forse pare ancor lo corpo suso de l ombra che di qua dietro mi verna\\ntu l dei saper se tu vien pur mo giuso elli è ser branca doria e son più anni poscia passati ch el fu sì racchiuso\\nio credo diss io lui che tu m inganni ché branca doria non morì unquanche e mangia e bee e dorme e veste panni\\nnel fosso sù diss el de malebranche là dove bolle la tenace pece non era ancora giunto michel zanche che questi lasciò il diavolo in sua vece nel corpo suo ed un suo prossimano che l tradimento insieme con lui fece\\nma distendi oggimai in qua la mano aprimi li occhi\\ne io non gliel apersi e cortesia fu lui esser villano\\nahi genovesi uomini diversi d ogne costume e pien d ogne magagna perché non siete voi del mondo spersi ché col peggiore spirto di romagna trovai di voi un tal che per sua opra in anima in cocito già si bagna e in corpo par vivo ancor di sopra\\nvexilla regis prodeunt inferni verso di noi però dinanzi mira disse l maestro mio se tu l discerni\\ncome quando una grossa nebbia spira o quando l emisperio nostro annotta par di lungi un molin che l vento gira veder mi parve un tal dificio allotta poi per lo vento mi ristrinsi retro al duca mio ché non lì era altra grotta\\ngià era e con paura il metto in metro là dove l ombre tutte eran coperte e trasparien come festuca in vetro\\naltre sono a giacere altre stanno erte quella col capo e quella con le piante altra com arco il volto a piè rinverte\\nquando noi fummo fatti tanto avante ch al mio maestro piacque di mostrarmi la creatura ch ebbe il bel sembiante d innanzi mi si tolse e fé restarmi ecco dite dicendo ed ecco il loco ove convien che di fortezza t armi\\ncom io divenni allor gelato e fioco nol dimandar lettor ch i non lo scrivo però ch ogne parlar sarebbe poco\\nio non mori e non rimasi vivo pensa oggimai per te s hai fior d ingegno qual io divenni d uno e d altro privo\\nlo mperador del doloroso regno da mezzo l petto uscia fuor de la ghiaccia e più con un gigante io mi convegno che i giganti non fan con le sue braccia vedi oggimai quant esser dee quel tutto ch a così fatta parte si confaccia\\ns el fu sì bel com elli è ora brutto e contra l suo fattore alzò le ciglia ben dee da lui procedere ogne lutto\\noh quanto parve a me gran maraviglia quand io vidi tre facce a la sua testa l una dinanzi e quella era vermiglia l altr eran due che s aggiugnieno a questa sovresso l mezzo di ciascuna spalla e sé giugnieno al loco de la cresta e la destra parea tra bianca e gialla la sinistra a vedere era tal quali vegnon di là onde l nilo s avvalla\\nsotto ciascuna uscivan due grand ali quanto si convenia a tanto uccello vele di mar non vid io mai cotali\\nnon avean penne ma di vispistrello era lor modo e quelle svolazzava sì che tre venti si movean da ello quindi cocito tutto s aggelava\\ncon sei occhi piangëa e per tre menti gocciava l pianto e sanguinosa bava\\nda ogne bocca dirompea co denti un peccatore a guisa di maciulla sì che tre ne facea così dolenti\\na quel dinanzi il mordere era nulla verso l graffiar che talvolta la schiena rimanea de la pelle tutta brulla\\nquell anima là sù c ha maggior pena disse l maestro è giuda scarïotto che l capo ha dentro e fuor le gambe mena\\nde li altri due c hanno il capo di sotto quel che pende dal nero ceffo è bruto vedi come si storce e non fa motto e l altro è cassio che par sì membruto\\nma la notte risurge e oramai è da partir ché tutto avem veduto\\ncom a lui piacque il collo li avvinghiai ed el prese di tempo e loco poste e quando l ali fuoro aperte assai appigliò sé a le vellute coste di vello in vello giù discese poscia tra l folto pelo e le gelate croste\\nquando noi fummo là dove la coscia si volge a punto in sul grosso de l anche lo duca con fatica e con angoscia volse la testa ov elli avea le zanche e aggrappossi al pel com om che sale sì che n inferno i credea tornar anche\\nattienti ben ché per cotali scale disse l maestro ansando com uom lasso conviensi dipartir da tanto male\\npoi uscì fuor per lo fóro d un sasso e puose me in su l orlo a sedere appresso porse a me l accorto passo\\nio levai li occhi e credetti vedere lucifero com io l avea lasciato e vidili le gambe in sù tenere e s io divenni allora travagliato la gente grossa il pensi che non vede qual è quel punto ch io avea passato\\nlèvati sù disse l maestro in piede la via è lunga e l cammino è malvagio e già il sole a mezza terza riede\\nnon era camminata di palagio là v eravam ma natural burella ch avea mal suolo e di lume disagio\\nprima ch io de l abisso mi divella maestro mio diss io quando fui dritto a trarmi d erro un poco mi favella ov è la ghiaccia e questi com è fitto sì sottosopra e come in sì poc ora da sera a mane ha fatto il sol tragitto\\ned elli a me tu imagini ancora d esser di là dal centro ov io mi presi al pel del vermo reo che l mondo fóra\\ndi là fosti cotanto quant io scesi quand io mi volsi tu passasti l punto al qual si traggon d ogne parte i pesi\\ne se or sotto l emisperio giunto ch è contraposto a quel che la gran secca coverchia e sotto l cui colmo consunto fu l uom che nacque e visse sanza pecca tu haï i piedi in su picciola spera che l altra faccia fa de la giudecca\\nqui è da man quando di là è sera e questi che ne fé scala col pelo fitto è ancora sì come prim era\\nda questa parte cadde giù dal cielo e la terra che pria di qua si sporse per paura di lui fé del mar velo e venne a l emisperio nostro e forse per fuggir lui lasciò qui loco vòto quella ch appar di qua e sù ricorse\\nluogo è là giù da belzebù remoto tanto quanto la tomba si distende che non per vista ma per suono è noto d un ruscelletto che quivi discende per la buca d un sasso ch elli ha roso col corso ch elli avvolge e poco pende\\nlo duca e io per quel cammino ascoso intrammo a ritornar nel chiaro mondo e sanza cura aver d alcun riposo salimmo sù el primo e io secondo tanto ch i vidi de le cose belle che porta l ciel per un pertugio tondo\\ne quindi uscimmo a riveder le stelle'"
      ]
     },
     "execution_count": 26,
     "metadata": {},
     "output_type": "execute_result"
    }
   ],
   "source": [
    "inferno_merged"
   ]
  },
  {
   "cell_type": "code",
   "execution_count": 27,
   "metadata": {
    "colab": {
     "base_uri": "https://localhost:8080/"
    },
    "executionInfo": {
     "elapsed": 28,
     "status": "ok",
     "timestamp": 1640217296146,
     "user": {
      "displayName": "Francesco Salvi",
      "photoUrl": "https://lh3.googleusercontent.com/a/default-user=s64",
      "userId": "17039456355099176000"
     },
     "user_tz": -60
    },
    "id": "cC3uZtMTr7Rb",
    "outputId": "da76953c-c18e-4548-d3c2-95d557feaaad"
   },
   "outputs": [
    {
     "data": {
      "text/plain": [
       "array(['\\n', ' ', 'a', 'b', 'c', 'd', 'e', 'f', 'g', 'h', 'i', 'l', 'm',\n",
       "       'n', 'o', 'p', 'q', 'r', 's', 't', 'u', 'v', 'x', 'z', 'à', 'ä',\n",
       "       'è', 'é', 'ë', 'ì', 'ï', 'ò', 'ó', 'ö', 'ù', 'ü'], dtype='<U1')"
      ]
     },
     "execution_count": 27,
     "metadata": {},
     "output_type": "execute_result"
    }
   ],
   "source": [
    "np.unique([*inferno_merged])"
   ]
  },
  {
   "cell_type": "code",
   "execution_count": 28,
   "metadata": {
    "colab": {
     "base_uri": "https://localhost:8080/",
     "height": 36
    },
    "executionInfo": {
     "elapsed": 26,
     "status": "ok",
     "timestamp": 1640217296147,
     "user": {
      "displayName": "Francesco Salvi",
      "photoUrl": "https://lh3.googleusercontent.com/a/default-user=s64",
      "userId": "17039456355099176000"
     },
     "user_tz": -60
    },
    "id": "RTMvb7KysQia",
    "outputId": "0ba9baad-9861-4e11-88f6-a18fed13921e"
   },
   "outputs": [
    {
     "data": {
      "text/plain": [
       "'abcdefghijklmnopqrstuvwxyzàäèéëìïòóöùü'"
      ]
     },
     "execution_count": 28,
     "metadata": {},
     "output_type": "execute_result"
    }
   ],
   "source": [
    "inferno_alphabet = string.ascii_lowercase + ''.join(['à', 'ä', 'è', 'é', 'ë', 'ì',\n",
    "                                                     'ï', 'ò', 'ó', 'ö', 'ù', 'ü'])\n",
    "inferno_alphabet"
   ]
  },
  {
   "cell_type": "code",
   "execution_count": 29,
   "metadata": {
    "executionInfo": {
     "elapsed": 24,
     "status": "ok",
     "timestamp": 1640217296147,
     "user": {
      "displayName": "Francesco Salvi",
      "photoUrl": "https://lh3.googleusercontent.com/a/default-user=s64",
      "userId": "17039456355099176000"
     },
     "user_tz": -60
    },
    "id": "M3Zw9DS8Snct"
   },
   "outputs": [],
   "source": [
    "# Having removed all punctuation, we can still use question marks to indicate\n",
    "# single, double or uncertain sequences. For uncertain spaces we will however\n",
    "# use a different character than the comma, which in italian is commonly used as\n",
    "# a punctuation sign.\n",
    "inferno_uncertainty_chars = {'ALTERNATE_CHAR': 'ž',\n",
    "                             'SINGLE_UNCERTAINTY': '?',\n",
    "                             'DOUBLE_UNCERTAINTY': '??',\n",
    "                             'UNCERTAIN_SEQUENCE': '???',\n",
    "                             'UNCERTAIN_SPACE': 'ř'\n",
    "                            }\n",
    "\n",
    "# We arbitrarily assume that in the resulting document, 1/2 of the uncertain \n",
    "# spaces are actual spaces and the remaining 1/2 are not\n",
    "actual_space_ratio = 0.5"
   ]
  },
  {
   "cell_type": "code",
   "execution_count": 30,
   "metadata": {
    "colab": {
     "base_uri": "https://localhost:8080/"
    },
    "executionInfo": {
     "elapsed": 448,
     "status": "ok",
     "timestamp": 1640217296571,
     "user": {
      "displayName": "Francesco Salvi",
      "photoUrl": "https://lh3.googleusercontent.com/a/default-user=s64",
      "userId": "17039456355099176000"
     },
     "user_tz": -60
    },
    "id": "6E63qbO5SXxr",
    "outputId": "4c9b5903-61b7-4aee-d41c-c041656a0af4"
   },
   "outputs": [
    {
     "name": "stdout",
     "output_type": "stream",
     "text": [
      "Number of alternate readings: 608, 0.446% of chars\n",
      "Number of single uncertainty: 159, 0.117% of chars\n",
      "Number of uncertain sequences: 0, 0.000% of chars\n",
      "Number of uncertain spaces: 2906, 8.447% of spaces\n"
     ]
    }
   ],
   "source": [
    "random.seed(42)\n",
    "inferno_corrupted = corr.corrupt_text(inferno_merged, voynich_uncertainty_ratios,\n",
    "                                      inferno_uncertainty_chars, inferno_alphabet,\n",
    "                                      actual_space_ratio)"
   ]
  },
  {
   "cell_type": "code",
   "execution_count": 31,
   "metadata": {
    "colab": {
     "base_uri": "https://localhost:8080/"
    },
    "executionInfo": {
     "elapsed": 8,
     "status": "ok",
     "timestamp": 1640217296573,
     "user": {
      "displayName": "Francesco Salvi",
      "photoUrl": "https://lh3.googleusercontent.com/a/default-user=s64",
      "userId": "17039456355099176000"
     },
     "user_tz": -60
    },
    "id": "6QREZOjC9pif",
    "outputId": "87b475c3-cc47-4ccc-fa1f-4151e6f949ef"
   },
   "outputs": [
    {
     "data": {
      "text/plain": [
       "['nel mezzořdel cammiřn di nostra vita mi ritrovai per una selva oscura ché la diritta via era smarrita',\n",
       " 'ahi quanto a dir qual erřa è cosa dura esta selva selvaggia e aspra e forte che nel pensier rinova la paura tant è amara che poco è più morte ma per trattar del ben ch i vi trovai dirò de l ařltre cořse ch i v ho scorte',\n",
       " 'io non so ben ridir com i v intrai tant era pien di [ó:s]onno a quel punto chře la verace via abbandonai',\n",
       " 'ma poi ch i fui al piè d un colle giunto là dove terminava quřella valle che m avea di paura il corřcompunto guardai in altoře vidi le sue spalle vestite già de raggi delřpianeta che mena dritto altrui per ogne calle',\n",
       " 'alřlor fu la paura un poco queta che nel lago del [c:è]or m era durata la notte ch iřpassai con tanta pieta',\n",
       " 'e come quei che con lena affannata uscito fuor del pelago a la riva si volge ařl acqua perigliosa e guata così lřanimo mio ch ancor fuggiva si volse a retro a rimirar lo passo che non lasciò già mai persona viva',\n",
       " 'poi chřèi posatořun poco il corpo lasso ripresi via per la piaggia diserta sřì che lřpiè fermo sempre era l più basso',\n",
       " 'ed ecco quasi al cominciar de l erta una lonza leggera e presta molřto cheřdi pel macolato era coverta e non mi si parti? dinanzi al volto anzi mpediva tanto il mio cammino ch i fui per ritornar più volte vòlto',\n",
       " 'temp era dal principio del mattino e l sol montava n sù con quelle stelle ch eran con lui quando lřamor divino mosseřdi prima quelle cose belle sì ch a be[n:e]e sperar m era cagione di quella fiera a la gaetta pelle l ora del tempo e la dolce stagione ma non sì che paura non mi desse la vista che m apparve d un leone',\n",
       " 'questi parea cheřcontra me venisse con la test alta e con rabbiosa fame sì cheřparea che l aere ne tremesse']"
      ]
     },
     "execution_count": 31,
     "metadata": {},
     "output_type": "execute_result"
    }
   ],
   "source": [
    "# Split sentences\n",
    "inferno_corrupted = inferno_corrupted.splitlines()\n",
    "inferno_corrupted[:10]"
   ]
  },
  {
   "cell_type": "markdown",
   "metadata": {
    "id": "a-VY2mX9wQAm"
   },
   "source": [
    "## Build vocabulary"
   ]
  },
  {
   "cell_type": "markdown",
   "metadata": {
    "id": "SirG872f836y"
   },
   "source": [
    "To create and evaluate the embeddings on our task of correcting uncertainties given the contexts we will consider different setups, combining two independent decisions.\n",
    "\n",
    "With respect to the corruptions/uncertainties, we can either:\n",
    "1. Remove all the words with uncertainties, both for training the embeddings and for extrapolating the contexts.\n",
    "2. Convert all the uncertainties to a unique single character, keeping then corrupted words in both training and contexts.\n",
    "\n",
    "With respect to the way embeddings are trained and used, instead, we can:\n",
    "<ol type=\"A\">\n",
    "<li>Train the model and for each context predict the word among the options that is maximizing the cosine similarity with the sum of the context vectors.</li>\n",
    "<li>Add to the model before training a vocabulary with all the possible replacements of uncertain words, forcing the model to learn weights also for those, and for each context predict the words that has the maximum softmax probability, propagating the sum of the context vectors to the output layer using the learned weights.</li>\n",
    "</ol>\n",
    "\n",
    "Hence, combining those decisions we will compare 4 resulting models.\n",
    "Before proceeding, we need to build a list of uncertainties in the corrupted text and a vocabulary of all possible alternatives (used in models of the family B).\n",
    "\n"
   ]
  },
  {
   "cell_type": "code",
   "execution_count": 32,
   "metadata": {
    "executionInfo": {
     "elapsed": 38744,
     "status": "ok",
     "timestamp": 1640217335311,
     "user": {
      "displayName": "Francesco Salvi",
      "photoUrl": "https://lh3.googleusercontent.com/a/default-user=s64",
      "userId": "17039456355099176000"
     },
     "user_tz": -60
    },
    "id": "Ub9jiYW883A_"
   },
   "outputs": [],
   "source": [
    "# Model 1, removing corrupted words\n",
    "res_nocorr = [unc.contextualize_sentence(clean_sentence, corr_sentence, \n",
    "                                         inferno_uncertainty_chars, inferno_alphabet)\n",
    "              for clean_sentence, corr_sentence in zip(inferno_clean, inferno_corrupted)]\n",
    "\n",
    "uncertainty_list_nocorr, inferno_corrupted_nocorr = list(zip(*res_nocorr))\n",
    "\n",
    "# Merge list of different sentences\n",
    "uncertainty_list_nocorr = [item for sentence in uncertainty_list_nocorr for item in sentence]\n",
    "\n",
    "# Split words\n",
    "inferno_corrupted_nocorr_tokenized = [sentence.split(' ') for sentence in inferno_corrupted_nocorr]"
   ]
  },
  {
   "cell_type": "code",
   "execution_count": 33,
   "metadata": {
    "executionInfo": {
     "elapsed": 50,
     "status": "ok",
     "timestamp": 1640217335312,
     "user": {
      "displayName": "Francesco Salvi",
      "photoUrl": "https://lh3.googleusercontent.com/a/default-user=s64",
      "userId": "17039456355099176000"
     },
     "user_tz": -60
    },
    "id": "3EZgBhVzjJNZ"
   },
   "outputs": [],
   "source": [
    "vocab_nocorr = [[word] for uncertainty in uncertainty_list_nocorr for alternative\n",
    "                in uncertainty.alternatives_list for word in alternative.split(' ')]"
   ]
  },
  {
   "cell_type": "code",
   "execution_count": 34,
   "metadata": {
    "colab": {
     "base_uri": "https://localhost:8080/"
    },
    "executionInfo": {
     "elapsed": 47,
     "status": "ok",
     "timestamp": 1640217335313,
     "user": {
      "displayName": "Francesco Salvi",
      "photoUrl": "https://lh3.googleusercontent.com/a/default-user=s64",
      "userId": "17039456355099176000"
     },
     "user_tz": -60
    },
    "id": "34sS50xdGQxG",
    "outputId": "1d420637-2cca-4365-93d9-52f61638c641"
   },
   "outputs": [
    {
     "data": {
      "text/plain": [
       "18916"
      ]
     },
     "execution_count": 34,
     "metadata": {},
     "output_type": "execute_result"
    }
   ],
   "source": [
    "len(vocab_nocorr)"
   ]
  },
  {
   "cell_type": "code",
   "execution_count": 35,
   "metadata": {
    "executionInfo": {
     "elapsed": 38748,
     "status": "ok",
     "timestamp": 1640217374022,
     "user": {
      "displayName": "Francesco Salvi",
      "photoUrl": "https://lh3.googleusercontent.com/a/default-user=s64",
      "userId": "17039456355099176000"
     },
     "user_tz": -60
    },
    "id": "075xitVehicP"
   },
   "outputs": [],
   "source": [
    "# Model 2, replacing corrupted letters\n",
    "res_repcorr = [unc.contextualize_sentence(clean_sentence, corr_sentence, \n",
    "                                          inferno_uncertainty_chars, inferno_alphabet,\n",
    "                                          convert_uncertainties='£')\n",
    "               for clean_sentence, corr_sentence in zip(inferno_clean, inferno_corrupted)]\n",
    "\n",
    "uncertainty_list_repcorr, inferno_corrupted_repcorr = list(zip(*res_repcorr))\n",
    "\n",
    "# Merge list of different sentences\n",
    "uncertainty_list_repcorr = [item for sentence in uncertainty_list_repcorr for item in sentence]\n",
    "\n",
    "# Split words\n",
    "inferno_corrupted_repcorr_tokenized = [sentence.split(' ') for sentence in inferno_corrupted_repcorr]"
   ]
  },
  {
   "cell_type": "code",
   "execution_count": 36,
   "metadata": {
    "executionInfo": {
     "elapsed": 37,
     "status": "ok",
     "timestamp": 1640217374023,
     "user": {
      "displayName": "Francesco Salvi",
      "photoUrl": "https://lh3.googleusercontent.com/a/default-user=s64",
      "userId": "17039456355099176000"
     },
     "user_tz": -60
    },
    "id": "iaITRqvIj7Ji"
   },
   "outputs": [],
   "source": [
    "vocab_repcorr = [[word] for uncertainty in uncertainty_list_repcorr for alternative\n",
    "                 in uncertainty.alternatives_list for word in alternative.split(' ')]"
   ]
  },
  {
   "cell_type": "markdown",
   "metadata": {
    "id": "nb8lyG6-zZQh"
   },
   "source": [
    "## Create embeddings"
   ]
  },
  {
   "cell_type": "markdown",
   "metadata": {
    "id": "CwL1OUOizZQi"
   },
   "source": [
    "Firstly, we try embeddings with custom parameters, to have some empiric insight on how they perform. For the moment, we only use the model 1A, eliminating all the words with corruptions and not adding anything to the vocabulary."
   ]
  },
  {
   "cell_type": "code",
   "execution_count": 37,
   "metadata": {
    "colab": {
     "base_uri": "https://localhost:8080/"
    },
    "executionInfo": {
     "elapsed": 37,
     "status": "ok",
     "timestamp": 1640217374023,
     "user": {
      "displayName": "Francesco Salvi",
      "photoUrl": "https://lh3.googleusercontent.com/a/default-user=s64",
      "userId": "17039456355099176000"
     },
     "user_tz": -60
    },
    "id": "G53-5PYfoAt-",
    "outputId": "08748152-9e2b-4571-a9e3-d231dbcc420e"
   },
   "outputs": [
    {
     "name": "stdout",
     "output_type": "stream",
     "text": [
      "[['nel', 'di', 'nostra', 'vita', 'mi', 'ritrovai', 'per', 'una', 'selva', 'oscura', 'ché', 'la', 'diritta', 'via', 'era', 'smarrita'], ['ahi', 'quanto', 'a', 'dir', 'qual', 'è', 'cosa', 'dura', 'esta', 'selva', 'selvaggia', 'e', 'aspra', 'e', 'forte', 'che', 'nel', 'pensier', 'rinova', 'la', 'paura', 'tant', 'è', 'amara', 'che', 'poco', 'è', 'più', 'morte', 'ma', 'per', 'trattar', 'del', 'ben', 'ch', 'i', 'vi', 'trovai', 'dirò', 'de', 'l', 'ch', 'i', 'v', 'ho', 'scorte'], ['io', 'non', 'so', 'ben', 'ridir', 'com', 'i', 'v', 'intrai', 'tant', 'era', 'pien', 'di', 'a', 'quel', 'punto', 'la', 'verace', 'via', 'abbandonai'], ['ma', 'poi', 'ch', 'i', 'fui', 'al', 'piè', 'd', 'un', 'colle', 'giunto', 'là', 'dove', 'terminava', 'valle', 'che', 'm', 'avea', 'di', 'paura', 'il', 'guardai', 'in', 'vidi', 'le', 'sue', 'spalle', 'vestite', 'già', 'de', 'raggi', 'che', 'mena', 'dritto', 'altrui', 'per', 'ogne', 'calle'], ['fu', 'la', 'paura', 'un', 'poco', 'queta', 'che', 'nel', 'lago', 'del', 'm', 'era', 'durata', 'la', 'notte', 'ch', 'con', 'tanta', 'pieta'], ['e', 'come', 'quei', 'che', 'con', 'lena', 'affannata', 'uscito', 'fuor', 'del', 'pelago', 'a', 'la', 'riva', 'si', 'volge', 'acqua', 'perigliosa', 'e', 'guata', 'così', 'mio', 'ch', 'ancor', 'fuggiva', 'si', 'volse', 'a', 'retro', 'a', 'rimirar', 'lo', 'passo', 'che', 'non', 'lasciò', 'già', 'mai', 'persona', 'viva'], ['poi', 'poco', 'il', 'corpo', 'lasso', 'ripresi', 'via', 'per', 'la', 'piaggia', 'diserta', 'che', 'fermo', 'sempre', 'era', 'l', 'più', 'basso'], ['ed', 'ecco', 'quasi', 'al', 'cominciar', 'de', 'l', 'erta', 'una', 'lonza', 'leggera', 'e', 'presta', 'pel', 'macolato', 'era', 'coverta', 'e', 'non', 'mi', 'si', 'dinanzi', 'al', 'volto', 'anzi', 'mpediva', 'tanto', 'il', 'mio', 'cammino', 'ch', 'i', 'fui', 'per', 'ritornar', 'più', 'volte', 'vòlto'], ['temp', 'era', 'dal', 'principio', 'del', 'mattino', 'e', 'l', 'sol', 'montava', 'n', 'sù', 'con', 'quelle', 'stelle', 'ch', 'eran', 'con', 'lui', 'quando', 'divino', 'prima', 'quelle', 'cose', 'belle', 'sì', 'ch', 'a', 'sperar', 'm', 'era', 'cagione', 'di', 'quella', 'fiera', 'a', 'la', 'gaetta', 'pelle', 'l', 'ora', 'del', 'tempo', 'e', 'la', 'dolce', 'stagione', 'ma', 'non', 'sì', 'che', 'paura', 'non', 'mi', 'desse', 'la', 'vista', 'che', 'm', 'apparve', 'd', 'un', 'leone'], ['questi', 'parea', 'me', 'venisse', 'con', 'la', 'test', 'alta', 'e', 'con', 'rabbiosa', 'fame', 'sì', 'che', 'l', 'aere', 'ne', 'tremesse'], ['ed', 'una', 'lupa', 'che', 'di', 'tutte', 'brame', 'sembiava', 'carca', 'ne', 'la', 'sua', 'magrezza', 'e', 'molte', 'genti', 'fé', 'già', 'viver', 'grame', 'questa', 'mi', 'porse', 'tanto', 'di', 'ch', 'uscia', 'sua', 'vista', 'ch', 'io', 'perdei', 'la', 'speranza', 'de', 'l', 'altezza'], ['e', 'qual', 'è', 'quei', 'che', 'e', 'giugne', 'l', 'tempo', 'che', 'perder', 'lo', 'face', 'che', 'n', 'tutti', 'suoi', 'pensier', 'piange', 'e', 's', 'attrista', 'tal', 'mi', 'fece', 'la', 'bestia', 'sanza', 'pace', 'che', 'venendomi', 'ncontro', 'a', 'poco', 'a', 'poco', 'mi', 'ripigneva', 'là', 'l', 'sol'], ['ch', 'i', 'rovinava', 'in', 'loco', 'dinanzi', 'a', 'li', 'occhi', 'mi', 'si', 'fu', 'offerto', 'chi', 'per', 'lungo', 'silenzio', 'fioco'], ['quando', 'vidi', 'costui', 'nel', 'gran', 'diserto', 'miserere', 'di', 'me', 'gridai', 'a', 'lui', 'qual', 'che', 'tu', 'sii', 'od', 'ombra', 'od', 'omo'], ['omo', 'omo', 'già', 'fui', 'e', 'li', 'furon', 'lombardi', 'mantoani', 'per', 'patrïa', 'ambedui'], ['sub', 'iulio', 'ancor', 'che', 'fosse', 'tardi', 'e', 'vissi', 'a', 'roma', 'sotto', 'l', 'buono', 'augusto', 'nel', 'tempo', 'de', 'li', 'falsi', 'e', 'bugiardi'], ['poeta', 'e', 'cantai', 'di', 'quel', 'd', 'venne', 'di', 'troia', 'poi', 'che', 'l', 'superbo', 'ilïón', 'fu'], ['ma', 'tu', 'perché', 'ritorni', 'a', 'tanta', 'noia', 'perché', 'il', 'ch', 'è', 'principio', 'e', 'tutta'], ['or', 'quel', 'virgilio', 'e', 'quella', 'fonte', 'che', 'spandi', 'di', 'parlar', 'sì', 'io', 'lui', 'con', 'vergognosa', 'fronte'], ['o', 'de', 'li', 'altri', 'poeti', 'onore', 'e', 'lume', 'vagliami', 'l', 'e', 'l', 'amore', 'che', 'm', 'ha', 'fatto', 'cercar', 'lo', 'tuo', 'volume'], ['tu', 'se', 'lo', 'mio', 'maestro', 'l', 'mio', 'autore', 'tu', 'se', 'solo', 'colui', 'da', 'cu', 'io', 'tolsi', 'lo', 'bello', 'stilo', 'che', 'm', 'ha', 'fatto', 'onore'], ['vedi', 'la', 'bestia', 'per', 'cu', 'io', 'mi', 'volsi', 'aiutami', 'da', 'lei', 'famoso', 'saggio', 'ch', 'ella', 'mi', 'fa', 'tremar', 'le', 'vene', 'e', 'i', 'polsi'], ['a', 'te', 'convien', 'tenere', 'altro', 'poi', 'che', 'lagrimar', 'mi', 'vide', 'se', 'vuo', 'campar', 'd', 'esto', 'loco', 'selvaggio', 'ché', 'questa', 'bestia', 'per', 'la', 'qual', 'tu', 'non', 'lascia', 'passar', 'per', 'la', 'sua', 'via', 'ma', 'che', 'l', 'uccide', 'e', 'ha', 'natura', 'sì', 'e', 'ria', 'che', 'mai', 'non', 'empie', 'la', 'bramosa', 'voglia', 'e', 'dopo', 'l', 'pasto', 'ha', 'più', 'fame', 'che', 'pria'], ['molti', 'son', 'li', 'animali', 'a', 's', 'ammoglia', 'e', 'saranno', 'ancora', 'infin', 'l', 'veltro', 'verrà', 'che', 'la', 'farà', 'morir', 'con', 'doglia'], ['questi', 'terra', 'né', 'peltro', 'ma', 'sapïenza', 'amore', 'e', 'virtute', 'nazion', 'sarà', 'tra', 'feltro', 'e', 'feltro'], ['di', 'quella', 'umile', 'italia', 'fia', 'salute', 'per', 'cui', 'morì', 'la', 'eurialo', 'e', 'turno', 'e', 'ferute'], ['questi', 'la', 'caccerà', 'per', 'ogne', 'villa', 'fin', 'che', 'l', 'avrà', 'rimessa', 'ne', 'lo', 'nferno', 'là', 'onde', 'nvidia', 'prima', 'dipartilla'], ['ond', 'io', 'per', 'lo', 'tuo', 'me', 'e', 'discerno', 'che', 'tu', 'mi', 'segui', 'e', 'io', 'sarò', 'tua', 'guida', 'e', 'di', 'per', 'loco', 'etterno', 'ove', 'le', 'disperate', 'strida', 'vedrai', 'li', 'antichi', 'spiriti', 'dolenti', 'a', 'la', 'seconda', 'ciascun', 'e', 'vederai', 'color', 'che', 'son', 'contenti', 'nel', 'foco', 'perché', 'di', 'venire', 'quando', 'che', 'sia', 'a', 'le', 'beate', 'genti'], ['a', 'le', 'quai', 'poi', 'se', 'tu', 'vorrai', 'salire', 'anima', 'fia', 'a', 'ciò', 'più', 'di', 'me', 'degna', 'con', 'lei', 'ti', 'lascerò', 'nel', 'mio', 'partire', 'ché', 'quello', 'imperador', 'che', 'là', 'sù', 'regna', 'perch', 'i', 'fu', 'ribellante', 'a', 'la', 'sua', 'legge', 'n', 'sua', 'città', 'per', 'me', 'si', 'vegna'], ['in', 'parti', 'impera', 'e', 'quivi', 'regge', 'quivi', 'è', 'la', 'sua', 'città', 'e', 'l', 'alto', 'seggio', 'oh', 'elegge'], ['e', 'io', 'a', 'lui', 'poeta', 'io', 'ti', 'richeggio', 'per', 'quello', 'dio', 'tu', 'non', 'conoscesti', 'acciò', 'ch', 'io', 'fugga', 'questo', 'che', 'tu', 'mi', 'meni', 'là', 'dov', 'or', 'dicesti', 'sì', 'ch', 'io', 'veggia', 'la', 'porta', 'di', 'san', 'e', 'color', 'cui', 'tu', 'fai', 'cotanto', 'mesti'], ['allor', 'si', 'mosse', 'e', 'io', 'li', 'tenni', 'dietro'], ['lo', 'giorno', 'se', 'n', 'andava', 'e', 'l', 'aere', 'bruno', 'toglieva', 'li', 'animai', 'che', 'sono', 'da', 'le', 'fatiche', 'loro', 'e', 'io', 'sol', 'uno', 'm', 'apparecchiava', 'a', 'sostener', 'la', 'sì', 'del', 'cammino', 'e', 'sì', 'de', 'la', 'pietate', 'che', 'ritrarrà', 'la', 'mente', 'che', 'non', 'erra'], ['o', 'aiutate', 'o', 'mente', 'che', 'scrivesti', 'ciò', 'vidi', 'qui', 'si', 'parrà', 'la', 'tua'], ['io', 'cominciai', 'poeta', 'che', 'mi', 'guidi', 'guarda', 'la', 'mia', 'virtù', 's', 'ell', 'è', 'possente', 'prima', 'ch', 'a', 'l', 'alto', 'passo', 'tu', 'mi', 'fidi'], ['tu', 'dici', 'che', 'di', 'il', 'parente', 'ancora', 'ad', 'secolo', 'andò', 'e', 'fu', 'sensibilmente'], ['però', 'se', 'l', 'd', 'ogne', 'male', 'cortese', 'i', 'fu', 'pensando', 'effetto', 'ch', 'uscir', 'dovea', 'di', 'lui', 'e', 'l', 'chi', 'e', 'l', 'quale', 'pare', 'indegno', 'ad', 'omo', 'd', 'intelletto', 'ch', 'e', 'fu', 'de', 'l', 'alma', 'roma', 'e', 'di', 'impero', 'empireo', 'ciel', 'eletto', 'la', 'l', 'quale', 'a', 'voler', 'dir', 'lo', 'vero', 'fu', 'stabilita', 'per', 'lo', 'loco', 'u', 'siede', 'il', 'maggior', 'piero'], ['per', 'quest', 'andata', 'onde', 'li', 'dai', 'tu', 'vanto', 'intese', 'cose', 'che', 'furon', 'cagione', 'di', 'vittoria', 'e', 'del', 'papale', 'ammanto'], ['lo', 'vas', 'd', 'elezïone', 'per', 'recarne', 'conforto', 'a', 'quella', 'fede', 'ch', 'è', 'principio', 'a', 'la', 'via', 'di', 'salvazione'], ['ma', 'io', 'o', 'chi', 'l', 'io', 'non', 'enëa', 'io', 'non', 'me', 'degno', 'a', 'ciò', 'né', 'io', 'né', 'altri', 'l', 'crede'], ['per', 'che', 'se', 'io', 'm', 'abbandono', 'temo', 'che', 'la', 'venuta', 'non', 'sia'], ['se', 'savio', 'intendi', 'me', 'ch', 'i', 'non', 'ragiono'], ['e', 'qual', 'che', 'disvuol', 'ciò', 'che', 'e', 'per', 'novi', 'pensier', 'cangia', 'proposta', 'sì', 'che', 'dal', 'cominciar', 'tutto', 'si', 'tolle', 'tal', 'mi', 'fec', 'ïo', 'n', 'quella', 'oscura', 'costa', 'perché', 'pensando', 'consumai', 'la', 'mpresa', 'che', 'fu', 'cotanto', 'tosta'], ['s', 'i', 'ho', 'ben', 'la', 'parola', 'tua', 'rispuose', 'del', 'magnanimo', 'quell', 'ombra', 'da', 'viltade', 'offesa', 'la', 'qual', 'molte', 'fïate', 'l', 'omo', 'ingombra', 'sì', 'che', 'd', 'onrata', 'impresa', 'lo', 'rivolve', 'come', 'falso', 'veder', 'bestia', 'quand', 'ombra'], ['da', 'questa', 'tema', 'acciò', 'che', 'tu', 'ti', 'solve', 'dirotti', 'io', 'venni', 'e', 'quel', 'ch', 'io', 'ntesi', 'nel', 'primo', 'punto', 'che', 'di', 'te', 'mi', 'dolve'], ['tra', 'color', 'che', 'son', 'sospesi', 'e', 'donna', 'mi', 'chiamò', 'beata', 'e', 'bella', 'tal', 'che', 'di', 'comandare', 'io', 'la', 'richiesi'], ['lucevan', 'li', 'occhi', 'suoi', 'più', 'che', 'la', 'stella', 'e', 'cominciommi', 'a', 'e', 'piana', 'con', 'voce', 'in', 'sua', 'favella', 'o', 'anima', 'cortese', 'mantoana', 'di', 'cui', 'la', 'mondo', 'dura', 'e', 'durerà', 'quanto', 'l', 'mondo', 'lontana', 'l', 'amico', 'mio', 'e', 'la', 'ventura', 'ne', 'la', 'piaggia', 'è', 'impedito', 'sì', 'che', 'vòlt', 'è', 'per', 'paura', 'e', 'temo', 'che', 'non', 'sia', 'già', 'sì', 'smarrito', 'ch', 'io', 'mi', 'al', 'soccorso', 'levata', 'per', 'quel', 'ch', 'i', 'ho', 'di', 'lui', 'nel', 'cielo'], ['or', 'movi', 'e', 'con', 'la', 'tua', 'parola', 'ornata', 'e', 'con', 'ciò', 'c', 'ha', 'mestieri', 'al', 'suo', 'l', 'aiuta', 'sì', 'ch', 'i', 'ne', 'sia'], ['beatrice', 'che', 'ti', 'andare', 'vegno', 'del', 'loco', 'ove', 'tornar', 'disio', 'mi', 'mi', 'fa', 'parlare'], ['quando', 'sarò', 'dinanzi', 'al', 'segnor', 'mio', 'di', 'te', 'mi', 'loderò', 'a', 'lui'], ['tacette', 'allora', 'e', 'poi', 'comincia', 'io', 'o', 'donna', 'di', 'virtù', 'per', 'cui', 'l', 'umana', 'spezie', 'eccede', 'ogne', 'contento', 'di', 'quel', 'ciel', 'c', 'ha', 'minor', 'li', 'cerchi', 'sui', 'tanto', 'm', 'aggrada', 'il', 'tuo', 'comandamento', 'che', 'l', 'ubidir', 'già', 'fosse', 'm', 'è', 'non', 't', 'è', 'uo', 'ch', 'aprirmi', 'il', 'tuo', 'talento'], ['ma', 'la', 'cagion', 'che', 'non', 'ti', 'guardi', 'de', 'lo', 'scender', 'qua', 'giuso', 'in', 'questo', 'centro', 'de', 'l', 'ampio', 'loco', 'ove', 'tornar', 'ardi'], ['da', 'che', 'tu', 'vuo', 'cotanto', 'a', 'dentro', 'dirotti', 'brievemente', 'mi', 'rispuose', 'perch', 'i', 'non', 'temo', 'di', 'venir', 'qua', 'entro'], ['temer', 'si', 'dee', 'di', 'sole', 'quelle', 'cose', 'c', 'hanno', 'di', 'fare', 'altrui', 'de', 'l', 'altre', 'no', 'ché', 'non'], ['i', 'da', 'dio', 'sua', 'mercé', 'tale', 'la', 'vostra', 'miseria', 'non', 'mi', 'tange', 'd', 'esto', 'ncendio', 'non', 'm', 'assale'], ['donna', 'è', 'gentil', 'nel', 'ciel', 'che', 'si', 'compiange', 'di', 'questo', 'mpedimento', 'ov', 'io', 'ti', 'mando', 'sì', 'che', 'là', 'sù', 'frange'], ['questa', 'chiese', 'lucia', 'in', 'suo', 'dimando', 'e', 'disse', 'ha', 'bisogno', 'il', 'tuo', 'fedele', 'di', 'te', 'e', 'io', 'a', 'te', 'lo'], ['lucia', 'ciascun', 'si', 'mosse', 'e', 'venne', 'al', 'loco', 'era', 'che', 'mi', 'sedea', 'con', 'l', 'antica', 'rachele'], ['disse', 'loda', 'di', 'dio', 'non', 'soccorri', 'quei', 'che', 'tanto', 'ch', 'uscì', 'per', 'te', 'de', 'la', 'volgare', 'schiera', 'non', 'odi', 'tu', 'la', 'pieta', 'del', 'suo', 'pianto', 'non', 'vedi', 'tu', 'che', 'l', 'combatte', 'su', 'la', 'fiumana', 'ove', 'l', 'mar', 'non', 'ha', 'vanto'], ['al', 'mondo', 'non', 'fur', 'mai', 'persone', 'ratte', 'a', 'far', 'lor', 'a', 'fuggir', 'lor', 'danno', 'com', 'io', 'dopo', 'cotai', 'parole', 'fatte', 'venni', 'qua', 'giù', 'del', 'mio', 'beato', 'scanno', 'fidandomi', 'del', 'ch', 'onora', 'te', 'e', 'quei', 'ch', 'udito', 'l', 'hanno'], ['che', 'm', 'ragionato', 'questo', 'occhi', 'lucenti', 'lagrimando', 'volse', 'per', 'che', 'mi', 'fece', 'del', 'venir', 'più', 'presto'], ['e', 'venni', 'a', 'te', 'così', 'com', 'ella', 'volse', 'd', 'inanzi', 'ti', 'levai', 'che', 'del', 'bel', 'monte', 'il', 'corto', 'andar'], ['dunque', 'che', 'è', 'perché', 'perché', 'tanta', 'viltà', 'nel', 'allette', 'perché', 'ardire', 'e', 'franchezza', 'non', 'hai', 'poscia', 'che', 'tai', 'tre', 'donne', 'benedette', 'curan', 'di', 'te', 'ne', 'la', 'corte', 'del', 'cielo', 'e', 'l', 'mio', 'parlar', 'tanto', 'ben', 'ti', 'promette'], ['quali', 'fioretti', 'dal', 'gelo', 'chinati', 'e', 'poi', 'sol', 'li', 'mbianca', 'si', 'drizzan', 'tutti', 'aperti', 'in', 'loro', 'stelo', 'tal', 'mi', 'fec', 'io', 'di', 'mia', 'e', 'ardire', 'al', 'cor', 'mi', 'corse', 'ch', 'i', 'persona', 'oh', 'pietosa', 'colei', 'che', 'mi', 'soccorse', 'e', 'te', 'cortese', 'ch', 'ubidisti', 'a', 'le', 'vere', 'parole', 'che', 'ti', 'porse', 'tu', 'm', 'hai', 'con', 'il', 'cor', 'disposto', 'sì', 'al', 'le', 'parole', 'tue', 'ch', 'i', 'nel', 'primo', 'proposto'], ['or', 'va', 'ch', 'un', 'sol', 'volere', 'è', 'd', 'tu', 'duca', 'tu', 'segnore', 'e', 'tu', 'maestro'], ['così', 'li', 'dissi', 'e', 'poi', 'che', 'per', 'lo', 'cammino', 'alto', 'e', 'silvestro'], ['per', 'me', 'si', 'va', 'ne', 'la', 'città', 'per', 'me', 'si', 'va', 'ne', 'l', 'per', 'me', 'si', 'va', 'tra', 'la', 'perduta', 'gente'], ['il', 'mio', 'alto', 'fattore', 'fecemi', 'la', 'divina', 'somma', 'sapïenza', 'e', 'l', 'amore'], ['dinanzi', 'a', 'me', 'non', 'fuor', 'cose', 'create', 'se', 'e', 'io', 'etterno', 'duro'], ['lasciate', 'ogne', 'voi', 'ch', 'intrate'], ['queste', 'parole', 'di', 'colore', 'oscuro', 'vid', 'ïo', 'scritte', 'al', 'sommo', 'd', 'ch', 'il', 'senso', 'lor', 'm', 'è', 'duro'], ['ed', 'a', 'persona', 'accorta', 'qui', 'si', 'lasciare', 'ogne', 'sospetto', 'ogne', 'viltà', 'convien', 'che', 'qui', 'sia', 'morta'], ['noi', 'siam', 'venuti', 'al', 'loco', 'ov', 'i', 't', 'ho', 'detto', 'che', 'tu', 'vedrai', 'le', 'genti', 'dolorose', 'c', 'hanno', 'perduto', 'il', 'ben', 'de', 'l', 'intelletto'], ['e', 'mano', 'a', 'la', 'mia', 'puose', 'con', 'lieto', 'io', 'mi', 'mi', 'mise', 'dentro', 'a', 'le', 'segrete', 'cose'], ['quivi', 'sospiri', 'pianti', 'e', 'alti', 'guai', 'risonavan', 'per', 'l', 'aere', 'sanza', 'stelle', 'per', 'ch', 'io', 'al', 'cominciar', 'ne'], ['diverse', 'lingue', 'orribili', 'favelle', 'parole', 'di', 'd', 'voci', 'alte', 'e', 'fioche', 'e', 'suon', 'man', 'con', 'facevano', 'un', 'tumulto', 'il', 's', 'sempre', 'in', 'quell', 'aura', 'sanza', 'tempo', 'tinta', 'come', 'la', 'rena', 'quando', 'turbo', 'spira'], ['e', 'io', 'ch', 'avea', 'd', 'error', 'testa', 'cinta', 'dissi', 'maestro', 'che', 'è', 'quel', 'ch', 'i', 'odo', 'e', 'che', 'gent', 'è', 'che', 'par', 'nel', 'duol', 'sì', 'vinta'], ['ed', 'elli', 'a', 'me', 'questo', 'misero', 'modo', 'tegnon', 'l', 'anime', 'triste', 'di', 'coloro', 'sanza', 'nfamia', 'e', 'sanza'], ['mischiate', 'sono', 'a', 'quel', 'coro', 'de', 'li', 'angeli', 'non', 'furon', 'ribelli', 'né', 'fur', 'fedeli', 'a', 'dio', 'sé', 'fuoro'], ['caccianli', 'i', 'ciel', 'per', 'non', 'men', 'belli', 'né', 'lo', 'profondo', 'inferno', 'li', 'riceve', 'ch', 'alcuna', 'gloria', 'i', 'rei', 'avrebber', 'd', 'elli'], ['maestro', 'che', 'a', 'lor', 'che', 'lamentar', 'li', 'fa', 'sì', 'forte'], ['rispuose', 'dicerolti', 'molto', 'breve'], ['questi', 'non', 'hanno', 'speranza', 'di', 'la', 'lor', 'cieca', 'vita', 'è', 'tanto', 'son', 'd', 'ogne', 'altra', 'sorte'], ['fama', 'di', 'loro', 'il', 'mondo', 'esser', 'non', 'lassa', 'e', 'giustizia', 'li', 'sdegna', 'non', 'ragioniam', 'di', 'lor', 'ma', 'guarda', 'e', 'passa'], ['e', 'io', 'che', 'riguardai', 'vidi', 'una', 'nsegna', 'che', 'girando', 'correva', 'tanto', 'ratta', 'che', 'd', 'ogne', 'posa', 'mi', 'parea', 'indegna', 'le', 'venìa', 'sì', 'lunga', 'tratta', 'di', 'gente', 'ch', 'i', 'non', 'averei', 'morte', 'n', 'avesse', 'disfatta'], ['poscia', 'ch', 'ebbi', 'alcun', 'vidi', 'e', 'conobbi', 'l', 'ombra', 'di', 'colui', 'che', 'viltade', 'il', 'gran', 'rifiuto'], ['incontanente', 'intesi', 'e', 'certo', 'fui', 'che', 'questa', 'era', 'la', 'setta', 'd', 'i', 'cattivi', 'a', 'dio', 'spiacenti', 'e', 'a', 'nemici', 'sui'], ['questi', 'sciaurati', 'che', 'mai', 'non', 'fur', 'erano', 'stimolati', 'mosconi', 'e', 'da', 'vespe', 'ch', 'eran', 'ivi'], ['elle', 'rigavan', 'lor', 'di', 'il', 'volto', 'che', 'mischiato', 'di', 'a', 'lor', 'piedi', 'da', 'fastidiosi', 'vermi', 'era', 'ricolto'], ['e', 'poi', 'ch', 'a', 'riguardar', 'oltre', 'mi', 'genti', 'a', 'la', 'riva', 'd', 'un', 'gran', 'fiume', 'per', 'ch', 'io', 'maestro', 'or', 'mi', 'concedi', 'ch', 'i', 'sappia', 'quali', 'sono', 'e', 'qual', 'costume', 'le', 'fa', 'di', 'trapassar', 'parer', 'sì', 'pronte', 'com', 'i', 'fioco', 'lume'], ['ed', 'elli', 'a', 'me', 'le', 'cose', 'ti', 'fier', 'conte', 'quando', 'noi', 'fermerem', 'li', 'nostri', 'passi', 'su', 'la', 'trista', 'riviera', 'd', 'acheronte'], ['allor', 'con', 'li', 'occhi', 'vergognosi', 'e', 'bassi', 'temendo', 'no', 'l', 'mio', 'dir', 'li', 'fosse', 'grave', 'infino', 'al', 'fiume', 'del', 'mi', 'trassi'], ['ed', 'ecco', 'verso', 'noi', 'venir', 'per', 'nave', 'un', 'vecchio', 'bianco', 'per', 'pelo', 'gridando', 'a', 'voi', 'anime', 'prave', 'non', 'isperate', 'mai', 'veder', 'lo', 'cielo', 'i', 'vegno', 'per', 'menarvi', 'a', 'l', 'altra', 'riva', 'ne', 'le', 'tenebre', 'etterne', 'in', 'caldo', 'e', 'n', 'gelo'], ['e', 'tu', 'che', 'se', 'costì', 'anima', 'pàrtiti', 'da', 'cotesti', 'che', 'son', 'morti'], ['ma', 'che', 'vide', 'ch', 'io', 'non', 'mi', 'partiva', 'disse', 'per', 'via', 'per', 'altri', 'porti', 'verrai', 'a', 'qui', 'per', 'passare', 'più', 'lieve', 'legno', 'convien', 'che', 'ti', 'porti'], ['e', 'l', 'duca', 'lui', 'caron', 'non', 'ti', 'crucciare', 'vuolsi', 'così', 'colà', 'puote', 'ciò', 'che', 'si', 'vuole', 'e', 'più', 'non', 'dimandare'], ['fuor', 'quete', 'le', 'lanose', 'gote', 'nocchier', 'de', 'la', 'livida', 'palude', 'che', 'ntorno', 'a', 'li', 'occhi', 'fiamme', 'rote'], ['ma', 'quell', 'anime', 'ch', 'eran', 'e', 'cangiar', 'colore', 'e', 'dibattero', 'i', 'denti', 'ratto', 'le', 'parole', 'crude'], ['bestemmiavano', 'dio', 'e', 'lor', 'parenti', 'l', 'e', 'l', 'loco', 'e', 'l', 'tempo', 'e', 'l', 'seme', 'di', 'lor', 'semenza', 'lor', 'nascimenti'], ['poi', 'si', 'ritrasser', 'tutte', 'quante', 'insieme', 'forte', 'piangendo', 'a', 'la', 'riva', 'malvagia', 'ch', 'attende', 'ciascun', 'uom', 'che', 'teme'], ['caron', 'di', 'accennando', 'tutte', 'le', 'raccoglie', 'batte', 'qualunque', 's', 'adagia'], ['come', 'd', 'autunno', 'si', 'levan', 'le', 'foglie', 'l', 'una', 'appresso', 'de', 'l', 'che', 'l', 'ramo', 'vede', 'terra', 'tutte', 'le', 'sue', 'spoglie', 'similemente', 'il', 'mal', 'seme', 'd', 'adamo', 'gittansi', 'di', 'quel', 'lito', 'ad', 'una', 'per', 'cenni', 'come', 'augel', 'per', 'suo', 'richiamo'], ['così', 'sen', 'vanno', 'su', 'per', 'l', 'onda', 'bruna', 'e', 'avanti', 'che', 'sien', 'di', 'là', 'discese', 'di', 'qua', 'nuova', 'schiera', 's', 'auna'], ['figliuol', 'mio', 'disse', 'l', 'maestro', 'cortese', 'quelli', 'che', 'muoion', 'ne', 'l', 'dio', 'tutti', 'convegnon', 'qui', 'd', 'ogne', 'paese', 'e', 'a', 'lo', 'ché', 'la', 'divina', 'giustizia', 'li', 'sprona', 'sì', 'che', 'tema', 'si', 'volve', 'in', 'disio'], ['passa', 'mai', 'anima', 'buona', 'e', 'però', 'se', 'caron', 'di', 'te', 'si', 'lagna', 'ben', 'puoi', 'sapere', 'omai', 'che', 'l', 'suo', 'dir', 'suona'], ['finito', 'la', 'buia', 'campagna', 'tremò', 'sì', 'forte', 'che', 'de', 'lo', 'spavento', 'la', 'mente', 'di', 'sudore', 'ancor', 'mi', 'bagna'], ['la', 'terra', 'lagrimosa', 'diede', 'vento', 'una', 'luce', 'vermiglia', 'la', 'qual', 'mi', 'vinse', 'ciascun', 'sentimento', 'e', 'caddi', 'uom', 'cui', 'sonno', 'piglia'], ['ruppemi', 'l', 'alto', 'sonno', 'ne', 'la', 'testa', 'un', 'greve', 'truono', 'sì', 'ch', 'io', 'mi', 'riscossi', 'come', 'persona', 'ch', 'è', 'per', 'e', 'l', 'occhio', 'riposato', 'intorno', 'mossi', 'levato', 'e', 'fiso', 'riguardai', 'lo', 'dov', 'io', 'fossi'], ['vero', 'è', 'che', 'n', 'su', 'la', 'proda', 'mi', 'trovai', 'de', 'la', 'valle', 'd', 'abisso', 'dolorosa', 'che', 'ntrono', 'accoglie', 'd', 'infiniti', 'guai'], ['oscura', 'e', 'profonda', 'era', 'e', 'tanto', 'che', 'per', 'ficcar', 'lo', 'viso', 'a', 'fondo', 'io', 'non', 'vi', 'alcuna', 'cosa'], ['or', 'discendiam', 'giù', 'nel', 'cieco', 'mondo', 'il', 'poeta', 'tutto', 'smorto'], ['io', 'sarò', 'primo', 'e', 'tu', 'sarai', 'secondo'], ['e', 'io', 'che', 'del', 'color', 'mi', 'fui', 'accorto', 'come', 'verrò', 'se', 'tu', 'che', 'mio', 'dubbiare', 'conforto'], ['ed', 'elli', 'a', 'me', 'de', 'le', 'genti', 'che', 'son', 'qua', 'giù', 'nel', 'dipigne', 'quella', 'pietà', 'che', 'tu', 'per', 'tema', 'senti'], ['andiam', 'ché', 'la', 'via', 'ne'], ['così', 'e', 'così', 'mi', 'fé', 'intrare', 'nel', 'primo', 'cerchio', 'che', 'l', 'abisso', 'cigne'], ['quivi', 'che', 'per', 'ascoltare', 'non', 'avea', 'pianto', 'mai', 'che', 'di', 'sospiri', 'che', 'l', 'aura', 'facevan', 'tremare', 'ciò', 'avvenia', 'di', 'martìri', 'ch', 'le', 'turbe', 'ch', 'eran', 'molte', 'e', 'grandi', 'd', 'di', 'femmine', 'e', 'di', 'viri'], ['lo', 'buon', 'maestro', 'a', 'me', 'tu', 'non', 'dimandi', 'che', 'spiriti', 'son', 'questi', 'che', 'tu', 'vedi', 'or', 'vo', 'che', 'sappi', 'innanzi', 'che', 'più', 'andi', 'ch', 'ei', 'non', 'e', 's', 'mercedi', 'perché', 'non', 'ebber', 'è', 'porta', 'de', 'la', 'fede', 'che', 'tu', 'credi', 'e', 's', 'e', 'furon', 'dinanzi', 'al', 'cristianesmo', 'adorar', 'dio', 'e', 'questi', 'cotai', 'son', 'io', 'medesmo'], ['per', 'tai', 'difetti', 'non', 'rio', 'semo', 'sol', 'di', 'tanto', 'che', 'sanza', 'speme', 'in', 'disio'], ['gran', 'duol', 'mi', 'ntesi', 'però', 'che', 'gente', 'di', 'molto', 'valore', 'conobbi', 'che', 'n', 'quel', 'limbo', 'eran', 'sospesi'], ['dimmi', 'maestro', 'mio', 'dimmi', 'segnore', 'comincia', 'io', 'per', 'voler', 'esser', 'certo', 'di', 'quella', 'fede', 'che', 'vince', 'ogne', 'errore', 'uscicci', 'mai', 'o', 'per', 'suo', 'per', 'altrui', 'che', 'fosse', 'beato'], ['e', 'quei', 'che', 'ntese', 'il', 'coverto', 'rispuose', 'io', 'era', 'nuovo', 'in', 'questo', 'stato', 'quando', 'venire', 'un', 'possente', 'con', 'segno', 'di', 'vittoria'], ['trasseci', 'l', 'ombra', 'del', 'parente', 'd', 'abèl', 'suo', 'figlio', 'e', 'quella', 'di', 'noè', 'di', 'e', 'ubidente', 'abraàm', 'patrïarca', 're', 'israèl', 'con', 'lo', 'padre', 'e', 'co', 'suoi', 'nati', 'e', 'con', 'rachele', 'per', 'cui', 'tanto', 'fé', 'e', 'altri', 'molti', 'e', 'feceli', 'beati'], ['e', 'vo', 'che', 'che', 'dinanzi', 'ad', 'essi', 'spiriti', 'umani'], ['non', 'lasciavam', 'l', 'ei', 'dicessi', 'ma', 'passavam', 'la', 'selva', 'dico', 'di', 'spiriti', 'spessi'], ['non', 'era', 'lunga', 'la', 'nostra', 'via', 'di', 'qua', 'dal', 'sonno', 'io', 'un', 'di', 'tenebre', 'vincia'], ['di', 'lungi', 'n', 'eravamo', 'ancora', 'un', 'poco', 'ma', 'non', 'sì', 'ch', 'io', 'non', 'discernessi', 'in', 'ch', 'orrevol', 'gente', 'possedea', 'quel', 'loco'], ['o', 'tu', 'ch', 'onori', 'scïenzïa', 'e', 'arte', 'questi', 'chi', 'son', 'c', 'hanno', 'cotanta', 'onranza', 'che', 'dal', 'de', 'li', 'altri', 'li', 'diparte'], ['e', 'a', 'me', 'l', 'onrata', 'di', 'suona', 'sù', 'ne', 'la', 'tua', 'grazïa', 'in', 'ciel', 'sì', 'li', 'avanza'], ['intanto', 'voce', 'fu', 'per', 'me', 'l', 'altissimo', 'poeta', 'l', 'ombra', 'sua', 'torna', 'ch', 'dipartita'], ['poi', 'che', 'la', 'voce', 'fu', 'restata', 'e', 'queta', 'grand', 'ombre', 'a', 'noi', 'venire', 'sembianz', 'avevan', 'né', 'trista', 'né', 'lieta'], ['lo', 'cominciò', 'a', 'dire', 'mira', 'colui', 'con', 'spada', 'in', 'vien', 'dinanzi', 'ai', 'tre', 'sì', 'come', 'sire', 'quelli', 'è', 'omero', 'poeta', 'sovrano', 'l', 'orazio', 'satiro', 'che', 'vene', 'ovidio', 'è', 'l', 'terzo', 'e', 'l', 'ultimo', 'lucano'], ['però', 'che', 'ciascun', 'meco', 'si', 'nome', 'che', 'sonò', 'la', 'voce', 'sola', 'fannomi', 'onore', 'e', 'di', 'ciò', 'fanno', 'bene'], ['vid', 'i', 'adunar', 'la', 'bella', 'scola', 'di', 'quel', 'segnor', 'de', 'l', 'altissimo', 'canto', 'che', 'sovra', 'li', 'altri', 'com', 'aquila', 'vola'], ['da', 'ch', 'ebber', 'insieme', 'a', 'me', 'con', 'cenno', 'e', 'l', 'mio', 'maestro', 'sorrise', 'di', 'e', 'più', 'd', 'mi', 'fenno', 'ch', 'e', 'sì', 'mi', 'fecer', 'de', 'la', 'loro', 'schiera', 'sì', 'ch', 'io', 'fui', 'tra', 'cotanto', 'senno'], ['così', 'andammo', 'infino', 'a', 'la', 'cose', 'che', 'l', 'tacere', 'è', 'bello', 'sì', 'com', 'era', 'l', 'parlar', 'colà', 'dov', 'era'], ['venimmo', 'al', 'un', 'nobile', 'castello', 'sette', 'volte', 'cerchiato', 'd', 'alte', 'mura', 'difeso', 'intorno', 'd', 'un', 'bel'], ['questo', 'passammo', 'per', 'sette', 'porte', 'intrai', 'con', 'questi', 'savi', 'giugnemmo', 'in', 'prato', 'di', 'fresca', 'verdura'], ['genti', 'v', 'eran', 'tardi', 'e', 'gravi', 'di', 'autorità', 'ne', 'lor', 'parlavan', 'rado', 'con', 'voci', 'soavi'], ['così', 'da', 'l', 'un', 'de', 'canti', 'in', 'loco', 'aperto', 'luminoso', 'sì', 'che', 'veder', 'si', 'potien', 'tutti'], ['colà', 'diritto', 'sovra', 'l', 'verde', 'li', 'spiriti', 'che', 'del', 'in', 'me'], ['i', 'vidi', 'molti', 'quai', 'ettòr', 'ed', 'enea', 'cesare', 'armato', 'con', 'li', 'occhi', 'grifagni'], ['vidi', 'cammilla', 'e', 'la', 'pantasilea', 'da', 'l', 'altra', 'vidi', 'l', 're', 'latino', 'che', 'con', 'lavina', 'sua', 'figlia', 'sedea'], ['vidi', 'quel', 'bruto', 'che', 'cacciò', 'tarquino', 'lucrezia', 'iulia', 'marzïa', 'e', 'corniglia', 'e', 'solo', 'in', 'parte', 'vidi', 'l', 'saladino'], ['poi', 'ch', 'un', 'poco', 'ciglia', 'vidi', 'l', 'maestro', 'di', 'color', 'che', 'sanno', 'seder', 'tra'], ['tutti', 'onor', 'li', 'fanno', 'vid', 'ïo', 'socrate', 'e', 'nnanzi', 'a', 'li', 'altri', 'più', 'presso', 'li', 'democrito', 'che', 'l', 'mondo', 'a', 'caso', 'pone', 'dïogenès', 'anassagora', 'zenone', 'e', 'vidi', 'il', 'quale', 'dïascoride', 'dico', 'orfeo', 'tulïo', 'e', 'lino', 'e', 'seneca', 'morale', 'e', 'tolomeo', 'che', 'l', 'gran', 'feo'], ['io', 'non', 'posso', 'ritrar', 'di', 'pieno', 'però', 'che', 'sì', 'il', 'tema', 'che', 'volte', 'al', 'fatto', 'il', 'dir', 'vien', 'meno'], ['la', 'compagnia', 'in', 'due', 'si', 'scema', 'per', 'altra', 'via', 'il', 'savio', 'duca', 'fuor', 'de', 'la', 'queta', 'ne', 'l', 'aura', 'che'], ['e', 'vegno', 'in', 'parte', 'ove', 'non', 'è', 'che', 'luca'], ['così', 'discesi', 'del', 'cerchio', 'giù', 'nel', 'secondo', 'che', 'men', 'loco', 'cinghia', 'e', 'tanto', 'più', 'dolor', 'che', 'punge', 'a'], ['stavvi', 'minòs', 'orribilmente', 'e', 'ringhia', 'le', 'colpe', 'ne', 'l', 'giudica', 'e', 'manda', 'secondo', 'ch', 'avvinghia'], ['dico', 'che', 'quando', 'l', 'anima', 'mal', 'nata', 'li', 'vien', 'tutta', 'si', 'confessa', 'e', 'quel', 'conoscitor', 'de', 'le', 'qual', 'loco', 'd', 'inferno', 'è', 'da', 'essa', 'cignesi', 'con', 'la', 'coda', 'tante', 'gradi', 'vuol', 'sia', 'messa'], ['sempre', 'dinanzi', 'a', 'lui', 'ne', 'stanno', 'molte', 'vanno', 'a', 'ciascuna', 'al', 'giudizio', 'dicono', 'e', 'odono', 'e', 'poi', 'son', 'giù', 'volte'], ['o', 'vieni', 'al', 'doloroso', 'disse', 'minòs', 'a', 'me', 'quando', 'mi', 'vide', 'lasciando', 'l', 'atto', 'di', 'cotanto', 'offizio', 'guarda', 'com', 'entri', 'e', 'di', 'cui', 'tu', 'ti', 't', 'inganni', 'l', 'ampiezza', 'de', 'l', 'intrare'], ['e', 'l', 'duca', 'mio', 'a', 'lui', 'perché', 'pur', 'non', 'impedir', 'lo', 'fatale', 'vuolsi', 'così', 'colà', 'dove', 'si', 'puote', 'ciò', 'che', 'si', 'vuole', 'e', 'più', 'non', 'dimandare'], ['or', 'note', 'a', 'farmisi', 'sentire', 'or', 'son', 'venuto', 'là', 'dove', 'molto', 'pianto', 'mi', 'percuote'], ['io', 'venni', 'in', 'loco', 'd', 'ogne', 'che', 'mugghia', 'come', 'fa', 'mar', 'per', 'tempesta', 'se', 'da', 'contrari', 'è'], ['la', 'bufera', 'che', 'mai', 'non', 'resta', 'li', 'spirti', 'con', 'la', 'sua', 'voltando', 'e', 'li', 'molesta'], ['giungon', 'a', 'la', 'ruina', 'quivi', 'le', 'il', 'lamento', 'la', 'virtù', 'divina'], ['intesi', 'ch', 'a', 'così', 'fatto', 'tormento', 'enno', 'dannati', 'i', 'peccator', 'carnali', 'che', 'la', 'ragion', 'sommettono', 'al', 'talento'], ['e', 'li', 'ne', 'portan', 'l', 'ali', 'a', 'schiera', 'larga', 'e', 'piena', 'fiato', 'li', 'di', 'qua', 'di', 'là', 'di', 'sù', 'li', 'mena', 'nulla', 'speranza', 'li', 'conforta', 'mai', 'non', 'che', 'di', 'posa', 'ma', 'di', 'minor', 'pena'], ['e', 'come', 'i', 'gru', 'van', 'cantando', 'lor', 'lai', 'in', 'aere', 'di', 'sé', 'lunga', 'riga', 'così', 'vid', 'io', 'venir', 'guai', 'ombre', 'da', 'la', 'per', 'ch', 'i', 'dissi', 'maestro', 'chi', 'son', 'quelle', 'genti', 'aura', 'sì', 'gastiga'], ['la', 'prima', 'di', 'color', 'di', 'cui', 'novelle', 'tu', 'vuo', 'mi', 'disse', 'allotta', 'fu', 'molte', 'favelle'], ['a', 'vizio', 'di', 'lussuria', 'fu', 'sì', 'rotta', 'che', 'libito', 'fé', 'licito', 'in', 'sua', 'legge', 'per', 'il', 'biasmo', 'in', 'che', 'era', 'condotta'], ['ell', 'è', 'semiramìs', 'di', 'cui', 'si', 'legge', 'che', 'succedette', 'a', 'nino', 'sua', 'sposa', 'tenne', 'terra', 'che', 'l', 'soldan', 'corregge'], ['l', 'altra', 'è', 'colei', 'che', 's', 'ancise', 'e', 'fede', 'al', 'cener', 'di', 'sicheo', 'poi', 'è', 'cleopatràs', 'lussurïosa'], ['elena', 'cui', 'tanto', 'reo', 'tempo', 'si', 'volse', 'e', 'vedi', 'l', 'grande', 'achille', 'che', 'con', 'amore', 'al', 'fine'], ['vedi', 'parìs', 'più', 'di', 'mille', 'ombre', 'mostrommi', 'e', 'nominommi', 'a', 'dito', 'ch', 'amor', 'di', 'nostra', 'vita', 'dipartille'], ['poscia', 'ch', 'io', 'ebbi', 'l', 'mio', 'dottore', 'udito', 'nomar', 'le', 'donne', 'antiche', 'e', 'cavalieri', 'pietà', 'e', 'fui', 'quasi', 'smarrito'], ['i', 'cominciai', 'poeta', 'volontieri', 'parlerei', 'a', 'quei', 'che', 'nsieme', 'vanno', 'e', 'paion', 'sì', 'al', 'vento', 'esser', 'leggeri'], ['ed', 'elli', 'me', 'vedrai', 'quando', 'saranno', 'più', 'presso', 'a', 'noi', 'e', 'tu', 'allor', 'li', 'priega', 'per', 'quello', 'amor', 'che', 'i', 'mena', 'ed', 'ei', 'verranno'], ['sì', 'tosto', 'come', 'il', 'vento', 'a', 'noi', 'li', 'piega', 'mossi', 'la', 'voce', 'o', 'anime', 'affannate', 'venite', 'a', 'noi', 'parlar', 's', 'altri', 'nol', 'niega'], ['quali', 'colombe', 'dal', 'disio', 'chiamate', 'con', 'l', 'ali', 'alzate', 'al', 'dolce', 'nido', 'vegnon', 'per', 'l', 'aere', 'dal', 'voler', 'portate', 'cotali', 'uscir', 'de', 'la', 'è', 'noi', 'venendo', 'per', 'l', 'aere', 'maligno', 'sì', 'forte', 'fu', 'l', 'affettüoso', 'grido'], ['o', 'animal', 'grazïoso', 'e', 'benigno', 'che', 'visitando', 'l', 'aere', 'perso', 'noi', 'che', 'tignemmo', 'il', 'di', 'sanguigno', 'fosse', 'il', 're', 'de', 'l', 'noi', 'pregheremmo', 'lui', 'de', 'la', 'tua', 'poi', 'c', 'hai', 'pietà', 'del', 'nostro', 'mal', 'perverso'], ['di', 'quel', 'che', 'che', 'parlar', 'vi', 'piace', 'noi', 'udiremo', 'e', 'parleremo', 'a', 'voi', 'mentre', 'che', 'come', 'fa', 'ci', 'tace'], ['siede', 'la', 'terra', 'dove', 'nata', 'fui', 'su', 'la', 'marina', 'dove', 'l', 'po', 'discende', 'co', 'seguaci', 'sui'], ['amor', 'ch', 'al', 'cor', 'gentil', 'ratto', 's', 'apprende', 'prese', 'costui', 'de', 'la', 'bella', 'persona', 'che', 'mi', 'fu', 'tolta', 'e', 'ancor', 'm', 'offende'], ['amor', 'ch', 'a', 'nullo', 'amato', 'amar', 'perdona', 'mi', 'prese', 'costui', 'piacer', 'sì', 'forte', 'che', 'come', 'vedi', 'ancor', 'non', 'm', 'abbandona'], ['amor', 'condusse', 'noi', 'una', 'morte'], ['caina', 'attende', 'chi', 'a', 'vita', 'ci', 'spense'], ['queste', 'parole', 'da', 'lor', 'ci', 'fuor', 'porte'], ['quand', 'io', 'intesi', 'quell', 'anime', 'offense', 'china', 'il', 'viso', 'e', 'il', 'tenni', 'basso', 'fin', 'l', 'mi', 'disse', 'che'], ['quando', 'rispuosi', 'cominciai', 'oh', 'lasso', 'dolci', 'pensier', 'quanto', 'disio', 'menò', 'costoro', 'al', 'doloroso', 'passo'], ['poi', 'mi', 'rivolsi', 'a', 'loro', 'e', 'io', 'e', 'cominciai', 'i', 'tuoi', 'a', 'lagrimar', 'mi', 'fanno', 'tristo', 'e', 'pio'], ['ma', 'tempo', 'd', 'i', 'dolci', 'sospiri', 'a', 'che', 'e', 'come', 'concedette', 'amore', 'che', 'conosceste', 'i', 'dubbiosi', 'disiri'], ['e', 'quella', 'a', 'me', 'maggior', 'che', 'tempo', 'felice', 'nella', 'miseria', 'e', 'ciò', 'sa', 'l', 'tuo', 'dottore'], ['ma', 's', 'a', 'conoscer', 'la', 'prima', 'radice', 'amor', 'tu', 'hai', 'cotanto', 'affetto', 'dirò', 'come', 'colui', 'che', 'piange'], ['noi', 'leggiavamo', 'un', 'giorno', 'per', 'diletto', 'di', 'lancialotto', 'come', 'amor', 'lo', 'strinse', 'soli', 'eravamo', 'e', 'sospetto'], ['per', 'più', 'fïate', 'li', 'occhi', 'ci', 'quella', 'lettura', 'e', 'scolorocci', 'il', 'viso', 'ma', 'solo', 'un', 'punto', 'fu', 'che', 'ci', 'vinse'], ['quando', 'il', 'esser', 'basciato', 'cotanto', 'questi', 'che', 'mai', 'da', 'me', 'non', 'fia', 'diviso', 'la', 'bocca', 'mi', 'tutto', 'tremante'], ['libro', 'e', 'chi', 'lo', 'scrisse', 'quel', 'giorno', 'più', 'non', 'vi', 'leggemmo', 'avante'], ['mentre', 'che', 'l', 'uno', 'spirto', 'questo', 'disse', 'l', 'altro', 'piangëa', 'sì', 'che', 'di', 'pietade', 'io', 'venni', 'men', 'così', 'com', 'io', 'morisse'], ['e', 'caddi', 'come', 'morto', 'cade'], ['al', 'tornar', 'de', 'la', 'mente', 'che', 'dinanzi', 'a', 'la', 'pietà', 'd', 'i', 'che', 'di', 'trestizia', 'tutto', 'novi', 'tormenti', 'e', 'novi', 'mi', 'veggio', 'intorno', 'io', 'mi', 'mova', 'e', 'ch', 'io', 'mi', 'come', 'che', 'io'], ['io', 'sono', 'al', 'terzo', 'de', 'la', 'piova', 'fredda', 'e', 'greve', 'regola', 'e', 'qualità', 'mai', 'non', 'l', 'è', 'nova'], ['grandine', 'grossa', 'acqua', 'tinta', 'e', 'neve', 'per', 'l', 'aere', 'tenebroso', 'si', 'riversa', 'pute', 'la', 'terra', 'che', 'questo', 'riceve'], ['cerbero', 'fiera', 'crudele', 'e', 'diversa', 'con', 'tre', 'gole', 'caninamente', 'la', 'gente', 'quivi', 'è', 'sommersa'], ['li', 'occhi', 'ha', 'vermigli', 'la', 'barba', 'e', 'atra', 'e', 'l', 'ventre', 'largo', 'e', 'unghiate', 'le', 'mani', 'graffia', 'li', 'spirti', 'ed', 'iscoia', 'ed'], ['urlar', 'li', 'fa', 'la', 'pioggia', 'come', 'cani', 'de', 'l', 'un', 'de', 'lati', 'fanno', 'a', 'l', 'altro', 'volgonsi', 'spesso', 'i', 'miseri', 'profani'], ['ci', 'scorse', 'cerbero', 'il', 'gran', 'vermo', 'le', 'bocche', 'aperse', 'e', 'le', 'sanne', 'non', 'avea', 'membro', 'che', 'tenesse', 'fermo'], ['e', 'l', 'duca', 'mio', 'distese', 'le', 'sue', 'spanne', 'prese', 'la', 'terra', 'e', 'con', 'piene', 'le', 'pugna', 'la', 'gittò', 'le', 'bramose', 'canne'], ['qual', 'cane', 'ch', 'agogna', 'e', 'si', 'racqueta', 'poi', 'che', 'l', 'pasto', 'morde', 'solo', 'a', 'divorarlo', 'intende', 'e', 'pugna', 'si', 'fecer', 'facce', 'lorde', 'de', 'lo', 'demonio', 'cerbero', 'che', 'ntrona', 'l', 'anime', 'sì', 'ch', 'esser', 'sorde'], ['noi', 'passavam', 'su', 'l', 'ombre', 'che', 'adona', 'la', 'greve', 'pioggia', 'e', 'ponavam', 'piante', 'sovra', 'lor', 'che', 'par', 'persona'], ['elle', 'giacean', 'per', 'terra', 'tutte', 'quante', 'fuor', 'd', 'una', 'ch', 'a', 'seder', 'si', 'levò', 'ratto', 'ch', 'ella', 'passarsi'], ['o', 'tu', 'che', 'se', 'per', 'questo', 'nferno', 'tratto', 'mi', 'disse', 'tu', 'prima', 'ch', 'io', 'disfatto', 'fatto'], ['e', 'io', 'l', 'angoscia', 'tu', 'hai', 'forse', 'ti', 'tira', 'fuor', 'de', 'la', 'mia', 'mente', 'sì', 'che', 'non', 'par', 'ch', 'i', 'ti', 'vedessi', 'mai'], ['ma', 'dimmi', 'chi', 'tu', 'se', 'che', 'n', 'sì', 'dolente', 'loco', 'se', 'messo', 'e', 'hai', 'sì', 'fatta', 'pena', 'che', 's', 'altra', 'è', 'maggio', 'nulla', 'è', 'sì'], ['ed', 'elli', 'a', 'me', 'la', 'tua', 'città', 'ch', 'è', 'piena', 'd', 'invidia', 'sì', 'che', 'già', 'seco', 'mi', 'tenne', 'in', 'la', 'vita'], ['voi', 'cittadini', 'mi', 'chiamaste', 'ciacco', 'per', 'la', 'colpa', 'de', 'la', 'come', 'tu', 'vedi', 'a', 'la', 'pioggia', 'mi', 'fiacco'], ['e', 'io', 'anima', 'trista', 'non', 'son', 'sola', 'ché', 'a', 'simil', 'pena', 'stanno', 'per', 'simil', 'colpa'], ['e', 'più', 'fé'], ['io', 'li', 'rispuosi', 'ciacco', 'il', 'tuo', 'affanno', 'mi', 'pesa', 'sì', 'lagrimar', 'mi', 'nvita', 'ma', 'dimmi', 'se', 'tu', 'sai', 'a', 'che', 'verranno', 'li', 'cittadin', 'de', 'la', 'città', 'partita', 's', 'alcun', 'v', 'giusto', 'e', 'dimmi', 'per', 'che', 'l', 'ha', 'tanta', 'discordia', 'assalita'], ['e', 'quelli', 'a', 'me', 'dopo', 'lunga', 'tencione', 'verranno', 'al', 'sangue', 'parte', 'l', 'molta'], ['poi', 'appresso', 'convien', 'che', 'caggia', 'infra', 'tre', 'soli', 'e', 'che', 'l', 'altra', 'con', 'la', 'forza', 'di', 'tal', 'che', 'testé', 'piaggia'], ['alte', 'terrà', 'tempo', 'le', 'fronti', 'tenendo', 'l', 'altra', 'sotto', 'gravi', 'pesi', 'come', 'di', 'ciò', 'pianga', 'o'], ['giusti', 'son', 'due', 'non', 'vi', 'sono', 'intesi', 'superbia', 'invidia', 'e', 'sono', 'le', 'tre', 'faville', 'c', 'hanno', 'i', 'cuori', 'accesi'], ['qui', 'fine', 'al'], ['e', 'io', 'a', 'lui', 'ancor', 'vo', 'che', 'mi', 'nsegni', 'e', 'che', 'di', 'più', 'parlar', 'mi', 'facci', 'dono'], ['farinata', 'e', 'l', 'tegghiaio', 'che', 'degni', 'iacopo', 'rusticucci', 'arrigo', 'e', 'l', 'mosca', 'e', 'li', 'altri', 'ch', 'a', 'ben', 'far', 'dimmi', 'ove', 'sono', 'e', 'fa', 'ch', 'io', 'li', 'conosca', 'ché', 'gran', 'disio', 'mi', 'stringe', 'savere', 'se', 'l', 'ciel', 'addolcia', 'li', 'attosca'], ['ei', 'son', 'tra', 'l', 'anime', 'più', 'colpe', 'giù', 'li', 'grava', 'al', 'fondo', 'se', 'tanto', 'scendi', 'là', 'i', 'potrai', 'vedere'], ['ma', 'quando', 'tu', 'sarai', 'nel', 'dolce', 'priegoti', 'ch', 'a', 'la', 'mente', 'altrui', 'mi', 'rechi', 'più', 'non', 'ti', 'dico', 'e', 'più', 'ti', 'rispondo'], ['li', 'diritti', 'occhi', 'torse', 'allora', 'in', 'biechi', 'guardommi', 'un', 'poco', 'e', 'testa', 'cadde', 'con', 'essa', 'a', 'par', 'de', 'li'], ['e', 'l', 'duca', 'disse', 'a', 'me', 'più', 'non', 'di', 'qua', 'dal', 'suon', 'de', 'l', 'angelica', 'tromba', 'quando', 'verrà', 'la', 'nimica', 'podesta', 'la', 'trista', 'tomba', 'ripiglierà', 'sua', 'carne', 'e', 'sua', 'figura', 'udirà', 'quel', 'ch', 'in'], ['sì', 'trapassammo', 'per', 'sozza', 'e', 'de', 'la', 'pioggia', 'a', 'passi', 'lenti', 'un', 'poco', 'la', 'vita', 'futura', 'io', 'dissi', 'maestro', 'esti', 'tormenti', 'crescerann', 'ei', 'dopo', 'la', 'gran', 'sentenza', 'o', 'fier', 'minori', 'o', 'saran', 'sì', 'cocenti'], ['ed', 'elli', 'a', 'me', 'ritorna', 'a', 'tua', 'scïenza', 'che', 'vuol', 'la', 'è', 'più', 'perfetta', 'più', 'senta', 'il', 'bene', 'e', 'così', 'la', 'doglienza'], ['tutto', 'che', 'questa', 'gente', 'maladetta', 'in', 'vera', 'perfezion', 'non', 'vada', 'di', 'là', 'più', 'che', 'di', 'qua'], ['noi', 'aggirammo', 'a', 'tondo', 'parlando', 'più', 'assai', 'ch', 'i', 'non', 'ridico', 'venimmo', 'punto', 'dove', 'si', 'digrada', 'quivi', 'pluto', 'il', 'gran', 'nemico'], ['pape', 'satàn', 'aleppe', 'cominciò', 'pluto', 'con', 'la', 'voce', 'chioccia', 'savio', 'gentil', 'che', 'tutto', 'seppe', 'disse', 'per', 'confortarmi', 'non', 'ti', 'noccia', 'la', 'tua', 'paura', 'ché', 'poder', 'ch', 'elli', 'abbia', 'non', 'ci', 'torrà', 'lo', 'scender', 'questa', 'roccia'], ['poi', 'quella', 'nfiata', 'labbia', 'e', 'disse', 'taci', 'lupo', 'te', 'con', 'la', 'tua', 'rabbia'], ['non', 'è', 'sanza', 'l', 'andare', 'al', 'cupo', 'vuolsi', 'ne', 'l', 'alto', 'là', 'dove', 'fé', 'la', 'vendetta', 'del', 'superbo', 'strupo'], ['quali', 'dal', 'gonfiate', 'vele', 'caggiono', 'avvolte', 'poi', 'che', 'l', 'alber', 'fiacca', 'tal', 'cadde', 'a', 'terra', 'la', 'fiera', 'crudele'], ['così', 'scendemmo', 'ne', 'la', 'quarta', 'lacca', 'pigliando', 'più', 'de', 'la', 'ripa', 'che', 'l', 'mal', 'de', 'l', 'universo'], ['ahi', 'giustizia', 'tante', 'chi', 'stipa', 'nove', 'e', 'pene', 'quant', 'io', 'viddi', 'e', 'perché', 'nostra', 'colpa', 'sì', 'ne', 'scipa', 'come', 'fa', 'l', 'onda', 'cariddi', 'che', 'si', 'con', 'quella', 'in', 'cui', 's', 'intoppa', 'così', 'convien', 'che', 'qui', 'la', 'gente', 'riddi'], ['qui', 'vid', 'i', 'gente', 'più', 'ch', 'altrove', 'd', 'una', 'parte', 'e', 'd', 'altra', 'con', 'grand', 'voltando', 'pesi', 'per', 'forza', 'di', 'poppa'], ['ncontro', 'e', 'poscia', 'pur', 'lì', 'si', 'rivolgea', 'ciascun', 'voltando', 'a', 'retro', 'perché', 'tieni', 'e', 'perché', 'burli'], ['così', 'per', 'lo', 'cerchio', 'tetro', 'da', 'ogne', 'mano', 'opposito', 'punto', 'gridandosi', 'anche', 'loro', 'ontoso', 'metro', 'poi', 'si', 'volgea', 'ciascun', 'quand', 'era', 'giunto', 'per', 'lo', 'suo', 'mezzo', 'altra', 'giostra'], ['e', 'avea', 'lo', 'cor', 'compunto', 'dissi', 'maestro', 'mio', 'or', 'mi', 'che', 'gente', 'è', 'questa', 'e', 'se', 'fuor', 'cherci', 'chercuti', 'a', 'la', 'sinistra', 'nostra'], ['ed', 'elli', 'a', 'me', 'quanti', 'fuor', 'guerci', 'sì', 'de', 'la', 'mente', 'in', 'la', 'vita', 'primaia', 'che', 'con', 'misura', 'nullo', 'spendio', 'ferci'], ['assai', 'la', 'voce', 'lor', 'chiaro', 'l', 'abbaia', 'quando', 'vegnono', 'a', 'due', 'punti', 'del', 'contraria', 'li', 'dispaia'], ['fuor', 'cherci', 'che', 'non', 'han', 'piloso', 'al', 'capo', 'e', 'papi', 'e', 'cardinali', 'in', 'cui', 'usa', 'soperchio'], ['e', 'io', 'dovre', 'io', 'ben', 'riconoscere', 'alcuni', 'che', 'furo', 'immondi', 'di', 'cotesti', 'mali'], ['ed', 'elli', 'a', 'me', 'vano', 'pensiero', 'aduni', 'la', 'vita', 'che', 'i', 'fé', 'sozzi', 'conoscenza', 'or', 'li', 'fa', 'bruni'], ['in', 'etterno', 'verranno', 'a', 'li', 'due', 'cozzi', 'questi', 'resurgeranno', 'del', 'sepulcro', 'col', 'chiuso', 'e', 'questi', 'coi', 'crin', 'mozzi'], ['dare', 'e', 'mal', 'tener', 'lo', 'mondo', 'pulcro', 'ha', 'tolto', 'loro', 'e', 'posti', 'a', 'questa', 'qual', 'ella', 'sia', 'parole', 'non', 'ci', 'appulcro'], ['or', 'puoi', 'figliuol', 'veder', 'la', 'corta', 'd', 'i', 'son', 'commessi', 'a', 'la', 'fortuna', 'per', 'che', 'l', 'umana', 'gente', 'si', 'rabbuffa', 'ché', 'tutto', 'l', 'oro', 'ch', 'è', 'sotto', 'la', 'luna', 'e', 'che', 'già', 'quest', 'anime', 'stanche', 'non', 'poterebbe', 'farne', 'posare', 'una'], ['maestro', 'mio', 'diss', 'io', 'or', 'mi', 'dì', 'anche', 'questa', 'fortuna', 'di', 'che', 'tu', 'mi', 'è', 'che', 'i', 'ben', 'del', 'mondo', 'ha', 'sì', 'tra', 'branche'], ['e', 'quelli', 'a', 'me', 'oh', 'creature', 'sciocche', 'quanta', 'ignoranza', 'è', 'quella', 'che', 'v', 'offende', 'or', 'vo', 'che', 'tu', 'mia', 'sentenza', 'ne'], ['lo', 'cui', 'trascende', 'fece', 'li', 'diè', 'lor', 'chi', 'conduce', 'sì', 'ch', 'ogne', 'parte', 'ad', 'ogne', 'parte', 'splende', 'igualmente', 'la', 'luce'], ['similemente', 'a', 'li', 'splendor', 'mondani', 'ordinò', 'general', 'ministra', 'e', 'duce', 'che', 'permutasse', 'a', 'tempo', 'gente', 'in', 'gente', 'e', 'd', 'uno', 'in', 'altro', 'sangue', 'oltre', 'la', 'difension', 'd', 'i', 'senni', 'umani', 'per', 'ch', 'una', 'gente', 'impera', 'e', 'l', 'altra', 'langue', 'seguendo', 'lo', 'di', 'costei', 'che', 'è', 'occulto', 'come', 'in', 'erba', 'l'], ['non', 'ha', 'contasto', 'a', 'lei', 'questa', 'provede', 'e', 'persegue', 'suo', 'regno', 'come', 'il', 'loro', 'li', 'dèi'], ['le', 'sue', 'non', 'hanno', 'triegue', 'necessità', 'la', 'fa', 'veloce', 'sì', 'spesso', 'vien', 'chi'], ['quest', 'è', 'colei', 'ch', 'è', 'tanto', 'posta', 'in', 'croce', 'pur', 'da', 'color', 'che', 'dovrien', 'dar', 'lode', 'dandole', 'biasmo', 'e', 'mala', 'voce', 'ma', 'ella', 'beata', 'e', 'ciò', 'non', 'ode', 'con', 'l', 'altre', 'prime', 'creature', 'sua', 'spera', 'e', 'beata', 'si', 'gode'], ['or', 'discendiamo', 'a', 'maggior', 'pieta', 'già', 'ogne', 'stella', 'cade', 'che', 'saliva', 'quand', 'mi', 'mossi', 'e', 'l', 'troppo', 'star', 'si', 'vieta'], ['noi', 'cerchio', 'a', 'l', 'altra', 'riva', 'sovr', 'una', 'fonte', 'che', 'e', 'riversa', 'per', 'un', 'fossato', 'che', 'da', 'lei', 'deriva'], ['l', 'acqua', 'era', 'buia', 'assai', 'più', 'e', 'noi', 'in', 'compagnia', 'de', 'l', 'intrammo', 'giù', 'per', 'una', 'via', 'diversa'], ['in', 'la', 'palude', 'va', 'c', 'ha', 'nome', 'stige', 'questo', 'tristo', 'ruscel', 'quand', 'è', 'disceso', 'al', 'le', 'maligne', 'piagge', 'grige'], ['e', 'io', 'che', 'di', 'mirare', 'stava', 'inteso', 'vidi', 'genti', 'fangose', 'in', 'quel', 'pantano', 'ignude', 'tutte', 'con', 'sembiante', 'offeso'], ['queste', 'si', 'percotean', 'non', 'pur', 'con', 'mano', 'ma', 'con', 'la', 'testa', 'e', 'col', 'e', 'coi', 'piedi', 'co', 'denti', 'a', 'brano', 'a', 'brano'], ['lo', 'buon', 'maestro', 'disse', 'figlio', 'or', 'vedi', 'l', 'anime', 'di', 'color', 'cui', 'ira', 'e', 'anche', 'vo', 'che', 'tu', 'per', 'certo', 'sotto', 'l', 'acqua', 'è', 'gente', 'che', 'sospira', 'e', 'quest', 'acqua', 'al', 'come', 'l', 'ti', 'dice', 'u', 'che', 's', 'aggira'], ['fitti', 'nel', 'limo', 'dicon', 'tristi', 'fummo', 'ne', 'dolce', 'che', 'dal', 'sol', 's', 'allegra', 'portando', 'dentro', 'fummo', 'or', 'ci', 'ne', 'la', 'belletta'], ['quest', 'inno', 'si', 'gorgoglian', 'la', 'strozza', 'ché', 'dir', 'nol', 'posson', 'con', 'parola', 'integra'], ['così', 'girammo', 'de', 'la', 'lorda', 'pozza', 'grand', 'arco', 'la', 'e', 'l', 'mézzo', 'con', 'li', 'vòlti', 'a', 'del', 'fango'], ['venimmo', 'al', 'piè', 'd', 'una', 'torre', 'al', 'da', 'sezzo'], ['io', 'dico', 'seguitando', 'ch', 'assai', 'prima', 'fossimo', 'al', 'piè', 'de', 'l', 'alta', 'torre', 'li', 'n', 'andar', 'suso', 'a', 'la', 'cima', 'per', 'due', 'fiammette', 'che', 'i', 'vedemmo', 'porre', 'e', 'un', 'altra', 'da', 'lungi', 'render', 'cenno', 'tanto', 'ch', 'a', 'pena', 'il', 'potea', 'l', 'occhio', 'tòrre'], ['e', 'io', 'volsi', 'al', 'mar', 'di', 'tutto', 'l', 'senno', 'dissi', 'questo', 'che', 'dice', 'e', 'che', 'risponde', 'quell', 'altro', 'foco', 'e', 'l', 'fenno'], ['ed', 'elli', 'su', 'per', 'sucide', 'onde', 'già', 'scorgere', 's', 'l', 'fummo', 'del', 'pantan', 'nol', 'ti', 'nasconde'], ['corda', 'da', 'sé', 'che', 'via', 'per', 'l', 'aere', 'snella', 'com', 'io', 'vidi', 'una', 'nave', 'piccioletta', 'venir', 'per', 'l', 'acqua', 'verso', 'noi', 'in', 'quella', 'sotto', 'l', 'governo', 'd', 'un', 'sol', 'che', 'gridava', 'or', 'se', 'giunta', 'anima', 'fella'], ['flegïàs', 'flegïàs', 'tu', 'gridi', 'a', 'vòto', 'disse', 'lo', 'mio', 'segnore', 'a', 'questa', 'volta', 'più', 'non', 'ci', 'avrai', 'che', 'sol', 'passando', 'il'], ['qual', 'è', 'colui', 'che', 'ascolta', 'che', 'li', 'sia', 'fatto', 'e', 'poi', 'rammarca', 'fecesi', 'flegïàs', 'ne', 'l', 'accolta'], ['lo', 'duca', 'mio', 'discese', 'ne', 'la', 'barca', 'e', 'poi', 'mi', 'fece', 'intrare', 'appresso', 'lui', 'e', 'sol', 'quand', 'io', 'fui', 'dentro'], ['tosto', 'che', 'l', 'duca', 'e', 'io', 'nel', 'legno', 'fui', 'segando', 'se', 'ne', 'va', 'l', 'prora', 'de', 'l', 'acqua', 'più', 'che', 'non', 'suol', 'con', 'altrui'], ['mentre', 'noi', 'corravam', 'la', 'morta', 'gora', 'dinanzi', 'mi', 'si', 'fece', 'un', 'pien', 'di', 'fango', 'e', 'se', 'tu', 'vieni', 'anzi', 'ora'], ['e', 'io', 'a', 'lui', 's', 'i', 'non', 'rimango', 'ma', 'tu', 'chi', 'se', 'che', 'sì', 'se', 'fatto', 'brutto'], ['rispuose', 'vedi', 'che', 'son', 'un', 'che', 'piango'], ['e', 'io', 'a', 'piangere', 'e', 'con', 'spirito', 'ti', 'rimani', 'ch', 'i', 'ti', 'conosco', 'ancor', 'sie', 'lordo', 'tutto'], ['allor', 'distese', 'al', 'legno', 'ambo', 'le', 'mani', 'per', 'che', 'l', 'maestro', 'lo', 'sospinse', 'costà', 'con', 'li', 'cani'], ['lo', 'collo', 'poi', 'con', 'le', 'braccia', 'mi', 'basciommi', 'l', 'e', 'disse', 'alma', 'sdegnosa', 'benedetta', 'colei', 'che', 'n', 'te', 's', 'incinse', 'quei', 'fu', 'al', 'mondo', 'orgogliosa', 'non', 'sua', 'memoria', 'fregi', 'così', 's', 'è', 'l', 'ombra', 'sua', 'furïosa'], ['quanti', 'si', 'tegnon', 'or', 'là', 'regi', 'che', 'qui', 'staranno', 'come', 'porci', 'in', 'brago', 'di', 'orribili', 'dispregi'], ['e', 'io', 'maestro', 'sarei', 'vago', 'di', 'vederlo', 'attuffare', 'in', 'questa', 'prima', 'che', 'noi', 'uscissimo', 'del', 'lago'], ['ed', 'elli', 'a', 'me', 'avante', 'proda', 'ti', 'si', 'tu', 'sarai', 'sazio', 'di', 'tal', 'convien', 'che'], ['dopo', 'ciò', 'poco', 'vid', 'io', 'quello', 'strazio', 'di', 'costui', 'a', 'le', 'fangose', 'genti', 'che', 'dio', 'ancor', 'ne', 'lodo', 'e', 'ne', 'ringrazio'], ['tutti', 'gridavano', 'a', 'argenti', 'e', 'l', 'fiorentino', 'spirito', 'bizzarro', 'in', 'sé', 'si', 'volvea', 'co', 'denti'], ['quivi', 'il', 'lasciammo', 'che', 'più', 'non', 'ne', 'narro', 'ma', 'ne', 'l', 'orecchie', 'mi', 'percosse', 'un', 'duolo', 'per', 'ch', 'io', 'avante', 'l', 'occhio', 'intento', 'sbarro'], ['lo', 'buon', 'maestro', 'disse', 'omai', 'figliuolo', 's', 'appressa', 'la', 'c', 'ha', 'nome', 'dite', 'coi', 'gravi', 'cittadin', 'col', 'grande', 'stuolo'], ['e', 'io', 'già', 'le', 'sue', 'meschite', 'là', 'entro', 'certe', 'ne', 'la', 'valle', 'cerno', 'vermiglie', 'come', 'se', 'di', 'foco', 'uscite'], ['ed', 'ei', 'mi', 'disse', 'il', 'foco', 'affoca', 'le', 'dimostra', 'rosse', 'come', 'tu', 'vedi', 'in', 'questo', 'basso', 'inferno'], ['noi', 'giugnemmo', 'dentro', 'a', 'l', 'fosse', 'quella', 'terra', 'sconsolata', 'le', 'mura', 'mi', 'parean', 'che', 'ferro', 'fosse'], ['non', 'sanza', 'prima', 'far', 'grande', 'aggirata', 'venimmo', 'in', 'parte', 'dove', 'il', 'nocchier', 'forte', 'usciteci', 'gridò', 'qui', 'è'], ['io', 'vidi', 'più', 'di', 'mille', 'in', 'su', 'le', 'porte', 'da', 'ciel', 'piovuti', 'che', 'stizzosamente', 'dicean', 'chi', 'è', 'costui', 'che', 'sanza', 'morte', 'va', 'per', 'lo', 'regno', 'de', 'la', 'morta', 'gente'], ['e', 'l', 'savio', 'mio', 'maestro', 'fece', 'voler', 'lor'], ['allor', 'chiusero', 'un', 'poco', 'il', 'gran', 'e', 'disser', 'vien', 'tu', 'solo', 'e', 'quei', 'sen', 'vada', 'che', 'sì', 'intrò', 'per', 'questo', 'regno'], ['sol', 'si', 'per', 'la', 'folle', 'strada', 'pruovi', 'se', 'sa', 'ché', 'tu', 'qui', 'li', 'ha', 'iscorta', 'sì', 'buia', 'contrada'], ['pensa', 'lettor', 'se', 'io', 'mi', 'sconfortai', 'nel', 'suon', 'de', 'le', 'parole', 'ché', 'non', 'credetti', 'ritornarci', 'mai'], ['caro', 'duca', 'mio', 'che', 'più', 'di', 'sette', 'volte', 'm', 'hai', 'sicurtà', 'renduta', 'e', 'tratto', 'd', 'alto', 'periglio', 'che', 'ncontra', 'mi', 'stette', 'non', 'mi', 'lasciar', 'diss', 'disfatto', 'e', 'se', 'l', 'oltre', 'ci', 'è', 'negato', 'ritroviam', 'l', 'orme'], ['e', 'quel', 'segnor', 'che', 'lì', 'm', 'avea', 'menato', 'non', 'temer', 'ché', 'l', 'passo', 'non', 'ci', 'può', 'tòrre', 'alcun', 'da', 'tal', 'n', 'è', 'dato'], ['ma', 'qui', 'm', 'attendi', 'e', 'lo', 'spirito', 'lasso', 'conforta', 'e', 'ciba', 'di', 'speranza', 'buona', 'ch', 'i', 'non', 'ti', 'lascerò', 'mondo', 'basso'], ['così', 'sen', 'va', 'e', 'quivi', 'm', 'abbandona', 'lo', 'dolce', 'padre', 'e', 'io', 'rimagno', 'in', 'forse', 'che', 'sì', 'e', 'no', 'capo', 'mi', 'tenciona'], ['udir', 'non', 'potti', 'ch', 'a', 'lor', 'porse', 'ma', 'ei', 'non', 'stette', 'là', 'con', 'essi', 'guari', 'dentro', 'a', 'si', 'ricorse'], ['chiuser', 'le', 'que', 'nostri', 'avversari', 'nel', 'petto', 'al', 'segnor', 'che', 'fuor', 'rimase', 'e', 'rivolsesi', 'a', 'me', 'con', 'passi', 'rari'], ['li', 'occhi', 'a', 'la', 'terra', 'e', 'le', 'ciglia', 'avea', 'rase', 'd', 'ogne', 'ne', 'chi', 'm', 'ha', 'le', 'dolenti'], ['e', 'a', 'me', 'disse', 'tu', 'perch', 'io', 'non', 'sbigottir', 'ch', 'io', 'vincerò', 'la', 'prova', 'qual', 'ch', 'a', 'la', 's', 'aggiri'], ['questa', 'lor', 'non', 'è', 'nova', 'ché', 'già', 'l', 'usaro', 'a', 'men', 'segreta', 'porta', 'la', 'qual', 'sanza', 'serrame', 'ancor', 'si', 'trova'], ['sovr', 'essa', 'vedestù', 'la', 'scritta', 'e', 'già', 'da', 'lei', 'discende', 'l', 'erta', 'li', 'cerchi', 'sanza', 'scorta', 'tal', 'che', 'per', 'lui', 'ne', 'fia', 'la', 'terra', 'aperta'], ['che', 'viltà', 'di', 'fuor', 'mi', 'pinse', 'veggendo', 'il', 'duca', 'mio', 'volta', 'più', 'dentro', 'novo', 'ristrinse'], ['attento', 'si', 'fermò', 'com', 'uom', 'ch', 'ascolta', 'l', 'occhio', 'nol', 'potea', 'menare', 'a', 'lunga', 'per', 'l', 'aere', 'nero', 'e', 'per', 'la', 'nebbia', 'folta'], ['pur', 'converrà', 'vincer', 'la', 'punga', 'el', 'se', 'non'], ['tal', 'ne', 's'], ['oh', 'quanto', 'tarda', 'a', 'me', 'ch', 'altri', 'qui', 'giunga'], ['i', 'vidi', 'ben', 'sì', 'ricoperse', 'lo', 'cominciar', 'con', 'l', 'altro', 'che', 'poi', 'che', 'fur', 'parole', 'a', 'le', 'prime', 'diverse', 'ma', 'nondimen', 'paura', 'il', 'suo', 'dir', 'dienne', 'perch', 'io', 'parola', 'tronca', 'forse', 'a', 'che', 'non', 'tenne'], ['in', 'questo', 'fondo', 'de', 'la', 'trista', 'conca', 'discende', 'mai', 'alcun', 'del', 'primo', 'grado', 'sol', 'per', 'pena', 'ha', 'la', 'speranza', 'cionca'], ['questa', 'fec', 'io', 'e', 'quei', 'di', 'rado', 'incontra', 'mi', 'rispuose', 'che', 'di', 'noi', 'faccia', 'cammino', 'alcun', 'per', 'qual', 'io', 'vado'], ['ver', 'è', 'ch', 'altra', 'fïata', 'qua', 'giù', 'fui', 'da', 'quella', 'eritón', 'cruda', 'che', 'richiamava', 'l', 'ombre', 'sui'], ['di', 'poco', 'era', 'di', 'me', 'la', 'carne', 'nuda', 'ch', 'ella', 'mi', 'fece', 'intrar', 'dentr', 'a', 'per', 'trarne', 'un', 'spirto', 'del', 'cerchio', 'di', 'giuda'], ['è', 'l', 'più', 'basso', 'loco', 'e', 'l', 'e', 'l', 'più', 'lontan', 'dal', 'ciel', 'che', 'tutto', 'gira', 'ben', 'so', 'l', 'però', 'ti', 'sicuro'], ['questa', 'palude', 'che', 'l', 'gran', 'dintorno', 'la', 'città', 'u', 'non', 'potemo', 'intrare', 'omai', 'sanz', 'ira'], ['e', 'altro', 'disse', 'ma', 'non', 'l', 'ho', 'a', 'mente', 'però', 'che', 'l', 'occhio', 'tutto', 'ver', 'l', 'alta', 'a', 'rovente', 'dove', 'in', 'un', 'punto', 'furon', 'dritte', 'furïe', 'infernal', 'di', 'sangue', 'che', 'membra', 'feminine', 'avieno', 'e', 'atto', 'e', 'con', 'idre', 'verdissime', 'eran', 'cinte', 'serpentelli', 'e', 'ceraste', 'avien', 'per', 'crine', 'onde', 'le', 'fiere', 'tempie', 'erano', 'avvinte'], ['e', 'quei', 'che', 'ben', 'le', 'de', 'la', 'regina', 'de', 'l', 'etterno', 'pianto', 'guarda', 'mi', 'disse', 'le', 'feroci', 'erine'], ['quest', 'è', 'dal', 'sinistro', 'canto', 'quella', 'che', 'piange', 'dal', 'destro', 'è', 'aletto', 'è', 'nel', 'mezzo', 'e', 'tacque', 'a', 'tanto'], ['con', 'l', 'unghie', 'si', 'fendea', 'petto', 'battiensi', 'a', 'palme', 'e', 'gridavan', 'sì', 'alto', 'ch', 'i', 'mi', 'strinsi', 'al', 'poeta', 'per'], ['vegna', 'medusa', 'sì', 'l', 'farem', 'di', 'smalto', 'tutte', 'in', 'giuso', 'mal', 'non', 'vengiammo', 'in', 'tesëo', 'l'], ['volgiti', 'n', 'dietro', 'e', 'tien', 'lo', 'viso', 'chiuso', 'se', 'l', 'gorgón', 'si', 'mostra', 'e', 'tu', 'l', 'vedessi', 'di', 'tornar', 'mai', 'suso'], ['così', 'disse', 'l', 'ed', 'elli', 'stessi', 'mi', 'volse', 'e', 'non', 'si', 'tenne', 'a', 'le', 'mie', 'mani', 'che', 'con', 'le', 'sue', 'ancor', 'non', 'mi', 'chiudessi'], ['o', 'voi', 'ch', 'avete', 'li', 'ntelletti', 'mirate', 'la', 'dottrina', 'che', 's', 'asconde', 'sotto', 'l', 'de', 'li', 'versi', 'strani'], ['e', 'venìa', 'su', 'per', 'le', 'torbide', 'onde', 'un', 'd', 'un', 'suon', 'pien', 'di', 'cui', 'tremavano', 'amendue', 'le', 'sponde', 'non', 'altrimenti', 'fatto', 'che', 'd', 'un', 'vento', 'impetüoso', 'per', 'li', 'avversi', 'ardori', 'che', 'la', 'selva', 'e', 'sanz', 'alcun', 'li', 'rami', 'schianta', 'abbatte', 'e', 'porta', 'fori', 'dinanzi', 'superbo', 'e', 'fa', 'fuggir', 'le', 'e', 'li', 'pastori'], ['li', 'occhi', 'mi', 'disse', 'or', 'drizza', 'il', 'nerbo', 'del', 'viso', 'su', 'per', 'quella', 'schiuma', 'antica', 'per', 'indi', 'ove', 'quel', 'fummo'], ['come', 'le', 'rane', 'innanzi', 'a', 'la', 'biscia', 'per', 'l', 'acqua', 'si', 'dileguan', 'tutte', 'fin', 'ch', 'a', 'la', 'terra', 'ciascuna', 's', 'abbica', 'vid', 'io', 'più', 'di', 'mille', 'anime', 'distrutte', 'fuggir', 'così', 'ad', 'un', 'ch', 'al', 'passo', 'passava', 'con'], ['dal', 'volto', 'rimovea', 'quell', 'aere', 'grasso', 'menando', 'la', 'sinistra', 'innanzi', 'spesso', 'e', 'sol', 'di', 'quell', 'angoscia', 'parea', 'lasso'], ['ben', 'm', 'ch', 'elli', 'era', 'da', 'ciel', 'messo', 'e', 'volsimi', 'al', 'e', 'quei', 'fé', 'segno', 'ch', 'i', 'stessi', 'queto', 'ed'], ['ahi', 'quanto', 'mi', 'parea', 'pien', 'di', 'disdegno', 'venne', 'a', 'la', 'porta', 'e', 'con', 'una', 'verghetta', 'l', 'aperse', 'che', 'non', 'v', 'ebbe', 'alcun', 'ritegno'], ['o', 'cacciati', 'del', 'ciel', 'gente', 'dispetta', 'elli', 'in', 'su', 'l', 'orribil', 'soglia', 'ond', 'esta', 'oltracotanza', 'in', 'alletta', 'perché', 'quella', 'voglia', 'a', 'cui', 'puote', 'il', 'fin', 'mai', 'esser', 'che', 'più', 'volte', 'v', 'ha', 'cresciuta', 'doglia', 'che', 'giova', 'ne', 'le', 'fata', 'dar', 'di', 'cozzo', 'cerbero', 'vostro', 'se', 'ben', 'vi', 'ricorda', 'ne', 'porta', 'ancor', 'pelato', 'il', 'mento', 'e', 'l', 'gozzo'], ['poi', 'si', 'per', 'la', 'strada', 'lorda', 'e', 'non', 'fé', 'motto', 'a', 'noi', 'sembiante', 'd', 'omo', 'cui', 'altra', 'cura', 'stringa', 'e', 'che', 'quella', 'di', 'colui', 'che', 'li', 'è', 'davante', 'e', 'noi', 'i', 'piedi', 'inver', 'parole'], ['dentro', 'ntrammo', 'sanz', 'alcuna', 'guerra', 'e', 'avea', 'disio', 'la', 'che', 'tal', 'fortezza', 'dentro', 'l', 'occhio', 'intorno', 'invio', 'e', 'veggio', 'ad', 'ogne', 'man', 'grande', 'campagna', 'duolo', 'e', 'di', 'tormento', 'rio'], ['sì', 'arli', 'ove', 'rodano', 'stagna', 'sì', 'com', 'a', 'pola', 'presso', 'del', 'carnaro', 'ch', 'italia', 'chiude', 'e', 'suoi', 'termini', 'fanno', 'i', 'tutt', 'il', 'loco', 'varo', 'così', 'facevan', 'quivi', 'd', 'ogne', 'parte', 'salvo', 'che', 'l', 'modo', 'v', 'era', 'più', 'amaro', 'ché', 'tra', 'li', 'avelli', 'fiamme', 'erano', 'sparte', 'per', 'le', 'quali', 'eran', 'sì', 'del', 'accesi', 'che', 'ferro', 'più', 'non', 'verun', 'arte'], ['tutti', 'li', 'lor', 'coperchi', 'eran', 'sospesi', 'e', 'fuor', 'n', 'uscivan', 'sì', 'duri', 'che', 'ben', 'parean', 'di', 'e'], ['maestro', 'quai', 'son', 'quelle', 'genti', 'seppellite', 'dentro', 'da', 'quell', 'arche', 'si', 'fan', 'sentir', 'coi', 'sospiri', 'dolenti'], ['e', 'quelli', 'a', 'me', 'qui', 'son', 'li', 'eresïarche', 'con', 'lor', 'seguaci', 'd', 'setta', 'e', 'molto', 'più', 'che', 'non', 'credi', 'son', 'le', 'tombe'], ['simile', 'qui', 'con', 'simile', 'è', 'sepolto', 'e', 'i', 'monimenti', 'son', 'e', 'men', 'caldi'], ['e', 'poi', 'ch', 'a', 'la', 'man', 'si', 'fu', 'vòlto', 'passammo', 'tra', 'i', 'martìri', 'e', 'li', 'alti', 'spaldi'], ['sen', 'va', 'per', 'un', 'secreto', 'calle', 'tra', 'l', 'muro', 'de', 'la', 'terra', 'e', 'li', 'lo', 'mio', 'maestro', 'e', 'io', 'dopo', 'le', 'spalle'], ['o', 'virtù', 'somma', 'che', 'per', 'giri', 'mi', 'volvi', 'cominciai', 'com', 'a', 'te', 'piace', 'parlami', 'e', 'sodisfammi', 'a', 'miei', 'disiri'], ['la', 'gente', 'che', 'per', 'li', 'veder', 'già', 'son', 'levati', 'tutt', 'coperchi', 'e', 'nessun', 'guardia', 'face'], ['e', 'quelli', 'a', 'me', 'tutti', 'saran', 'serrati', 'quando', 'di', 'iosafàt', 'qui', 'torneranno', 'coi', 'corpi', 'che', 'sù', 'hanno', 'lasciati'], ['suo', 'cimitero', 'da', 'questa', 'parte', 'hanno', 'con', 'epicuro', 'tutti', 'suoi', 'col', 'corpo', 'morta', 'fanno'], ['però', 'a', 'la', 'che', 'mi', 'faci', 'entro', 'sarà', 'tosto', 'e', 'al', 'disio', 'ancor', 'tu', 'mi', 'taci'], ['e', 'io', 'buon', 'duca', 'riposto', 'a', 'te', 'mio', 'cuor', 'se', 'non', 'per', 'dicer', 'poco', 'e', 'tu', 'm', 'hai', 'non', 'mo', 'a', 'ciò', 'disposto'], ['o', 'tosco', 'che', 'per', 'la', 'foco', 'vivo', 'ten', 'così', 'parlando', 'onesto', 'piacciati', 'di', 'restare', 'loco'], ['loquela', 'ti', 'fa', 'manifesto', 'di', 'nobil', 'patrïa', 'la', 'qual', 'forse', 'fui', 'troppo'], ['subitamente', 'questo', 'suono', 'uscìo', 'd', 'una', 'de', 'l', 'arche', 'accostai', 'temendo', 'un', 'poco', 'più', 'al', 'duca', 'mio'], ['ed', 'el', 'mi', 'disse', 'volgiti', 'che', 'fai', 'vedi', 'là', 'farinata', 'che', 's', 'è', 'dritto', 'da', 'la', 'in', 'sù', 'tutto', 'l', 'vedrai'], ['io', 'avea', 'già', 'il', 'mio', 'suo', 'fitto', 'ed', 'el', 's', 'ergea', 'col', 'petto', 'e', 'con', 'la', 'com', 'avesse', 'l', 'inferno', 'a', 'gran', 'dispitto'], ['e', 'l', 'animose', 'man', 'del', 'duca', 'e', 'pronte', 'mi', 'pinser', 'tra', 'le', 'sepulture', 'a', 'lui', 'dicendo', 'le', 'parole', 'tue', 'sien', 'conte'], ['com', 'io', 'al', 'piè', 'de', 'la', 'sua', 'tomba', 'fui', 'guardommi', 'un', 'poco', 'e', 'poi', 'quasi', 'sdegnoso', 'mi', 'dimandò', 'chi', 'fuor', 'li', 'maggior', 'tui'], ['io', 'ch', 'ubidir', 'disideroso', 'non', 'gliel', 'ma', 'tutto', 'gliel', 'ei', 'levò', 'le', 'ciglia', 'un', 'poco', 'in', 'poi', 'disse', 'a', 'me', 'e', 'a', 'miei', 'primi', 'e', 'a', 'mia', 'parte', 'sì', 'per', 'due', 'fïate'], ['s', 'ei', 'fur', 'cacciati', 'ei', 'tornar', 'd', 'ogne', 'parte', 'rispuos', 'io', 'lui', 'l', 'una', 'e', 'l', 'altra', 'fïata', 'ma', 'i', 'vostri', 'non', 'quell', 'arte'], ['a', 'la', 'vista', 'scoperchiata', 'un', 'ombra', 'lungo', 'questa', 'infino', 'al', 'mento', 'credo', 'che', 's', 'era', 'ginocchie', 'levata'], ['dintorno', 'mi', 'guardò', 'come', 'talento', 'avesse', 'di', 's', 'altri', 'era', 'meco', 'e', 'poi', 'che', 'l', 'fu', 'tutto', 'spento', 'piangendo', 'disse', 'se', 'per', 'questo', 'cieco', 'carcere', 'vai', 'per', 'altezza', 'd', 'ingegno', 'mio', 'figlio', 'ov', 'è', 'e', 'perché', 'non', 'è', 'teco'], ['e', 'io', 'da', 'me', 'stesso', 'non', 'vegno', 'colui', 'ch', 'attende', 'là', 'per', 'qui', 'mi', 'mena', 'forse', 'cui', 'guido', 'vostro', 'ebbe', 'a', 'disdegno'], ['le', 'sue', 'parole', 'e', 'l', 'modo', 'de', 'la', 'pena', 'm', 'avean', 'di', 'costui', 'già', 'letto', 'il', 'nome', 'però', 'fu', 'così', 'piena'], ['di', 'sùbito', 'drizzato', 'gridò', 'come', 'dicesti', 'elli', 'ebbe', 'non', 'viv', 'elli', 'non', 'fiere', 'li', 'occhi', 'suoi', 'lo', 'dolce', 'lume'], ['accorse', 'd', 'alcuna', 'dimora', 'ch', 'io', 'facëa', 'dinanzi', 'a', 'la', 'risposta', 'supin', 'ricadde', 'e', 'più', 'non', 'parve', 'fora'], ['ma', 'quell', 'magnanimo', 'a', 'cui', 'posta', 'era', 'non', 'mutò', 'aspetto', 'né', 'mosse', 'collo', 'né', 'piegò', 'sua', 'costa', 'e', 'sé', 'continüando', 'al', 'primo', 's', 'elli', 'han', 'quell', 'disse', 'male', 'appresa', 'ciò', 'mi', 'più', 'che', 'questo', 'letto'], ['ma', 'non', 'cinquanta', 'volte', 'fia', 'raccesa', 'la', 'faccia', 'de', 'la', 'donna', 'che', 'qui', 'regge', 'che', 'tu', 'saprai', 'quell', 'arte', 'pesa'], ['e', 'se', 'tu', 'mai', 'nel', 'dolce', 'regge', 'dimmi', 'perché', 'quel', 'popolo', 'è', 'sì', 'empio', 'incontr', 'a', 'miei', 'in', 'ciascuna', 'sua', 'legge'], ['ond', 'io', 'a', 'lui', 'lo', 'e', 'l', 'grande', 'scempio', 'che', 'fece', 'l', 'arbia', 'colorata', 'in', 'rosso', 'tal', 'orazion', 'fa', 'far', 'nel'], ['poi', 'ch', 'ebbe', 'il', 'capo', 'mosso', 'a', 'ciò', 'non', 'fu', 'io', 'sol', 'disse', 'né', 'certo', 'sanza', 'cagion', 'con', 'li', 'sarei'], ['ma', 'fu', 'io', 'solo', 'là', 'dove', 'fu', 'per', 'ciascun', 'di', 'tòrre', 'via', 'fiorenza', 'colui', 'che', 'la', 'difesi', 'aperto'], ['deh', 'riposi', 'mai', 'vostra', 'semenza', 'prega', 'io', 'lui', 'solvetemi', 'quel', 'nodo', 'che', 'qui', 'ha', 'nviluppata', 'mia'], ['el', 'par', 'che', 'voi', 'veggiate', 'se', 'ben', 'odo', 'dinanzi', 'quel', 'che', 'l', 'tempo', 'seco', 'adduce', 'e', 'nel', 'tenete', 'altro', 'modo'], ['noi', 'veggiam', 'come', 'quei', 'c', 'ha', 'le', 'cose', 'disse', 'che', 'ne', 'son', 'lontano', 'cotanto', 'ancor', 'ne', 'splende', 'il', 'sommo', 'duce'], ['quando', 's', 'appressano', 'o', 'son', 'tutto', 'è', 'vano', 'nostro', 'e', 's', 'altri', 'non', 'ci', 'apporta', 'nulla', 'sapem', 'di', 'vostro', 'stato', 'umano'], ['però', 'comprender', 'puoi', 'che', 'tutta', 'morta', 'fia', 'nostra', 'conoscenza', 'da', 'quel', 'punto', 'futuro', 'fia', 'chiusa', 'la', 'porta'], ['allor', 'come', 'di', 'mia', 'colpa', 'compunto', 'dissi', 'or', 'direte', 'dunque', 'a', 'quel', 'caduto', 'che', 'l', 'suo', 'nato', 'è', 'co', 'vivi', 'congiunto', 'e', 's', 'i', 'fui', 'dianzi', 'a', 'la', 'risposta', 'muto', 'fate', 'i', 'saper', 'che', 'l', 'fei', 'perché', 'già', 'ne', 'che', 'm', 'avete', 'soluto'], ['e', 'già', 'l', 'maestro', 'mio', 'mi', 'per', 'ch', 'i', 'lo', 'spirto', 'più', 'avaccio', 'che', 'mi', 'dicesse', 'chi', 'con', 'lu'], ['dissemi', 'qui', 'con', 'più', 'di', 'mille', 'giaccio', 'qua', 'è', 'l', 'secondo', 'federico', 'e', 'l', 'cardinale', 'e', 'de', 'li', 'altri', 'mi', 'taccio'], ['indi', 's', 'ascose', 'e', 'io', 'inver', 'l', 'antico', 'poeta', 'volsi', 'i', 'passi', 'a', 'quel', 'parlar', 'che', 'mi', 'parea', 'nemico'], ['elli', 'si', 'poi', 'così', 'andando', 'mi', 'disse', 'perché', 'se', 'tu', 'sì', 'smarrito'], ['e', 'io', 'li', 'sodisfeci', 'al', 'suo', 'dimando'], ['la', 'mente', 'tua', 'ch', 'udito', 'hai', 'contra', 'te', 'mi', 'comandò', 'quel', 'saggio', 'e', 'ora', 'attendi', 'e', 'drizzò', 'l', 'dito', 'quando', 'sarai', 'dinanzi', 'al', 'dolce', 'raggio', 'di', 'quella', 'il', 'cui', 'bell', 'tutto', 'vede', 'da', 'lei', 'saprai', 'di', 'tua', 'vita', 'il', 'vïaggio'], ['appresso', 'sinistra', 'il', 'piede', 'lasciammo', 'il', 'muro', 'e', 'gimmo', 'inver', 'lo', 'mezzo', 'per', 'un', 'sentier', 'ch', 'a', 'una', 'valle', 'fiede', 'che', 'nfin', 'là', 'sù', 'facea', 'spiacer', 'suo', 'lezzo'], ['in', 'su', 'l', 'estremità', 'd', 'un', 'che', 'facevan', 'gran', 'pietre', 'rotte', 'in', 'cerchio', 'venimmo', 'sopra', 'più', 'crudele', 'stipa', 'e', 'quivi', 'per', 'l', 'orribile', 'soperchio', 'del', 'puzzo', 'che', 'l', 'profondo', 'abisso', 'gitta', 'ci', 'raccostammo', 'ad', 'un', 'coperchio', 'd', 'un', 'grand', 'avello', 'ov', 'io', 'vidi', 'una', 'scritta', 'che', 'dicea', 'anastasio', 'papa', 'guardo', 'trasse', 'fotin', 'de', 'la', 'via', 'dritta'], ['nostro', 'scender', 'tardo', 'sì', 'che', 's', 'ausi', 'un', 'poco', 'in', 'prima', 'il', 'senso', 'al', 'tristo', 'fiato', 'e', 'poi', 'no', 'i', 'fia', 'riguardo'], ['così', 'l', 'maestro', 'e', 'io', 'alcun', 'compenso', 'dissi', 'lui', 'trova', 'che', 'l', 'tempo', 'non'], ['vedi', 'ciò', 'penso'], ['figliuol', 'mio', 'dentro', 'da', 'cotesti', 'sassi', 'cominciò', 'poi', 'a', 'dir', 'son', 'tre', 'cerchietti', 'di', 'grado', 'in', 'grado', 'che', 'lassi'], ['tutti', 'son', 'pien', 'maladetti', 'ma', 'perché', 'poi', 'ti', 'basti', 'pur', 'la', 'vista', 'intendi', 'come', 'son', 'costretti'], ['d', 'ogne', 'malizia', 'ch', 'odio', 'in', 'cielo', 'acquista', 'ingiuria', 'è', 'l', 'fine', 'fin', 'cotale', 'o', 'con', 'forza', 'o', 'con', 'frode', 'contrista'], ['ma', 'perché', 'frode', 'è', 'de', 'l', 'uom', 'proprio', 'male', 'più', 'a', 'dio', 'e', 'però', 'stan', 'di', 'e', 'più', 'dolor', 'li'], ['di', 'vïolenti', 'il', 'primo', 'è', 'tutto', 'ma', 'perché', 'si', 'fa', 'forza', 'a', 'tre', 'tre', 'è', 'distinto', 'e', 'costrutto'], ['a', 'dio', 'a', 'sé', 'al', 'prossimo', 'si', 'pòne', 'far', 'forza', 'dico', 'in', 'loro', 'e', 'in', 'lor', 'cose', 'come', 'udirai', 'con'], ['morte', 'per', 'forza', 'e', 'ferute', 'dogliose', 'nel', 'prossimo', 'si', 'danno', 'e', 'nel', 'suo', 'avere', 'ruine', 'incendi', 'e', 'tollette', 'dannose', 'onde', 'omicide', 'e', 'ciascun', 'che', 'mal', 'fiere', 'guastatori', 'e', 'predon', 'tutti', 'tormenta', 'lo', 'giron', 'primo', 'per', 'diverse'], ['puote', 'omo', 'avere', 'in', 'sé', 'man', 'e', 'ne', 'suoi', 'e', 'però', 'nel', 'secondo', 'giron', 'convien', 'che', 'sanza', 'pro', 'si', 'priva', 'sé', 'del', 'vostro', 'e', 'fonde', 'la', 'sua', 'facultade', 'e', 'piange', 'là', 'dov', 'esser', 'de', 'giocondo'], ['far', 'forza', 'ne', 'la', 'cor', 'negando', 'e', 'bestemmiando', 'quella', 'e', 'spregiando', 'lo', 'minor', 'suggella', 'del', 'segno', 'suo', 'e', 'soddoma', 'e', 'caorsa', 'e', 'chi', 'spregiando', 'dio', 'col', 'cor', 'favella'], ['la', 'frode', 'ond', 'ogne', 'è', 'può', 'l', 'omo', 'usare', 'in', 'colui', 'che', 'n', 'lui', 'fida', 'e', 'in', 'quel', 'che', 'fidanza', 'non', 'imborsa'], ['questo', 'modo', 'di', 'retro', 'par', 'ch', 'incida', 'pur', 'lo', 'amor', 'che', 'fa', 'natura', 'secondo', 's', 'annida', 'ipocresia', 'lusinghe', 'e', 'chi', 'affattura', 'falsità', 'ladroneccio', 'e', 'simonia', 'ruffian', 'baratti', 'e', 'simile', 'lordura'], ['per', 'l', 'altro', 'modo', 'quell', 'amor', 's', 'che', 'fa', 'natura', 'è', 'poi', 'aggiunto', 'di', 'che', 'la', 'fede', 'spezïal', 'si', 'cria', 'onde', 'nel', 'cerchio', 'minore', 'ov', 'è', 'l', 'punto', 'de', 'l', 'universo', 'in', 'che', 'dite', 'qualunque', 'trade', 'in', 'etterno', 'è'], ['e', 'io', 'chiara', 'procede', 'la', 'tua', 'ragione', 'e', 'assai', 'ben', 'distingue', 'questo', 'baràtro', 'e', 'l', 'popol', 'ch', 'e', 'possiede'], ['ma', 'dimmi', 'quei', 'de', 'palude', 'pingue', 'che', 'mena', 'il', 'vento', 'e', 'che', 'batte', 'la', 'che', 's', 'incontran', 'con', 'sì', 'aspre', 'lingue', 'perché', 'non', 'dentro', 'da', 'la', 'sono', 'ei', 'puniti', 'se', 'dio', 'li', 'ha', 'in', 'ira', 'e', 'se', 'non', 'li', 'ha', 'perché', 'sono', 'a', 'tal', 'foggia'], ['ed', 'elli', 'a', 'me', 'perché', 'tanto', 'delira', 'disse', 'lo', 'ngegno', 'tuo', 'da', 'quel', 'che', 'sòle', 'o', 'ver', 'la', 'mente', 'dove', 'altrove', 'non', 'ti', 'rimembra', 'di', 'quelle', 'parole', 'le', 'quai', 'pertratta', 'le', 'l', 'ciel', 'incontenenza', 'malizia', 'e', 'la', 'bestialitade', 'e', 'come', 'dio', 'offende', 'e', 'men', 'biasimo', 'accatta', 'se', 'tu', 'ben', 'questa', 'sentenza', 'e', 'rechiti', 'a', 'chi', 'son', 'sù', 'di', 'fuor', 'sostegnon', 'vedrai', 'ben', 'perché', 'da', 'questi', 'felli', 'sien', 'dipartiti', 'e', 'la', 'divina', 'vendetta', 'li', 'martelli'], ['o', 'sol', 'che', 'ogne', 'vista', 'turbata', 'tu', 'mi', 'contenti', 'sì', 'solvi', 'che', 'non', 'men', 'saver', 'dubbiar', 'm', 'aggrata'], ['ancora', 'in', 'un', 'poco', 'rivolvi', 'diss', 'io', 'là', 'dove', 'di', 'ch', 'usura', 'la', 'divina', 'bontade', 'e', 'l', 'groppo', 'solvi'], ['filosofia', 'mi', 'disse', 'a', 'chi', 'ntende', 'nota', 'non', 'pure', 'in', 'una', 'sola', 'parte', 'come', 'natura', 'lo', 'corso', 'prende', 'dal', 'e', 'da', 'sua', 'arte', 'e', 'se', 'tu', 'ben', 'la', 'tua', 'fisica', 'note', 'tu', 'non', 'dopo', 'molte', 'carte', 'che', 'quella', 'l', 'maestro', 'fa', 'l', 'sì', 'che', 'vostr', 'arte', 'a', 'dio', 'è', 'nepote'], ['da', 'queste', 'due', 'se', 'mente', 'lo', 'genesì', 'dal', 'principio', 'convene', 'prender', 'sua', 'vita', 'e', 'avanzar', 'la', 'gente', 'e', 'perché', 'l', 'usuriere', 'altra', 'via', 'tene', 'per', 'sé', 'natura', 'e', 'la', 'seguace', 'dispregia', 'poi', 'ch', 'in', 'altro', 'pon', 'la', 'spene'], ['ma', 'l', 'gir', 'mi', 'piace', 'ché', 'i', 'guizzan', 'su', 'per', 'l', 'orizzonta', 'e', 'sovra', 'l', 'coro', 'e', 'l', 'balzo', 'via', 'là', 'oltra', 'si'], ['era', 'lo', 'loco', 'ov', 'a', 'scender', 'la', 'riva', 'venimmo', 'alpestro', 'e', 'per', 'quel', 'che', 'v', 'er', 'anco', 'tal', 'ch', 'ogne', 'vista', 'ne', 'sarebbe', 'schiva'], ['qual', 'è', 'quella', 'che', 'nel', 'fianco', 'di', 'qua', 'da', 'trento', 'l', 'adice', 'percosse', 'o', 'per', 'tremoto', 'o', 'per', 'sostegno', 'manco', 'che', 'del', 'onde', 'si', 'mosse', 'al', 'piano', 'è', 'sì', 'la', 'roccia', 'discoscesa', 'ch', 'alcuna', 'via', 'darebbe', 'a', 'chi', 'sù', 'fosse', 'cotal', 'burrato', 'era', 'la', 'scesa', 'e', 'la', 'punta', 'de', 'la', 'rotta', 'lacca', 'l', 'creti', 'era', 'distesa', 'che', 'fu', 'concetta', 'ne', 'la', 'falsa', 'vacca', 'e', 'quando', 'vide', 'noi', 'sé', 'stesso', 'morse', 'sì', 'come', 'l', 'ira', 'dentro'], ['lo', 'savio', 'mio', 'inver', 'lui', 'gridò', 'tu', 'credi', 'che', 'qui', 'sia', 'l', 'duca', 'd', 'atene', 'che', 'sù', 'nel', 'mondo', 'la', 'morte', 'ti', 'porse', 'pàrtiti', 'bestia', 'ché', 'questi', 'vene', 'ammaestrato', 'da', 'la', 'tua', 'sorella', 'ma', 'vassi', 'per', 'veder', 'le', 'vostre', 'pene'], ['qual', 'è', 'quel', 'si', 'slaccia', 'in', 'quella', 'c', 'ha', 'l', 'colpo', 'gir', 'non', 'sa', 'ma', 'qua', 'e', 'là', 'saltella', 'vid', 'io', 'lo', 'minotauro', 'far', 'cotale', 'e', 'quello', 'accorto', 'gridò', 'corri', 'al', 'varco', 'mentre', 'ch', 'e', 'nfuria', 'è', 'ti', 'cale'], ['così', 'giù', 'per', 'lo', 'spesso', 'moviensi', 'sotto', 'i', 'miei', 'piedi', 'per', 'lo', 'novo', 'carco'], ['io', 'gia', 'pensando', 'e', 'quei', 'disse', 'tu', 'pensi', 'forse', 'a', 'questa', 'ruina', 'ch', 'è', 'guardata', 'da', 'quell', 'i', 'ora', 'spensi'], ['or', 'vo', 'che', 'sappi', 'che', 'l', 'altra', 'fïata', 'ch', 'i', 'discesi', 'qua', 'giù', 'nel', 'basso', 'inferno', 'questa', 'roccia', 'non', 'era', 'ancor', 'cascata'], ['ma', 'certo', 'poco', 'pria', 'se', 'ben', 'discerno', 'che', 'venisse', 'colui', 'che', 'la', 'gran', 'preda', 'a', 'dite', 'del', 'superno', 'da', 'tutte', 'parti', 'l', 'alta', 'valle', 'feda', 'tremò', 'sì', 'ch', 'i', 'pensai', 'che', 'l', 'universo', 'sentisse', 'amor', 'per', 'lo', 'qual', 'è', 'chi', 'creda', 'più', 'volte', 'il', 'mondo', 'in', 'caòsso', 'converso', 'e', 'in', 'quel', 'punto', 'questa', 'vecchia', 'roccia', 'qui', 'tal', 'fece'], ['ma', 'ficca', 'li', 'occhi', 'a', 'valle', 'ché', 's', 'la', 'riviera', 'del', 'sangue', 'in', 'la', 'qual', 'che', 'per', 'vïolenza', 'in', 'altrui'], ['cieca', 'cupidigia', 'e', 'ira', 'folle', 'che', 'sì', 'ci', 'ne', 'la', 'vita', 'corta', 'l', 'etterna', 'poi', 'sì', 'mal', 'c', 'immolle', 'io', 'vidi', 'un', 'ampia', 'fossa', 'torta', 'come', 'quella', 'che', 'tutto', 'l', 'piano', 'abbraccia', 'secondo', 'ch', 'avea', 'detto', 'la', 'mia', 'scorta', 'e', 'piè', 'de', 'la', 'ripa', 'in', 'traccia', 'corrien', 'centauri', 'armati', 'come', 'nel', 'mondo', 'andare', 'a', 'caccia'], ['veggendoci', 'calar', 'e', 'de', 'la', 'schiera', 'tre', 'si', 'dipartiro', 'con', 'archi', 'e', 'asticciuole', 'prima', 'e', 'l', 'un', 'gridò', 'da', 'lungi', 'a', 'venite', 'scendete', 'ditel', 'costinci', 'se', 'non', 'l', 'arco', 'tiro'], ['lo', 'mio', 'disse', 'la', 'risposta', 'farem', 'noi', 'a', 'chirón', 'costà', 'di', 'presso', 'mal', 'fu', 'la', 'voglia', 'tua', 'sempre', 'sì', 'tosta'], ['poi', 'mi', 'tentò', 'e', 'disse', 'quelli', 'è', 'nesso', 'che', 'morì', 'per', 'la', 'bella', 'fé', 'di', 'sé', 'la', 'vendetta', 'stesso'], ['e', 'quel', 'di', 'mezzo', 'ch', 'si', 'mira', 'è', 'il', 'gran', 'chirón', 'il', 'qual', 'nodrì', 'achille', 'è', 'folo', 'che', 'fu', 'sì', 'pien', 'd', 'ira'], ['dintorno', 'al', 'fosso', 'vanno', 'a', 'mille', 'a', 'mille', 'qual', 'anima', 'si', 'svelle', 'del', 'sangue', 'più', 'che', 'sua', 'colpa', 'sortille'], ['noi', 'ci', 'appressammo', 'a', 'quelle', 'fiere', 'isnelle', 'chirón', 'prese', 'uno', 'strale', 'e', 'cocca', 'fece', 'la', 'barba', 'in', 'dietro', 'a', 'le', 'mascelle'], ['quando', 's', 'ebbe', 'scoperta', 'la', 'gran', 'bocca', 'disse', 'a', 'compagni', 'siete', 'voi', 'accorti', 'che', 'quel', 'di', 'retro', 'move', 'ciò', 'ch', 'el', 'tocca', 'così', 'non', 'soglion', 'far', 'li', 'd', 'i', 'morti'], ['e', 'l', 'mio', 'buon', 'duca', 'già', 'li', 'er', 'al', 'petto', 'dove', 'le', 'due', 'nature', 'son', 'rispuose', 'ben', 'è', 'vivo', 'e', 'sì', 'soletto', 'mostrar', 'li', 'convien', 'la', 'buia', 'necessità', 'l', 'ci', 'nduce', 'e', 'non', 'diletto'], ['tal', 'si', 'partì', 'da', 'cantare', 'alleluia', 'che', 'mi', 'commise', 'quest', 'officio', 'novo', 'non', 'è', 'ladron', 'né', 'io', 'anima', 'fuia'], ['ma', 'per', 'quella', 'per', 'cu', 'io', 'li', 'passi', 'miei', 'per', 'sì', 'selvaggia', 'un', 'de', 'tuoi', 'a', 'cui', 'noi', 'siamo', 'a', 'provo', 'e', 'che', 'ne', 'mostri', 'là', 'dove', 'si', 'guada', 'e', 'che', 'porti', 'costui', 'in', 'su', 'la', 'ché', 'non', 'è', 'spirto', 'che', 'per', 'l', 'aere'], ['chirón', 'si', 'volse', 'la', 'e', 'disse', 'a', 'nesso', 'torna', 'e', 'sì', 'li', 'guida', 'e', 'fa', 'cansar', 's', 'altra', 'schiera'], ['or', 'con', 'la', 'scorta', 'fida', 'lungo', 'la', 'proda', 'del', 'bollor', 'vermiglio', 'dove', 'i', 'bolliti', 'facieno', 'alte', 'strida'], ['io', 'vidi', 'gente', 'sotto', 'al', 'ciglio', 'e', 'l', 'gran', 'centauro', 'disse', 'e', 'son', 'tiranni', 'che', 'dier', 'nel', 'sangue', 'e', 'ne', 'di', 'piglio'], ['quivi', 'si', 'piangon', 'li', 'spietati', 'danni', 'quivi', 'è', 'alessandro', 'e', 'dïonisio', 'fero', 'che', 'fé', 'cicilia', 'aver', 'dolorosi', 'anni'], ['e', 'fronte', 'c', 'ha', 'l', 'pel', 'così', 'nero', 'è', 'azzolino', 'e', 'quell', 'altro', 'ch', 'è', 'opizzo', 'il', 'vero', 'fu', 'spento', 'dal', 'figliastro', 'sù', 'nel', 'mondo'], ['allor', 'mi', 'volsi', 'al', 'poeta', 'e', 'quei', 'disse', 'sia', 'or', 'primo', 'e', 'io', 'secondo'], ['poco', 'più', 'oltre', 'il', 'affisse', 'sovr', 'una', 'gente', 'che', 'nfino', 'a', 'la', 'gola', 'parea', 'che', 'di', 'uscisse'], ['un', 'ombra', 'da', 'l', 'un', 'canto', 'sola', 'dicendo', 'colui', 'fesse', 'in', 'grembo', 'a', 'dio', 'lo', 'cor', 'che', 'n', 'su', 'tamisi', 'ancor', 'si', 'cola'], ['poi', 'vidi', 'gente', 'che', 'di', 'fuor', 'del', 'rio', 'la', 'testa', 'e', 'ancor', 'tutto', 'l', 'casso', 'e', 'di', 'costoro', 'assai', 'riconobb', 'io'], ['così', 'a', 'più', 'a', 'più', 'si', 'facea', 'basso', 'quel', 'sangue', 'sì', 'che', 'cocea', 'pur', 'li', 'piedi', 'e', 'quindi', 'fu', 'del', 'fosso', 'il', 'nostro', 'passo'], ['sì', 'come', 'tu', 'parte', 'vedi', 'lo', 'bulicame', 'si', 'scema', 'disse', 'l', 'che', 'tu', 'credi', 'che', 'quest', 'altra', 'a', 'più', 'a', 'lo', 'fondo', 'suo', 'infin', 'ch', 'el', 'si', 'raggiunge', 'ove', 'la', 'tirannia', 'convien', 'che', 'gema'], ['giustizia', 'di', 'qua', 'quell', 'attila', 'che', 'fu', 'in', 'terra', 'e', 'pirro', 'e', 'sesto', 'e', 'in', 'munge', 'le', 'lagrime', 'che', 'col', 'a', 'da', 'corneto', 'a', 'rinier', 'pazzo', 'che', 'fecero', 'a', 'le', 'strade', 'guerra'], ['poi', 'si', 'rivolse', 'e', 'ripassossi', 'l', 'guazzo'], ['non', 'era', 'ancor', 'di', 'là', 'nesso', 'arrivato', 'quando', 'ci', 'mettemmo', 'per', 'un', 'bosco', 'che', 'da', 'neun', 'sentiero', 'era', 'segnato'], ['non', 'fronda', 'verde', 'ma', 'di', 'color', 'fosco', 'non', 'rami', 'schietti', 'ma', 'nodosi', 'e', 'nvolti', 'non', 'pomi', 'v', 'eran', 'ma', 'con', 'tòsco'], ['non', 'han', 'sì', 'aspri', 'sterpi', 'né', 'sì', 'folti', 'quelle', 'fiere', 'selvagge', 'che', 'n', 'odio', 'hanno', 'tra', 'cecina', 'e', 'corneto', 'i', 'luoghi', 'cólti'], ['quivi', 'le', 'brutte', 'lor', 'nidi', 'fanno', 'che', 'de', 'le', 'strofade', 'i', 'tristo', 'annunzio', 'di', 'futuro', 'danno'], ['ali', 'hanno', 'late', 'e', 'colli', 'e', 'piè', 'pennuto', 'l', 'gran', 'ventre', 'su', 'li', 'alberi', 'strani'], ['e', 'l', 'buon', 'maestro', 'prima', 'che', 'più', 'entre', 'sappi', 'che', 'se', 'nel', 'secondo', 'girone', 'mi', 'cominciò', 'a', 'dire', 'e', 'sarai', 'mentre', 'che', 'verrai', 'ne', 'l', 'orribil', 'sabbione'], ['però', 'riguarda', 'ben', 'sì', 'vederai', 'torrien', 'fede', 'al', 'mio', 'sermone'], ['io', 'sentia', 'd', 'ogne', 'parte', 'trarre', 'guai', 'e', 'non', 'che', 'per', 'ch', 'io', 'tutto', 'smarrito', 'm', 'arrestai'], ['cred', 'ïo', 'ch', 'ei', 'credette', 'ch', 'io', 'credesse', 'che', 'tante', 'voci', 'uscisser', 'tra', 'da', 'che', 'per', 'si'], ['però', 'disse', 'l', 'tu', 'qualche', 'fraschetta', 'd', 'este', 'piante', 'li', 'pensier', 'c', 'hai', 'si', 'faran', 'tutti', 'monchi'], ['allor', 'porsi', 'la', 'mano', 'un', 'poco', 'avante', 'e', 'colsi', 'un', 'ramicel', 'da', 'un', 'gran', 'pruno', 'e', 'l', 'tronco', 'suo', 'gridò', 'perché', 'mi', 'schiante'], ['da', 'che', 'fatto', 'fu', 'poi', 'di', 'sangue', 'bruno', 'ricominciò', 'a', 'dir', 'mi', 'scerpi', 'hai', 'tu', 'spirto', 'di', 'pietade', 'alcuno', 'uomini', 'fummo', 'e', 'or', 'siam', 'fatti', 'sterpi', 'ben', 'dovrebb', 'esser', 'la', 'tua', 'man', 'più', 'se', 'state', 'fossimo', 'anime', 'di', 'serpi'], ['d', 'un', 'stizzo', 'verde', 'ch', 'da', 'l', 'un', 'de', 'che', 'da', 'l', 'altro', 'geme', 'e', 'cigola', 'per', 'vento', 'che', 'va', 'via', 'la', 'scheggia', 'rotta', 'usciva', 'insieme', 'parole', 'e', 'sangue', 'ond', 'io', 'lasciai', 'la', 'cima', 'cadere', 'e', 'stetti', 'come', 'l', 'uom', 'che', 'teme'], ['s', 'elli', 'avesse', 'potuto', 'creder', 'prima', 'rispuose', 'l', 'savio', 'mio', 'anima', 'lesa', 'ciò', 'c', 'ha', 'veduto', 'pur', 'con', 'la', 'mia', 'rima', 'non', 'averebbe', 'in', 'te', 'la', 'man', 'distesa', 'ma', 'la', 'cosa', 'mi', 'fece', 'indurlo', 'ad', 'ovra', 'ch', 'a', 'me', 'stesso', 'pesa'], ['ma', 'dilli', 'chi', 'tu', 'fosti', 'sì', 'che', 'n', 'vece', 'd', 'alcun', 'ammenda', 'tua', 'fama', 'rinfreschi', 'nel', 'mondo', 'sù', 'dove', 'tornar', 'li', 'lece'], ['e', 'l', 'tronco', 'sì', 'col', 'dolce', 'dir', 'm', 'ch', 'i', 'non', 'e', 'voi', 'non', 'gravi', 'perch', 'ïo', 'poco', 'a', 'ragionar', 'm', 'inveschi'], ['io', 'son', 'che', 'tenni', 'ambo', 'le', 'chiavi', 'del', 'cor', 'di', 'federigo', 'e', 'che', 'le', 'volsi', 'serrando', 'e', 'diserrando', 'sì', 'soavi', 'dal', 'secreto', 'suo', 'uom', 'tolsi', 'fede', 'portai', 'al', 'glorïoso', 'tanto', 'ch', 'i', 'ne', 'perde', 'li', 'sonni', 'e', 'polsi'], ['la', 'meretrice', 'che', 'mai', 'da', 'l', 'di', 'non', 'li', 'occhi', 'putti', 'morte', 'comune', 'e', 'de', 'le', 'corti', 'vizio', 'contra', 'me', 'li', 'animi', 'tutti', 'nfiammati', 'infiammar', 'sì', 'augusto', 'che', 'lieti', 'onor', 'tornaro', 'in', 'tristi', 'lutti'], ['l', 'animo', 'mio', 'per', 'disdegnoso', 'gusto', 'credendo', 'col', 'morir', 'fuggir', 'disdegno', 'ingiusto', 'fece', 'me', 'contra', 'me', 'giusto'], ['per', 'le', 'nove', 'd', 'legno', 'vi', 'che', 'già', 'ruppi', 'fede', 'segnor', 'che', 'fu', 'd', 'onor', 'sì', 'degno'], ['e', 'se', 'di', 'voi', 'alcun', 'nel', 'mondo', 'riede', 'conforti', 'la', 'memoria', 'mia', 'che', 'giace', 'ancor', 'del', 'colpo', 'che', 'nvidia', 'le', 'diede'], ['un', 'poco', 'attese', 'e', 'da', 'si', 'tace', 'disse', 'l', 'poeta', 'a', 'me', 'non', 'l', 'ora', 'ma', 'parla', 'e', 'chiedi', 'se', 'più', 'ti', 'piace'], ['ond', 'ïo', 'a', 'lui', 'domandal', 'quel', 'che', 'credi', 'ch', 'a', 'me', 'non', 'tanta', 'pietà', 'm', 'accora'], ['perciò', 'ricominciò', 'l', 'om', 'ti', 'faccia', 'liberamente', 'ciò', 'che', 'l', 'tuo', 'dir', 'priega', 'spirito', 'incarcerato', 'ancor', 'ti', 'piaccia', 'come', 'l', 'si', 'lega', 'in', 'nocchi', 'e', 'dinne', 'se', 'tu', 'puoi', 's', 'alcuna', 'mai', 'di', 'tai', 'spiega'], ['soffiò', 'il', 'tronco', 'forte', 'e', 'poi', 'si', 'convertì', 'vento', 'in', 'cotal', 'voce', 'brievemente', 'sarà', 'risposto', 'a', 'voi'], ['quando', 'si', 'l', 'anima', 'feroce', 'dal', 'corpo', 'ond', 'ella', 'stessa', 's', 'è', 'disvelta', 'minòs', 'a', 'la', 'settima', 'foce'], ['cade', 'in', 'la', 'selva', 'e', 'non', 'l', 'è', 'parte', 'scelta', 'ma', 'là', 'dove', 'la', 'quivi', 'germoglia', 'come', 'gran', 'di'], ['vermena', 'e', 'in', 'pianta', 'silvestra', 'pascendo', 'poi', 'de', 'le', 'sue', 'foglie', 'fanno', 'dolore', 'e', 'al'], ['come', 'l', 'altre', 'nostre', 'spoglie', 'però', 'ch', 'alcuna', 'sen', 'ché', 'non', 'è', 'giusto', 'aver', 'ciò', 'om'], ['qui', 'le', 'strascineremo', 'e', 'mesta', 'selva', 'saranno', 'i', 'nostri', 'corpi', 'appesi', 'ciascuno', 'al', 'prun', 'de', 'l', 'ombra', 'sua', 'molesta'], ['noi', 'eravamo', 'ancora', 'al', 'credendo', 'ch', 'altro', 'ne', 'volesse', 'dire', 'quando', 'noi', 'fummo', 'd', 'un', 'romor', 'sorpresi', 'similemente', 'a', 'colui', 'che', 'sente', 'l', 'porco', 'e', 'la', 'caccia', 'a', 'la', 'sua', 'posta', 'ch', 'ode', 'le', 'frasche', 'stormire'], ['ed', 'ecco', 'due', 'da', 'la', 'sinistra', 'costa', 'nudi', 'e', 'graffiati', 'fuggendo', 'sì', 'forte', 'che', 'de', 'la', 'selva', 'rompieno', 'ogne', 'rosta'], ['quel', 'dinanzi', 'or', 'accorri'], ['e', 'l', 'altro', 'cui', 'pareva', 'tardar', 'troppo', 'gridava', 'lano', 'sì', 'non', 'furo', 'le', 'gambe', 'tue', 'a', 'le', 'giostre', 'dal', 'toppo'], ['e', 'forse', 'li', 'fallia', 'la', 'lena', 'di', 'sé', 'e', 'd', 'un', 'fece', 'un'], ['di', 'rietro', 'a', 'loro', 'era', 'la', 'selva', 'piena', 'di', 'nere', 'cagne', 'correnti', 'come', 'ch', 'uscisser', 'di'], ['in', 'quel', 's', 'appiattò', 'miser', 'li', 'denti', 'e', 'quel', 'dilaceraro', 'a', 'brano', 'a', 'brano', 'poi', 'sen', 'portar', 'quelle', 'membra', 'dolenti'], ['presemi', 'allor', 'la', 'per', 'mano', 'e', 'cespuglio', 'che', 'piangea', 'per', 'le', 'rotture', 'sanguinenti', 'in', 'vano'], ['o', 'iacopo', 'dicea', 'da', 'andrea', 't', 'è', 'giovato', 'me', 'fare', 'che', 'colpa', 'ho', 'io', 'de', 'la', 'tua', 'rea'], ['quando', 'l', 'maestro', 'fu', 'esso', 'fermo', 'chi', 'fosti', 'che', 'per', 'tante', 'punte', 'soffi', 'con', 'sangue', 'doloroso'], ['ed', 'a', 'o', 'anime', 'che', 'giunte', 'siete', 'a', 'veder', 'lo', 'strazio', 'disonesto', 'c', 'ha', 'le', 'mie', 'fronde', 'sì', 'da', 'me', 'raccoglietele', 'al', 'piè', 'del', 'tristo', 'cesto'], ['i', 'fui', 'de', 'la', 'città', 'che', 'nel', 'batista', 'mutò', 'l', 'primo', 'padrone', 'sempre', 'sua', 'la', 'farà', 'trista', 'e', 'se', 'non', 'fosse', 'che', 'n', 'sul', 'passo', 'd', 'arno', 'rimane', 'ancor', 'di', 'lui', 'alcuna', 'vista', 'que', 'cittadin', 'la', 'rifondarno', 'sovra', 'l', 'cener', 'che', 'd', 'attila', 'rimase', 'avrebber', 'lavorare', 'indarno'], ['io', 'fei', 'me', 'de', 'le', 'mie', 'case'], ['poi', 'carità', 'del', 'natio', 'loco', 'mi', 'strinse', 'raunai', 'le', 'sparte', 'e', 'rende', 'le', 'a', 'colui', 'ch', 'era', 'già', 'fioco'], ['indi', 'venimmo', 'al', 'fine', 'ove', 'si', 'parte', 'lo', 'dal', 'terzo', 'e', 'dove', 'si', 'vede', 'di', 'giustizia', 'arte'], ['a', 'ben', 'le', 'nove', 'dico', 'che', 'arrivammo', 'ad', 'una', 'landa', 'che', 'dal', 'suo', 'letto', 'ogne', 'pianta', 'rimove'], ['la', 'dolorosa', 'selva', 'l', 'è', 'ghirlanda', 'intorno', 'come', 'l', 'fosso', 'tristo', 'ad', 'essa', 'quivi', 'fermammo', 'i', 'randa', 'a', 'randa'], ['lo', 'era', 'arida', 'e', 'spessa', 'non', 'd', 'altra', 'foggia', 'fatta', 'colei', 'che', 'fu', 'da', 'piè', 'di', 'caton', 'già'], ['o', 'vendetta', 'di', 'dio', 'quanto', 'tu', 'dei', 'temuta', 'da', 'ciascun', 'che', 'legge', 'ciò', 'che', 'a', 'li', 'occhi', 'mei', 'd', 'anime', 'nude', 'vidi', 'molte', 'tutte', 'assai', 'miseramente', 'posta', 'lor', 'diversa', 'legge'], ['supin', 'giacea', 'in', 'terra', 'alcuna', 'gente', 'alcuna', 'si', 'sedea', 'tutta', 'raccolta', 'e', 'altra', 'andava', 'continüamente'], ['quella', 'che', 'giva', 'ntorno', 'era', 'più', 'molta', 'e', 'quella', 'men', 'che', 'giacëa', 'al', 'tormento', 'ma', 'più', 'al', 'la', 'lingua', 'sciolta'], ['sovra', 'tutto', 'l', 'sabbion', 'd', 'un', 'cader', 'lento', 'foco', 'falde', 'come', 'di', 'in', 'alpe', 'sanza', 'vento'], ['quali', 'alessandro', 'in', 'quelle', 'd', 'indïa', 'vide', 'sopra', 'l', 'süo', 'stuolo', 'fiamme', 'cadere', 'infino', 'a', 'terra', 'salde', 'per', 'ch', 'ei', 'provide', 'a', 'lo', 'suolo', 'acciò', 'che', 'lo', 'vapore', 'mei', 'si', 'stingueva', 'mentre', 'ch', 'era', 'solo', 'tale', 'scendeva', 'l', 'etternale', 'ardore', 'onde', 'la', 's', 'accendea', 'com', 'focile', 'a', 'doppiar', 'lo', 'dolore'], ['sanza', 'riposo', 'mai', 'era', 'la', 'tresca', 'de', 'le', 'misere', 'mani', 'or', 'quindi', 'or', 'quinci', 'escotendo', 'da', 'sé', 'l', 'arsura', 'fresca'], ['maestro', 'tu', 'che', 'tutte', 'le', 'cose', 'fuor', 'che', 'demon', 'duri', 'ch', 'a', 'l', 'intrar', 'de', 'la', 'porta', 'incontra', 'uscinci', 'chi', 'è', 'quel', 'grande', 'che', 'par', 'che', 'curi', 'lo', 'ncendio', 'e', 'giace', 'dispettoso', 'e', 'torto', 'sì', 'pioggia', 'l', 'marturi'], ['e', 'quel', 'medesmo', 'che', 'si', 'fu', 'accorto', 'ch', 'io', 'domandava', 'il', 'mio', 'duca', 'di', 'lui', 'gridò', 'qual', 'io', 'fui', 'vivo', 'tal', 'son', 'morto'], ['se', 'giove', 'stanchi', 'l', 'suo', 'fabbro', 'da', 'cui', 'prese', 'la', 'folgore', 'aguta', 'onde', 'l', 'ultimo', 'dì', 'percosso', 'fui', 'o', 's', 'elli', 'stanchi', 'li', 'altri', 'a', 'muta', 'in', 'mongibello', 'a', 'la', 'focina', 'negra', 'chiamando', 'buon', 'vulcano', 'sì', 'com', 'el', 'fece', 'a', 'la', 'pugna', 'di', 'flegra', 'e', 'me', 'saetti', 'con', 'forza', 'non', 'ne', 'vendetta', 'allegra'], ['allora', 'il', 'duca', 'mio', 'parlò', 'di', 'forza', 'tanto', 'ch', 'i', 'non', 'l', 'forte', 'udito', 'o', 'capaneo', 'in', 'ciò', 'che', 'non', 's', 'ammorza', 'la', 'tua', 'superbia', 'se', 'tu', 'più', 'punito', 'nullo', 'martiro', 'fuor', 'che', 'rabbia', 'sarebbe', 'al', 'tuo', 'compito'], ['poi', 'si', 'rivolse', 'a', 'me', 'con', 'labbia', 'dicendo', 'quei', 'fu', 'l', 'un', 'd', 'i', 'sette', 'regi', 'ch', 'assiser', 'tebe', 'ebbe', 'e', 'par', 'ch', 'elli', 'abbia', 'dio', 'in', 'e', 'poco', 'che', 'l', 'pregi', 'ma', 'com', 'io', 'dissi', 'lui', 'li', 'suoi', 'al', 'suo', 'petto', 'assai', 'debiti', 'fregi'], ['or', 'mi', 'vien', 'dietro', 'e', 'guarda', 'che', 'non', 'metti', 'ancor', 'li', 'piedi', 'ne', 'la', 'rena', 'ma', 'sempre', 'al', 'li', 'piedi'], ['tacendo', 'divenimmo', 'là', 've', 'fuor', 'de', 'la', 'selva', 'un', 'picciol', 'fiumicello', 'lo', 'cui', 'rossore', 'ancor', 'mi'], ['quale', 'del', 'bulicame', 'esce', 'ruscello', 'poi', 'tra', 'lor', 'le', 'peccatrici', 'tal', 'per', 'rena', 'giù', 'sen', 'giva'], ['lo', 'fondo', 'suo', 'e', 'ambo', 'le', 'pendici', 'fatt', 'era', 'n', 'pietra', 'e', 'margini', 'per', 'ch', 'io', 'm', 'accorsi', 'che', 'l', 'era', 'lici'], ['l', 'i', 't', 'ho', 'dimostrato', 'poscia', 'che', 'noi', 'per', 'la', 'porta', 'lo', 'cui', 'sogliare', 'a', 'è', 'cosa', 'non', 'fu', 'da', 'li', 'tuoi', 'occhi', 'scorta', 'notabile', 'l', 'presente', 'rio', 'che', 'sovra', 'sé', 'tutte', 'fiammelle', 'ammorta'], ['queste', 'parole', 'fuor', 'del', 'duca', 'mio', 'per', 'ch', 'io', 'l', 'pregai', 'che', 'mi', 'largisse', 'l', 'pasto', 'di', 'cui', 'avëa', 'il', 'disio'], ['in', 'mezzo', 'mar', 'siede', 'un', 'elli', 'allora', 'che', 'creta', 'sotto', 'l', 'cui', 'rege', 'fu', 'già', 'l', 'mondo', 'casto'], ['una', 'montagna', 'v', 'già', 'fu', 'lieta', 'd', 'acqua', 'e', 'di', 'fronde', 'che', 'si', 'chiamò', 'or', 'è', 'diserta', 'come', 'cosa', 'vieta'], ['rëa', 'la', 'scelse', 'già', 'cuna', 'suo', 'e', 'per', 'celarlo', 'meglio', 'quando', 'piangea', 'vi', 'facea', 'far', 'le', 'grida'], ['dentro', 'dal', 'monte', 'sta', 'dritto', 'un', 'gran', 'veglio', 'che', 'tien', 'volte', 'le', 'spalle', 'inver', 'dammiata', 'e', 'roma', 'guarda', 'come', 'süo'], ['la', 'sua', 'testa', 'è', 'di', 'fin', 'oro', 'formata', 'e', 'puro', 'argento', 'son', 'le', 'braccia', 'e', 'l', 'petto', 'poi', 'è', 'infino', 'a', 'la', 'forcata', 'da', 'indi', 'in', 'giuso', 'è', 'tutto', 'ferro', 'eletto', 'che', 'l', 'destro', 'piede', 'è', 'terra', 'cotta', 'n', 'su', 'più', 'che', 'n', 'su', 'l', 'altro', 'eretto'], ['ciascuna', 'parte', 'fuor', 'che', 'l', 'oro', 'è', 'd', 'una', 'fessura', 'che', 'goccia', 'le', 'quali', 'accolte', 'fóran', 'quella'], ['lor', 'corso', 'in', 'questa', 'valle', 'diroccia', 'fanno', 'acheronte', 'stige', 'e', 'flegetonta', 'poi', 'sen', 'van', 'giù', 'per', 'questa', 'stretta', 'doccia', 'infin', 'là', 'ove', 'più', 'non', 'si', 'dismonta', 'fanno', 'cocito', 'sia', 'quello', 'stagno', 'tu', 'lo', 'vedrai', 'però', 'si', 'conta'], ['e', 'io', 'a', 'lui', 'se', 'l', 'rigagno', 'si', 'diriva', 'così', 'dal', 'nostro', 'ci', 'appar', 'pur', 'a', 'questo', 'vivagno'], ['ed', 'elli', 'a', 'me', 'tu', 'sai', 'che', 'l', 'loco', 'è', 'tondo', 'e', 'tutto', 'che', 'tu', 'sie', 'venuto', 'molto', 'pur', 'a', 'sinistra', 'giù', 'calando', 'al', 'fondo', 'non', 'se', 'ancor', 'per', 'l', 'cerchio', 'che', 'se', 'cosa', 'n', 'apparisce', 'nova', 'non', 'de', 'addur', 'maraviglia', 'al', 'tuo', 'volto'], ['e', 'io', 'ancor', 'maestro', 'ove', 'si', 'flegetonta', 'e', 'letè', 'ché', 'de', 'l', 'un', 'taci', 'e', 'l', 'altro', 'di', 'che', 'si', 'fa', 'd', 'esta'], ['in', 'tutte', 'tue', 'question', 'mi', 'piaci', 'rispuose', 'ma', 'l', 'bollor', 'de', 'l', 'acqua', 'rossa', 'dovea', 'ben', 'solver', 'l', 'una', 'che', 'tu', 'faci'], ['letè', 'vedrai', 'ma', 'fuor', 'di', 'questa', 'fossa', 'là', 'dove', 'vanno', 'l', 'anime', 'a', 'lavarsi', 'quando', 'la', 'colpa', 'è'], ['poi', 'disse', 'omai', 'è', 'tempo', 'da', 'scostarsi', 'dal', 'bosco', 'fa', 'che', 'di', 'retro', 'a', 'vegne', 'li', 'margini', 'fan', 'via', 'che', 'non', 'son', 'arsi', 'e', 'sopra', 'loro', 'si', 'spegne'], ['ora', 'porta', 'l', 'un', 'de', 'duri', 'margini', 'e', 'l', 'fummo', 'di', 'aduggia', 'sì', 'che', 'foco', 'salva', 'l', 'acqua', 'e', 'li', 'argini'], ['quali', 'fiamminghi', 'tra', 'guizzante', 'e', 'bruggia', 'l', 'fiotto', 'che', 'nver', 'lor', 's', 'avventa', 'fanno', 'lo', 'schermo', 'l', 'mar', 'si', 'fuggia', 'e', 'padoan', 'lungo', 'la', 'brenta', 'per', 'difender', 'lor', 'ville', 'e', 'lor', 'castelli', 'anzi', 'che', 'carentana', 'il', 'caldo', 'senta', 'a', 'tale', 'imagine', 'eran', 'fatti', 'quelli', 'tutto', 'che', 'né', 'alti', 'né', 'sì', 'grossi', 'qual', 'che', 'félli'], ['già', 'eravam', 'da', 'la', 'selva', 'rimossi', 'tanto', 'ch', 'i', 'non', 'avrei', 'visto', 'dov', 'era', 'perch', 'io', 'in', 'dietro', 'rivolto', 'mi', 'fossi', 'quando', 'incontrammo', 'd', 'anime', 'che', 'venian', 'argine', 'e', 'ci', 'riguardava', 'come', 'suol', 'da', 'sera', 'altro', 'e', 'sì', 'noi', 'aguzzavan', 'le', 'ciglia', 'come', 'l', 'vecchio', 'sartor', 'fa', 'ne', 'la', 'cruna'], ['così', 'adocchiato', 'da', 'cotal', 'famiglia', 'fui', 'conosciuto', 'da', 'un', 'mi', 'prese', 'per', 'lo', 'lembo', 'e', 'gridò', 'qual', 'maraviglia'], ['e', 'l', 'a', 'me', 'distese', 'ficcaï', 'li', 'occhi', 'per', 'lo', 'cotto', 'aspetto', 'l', 'viso', 'non', 'difese', 'la', 'conoscenza', 'süa', 'al', 'mio', 'ntelletto', 'e', 'chinando', 'la', 'mano', 'a', 'la', 'sua', 'rispuosi', 'siete', 'voi', 'ser', 'brunetto'], ['e', 'o', 'figliuol', 'mio', 'non', 'ti', 'dispiaccia', 'se', 'latino', 'un', 'poco', 'teco', 'ritorna', 'n', 'dietro', 'e', 'andar', 'la', 'traccia'], ['i', 'lui', 'quanto', 'posso', 'ven', 'con', 'voi', 'm', 'faròl', 'se', 'piace', 'a', 'costui', 'che', 'vo', 'seco'], ['o', 'disse', 'qual', 'di', 'questa', 'greggia', 's', 'arresta', 'punto', 'giace', 'poi', 'cent', 'anni', 'quando', 'l', 'foco', 'il', 'feggia'], ['però', 'va', 'oltre', 'i', 'ti', 'verrò', 'a', 'e', 'poi', 'rigiugnerò', 'la', 'mia', 'masnada', 'che', 'va', 'piangendo', 'i', 'suoi', 'etterni', 'danni'], ['io', 'non', 'osava', 'scender', 'de', 'per', 'par', 'di', 'lui', 'ma', 'l', 'capo', 'chino', 'tenea', 'com', 'uom', 'che', 'reverente', 'vada'], ['el', 'cominciò', 'qual', 'fortuna', 'o', 'destino', 'anzi', 'l', 'ultimo', 'dì', 'qua', 'giù', 'ti', 'mena', 'e', 'chi', 'è', 'questi', 'che', 'mostra', 'l', 'cammino'], ['là', 'sù', 'di', 'sopra', 'in', 'la', 'vita', 'serena', 'io', 'lui', 'mi', 'smarri', 'in', 'una', 'valle', 'avanti', 'età', 'mia', 'fosse', 'piena'], ['pur', 'ier', 'mattina', 'le', 'spalle', 'questi', 'm', 'ïo', 'in', 'e', 'reducemi', 'a', 'ca', 'per', 'questo', 'calle'], ['ed', 'elli', 'a', 'me', 'se', 'tu', 'segui', 'tua', 'stella', 'non', 'puoi', 'fallire', 'a', 'glorïoso', 'porto', 'se', 'ben', 'm', 'accorsi', 'ne', 'la', 'vita', 'bella', 'io', 'non', 'fossi', 'sì', 'per', 'morto', 'veggendo', 'il', 'cielo', 'a', 'te', 'così', 'benigno', 'dato', 't', 'conforto'], ['ma', 'quello', 'ingrato', 'maligno', 'che', 'discese', 'di', 'fiesole', 'antico', 'e', 'tiene', 'ancor', 'del', 'monte', 'e', 'del', 'macigno', 'ti', 'si', 'farà', 'per', 'tuo', 'ben', 'far', 'nimico', 'ed', 'è', 'ragion', 'ché', 'tra', 'li', 'lazzi', 'sorbi', 'fruttare', 'al', 'dolce', 'fico'], ['vecchia', 'fama', 'mondo', 'li', 'chiama', 'orbi', 'gent', 'è', 'avara', 'e', 'lor', 'costumi', 'che', 'tu', 'ti', 'forbi'], ['la', 'tua', 'fortuna', 'tanto', 'onor', 'serba', 'che', 'l', 'una', 'parte', 'e', 'l', 'altra', 'avranno', 'fame', 'di', 'te', 'ma', 'lungi', 'fia', 'dal', 'becco', 'l', 'erba'], ['faccian', 'le', 'bestie', 'strame', 'di', 'e', 'tocchin', 'la', 'pianta', 's', 'alcuna', 'ancora', 'letame', 'in', 'cui', 'riviva', 'la', 'santa', 'di', 'que', 'roman', 'che', 'vi', 'rimaser', 'quando', 'fu', 'fatto', 'il', 'nido', 'di', 'malizia', 'tanta'], ['se', 'fosse', 'tutto', 'pieno', 'rispuos', 'io', 'lui', 'voi', 'non', 'sareste', 'ancora', 'de', 'l', 'umana', 'natura', 'posto', 'in', 'bando', 'ché', 'n', 'la', 'mente', 'm', 'è', 'fitta', 'e', 'or', 'm', 'accora', 'e', 'paterna', 'di', 'voi', 'quando', 'nel', 'ad', 'ora', 'ad', 'ora', 'm', 'come', 'l', 'uom', 's', 'etterna', 'e', 'quant', 'abbia', 'in', 'grado', 'mentr', 'io', 'vivo', 'convien', 'che', 'ne', 'la', 'mia', 'lingua', 'si', 'scerna'], ['ciò', 'che', 'narrate', 'di', 'corso', 'scrivo', 'a', 'chiosar', 'con', 'altro', 'testo', 'a', 'donna', 'che', 'saprà', 's', 'a', 'lei', 'arrivo'], ['tanto', 'vogl', 'io', 'che', 'vi', 'sia', 'manifesto', 'pur', 'che', 'mia', 'coscïenza', 'non', 'mi', 'garra', 'ch', 'a', 'la', 'fortuna', 'come', 'presto'], ['non', 'è', 'nuova', 'a', 'li', 'tal', 'arra', 'però', 'giri', 'la', 'sua', 'rota', 'come', 'le', 'piace', 'e', 'l', 'villan', 'la', 'sua', 'marra'], ['lo', 'mio', 'maestro', 'su', 'la', 'gota', 'volse', 'in', 'dietro', 'e', 'poi', 'disse', 'ascolta', 'chi', 'la', 'nota'], ['né', 'per', 'di', 'vommi', 'con', 'brunetto', 'e', 'chi', 'sono', 'li', 'suoi', 'compagni', 'più', 'noti', 'e', 'più', 'sommi'], ['ed', 'elli', 'a', 'me', 'saper', 'd', 'alcuno', 'è', 'buono', 'de', 'li', 'altri', 'fia', 'laudabile', 'ché', 'saria', 'corto', 'a', 'tanto', 'suono'], ['in', 'somma', 'sappi', 'che', 'tutti', 'e', 'litterati', 'grandi', 'e', 'di', 'gran', 'fama', 'd', 'un', 'peccato', 'medesmo', 'al', 'mondo', 'lerci'], ['priscian', 'turba', 'grama', 'e', 'francesco', 'd', 'accorso', 'anche', 'e', 'avuto', 'di', 'tal', 'colui', 'potei', 'che', 'dal', 'servo', 'de', 'servi', 'fu', 'trasmutato', 'd', 'arno', 'dove', 'lasciò', 'li', 'mal', 'protesi', 'nervi'], ['più', 'direi', 'ma', 'l', 'venire', 'e', 'l', 'sermone', 'più', 'lungo', 'esser', 'non', 'può', 'però', 'ch', 'i', 'veggio', 'là', 'surger', 'nuovo', 'fummo', 'del', 'sabbione'], ['gente', 'vien', 'con', 'la', 'quale', 'esser', 'non', 'deggio'], ['sieti', 'il', 'mio', 'tesoro', 'nel', 'qual', 'io', 'vivo', 'e', 'più', 'non', 'cheggio'], ['poi', 'si', 'rivolse', 'e', 'parve', 'di', 'coloro', 'corrono', 'a', 'verona', 'il', 'verde', 'per', 'la', 'e', 'parve', 'di', 'costoro', 'che', 'vince', 'non', 'colui', 'che', 'perde'], ['già', 'era', 'in', 'loco', 'onde', 's', 'udia', 'l', 'rimbombo', 'de', 'l', 'acqua', 'che', 'cadea', 'ne', 'l', 'giro', 'simile', 'a', 'quel', 'che', 'l', 'arnie', 'fanno', 'rombo', 'quando', 'tre', 'ombre', 'si', 'partiro', 'correndo', 'd', 'una', 'torma', 'che', 'passava', 'sotto', 'la', 'pioggia', 'de', 'l', 'aspro', 'martiro'], ['noi', 'e', 'ciascuna', 'gridava', 'sòstati', 'tu', 'ch', 'a', 'l', 'abito', 'ne', 'sembri', 'esser', 'alcun', 'di', 'prava'], ['ahimè', 'che', 'piaghe', 'vidi', 'ne', 'lor', 'ricenti', 'e', 'vecchie', 'da', 'le', 'incese', 'ancor', 'men', 'ch', 'i', 'me', 'ne'], ['a', 'le', 'lor', 'grida', 'dottor', 's', 'attese', 'volse', 'l', 'viso', 'e', 'or', 'aspetta', 'disse', 'a', 'costor', 'si', 'vuole', 'esser', 'cortese'], ['e', 'se', 'non', 'fosse', 'il', 'foco', 'che', 'saetta', 'la', 'natura', 'del', 'loco', 'i', 'dicerei', 'che', 'stesse', 'a', 'te', 'che', 'a', 'lor', 'la', 'fretta'], ['come', 'noi', 'restammo', 'ei', 'l', 'antico', 'verso', 'e', 'quando', 'a', 'noi', 'fuor', 'giunti', 'fenno', 'una', 'rota', 'di', 'sé', 'tutti', 'e', 'trei'], ['e', 'avvisando', 'lor', 'presa', 'e', 'lor', 'vantaggio', 'prima', 'che', 'sien', 'tra', 'lor', 'battuti', 'e', 'punti', 'rotando', 'ciascuno', 'il', 'visaggio', 'drizzava', 'a', 'me', 'sì', 'che', 'n', 'contraro', 'il', 'collo', 'faceva', 'ai', 'piè', 'continüo', 'vïaggio'], ['e', 'se', 'miseria', 'd', 'esto', 'loco', 'sollo', 'rende', 'in', 'noi', 'e', 'nostri', 'prieghi', 'l', 'uno', 'e', 'l', 'tinto', 'e', 'brollo', 'la', 'fama', 'nostra', 'il', 'tuo', 'dirne', 'chi', 'tu', 'se', 'che', 'i', 'piedi', 'così', 'sicuro', 'nferno'], ['questi', 'l', 'orme', 'di', 'cui', 'pestar', 'mi', 'vedi', 'che', 'nudo', 'e', 'dipelato', 'vada', 'grado', 'maggior', 'che', 'tu', 'de', 'la', 'buona', 'gualdrada', 'guido', 'guerra', 'ebbe', 'in', 'sua', 'vita', 'fece', 'col', 'senno', 'assai', 'la', 'spada'], ['l', 'altro', 'ch', 'appresso', 'me', 'la', 'rena', 'trita', 'aldobrandi', 'la', 'cui', 'voce', 'nel', 'mondo', 'sù', 'dovria', 'esser', 'gradita'], ['e', 'io', 'che', 'posto', 'son', 'con', 'loro', 'in', 'iacopo', 'rusticucci', 'fui', 'e', 'certo', 'la', 'fiera', 'moglie', 'più', 'ch', 'altro', 'mi', 'nuoce'], ['s', 'i', 'fossi', 'stato', 'dal', 'foco', 'coperto', 'mi', 'sarei', 'tra', 'lor', 'di', 'sotto', 'e', 'credo', 'l', 'dottor', 'l', 'avria', 'ma', 'perch', 'io', 'mi', 'sarei', 'brusciato', 'e', 'cotto', 'vinse', 'paura', 'la', 'mia', 'di', 'loro', 'abbracciar', 'mi', 'facea'], ['poi', 'cominciai', 'non', 'dispetto', 'ma', 'doglia', 'la', 'dentro', 'mi', 'fisse', 'tanta', 'che', 'tardi', 'tutta', 'si', 'dispoglia', 'tosto', 'che', 'mio', 'parole', 'per', 'i', 'mi', 'pensai', 'che', 'siete', 'tal', 'gente'], ['di', 'vostra', 'terra', 'sono', 'mai', 'l', 'ovra', 'di', 'voi', 'e', 'li', 'onorati', 'nomi', 'con', 'ritrassi', 'e', 'ascoltai'], ['lascio', 'lo', 'fele', 'e', 'vo', 'per', 'pomi', 'a', 'me', 'per', 'lo', 'verace', 'duca', 'ma', 'centro', 'pria', 'convien', 'ch', 'i', 'tomi'], ['se', 'lungamente', 'l', 'conduca', 'le', 'membra', 'tue', 'ancora', 'e', 'se', 'tua', 'dopo', 'te', 'luca', 'cortesia', 'e', 'valor', 'dì', 'se', 'dimora', 'ne', 'la', 'nostra', 'città', 'sì', 'come', 'se', 'del', 'tutto', 'se', 'n', 'è', 'gita', 'fora', 'ché', 'guiglielmo', 'borsiere', 'il', 'si', 'duole', 'con', 'per', 'poco', 'e', 'va', 'là', 'coi', 'compagni', 'assai', 'ne', 'cruccia', 'con', 'le', 'sue', 'parole'], ['la', 'gente', 'nuova', 'e', 'i', 'sùbiti', 'guadagni', 'orgoglio', 'e', 'dismisura', 'han', 'in', 'te', 'sì', 'che', 'tu', 'già', 'ten', 'piagni'], ['così', 'gridai', 'con', 'la', 'faccia', 'levata', 'e', 'i', 'tre', 'che', 'ciò', 'inteser', 'risposta', 'guardar', 'l', 'un', 'l', 'altro', 'com', 'al', 'si', 'guata'], ['se', 'l', 'altre', 'volte', 'sì', 'poco', 'ti', 'costa', 'tutti', 'il', 'satisfare', 'felice', 'te', 'se', 'sì', 'parli', 'a', 'tua', 'posta', 'se', 'campi', 'le', 'belle', 'stelle', 'quando', 'ti', 'gioverà', 'dicere', 'i', 'fui', 'fa', 'che', 'di', 'noi', 'a', 'la', 'gente'], ['indi', 'rupper', 'la', 'rota', 'e', 'a', 'fuggirsi', 'ali', 'sembiar', 'le', 'loro', 'isnelle'], ['un', 'amen', 'non', 'dirsi', 'tosto', 'così', 'com', 'e', 'fuoro', 'spariti', 'per', 'ch', 'al', 'maestro', 'parve', 'di', 'partirsi'], ['io', 'lo', 'seguiva', 'eravam', 'iti', 'che', 'l', 'suon', 'de', 'l', 'acqua', 'sì', 'vicino', 'che', 'per', 'saremmo', 'a', 'pena', 'uditi'], ['come', 'quel', 'fiume', 'c', 'ha', 'proprio', 'cammino', 'prima', 'dal', 'monte', 'viso', 'nver', 'levante', 'da', 'la', 'sinistra', 'costa', 'd', 'apennino', 'che', 'si', 'chiama', 'acquacheta', 'suso', 'si', 'divalli', 'nel', 'basso', 'e', 'a', 'forlì', 'di', 'quel', 'è', 'vacante', 'rimbomba', 'là', 'sovra', 'san', 'benedetto', 'l', 'alpe', 'cadere', 'ad', 'una', 'scesa', 'ove', 'dovea', 'mille', 'esser', 'recetto', 'così', 'una', 'ripa', 'discoscesa', 'trovammo', 'risonar', 'quell', 'acqua', 'tinta', 'sì', 'che', 'n', 'poc', 'ora', 'avria', 'l', 'orecchia', 'offesa'], ['io', 'avea', 'una', 'corda', 'intorno', 'cinta', 'e', 'con', 'essa', 'pensai', 'volta', 'prender', 'la', 'lonza', 'a', 'la', 'pelle', 'dipinta'], ['poscia', 'ch', 'io', 'l', 'ebbi', 'tutta', 'da', 'me', 'sì', 'come', 'l', 'duca', 'm', 'avea', 'comandato', 'porsila', 'a', 'lui', 'aggroppata', 'e'], ['ond', 'ei', 'si', 'volse', 'inver', 'lo', 'destro', 'lato', 'e', 'lunge', 'da', 'la', 'sponda', 'la', 'gittò', 'giuso', 'quell', 'alto', 'burrato'], ['e', 'pur', 'che', 'novità', 'risponda', 'dicea', 'fra', 'me', 'al', 'che', 'l', 'con', 'l', 'occhio', 'sì', 'seconda'], ['uomini', 'dienno', 'presso', 'a', 'color', 'che', 'non', 'veggion', 'pur', 'l', 'ovra', 'ma', 'per', 'entro', 'i', 'pensier', 'miran', 'col', 'disse', 'a', 'me', 'tosto', 'verrà', 'di', 'ciò', 'ch', 'io', 'attendo', 'e', 'che', 'il', 'tuo', 'pensier', 'sogna', 'tosto', 'convien', 'ch', 'al', 'tuo', 'viso', 'si', 'scovra'], ['sempre', 'a', 'quel', 'ver', 'c', 'ha', 'faccia', 'di', 'menzogna', 'de', 'l', 'uom', 'chiuder', 'le', 'labbra', 'fin', 'ch', 'el', 'puote', 'però', 'che', 'sanza', 'ma', 'qui', 'tacer', 'nol', 'posso', 'e', 'per', 'le', 'note', 'di', 'questa', 'comedìa', 'lettor', 'ti', 'elle', 'non', 'sien', 'di', 'lunga', 'vòte', 'ch', 'i', 'vidi', 'per', 'quell', 'aere', 'e', 'scuro', 'venir', 'notando', 'una', 'figura', 'suso', 'maravigliosa', 'ad', 'ogne', 'sì', 'come', 'che', 'va', 'giuso', 'talora', 'a', 'solver', 'l', 'àncora', 'ch', 'aggrappa', 'o', 'scoglio', 'o', 'altro', 'che', 'nel', 'mare', 'è', 'chiuso', 'che', 'n', 'sù', 'si', 'stende', 'e', 'da', 'piè', 'si', 'rattrappa'], ['ecco', 'la', 'fiera', 'con', 'la', 'coda', 'che', 'passa', 'i', 'rompe', 'i', 'muri', 'e', 'l', 'armi', 'ecco', 'colei', 'che', 'tutto', 'l', 'mondo', 'appuzza'], ['sì', 'cominciò', 'lo', 'mio', 'duca', 'a', 'parlarmi', 'e', 'accennolle', 'che', 'venisse', 'a', 'proda', 'vicino', 'al', 'fin', 'd', 'i', 'passeggiati', 'marmi'], ['sozza', 'imagine', 'di', 'froda', 'sen', 'venne', 'e', 'arrivò', 'la', 'testa', 'e', 'l', 'busto', 'ma', 'n', 'su', 'non', 'trasse', 'la', 'coda'], ['la', 'faccia', 'sua', 'era', 'd', 'uom', 'giusto', 'di', 'fuor', 'la', 'pelle', 'e', 'd', 'un', 'serpente', 'tutto', 'l', 'altro', 'fusto', 'due', 'branche', 'avea', 'pilose', 'insin', 'l', 'ascelle', 'lo', 'l', 'petto', 'e', 'coste', 'dipinti', 'avea', 'di', 'nodi', 'e', 'di', 'rotelle'], ['con', 'più', 'color', 'sommesse', 'e', 'sovraposte', 'non', 'fer', 'drappi', 'turchi', 'né', 'fuor', 'per', 'aragne', 'imposte'], ['come', 'talvolta', 'stanno', 'a', 'riva', 'i', 'burchi', 'che', 'parte', 'sono', 'in', 'acqua', 'e', 'parte', 'e', 'come', 'là', 'tra', 'li', 'tedeschi', 'lurchi', 'lo', 'bivero', 's', 'assetta', 'a', 'far', 'sua', 'guerra', 'così', 'la', 'fiera', 'pessima', 'si', 'stava', 'su', 'l', 'orlo', 'ch', 'pietra', 'e', 'l', 'sabbion', 'serra'], ['sua', 'coda', 'guizzava', 'torcendo', 'la', 'venenosa', 'forca', 'ch', 'a', 'punta'], ['lo', 'or', 'convien', 'che', 'si', 'torca', 'la', 'nostra', 'via', 'un', 'poco', 'insino', 'a', 'quella', 'bestia', 'malvagia', 'che', 'colà', 'si', 'corca'], ['però', 'scendemmo', 'a', 'la', 'e', 'diece', 'in', 'su', 'lo', 'stremo', 'per', 'ben', 'la', 'rena', 'e', 'la', 'fiammella'], ['e', 'quando', 'a', 'lei', 'venuti', 'più', 'oltre', 'veggio', 'in', 'su', 'la', 'seder', 'propinqua', 'loco', 'scemo'], ['quivi', 'l', 'maestro', 'acciò', 'che', 'tutta', 'piena', 'esperïenza', 'd', 'esto', 'giron', 'porti', 'mi', 'disse', 'va', 'la', 'lor', 'mena'], ['li', 'tuoi', 'ragionamenti', 'sian', 'là', 'corti', 'mentre', 'che', 'torni', 'con', 'questa', 'che', 'ne', 'conceda', 'i', 'suoi', 'omeri', 'forti'], ['così', 'ancor', 'su', 'per', 'la', 'strema', 'testa', 'di', 'quel', 'cerchio', 'tutto', 'solo', 'andai', 'dove', 'sedea', 'la', 'gente', 'mesta'], ['per', 'li', 'occhi', 'fora', 'scoppiava', 'lor', 'duolo', 'di', 'qua', 'di', 'con', 'le', 'mani', 'quando', 'a', 'vapori', 'e', 'quando', 'al', 'caldo', 'suolo', 'non', 'fan', 'di', 'state', 'i', 'cani', 'or', 'col', 'ceffo', 'or', 'col', 'piè', 'quando', 'son', 'morsi', 'o', 'da', 'pulci', 'o', 'da', 'mosche', 'o', 'da', 'tafani'], ['poi', 'che', 'nel', 'viso', 'a', 'certi', 'li', 'occhi', 'porsi', 'ne', 'quali', 'l', 'doloroso', 'foco', 'casca', 'non', 'ne', 'alcun', 'ma', 'io', 'm', 'accorsi', 'che', 'collo', 'a', 'ciascun', 'pendea', 'una', 'tasca', 'ch', 'certo', 'colore', 'e', 'certo', 'segno', 'par', 'che', 'l', 'loro'], ['e', 'com', 'io', 'riguardando', 'tra', 'vegno', 'in', 'gialla', 'vidi', 'azzurro', 'che', 'leone', 'avea', 'faccia', 'e', 'contegno'], ['poi', 'procedendo', 'di', 'mio', 'sguardo', 'il', 'curro', 'vidine', 'un', 'altra', 'come', 'sangue', 'rossa', 'mostrando', 'un', 'oca', 'bianca', 'più', 'che', 'burro'], ['e', 'un', 'che', 'd', 'una', 'e', 'grossa', 'segnato', 'avea', 'lo', 'suo', 'sacchetto', 'bianco', 'mi', 'disse', 'che', 'fai', 'tu', 'in', 'questa', 'fossa', 'or', 'te', 'ne', 'va', 'e', 'perché', 'se', 'vivo', 'anco', 'sappi', 'che', 'l', 'mio', 'vicin', 'qui', 'dal', 'mio', 'sinistro', 'fianco'], ['con', 'questi', 'fiorentin', 'son', 'padoano', 'spesse', 'fïate', 'mi', 'ntronan', 'orecchi', 'gridando', 'vegna', 'l', 'cavalier', 'sovrano', 'che', 'recherà', 'la', 'tre', 'becchi'], ['qui', 'la', 'bocca', 'e', 'di', 'fuor', 'trasse', 'la', 'lingua', 'come', 'bue', 'che', 'l', 'naso', 'lecchi'], ['e', 'io', 'no', 'l', 'più', 'star', 'crucciasse', 'lui', 'di', 'star', 'm', 'avea', 'mmonito', 'mi', 'in', 'da', 'l', 'anime', 'lasse'], ['il', 'ch', 'era', 'salito', 'già', 'su', 'fiero', 'animale', 'e', 'disse', 'a', 'me', 'or', 'sie', 'forte', 'e', 'ardito'], ['omai', 'si', 'scende', 'per', 'sì', 'scale', 'ch', 'i', 'voglio', 'esser', 'mezzo', 'sì', 'che', 'non', 'possa'], ['qual', 'è', 'colui', 'che', 'sì', 'presso', 'ha', 'l', 'riprezzo', 'de', 'la', 'quartana', 'c', 'ha', 'già', 'l', 'unghie', 'smorte', 'e', 'triema', 'tutto', 'pur', 'guardando', 'l', 'rezzo', 'tal', 'divenn', 'io', 'a', 'le', 'parole', 'porte', 'ma', 'vergogna', 'mi', 'fé', 'le', 'sue', 'innanzi', 'a', 'buon', 'segnor', 'fa', 'servo', 'forte'], ['i', 'm', 'assettai', 'in', 'su', 'quelle', 'spallacce', 'sì', 'volli', 'dir', 'ma', 'la', 'venne', 'com', 'io', 'credetti', 'fa', 'che', 'tu', 'm', 'abbracce'], ['ma', 'esso', 'ch', 'altra', 'volta', 'mi', 'sovvenne', 'ad', 'altro', 'forse', 'tosto', 'ch', 'i', 'montai', 'con', 'le', 'braccia', 'm', 'avvinse', 'e', 'mi', 'sostenne', 'e', 'disse', 'gerïon', 'omai', 'le', 'rote', 'larghe', 'e', 'lo', 'scender', 'poco', 'pensa', 'la', 'nova', 'soma', 'hai'], ['come', 'la', 'esce', 'di', 'in', 'dietro', 'in', 'dietro', 'sì', 'quindi', 'si', 'poi', 'ch', 'al', 'tutto', 'si', 'sentì', 'a', 'gioco', 'v', 'era', 'l', 'petto', 'la', 'coda', 'rivolse', 'e', 'tesa', 'mosse', 'e', 'con', 'le', 'branche', 'l', 'aere', 'a', 'sé', 'raccolse'], ['paura', 'non', 'credo', 'che', 'fosse', 'quando', 'fetonte', 'abbandonò', 'freni', 'per', 'che', 'l', 'ciel', 'come', 'pare', 'cosse', 'né', 'quando', 'icaro', 'misero', 'le', 'reni', 'sentì', 'spennar', 'scaldata', 'cera', 'il', 'padre', 'a', 'lui', 'mala', 'via', 'tieni', 'che', 'fu', 'la', 'mia', 'quando', 'vidi', 'ch', 'i', 'era', 'ne', 'l', 'aere', 'd', 'ogne', 'e', 'vidi', 'ogne', 'veduta', 'fuor', 'che', 'de', 'la', 'fera'], ['ella', 'sen', 'va', 'notando', 'lenta', 'lenta', 'rota', 'e', 'non', 'me', 'n', 'accorgo', 'se', 'non', 'che', 'al', 'viso', 'e', 'di', 'sotto', 'mi', 'venta'], ['io', 'sentia', 'destra', 'il', 'gorgo', 'far', 'sotto', 'noi', 'un', 'orribile', 'scroscio', 'per', 'che', 'con', 'li', 'occhi', 'n', 'giù', 'la', 'testa'], ['allor', 'io', 'più', 'timido', 'a', 'lo', 'però', 'ch', 'i', 'vidi', 'fuochi', 'e', 'senti', 'pianti', 'ond', 'io', 'tremando', 'tutto', 'mi', 'raccoscio'], ['poi', 'ché', 'vedea', 'davanti', 'lo', 'scendere', 'l', 'girar', 'per', 'li', 'gran', 'mali', 'che', 's', 'appressavan', 'da', 'diversi', 'canti'], ['come', 'l', 'falcon', 'ch', 'è', 'assai', 'su', 'che', 'sanza', 'veder', 'o', 'uccello', 'fa', 'dire', 'al', 'falconiere', 'omè', 'tu', 'cali', 'discende', 'lasso', 'onde', 'si', 'move', 'isnello', 'per', 'cento', 'rote', 'e', 'da', 'lunge', 'si', 'pone', 'dal', 'suo', 'e', 'fello', 'così', 'ne', 'puose', 'al', 'fondo', 'gerïone', 'al', 'piè', 'al', 'piè', 'de', 'la', 'stagliata', 'discarcate', 'le', 'nostre', 'persone', 'si', 'dileguò', 'come', 'da', 'corda', 'cocca'], ['luogo', 'è', 'in', 'inferno', 'detto', 'malebolge', 'tutto', 'di', 'pietra', 'di', 'color', 'ferrigno', 'come', 'la', 'cerchia', 'che', 'dintorno', 'il'], ['nel', 'dritto', 'mezzo', 'del', 'vaneggia', 'un', 'largo', 'e', 'profondo', 'di', 'cui', 'suo', 'loco', 'dicerò', 'l', 'ordigno'], ['quel', 'cinghio', 'tra', 'l', 'e', 'l', 'piè', 'de', 'ripa', 'dura', 'e', 'ha', 'distinto', 'in', 'dieci', 'valli', 'il', 'fondo'], ['quale', 'dove', 'guardia', 'de', 'le', 'più', 'e', 'più', 'fossi', 'cingon', 'li', 'castelli', 'la', 'parte', 'dove', 'son', 'rende', 'figura', 'imagine', 'quivi', 'facean', 'quelli', 'e', 'da', 'lor', 'sogli', 'a', 'la', 'di', 'fuor', 'son', 'ponticelli', 'così', 'da', 'imo', 'de', 'la', 'roccia', 'scogli', 'movien', 'li', 'argini', 'e', 'fossi', 'al', 'pozzo', 'che', 'i', 'tronca', 'e', 'raccogli'], ['in', 'questo', 'luogo', 'de', 'la', 'schiena', 'scossi', 'di', 'gerïon', 'trovammoci', 'e', 'l', 'poeta', 'tenne', 'a', 'sinistra', 'e', 'io', 'dietro', 'mi', 'mossi'], ['a', 'la', 'man', 'destra', 'vidi', 'nova', 'pieta', 'novo', 'tormento', 'e', 'novi', 'di', 'che', 'la', 'prima', 'bolgia', 'era', 'repleta'], ['nel', 'fondo', 'erano', 'i', 'peccatori', 'dal', 'mezzo', 'in', 'qua', 'ci', 'venien', 'verso', 'l', 'volto', 'di', 'là', 'con', 'ma', 'con', 'passi', 'maggiori', 'come', 'i', 'roman', 'l', 'essercito', 'molto', 'l', 'anno', 'del', 'giubileo', 'su', 'lo', 'ponte', 'hanno', 'a', 'la', 'gente', 'modo', 'colto', 'che', 'da', 'l', 'un', 'lato', 'tutti', 'hanno', 'la', 'fronte', 'verso', 'l', 'castello', 'e', 'vanno', 'a', 'santo', 'pietro', 'da', 'l', 'sponda', 'vanno', 'verso', 'l'], ['di', 'qua', 'di', 'là', 'su', 'per', 'lo', 'sasso', 'tetro', 'vidi', 'demon', 'cornuti', 'con', 'gran', 'ferze', 'che', 'li', 'battien', 'crudelmente', 'di', 'retro'], ['ahi', 'come', 'facean', 'lor', 'levar', 'le', 'berze', 'a', 'le', 'prime', 'percosse', 'già', 'nessuno', 'le', 'seconde', 'aspettava', 'né', 'le', 'terze'], ['mentr', 'io', 'andava', 'li', 'occhi', 'miei', 'in', 'uno', 'furo', 'scontrati', 'e', 'sì', 'tosto', 'dissi', 'già', 'costui', 'digiuno'], ['per', 'a', 'figurarlo', 'i', 'affissi', 'e', 'l', 'dolce', 'duca', 'meco', 'si', 'ristette', 'e', 'assentio', 'ch', 'alquanto', 'in', 'dietro', 'gissi'], ['e', 'quel', 'frustato', 'celar', 'si', 'credette', 'bassando', 'l', 'viso', 'ma', 'poco', 'li', 'valse', 'ch', 'io', 'dissi', 'o', 'l', 'occhio', 'a', 'gette', 'se', 'le', 'fazion', 'che', 'porti', 'non', 'son', 'false', 'venedico', 'se', 'tu', 'caccianemico'], ['ma', 'che', 'ti', 'mena', 'a', 'sì', 'pungenti', 'salse'], ['a', 'me', 'mal', 'volontier', 'lo', 'dico', 'ma', 'sforzami', 'la', 'tua', 'favella', 'che', 'mi', 'del', 'mondo', 'antico'], ['i', 'fui', 'colui', 'che', 'la', 'ghisolabella', 'condussi', 'a', 'far', 'la', 'voglia', 'del', 'marchese', 'come', 'che', 'suoni', 'la', 'sconcia', 'novella'], ['e', 'non', 'pur', 'io', 'qui', 'piango', 'bolognese', 'anzi', 'n', 'è', 'questo', 'loco', 'tanto', 'pieno', 'che', 'tante', 'lingue', 'non', 'son', 'ora', 'apprese', 'a', 'sipa', 'tra', 'sàvena', 'e', 'reno', 'e', 'se', 'di', 'ciò', 'vuoi', 'fede', 'o', 'testimonio', 'rècati', 'mente', 'il', 'nostro', 'avaro', 'seno'], ['così', 'parlando', 'il', 'percosse', 'un', 'demonio', 'de', 'la', 'sua', 'scurïada', 'e', 'via', 'ruffian', 'qui', 'non', 'son', 'femmine', 'da', 'conio'], ['i', 'mi', 'raggiunsi', 'con', 'la', 'scorta', 'mia', 'poscia', 'con', 'pochi', 'passi', 'v', 'uno', 'scoglio', 'de', 'la', 'ripa', 'uscia'], ['assai', 'leggeramente', 'quel', 'salimmo', 'e', 'vòlti', 'a', 'destra', 'su', 'per', 'la', 'sua', 'scheggia', 'da', 'quelle', 'cerchie', 'etterne', 'ci', 'partimmo'], ['noi', 'fummo', 'là', 'dov', 'el', 'vaneggia', 'di', 'sotto', 'per', 'dar', 'passo', 'a', 'li', 'sferzati', 'lo', 'duca', 'e', 'fa', 'che', 'feggia', 'lo', 'viso', 'in', 'te', 'di', 'mal', 'nati', 'ai', 'quali', 'ancor', 'non', 'vedesti', 'la', 'faccia', 'però', 'che', 'son', 'noi', 'insieme', 'andati'], ['del', 'vecchio', 'ponte', 'la', 'traccia', 'che', 'venìa', 'noi', 'da', 'l', 'altra', 'banda', 'e', 'che', 'la', 'ferza', 'scaccia'], ['e', 'l', 'buon', 'maestro', 'sanza', 'mia', 'dimanda', 'mi', 'disse', 'guarda', 'quel', 'grande', 'che', 'vene', 'e', 'per', 'dolor', 'non', 'lagrime', 'spanda', 'quanto', 'aspetto', 'ancor', 'ritene', 'quelli', 'è', 'iasón', 'cuore', 'e', 'per', 'senno', 'li', 'monton', 'privati', 'féne'], ['ello', 'passò', 'per', 'l', 'isola', 'di', 'lenno', 'poi', 'che', 'l', 'ardite', 'spietate', 'tutti', 'li', 'maschi', 'loro', 'a', 'morte', 'dienno'], ['ivi', 'con', 'segni', 'e', 'con', 'parole', 'ornate', 'isifile', 'che', 'prima', 'avea', 'tutte', 'l', 'altre', 'ingannate'], ['quivi', 'soletta', 'tal', 'colpa', 'martiro', 'lui', 'condanna', 'e', 'anche', 'di', 'medea', 'si', 'fa', 'vendetta'], ['con', 'lui', 'sen', 'va', 'chi', 'da', 'tal', 'parte', 'inganna', 'e', 'questo', 'de', 'la', 'prima', 'valle', 'sapere', 'e', 'di', 'n', 'sé', 'assanna'], ['già', 'eravam', 'là', 'stretto', 'calle', 'argine', 'secondo', 's', 'incrocicchia', 'e', 'fa', 'di', 'quello', 'ad', 'un', 'altr', 'arco', 'spalle'], ['gente', 'che', 'si', 'ne', 'l', 'altra', 'bolgia', 'e', 'che', 'col', 'muso', 'scuffa', 'e', 'sé', 'medesma', 'palme', 'picchia'], ['le', 'ripe', 'eran', 'grommate', 'd', 'una', 'muffa', 'per', 'l', 'alito', 'di', 'giù', 'che', 'vi', 's', 'che', 'occhi', 'e', 'col', 'naso', 'facea', 'zuffa'], ['lo', 'fondo', 'è', 'che', 'non', 'ci', 'basta', 'veder', 'montare', 'al', 'dosso', 'de', 'l', 'arco', 'ove', 'lo', 'scoglio', 'più', 'sovrasta'], ['quivi', 'venimmo', 'e', 'giù', 'nel', 'fosso', 'vidi', 'gente', 'attuffata', 'in', 'uno', 'sterco', 'che', 'da', 'li', 'uman', 'privadi', 'parea', 'mosso'], ['e', 'mentre', 'ch', 'io', 'là', 'giù', 'l', 'occhio', 'cerco', 'un', 'col', 'capo', 'sì', 'di', 'merda', 'lordo', 'che', 'parëa', 's', 'era', 'laico', 'o', 'cherco'], ['perché', 'se', 'tu', 'gordo', 'di', 'riguardar', 'più', 'me', 'che', 'li', 'altri', 'brutti'], ['e', 'io', 'a', 'lui', 'perché', 'se', 'già', 't', 'ho', 'veduto', 'coi', 'capelli', 'asciutti', 'e', 'se', 'alessio', 'interminei', 'da', 'lucca', 'però', 't', 'più', 'che', 'li', 'altri', 'tutti'], ['ed', 'battendosi', 'la', 'zucca', 'qua', 'hanno', 'sommerso', 'ond', 'io', 'non', 'ebbi', 'mai', 'la', 'stucca'], ['appresso', 'ciò', 'lo', 'duca', 'fa', 'che', 'pinghe', 'mi', 'disse', 'il', 'viso', 'un', 'poco', 'più', 'avante', 'sì', 'che', 'la', 'faccia', 'ben', 'con', 'l', 'occhio', 'attinghe', 'di', 'quella', 'fante', 'che', 'graffia', 'con', 'l', 'unghie', 's', 'accoscia', 'e', 'ora', 'è', 'in', 'piedi', 'stante'], ['taïde', 'è', 'la', 'puttana', 'che', 'rispuose', 'al', 'suo', 'quando', 'disse', 'ho', 'io', 'grazie', 'grandi', 'apo', 'te', 'anzi'], ['sian', 'le', 'nostre'], ['o', 'o', 'seguaci', 'che', 'le', 'cose', 'di', 'dio', 'che', 'di', 'bontate', 'deon', 'e', 'voi', 'rapaci', 'per', 'oro', 'e', 'argento', 'avolterate', 'or', 'convien', 'che', 'per', 'voi', 'suoni', 'la', 'tromba', 'però', 'che', 'terza', 'bolgia', 'state'], ['già', 'eravamo', 'a', 'la', 'seguente', 'tomba', 'montati', 'lo', 'scoglio', 'in', 'quella', 'parte', 'ch', 'a', 'punto', 'sovra', 'mezzo', 'l', 'fosso', 'piomba'], ['o', 'quanta', 'arte', 'che', 'mostri', 'in', 'cielo', 'in', 'terra', 'e', 'e', 'quanto', 'giusto', 'tua', 'virtù', 'comparte', 'io', 'vidi', 'per', 'le', 'coste', 'e', 'per', 'lo', 'fondo', 'piena', 'la', 'pietra', 'livida', 'd', 'un', 'largo', 'tutti', 'e', 'ciascun', 'era', 'tondo'], ['non', 'mi', 'parean', 'men', 'ampi', 'né', 'maggiori', 'che', 'que', 'che', 'son', 'nel', 'mio', 'bel', 'san', 'giovanni', 'fatti', 'per', 'd', 'i', 'l', 'un', 'de', 'li', 'quali', 'ancor', 'non', 'è', 'molt', 'anni', 'rupp', 'io', 'per', 'un', 'che', 'dentro', 'e', 'sia', 'ch', 'ogn', 'omo'], ['fuor', 'de', 'la', 'ciascun', 'soperchiava', 'd', 'un', 'peccator', 'piedi', 'e', 'de', 'le', 'gambe', 'infino', 'al', 'grosso', 'e', 'l', 'altro', 'dentro'], ['piante', 'erano', 'a', 'tutti', 'accese', 'intrambe', 'per', 'che', 'sì', 'forte', 'guizzavan', 'le', 'giunte', 'che', 'spezzate', 'averien', 'e', 'strambe'], ['qual', 'suole', 'il', 'fiammeggiar', 'de', 'le', 'cose', 'unte', 'muoversi', 'pur', 'su', 'per', 'tal', 'era', 'lì', 'dai', 'calcagni', 'a', 'le', 'punte'], ['chi', 'è', 'colui', 'maestro', 'che', 'si', 'che', 'li', 'altri', 'suoi', 'consorti', 'diss', 'io', 'e', 'più', 'roggia', 'succia'], ['ed', 'elli', 'a', 'me', 'se', 'tu', 'vuo', 'ch', 'i', 'ti', 'porti', 'là', 'giù', 'per', 'quella', 'ripa', 'che', 'più', 'giace', 'da', 'lui', 'saprai', 'di', 'sé', 'e', 'de', 'suoi', 'torti'], ['e', 'io', 'tanto', 'm', 'è', 'bel', 'quanto', 'a', 'te', 'se', 'sai', 'ch', 'i', 'non', 'mi', 'parto', 'tuo', 'volere', 'e', 'sai', 'quel', 'che'], ['allor', 'venimmo', 'in', 'su', 'l', 'argine', 'quarto', 'volgemmo', 'e', 'discendemmo', 'a', 'mano', 'stanca', 'là', 'giù', 'nel', 'fondo', 'foracchiato', 'e', 'arto'], ['lo', 'buon', 'maestro', 'ancor', 'de', 'la', 'sua', 'anca', 'non', 'sì', 'mi', 'giunse', 'al', 'rotto', 'di', 'quel', 'che', 'si', 'piangeva', 'con', 'la', 'zanca'], ['o', 'qual', 'che', 'se', 'l', 'di', 'sù', 'tien', 'di', 'trista', 'come', 'pal', 'commessa', 'comincia', 'dir', 'se', 'puoi', 'fa', 'motto'], ['io', 'stava', 'come', 'l', 'frate', 'che', 'confessa', 'lo', 'che', 'poi', 'ch', 'è', 'lui', 'la', 'morte', 'cessa'], ['ed', 'el', 'gridò', 'già', 'ritto', 'se', 'tu', 'già', 'costì', 'ritto', 'bonifazio', 'di', 'parecchi', 'anni', 'mi', 'mentì', 'lo', 'scritto'], ['se', 'tosto', 'di', 'quell', 'aver', 'sazio', 'per', 'lo', 'qual', 'non', 'temesti', 'tòrre', 'a', 'nganno', 'la', 'bella', 'donna', 'di', 'farne', 'strazio'], ['tal', 'mi', 'fec', 'io', 'quai', 'color', 'che', 'stanno', 'intender', 'ciò', 'ch', 'è', 'lor', 'risposto', 'scornati', 'e', 'risponder', 'sanno'], ['allor', 'virgilio', 'disse', 'dilli', 'tosto', 'non', 'son', 'colui', 'non', 'son', 'colui', 'e', 'io', 'rispuosi', 'come', 'a', 'me', 'fu', 'imposto'], ['per', 'che', 'spirto', 'tutti', 'storse', 'poi', 'e', 'con', 'voce', 'di', 'pianto', 'mi', 'disse', 'dunque', 'a', 'me', 'richiedi', 'se', 'di', 'saper', 'ch', 'i', 'sia', 'ti', 'cal', 'cotanto', 'che', 'tu', 'abbi', 'però', 'la', 'ripa', 'corsa', 'sappi', 'ch', 'i', 'fui', 'vestito', 'del', 'fui', 'figliuol', 'de', 'l', 'sì', 'per', 'avanzar', 'li', 'orsatti', 'che', 'sù', 'l', 'avere', 'e', 'qui', 'me', 'misi', 'in'], ['di', 'sotto', 'al', 'capo', 'mio', 'son', 'li', 'altri', 'tratti', 'che', 'me', 'per', 'le', 'fessure', 'de', 'la', 'pietra', 'piatti'], ['là', 'giù', 'cascherò', 'io', 'altresì', 'quando', 'verrà', 'colui', 'ch', 'i', 'credea', 'che', 'allor', 'ch', 'i', 'feci', 'l', 'sùbito'], ['ma', 'più', 'è', 'l', 'tempo', 'già', 'che', 'i', 'piè', 'mi', 'cossi', 'e', 'ch', 'i', 'son', 'stato', 'ch', 'el', 'piantato', 'coi', 'piè', 'rossi', 'ché', 'dopo', 'lui', 'verrà', 'di', 'più', 'laida', 'opra', 'di', 'ver', 'un', 'pastor', 'tal', 'che', 'che', 'lui', 'e', 'me', 'ricuopra'], ['nuovo', 'iasón', 'sarà', 'di', 'cui', 'si', 'legge', 'ne', 'maccabei', 'e', 'come', 'a', 'quel', 'fu', 'molle', 'così', 'fia', 'lui', 'chi', 'regge'], ['io', 'non', 'so', 's', 'i', 'mi', 'fui', 'qui', 'folle', 'ch', 'i', 'pur', 'rispuosi', 'lui', 'a', 'questo', 'metro', 'deh', 'dì', 'volle', 'nostro', 'segnore', 'in', 'prima', 'da', 'san', 'ch', 'ei', 'ponesse', 'le', 'in', 'balìa', 'certo', 'non', 'chiese', 'se', 'non', 'viemmi', 'retro'], ['né', 'li', 'altri', 'tolsero', 'oro', 'od', 'argento', 'quando', 'fu', 'sortito', 'al', 'loco', 'che', 'perdé', 'l', 'anima', 'ria'], ['però', 'ti', 'sta', 'ché', 'tu', 'se', 'ben', 'punito', 'e', 'ben', 'la', 'mal', 'tolta', 'ch', 'esser', 'ti', 'fece', 'ardito'], ['e', 'se', 'ch', 'ancor', 'mi', 'vieta', 'la', 'reverenza', 'de', 'le', 'somme', 'tu', 'tenesti', 'ne', 'la', 'vita', 'lieta', 'io', 'userei', 'parole', 'ancor', 'più', 'gravi', 'ché', 'la', 'vostra', 'avarizia', 'il', 'mondo', 'attrista', 'calcando', 'i', 'buoni', 'e', 'sollevando', 'i', 'pravi'], ['di', 'voi', 'pastor', 's', 'accorse', 'il', 'vangelista', 'quando', 'colei', 'che', 'siede', 'sopra', 'l', 'acque', 'coi', 'regi', 'a', 'lui', 'fu', 'vista', 'che', 'con', 'le', 'teste', 'nacque', 'e', 'da', 'le', 'diece', 'corna', 'ebbe', 'fin', 'che', 'virtute', 'al', 'suo', 'piacque'], ['fatto', 'dio', 'd', 'oro', 'e', 'd', 'argento', 'e', 'è', 'da', 'voi', 'a', 'l', 'idolatre', 'se', 'non', 'ch', 'elli', 'uno', 'e', 'voi', 'ne', 'orate', 'cento', 'ahi', 'costantin', 'di', 'quanto', 'matre', 'tua', 'conversion', 'ma', 'quella', 'dote', 'che', 'da', 'te', 'prese', 'il', 'primo', 'ricco', 'patre'], ['e', 'mentr', 'io', 'li', 'cantava', 'cotai', 'note', 'o', 'coscïenza', 'che', 'l', 'mordesse', 'forte', 'spingava', 'con', 'ambo', 'le'], ['i', 'credo', 'ben', 'al', 'mio', 'duca', 'piacesse', 'con', 'sì', 'contenta', 'labbia', 'sempre', 'attese', 'lo', 'suon', 'de', 'le', 'parole', 'vere', 'espresse'], ['però', 'con', 'ambo', 'le', 'braccia', 'mi', 'poi', 'che', 'tutto', 'su', 'mi', 's', 'ebbe', 'al', 'petto', 'rimontò', 'per', 'la', 'onde', 'discese'], ['né', 'si', 'stancò', 'd', 'a', 'sé', 'distretto', 'sì', 'men', 'portò', 'sovra', 'l', 'colmo', 'de', 'l', 'arco', 'che', 'dal', 'quarto', 'al', 'quinto', 'argine', 'è'], ['quivi', 'spuose', 'il', 'carco', 'per', 'lo', 'scoglio', 'sconcio', 'ed', 'erto', 'a', 'le', 'capre', 'duro', 'varco'], ['indi', 'un', 'altro', 'vallon', 'mi', 'fu'], ['di', 'nova', 'pena', 'mi', 'conven', 'far', 'versi', 'e', 'dar', 'matera', 'al', 'ventesimo', 'canto', 'de', 'la', 'canzon', 'ch', 'è', 'd', 'i', 'sommersi'], ['io', 'era', 'già', 'disposto', 'tutto', 'ne', 'lo', 'scoperto', 'fondo', 'si', 'bagnava', 'd', 'e', 'vidi', 'gente', 'per', 'lo', 'vallon', 'tondo', 'venir', 'tacendo', 'e', 'al', 'passo', 'che', 'fanno', 'le', 'letane', 'in', 'questo'], ['come', 'l', 'viso', 'mi', 'scese', 'in', 'lor', 'più', 'basso', 'mirabilmente', 'apparve', 'travolto', 'ciascun', 'tra', 'l', 'mento', 'e', 'l', 'principio', 'del', 'casso', 'ché', 'da', 'reni', 'tornato', 'l', 'volto', 'e', 'in', 'dietro', 'venir', 'convenia', 'perché', 'l', 'veder', 'lor', 'tolto'], ['forse', 'per', 'forza', 'già', 'di', 'parlasia', 'si', 'travolse', 'così', 'alcun', 'del', 'tutto', 'ma', 'io', 'nol', 'vidi', 'né', 'credo', 'sia'], ['se', 'dio', 'ti', 'lasci', 'lettor', 'prender', 'frutto', 'di', 'tua', 'lezione', 'or', 'pensa', 'per', 'te', 'stesso', 'com', 'io', 'potea', 'tener', 'lo', 'viso', 'asciutto', 'quando', 'imagine', 'di', 'presso', 'torta', 'che', 'l', 'pianto', 'de', 'li', 'occhi', 'le', 'natiche', 'bagnava', 'per', 'lo', 'fesso'], ['io', 'poggiato', 'a', 'un', 'de', 'rocchi', 'del', 'sì', 'che', 'la', 'mia', 'scorta', 'mi', 'disse', 'ancor', 'se', 'tu', 'li', 'altri', 'sciocchi', 'qui', 'vive', 'la', 'pietà', 'quand', 'è', 'ben', 'chi', 'è', 'più', 'scellerato', 'che', 'colui', 'che', 'al', 'giudicio', 'divin', 'passion', 'comporta', 'drizza', 'la', 'testa', 'drizza', 'e', 'vedi', 's', 'a', 'li', 'd', 'i', 'teban', 'la', 'terra', 'per', 'ch', 'ei', 'gridavan', 'tutti', 'dove', 'rui', 'anfïarao', 'perché', 'lasci'], ['e', 'non', 'restò', 'di', 'ruinare', 'a', 'valle', 'fino', 'a', 'minòs', 'afferra'], ['mira', 'c', 'ha', 'fatto', 'petto', 'de', 'le', 'spalle', 'perché', 'volle', 'veder', 'troppo', 'di', 'retro', 'guarda', 'e', 'fa', 'retroso', 'calle'], ['tiresia', 'che', 'mutò', 'sembiante', 'quando', 'di', 'maschio', 'femmina', 'divenne', 'cangiandosi', 'le', 'membra', 'tutte', 'quante', 'e', 'ribatter', 'li', 'convenne', 'serpenti', 'avvolti', 'la', 'verga', 'che', 'rïavesse', 'le'], ['aronta', 'è', 'quel', 'ch', 'al', 'ventre', 'li', 's', 'atterga', 'che', 'ne', 'monti', 'dove', 'ronca', 'lo', 'carrarese', 'che', 'di', 'sotto', 'alberga', 'ebbe', 'tra', 'bianchi', 'marmi', 'la', 'spelonca', 'per', 'sua', 'dimora', 'onde', 'a', 'guardar', 'le', 'stelle', 'e', 'l', 'mar', 'non', 'li', 'era', 'la', 'veduta', 'tronca'], ['e', 'quella', 'che', 'ricuopre', 'le', 'mammelle', 'che', 'tu', 'non', 'vedi', 'con', 'le', 'trecce', 'ha', 'di', 'ogne', 'pilosa', 'pelle', 'manto', 'fu', 'che', 'cercò', 'per', 'molte', 'poscia', 'si', 'puose', 'là', 'dove', 'nacqu', 'io', 'onde', 'piace', 'che', 'm', 'ascolte'], ['poscia', 'che', 'l', 'padre', 'suo', 'di', 'vita', 'uscìo', 'e', 'venne', 'serva', 'la', 'baco', 'questa', 'gran', 'tempo', 'per', 'lo', 'mondo', 'gio'], ['suso', 'in', 'italia', 'bella', 'giace', 'un', 'piè', 'de', 'l', 'alpe', 'che', 'serra', 'lamagna', 'sovra', 'benaco'], ['per', 'mille', 'fonti', 'credo', 'e', 'più', 'si', 'bagna', 'tra', 'garda', 'e', 'val', 'camonica', 'e', 'pennino', 'de', 'l', 'acqua', 'nel', 'detto', 'laco', 'stagna'], ['loco', 'è', 'nel', 'mezzo', 'là', 'dove', 'l', 'trentino', 'pastore', 'e', 'quel', 'di', 'brescia', 'e', 'l', 'veronese', 'segnar', 'poria', 's', 'e', 'fesse', 'quel', 'cammino'], ['siede', 'peschiera', 'forte', 'arnese', 'da', 'fronteggiar', 'bresciani', 'e', 'bergamaschi', 'ove', 'la', 'riva', 'ntorno', 'più', 'discese'], ['ivi', 'convien', 'che', 'caschi', 'che', 'n', 'grembo', 'a', 'benaco', 'star', 'non', 'può', 'e', 'fassi', 'fiume', 'giù', 'per', 'verdi', 'paschi'], ['tosto', 'che', 'l', 'acqua', 'a', 'correr', 'mette', 'co', 'non', 'più', 'benaco', 'ma', 'mencio', 'si', 'chiama', 'a', 'governol', 'dove', 'cade', 'in', 'po'], ['non', 'molto', 'ha', 'corso', 'ch', 'el', 'lama', 'ne', 'si', 'distende', 'e', 'la', 'mpaluda', 'e', 'suol', 'di', 'state', 'talor', 'grama'], ['quindi', 'passando', 'la', 'vergine', 'cruda', 'vide', 'terra', 'nel', 'mezzo', 'sanza', 'e', 'd', 'abitanti', 'nuda'], ['lì', 'per', 'fuggire', 'ogne', 'consorzio', 'umano', 'ristette', 'con', 'suoi', 'servi', 'a', 'far', 'sue', 'arti', 'e', 'visse', 'e', 'vi', 'lasciò', 'suo', 'corpo', 'vano'], ['li', 'uomini', 'poi', 'che', 'ntorno', 'erano', 'sparti', 's', 'accolsero', 'a', 'quel', 'loco', 'ch', 'era', 'lo', 'pantan', 'ch', 'avea', 'da', 'tutte', 'parti'], ['fer', 'la', 'città', 'sovra', 'morte', 'e', 'per', 'colei', 'che', 'l', 'loco', 'prima', 'elesse', 'mantüa', 'l', 'appellar', 'sanz', 'altra', 'sorte'], ['già', 'fuor', 'le', 'genti', 'sue', 'dentro', 'più', 'prima', 'che', 'la', 'mattia', 'da', 'casalodi', 'da', 'pinamonte', 'inganno', 'ricevesse'], ['però', 't', 'se', 'tu', 'mai', 'odi', 'originar', 'la', 'mia', 'terra', 'altrimenti', 'la', 'menzogna'], ['e', 'io', 'maestro', 'i', 'tuoi', 'ragionamenti', 'mi', 'son', 'sì', 'certi', 'e', 'prendon', 'sì', 'mia', 'fede', 'che', 'altri', 'mi', 'sarien', 'carboni', 'spenti'], ['ma', 'dimmi', 'de', 'la', 'gente', 'che', 'procede', 'se', 'tu', 'ne', 'vedi', 'alcun', 'degno', 'di', 'nota', 'ché', 'solo', 'a', 'ciò', 'la', 'mia', 'mente', 'rifiede'], ['allor', 'mi', 'disse', 'quel', 'che', 'da', 'la', 'gota', 'porge', 'la', 'barba', 'in', 'le', 'spalle', 'brune', 'di', 'maschi', 'ch', 'a', 'pena', 'rimaser', 'per', 'le', 'augure', 'e', 'l', 'punto', 'con', 'calcanta', 'in', 'aulide', 'a', 'la', 'prima', 'fune'], ['euripilo', 'ebbe', 'e', 'così', 'l', 'canta', 'l', 'mia', 'tragedìa', 'in', 'alcun', 'loco', 'ben', 'lo', 'sai', 'tu', 'che', 'la', 'sai', 'tutta', 'quanta'], ['quell', 'altro', 'che', 'ne', 'fianchi', 'è', 'così', 'poco', 'michele', 'scotto', 'fu', 'che', 'veramente', 'de', 'magiche', 'frode', 'seppe', 'l', 'gioco'], ['vedi', 'guido', 'bonatti', 'vedi', 'asdente', 'ch', 'avere', 'inteso', 'e', 'a', 'lo', 'spago', 'ora', 'vorrebbe', 'ma', 'tardi', 'si'], ['le', 'triste', 'che', 'lasciaron', 'l', 'ago', 'la', 'spuola', 'e', 'l', 'fuso', 'e', 'fecersi', 'ndivine', 'fecer', 'malie', 'con', 'erbe', 'e', 'con'], ['ma', 'vienne', 'omai', 'ché', 'già', 'tiene', 'l', 'confine', 'd', 'amendue', 'li', 'emisperi', 'e', 'tocca', 'l', 'onda', 'sotto', 'sobilia', 'caino', 'e', 'spine', 'e', 'già', 'iernotte', 'fu', 'la', 'ricordar', 'ché', 'non', 'alcuna', 'volta', 'per', 'la', 'fonda'], ['mi', 'parlava', 'e', 'andavamo', 'introcque'], ['così', 'di', 'ponte', 'in', 'ponte', 'parlando', 'che', 'comedìa', 'cantar', 'non', 'e', 'tenavamo', 'l', 'colmo', 'quando', 'restammo', 'per', 'veder', 'l', 'altra', 'fessura', 'di', 'malebolge', 'e', 'li', 'pianti', 'vani', 'e', 'vidila', 'mirabilmente', 'oscura'], ['quale', 'ne', 'l', 'arzanà', 'de', 'viniziani', 'bolle', 'l', 'inverno', 'la', 'tenace', 'pece', 'a', 'rimpalmare', 'i', 'sani', 'ché', 'navicar', 'non', 'quella', 'vece', 'chi', 'fa', 'suo', 'legno', 'novo', 'e', 'chi', 'ristoppa', 'le', 'coste', 'a', 'quel', 'che', 'vïaggi', 'fece', 'chi', 'ribatte', 'da', 'proda', 'e', 'chi', 'da', 'poppa', 'altri', 'fa', 'remi', 'e', 'altri', 'volge', 'sarte', 'chi', 'terzeruolo', 'e', 'artimon', 'tal', 'non', 'per', 'ma', 'per', 'divin', 'arte', 'bollia', 'là', 'pegola', 'spessa', 'che', 'd', 'parte'], ['i', 'vedea', 'lei', 'ma', 'non', 'vedëa', 'in', 'essa', 'mai', 'che', 'le', 'che', 'l', 'bollor', 'levava', 'e', 'gonfiar', 'tutta', 'e', 'riseder', 'compressa'], ['mentr', 'io', 'là', 'giù', 'fisamente', 'mirava', 'lo', 'mio', 'dicendo', 'guarda', 'guarda', 'mi', 'trasse', 'a', 'sé', 'del', 'loco', 'dov', 'io', 'stava'], ['allor', 'mi', 'volsi', 'l', 'uom', 'cui', 'tarda', 'di', 'veder', 'quel', 'che', 'li', 'convien', 'fuggire', 'e', 'cui', 'paura', 'sùbita', 'sgagliarda', 'che', 'per', 'veder', 'non', 'l', 'partire', 'e', 'vidi', 'dietro', 'a', 'un', 'diavol', 'nero', 'per', 'lo', 'scoglio', 'venire'], ['ahi', 'quant', 'elli', 'era', 'ne', 'l', 'fero', 'e', 'quanto', 'mi', 'parea', 'ne', 'acerbo', 'l', 'ali', 'aperte', 'e', 'sovra', 'i', 'piè', 'leggero', 'l', 'omero', 'suo', 'ch', 'era', 'aguto', 'e', 'superbo', 'carcava', 'un', 'peccator', 'con', 'ambo', 'l', 'anche', 'e', 'quei', 'tenea', 'de', 'piè', 'ghermito', 'l', 'nerbo'], ['nostro', 'ponte', 'disse', 'o', 'malebranche', 'ecco', 'un', 'de', 'li', 'anzïan', 'di', 'santa', 'zita', 'ch', 'i', 'torno', 'per', 'anche', 'a', 'quella', 'terra', 'che', 'n', 'è', 'ben', 'ogn', 'uom', 'v', 'è', 'barattier', 'fuor', 'che', 'bonturo', 'del', 'no', 'denar', 'vi', 'si', 'fa', 'ita'], ['là', 'giù', 'l', 'buttò', 'e', 'per', 'lo', 'scoglio', 'duro', 'si', 'volse', 'e', 'mai', 'non', 'sciolto', 'con', 'tanta', 'fretta', 'a', 'seguitar', 'lo', 'furo'], ['quel', 's', 'attuffò', 'e', 'tornò', 'sù', 'convolto', 'ma', 'i', 'demon', 'che', 'del', 'ponte', 'avean', 'gridar', 'ha', 'loco', 'il', 'santo', 'volto', 'nuota', 'altrimenti', 'che', 'però', 'se', 'tu', 'non', 'vuo', 'di', 'nostri', 'non', 'far', 'sopra', 'la', 'pegola', 'soverchio'], ['poi', 'l', 'addentar', 'con', 'più', 'di', 'cento', 'raffi', 'disser', 'coverto', 'convien', 'che', 'qui', 'sì', 'che', 'se', 'puoi', 'nascosamente', 'accaffi'], ['non', 'cuoci', 'a', 'lor', 'vassalli', 'fanno', 'attuffare', 'in', 'mezzo', 'la', 'caldaia', 'la', 'carne', 'con', 'li', 'uncin', 'perché', 'non', 'galli'], ['lo', 'buon', 'maestro', 'non', 'si', 'paia', 'che', 'tu', 'ci', 'sia', 'mi', 'disse', 'giù', 't', 'acquatta', 'dopo', 'uno', 'scheggio', 'ch', 'alcun', 'schermo', 't', 'aia', 'e', 'per', 'nulla', 'che', 'mi', 'fatta', 'non', 'tu', 'ch', 'i', 'ho', 'le', 'perch', 'altra', 'volta', 'fui', 'a'], ['poscia', 'passò', 'di', 'là', 'dal', 'e', 'com', 'el', 'giunse', 'in', 'ripa', 'sesta', 'mestier', 'li', 'fu', 'd', 'aver'], ['con', 'quel', 'furore', 'e', 'con', 'quella', 'escono', 'i', 'cani', 'a', 'dosso', 'al', 'poverello', 'che', 'di', 'sùbito', 'chiede', 'ove', 's', 'usciron', 'quei', 'di', 'sotto', 'al', 'ponticello', 'e', 'volser', 'contra', 'lui', 'tutt', 'i', 'runcigli', 'ma', 'el', 'gridò', 'nessun', 'di', 'voi', 'sia', 'fello', 'che', 'l', 'uncin', 'vostro', 'mi', 'pigli', 'traggasi', 'avante', 'l', 'un', 'di', 'voi', 'che', 'm', 'oda', 'si', 'consigli'], ['tutti', 'gridaron', 'vada', 'malacoda', 'per', 'ch', 'un', 'si', 'li', 'altri', 'e', 'venne', 'a', 'lui', 'dicendo', 'approda'], ['credi', 'tu', 'malacoda', 'qui', 'vedermi', 'esser', 'venuto', 'disse', 'l', 'mio', 'maestro', 'da', 'vostri', 'schermi', 'sanza', 'voler', 'divino', 'e', 'fato', 'destro', 'lascian', 'andar', 'ché', 'nel', 'cielo', 'è', 'voluto', 'mostri', 'altrui', 'questo', 'cammin', 'silvestro'], ['allor', 'li', 'fu', 'l', 'orgoglio', 'sì', 'caduto', 'ch', 'e', 'si', 'cascar', 'l', 'uncino', 'a', 'piedi', 'e', 'li', 'altri', 'omai', 'non', 'sia', 'feruto'], ['duca', 'mio', 'a', 'me', 'o', 'tu', 'che', 'siedi', 'tra', 'li', 'scheggion', 'del', 'ponte', 'quatto', 'quatto', 'sicuramente', 'omai', 'a', 'me', 'ti', 'riedi'], ['e', 'a', 'lui', 'venni', 'ratto', 'e', 'i', 'diavoli', 'si', 'fecer', 'tutti', 'avanti', 'sì', 'ch', 'io', 'temetti', 'tenesser', 'patto', 'così', 'vid', 'ïo', 'già', 'temer', 'li', 'fanti', 'ch', 'uscivan', 'patteggiati', 'di', 'caprona', 'tra', 'nemici', 'cotanti'], ['accostai', 'con', 'tutta', 'la', 'persona', 'lungo', 'l', 'mio', 'duca', 'e', 'non', 'torceva', 'li', 'occhi', 'da', 'la', 'lor', 'ch', 'era', 'non', 'buona'], ['ei', 'chinavan', 'li', 'raffi', 'e', 'vuo', 'che', 'diceva', 'l', 'un', 'con', 'l', 'altro', 'in', 'sul', 'groppone'], ['e', 'rispondien', 'sì', 'fa', 'che', 'gliel', 'accocchi'], ['ma', 'demonio', 'che', 'tenea', 'sermone', 'col', 'duca', 'mio', 'si', 'volse', 'presto', 'e', 'disse', 'posa', 'posa', 'scarmiglione'], ['poi', 'disse', 'a', 'noi', 'più', 'oltre', 'questo', 'iscoglio', 'non', 'si', 'può', 'però', 'che', 'spezzato', 'al', 'fondo', 'l', 'arco', 'sesto'], ['l', 'avante', 'pur', 'piace', 'andatevene', 'su', 'per', 'questa', 'grotta', 'presso', 'è', 'un', 'altro', 'scoglio', 'che', 'via', 'face'], ['ier', 'più', 'oltre', 'cinqu', 'ore', 'quest', 'otta', 'mille', 'dugento', 'sessanta', 'sei', 'compié', 'che', 'via', 'fu', 'rotta'], ['io', 'mando', 'verso', 'là', 'di', 'questi', 'miei', 'a', 'riguardar', 's', 'alcun', 'gite', 'con', 'lor', 'che', 'non', 'saranno', 'rei'], ['ti', 'avante', 'alichino', 'e', 'calcabrina', 'a', 'dire', 'e', 'e', 'guidi', 'la', 'decina'], ['libicocco', 'vegn', 'oltre', 'e', 'draghignazzo', 'cirïatto', 'sannuto', 'e', 'graffiacane', 'e', 'farfarello', 'e', 'rubicante', 'pazzo'], ['cercate', 'ntorno', 'le', 'boglienti', 'costor', 'sian', 'salvi', 'infino', 'a', 'l', 'altro', 'che', 'tutto', 'intero', 'va', 'sovra', 'le', 'tane'], ['omè', 'è', 'quel', 'ch', 'i', 'veggio', 'diss', 'io', 'deh', 'sanza', 'andianci', 'soli', 'se', 'tu', 'sa', 'ir', 'ch', 'i', 'per', 'me', 'non', 'la', 'cheggio'], ['se', 'tu', 'se', 'sì', 'accorto', 'come', 'suoli', 'vedi', 'tu', 'ch', 'e', 'digrignan', 'li', 'denti', 'e', 'con', 'le', 'ciglia', 'ne', 'minaccian', 'duoli'], ['ed', 'elli', 'a', 'me', 'non', 'vo', 'tu', 'paventi', 'lasciali', 'digrignar', 'pur', 'a', 'lor', 'senno', 'ch', 'e', 'ciò', 'per', 'li', 'lessi', 'dolenti'], ['per', 'l', 'argine', 'sinistro', 'volta', 'dienno', 'ma', 'prima', 'la', 'lingua', 'stretta', 'coi', 'denti', 'verso', 'lor', 'duca', 'per', 'cenno', 'ed', 'elli', 'avea', 'del', 'cul'], ['io', 'vidi', 'già', 'cavalier', 'muover', 'campo', 'e', 'e', 'far', 'mostra', 'e', 'talvolta', 'partir', 'per', 'loro', 'scampo', 'corridor', 'vidi', 'per', 'la', 'terra', 'vostra', 'o', 'aretini', 'e', 'vidi', 'gir', 'gualdane', 'fedir', 'torneamenti', 'e', 'correr', 'quando', 'quando', 'con', 'campane', 'con', 'e', 'con', 'cenni', 'di', 'e', 'con', 'cose', 'nostrali', 'e', 'con', 'istrane', 'né', 'già', 'con', 'sì', 'diversa', 'cennamella', 'cavalier', 'vidi', 'muover', 'né', 'pedoni', 'né', 'nave', 'a', 'segno', 'di', 'terra', 'o'], ['noi', 'andavam', 'con', 'li', 'diece', 'demoni'], ['ahi', 'fiera', 'compagnia', 'ma', 'ne', 'la', 'chiesa', 'coi', 'santi', 'e', 'in', 'taverna'], ['a', 'la', 'pegola', 'era', 'la', 'mia', 'ntesa', 'per', 'veder', 'de', 'la', 'bolgia', 'ogne', 'contegno', 'e', 'de', 'la', 'ch', 'entro', 'v', 'era', 'incesa'], ['come', 'i', 'dalfini', 'quando', 'fanno', 'segno', 'a', 'marinar', 'con', 'l', 'arco', 'de', 'la', 'schiena', 'che', 's', 'argomentin', 'di', 'campar', 'lor', 'legno', 'talor', 'così', 'ad', 'la', 'pena', 'mostrav', 'alcun', 'de', 'peccatori', 'l', 'dosso', 'e', 'che', 'non', 'balena'], ['e', 'come', 'a', 'de', 'l', 'acqua', 'd', 'un', 'fosso', 'stanno', 'i', 'ranocchi', 'pur', 'col', 'muso', 'sì', 'che', 'celano', 'i', 'piedi', 'e', 'l', 'altro', 'grosso', 'sì', 'stavan', 'd', 'ogne', 'parte', 'i', 'ma', 'come', 's', 'appressava', 'barbariccia', 'così', 'si', 'ritraén', 'sotto', 'i', 'bollori'], ['i', 'anco', 'il', 'cor', 'me', 'n', 'accapriccia', 'uno', 'aspettar', 'così', 'com', 'elli', 'ncontra', 'una', 'rana', 'rimane', 'e', 'l', 'altra', 'spiccia', 'e', 'graffiacan', 'che', 'li', 'era', 'più', 'di', 'contra', 'li', 'arruncigliò', 'le', 'mpegolate', 'chiome', 'e', 'trassel', 'sù', 'che', 'mi', 'parve', 'una'], ['i', 'sapea', 'quanti', 'l', 'nome', 'sì', 'li', 'notai', 'quando', 'fuorono', 'eletti', 'e', 'poi', 'ch', 'e', 'si', 'attesi'], ['o', 'rubicante', 'fa', 'che', 'tu', 'li', 'metti', 'li', 'unghioni', 'a', 'sì', 'che', 'tu', 'lo', 'scuoi', 'gridavan', 'tutti', 'insieme', 'i', 'maladetti'], ['e', 'io', 'maestro', 'mio', 'fa', 'se', 'tu', 'puoi', 'che', 'tu', 'sappi', 'chi', 'è', 'lo', 'sciagurato', 'venuto', 'a', 'man', 'de', 'li'], ['lo', 'duca', 'mio', 'li', 's', 'allato', 'ond', 'ei', 'fosse', 'e', 'quei', 'fui', 'del', 'regno', 'navarra', 'nato'], ['mia', 'madre', 'a', 'servo', 'd', 'un', 'che', 'm', 'avea', 'generato', 'd', 'un', 'ribaldo', 'di', 'sé', 'e', 'di', 'sue', 'cose'], ['poi', 'fui', 'famiglia', 'del', 'tebaldo', 'mi', 'misi', 'a', 'far', 'baratteria', 'di', 'rendo', 'ragione', 'in', 'questo', 'caldo'], ['e', 'cirïatto', 'a', 'cui', 'di', 'bocca', 'uscia', 'd', 'ogne', 'parte', 'una', 'sanna', 'come', 'a', 'porco', 'li', 'fé', 'sentir', 'come', 'l', 'una', 'sdruscia'], ['tra', 'male', 'gatte', 'era', 'venuto', 'l', 'sorco', 'ma', 'barbariccia', 'il', 'chiuse', 'con', 'le', 'braccia', 'e', 'disse', 'state', 'in', 'là', 'io', 'lo', 'nforco'], ['e', 'al', 'maestro', 'mio', 'la', 'faccia', 'domanda', 'se', 'più', 'disii', 'saper', 'da', 'ch', 'altri', 'l', 'disfaccia'], ['lo', 'duca', 'dunque', 'or', 'dì', 'de', 'li', 'altri', 'rii', 'conosci', 'tu', 'alcun', 'pece'], ['i', 'mi', 'partii', 'è', 'da', 'un', 'che', 'fu', 'di', 'là', 'vicino'], ['così', 'foss', 'io', 'ancor', 'con', 'lui', 'non', 'temerei', 'unghia', 'né', 'uncino'], ['e', 'libicocco', 'troppo', 'avem', 'sofferto', 'disse', 'e', 'preseli', 'l', 'braccio', 'col', 'runciglio', 'sì', 'che', 'ne', 'portò', 'un', 'lacerto'], ['draghignazzo', 'anco', 'i', 'volle', 'piglio', 'giuso', 'a', 'le', 'gambe', 'decurio', 'loro', 'si', 'volse', 'intorno', 'con', 'mal', 'piglio'], ['quand', 'lui', 'ch', 'ancor', 'mirava', 'sua', 'ferita', 'domandò', 'l', 'duca', 'mio', 'sanza', 'chi', 'fu', 'colui', 'da', 'cui', 'mala', 'partita', 'di', 'che', 'facesti', 'per', 'venire', 'a', 'proda'], ['ed', 'ei', 'rispuose', 'fu', 'frate', 'gomita', 'quel', 'gallura', 'vasel', 'd', 'ogne', 'froda', 'ch', 'ebbe', 'i', 'nemici', 'di', 'suo', 'mano', 'e', 'fé', 'sì', 'lor', 'che', 'ne'], ['danar', 'si', 'tolse', 'e', 'lasciolli', 'di', 'piano', 'sì', 'com', 'e', 'dice', 'e', 'ne', 'li', 'altri', 'offici', 'anche', 'barattier', 'fu', 'non', 'picciol', 'ma', 'sovrano'], ['usa', 'con', 'esso', 'donno', 'michel', 'zanche', 'di', 'logodoro', 'e', 'a', 'dir', 'di', 'sardigna', 'le', 'lor', 'non', 'si', 'sentono', 'stanche'], ['omè', 'vedete', 'l', 'altro', 'che', 'digrigna', 'i', 'direi', 'anche', 'ma', 'i', 'ello', 'non', 's', 'la', 'tigna'], ['e', 'l', 'gran', 'proposto', 'vòlto', 'a', 'che', 'li', 'occhi', 'per', 'fatti', 'n', 'costà', 'malvagio', 'uccello'], ['se', 'voi', 'volete', 'vedere', 'o', 'lo', 'spaürato', 'appresso', 'toschi', 'o', 'lombardi', 'io', 'ne', 'farò', 'venire', 'ma', 'stieno', 'i', 'malebranche', 'un', 'poco', 'in', 'cesso', 'sì', 'ch', 'ei', 'non', 'teman', 'de', 'le', 'lor', 'vendette', 'e', 'io', 'seggendo', 'in', 'questo', 'loco', 'stesso', 'un', 'ch', 'io', 'son', 'ne', 'farò', 'venir', 'sette', 'quand', 'io', 'com', 'è', 'nostro', 'uso', 'di', 'fare', 'allor', 'che', 'fori', 'alcun', 'si', 'mette'], ['cagnazzo', 'levò', 'l', 'muso', 'crollando', 'l', 'capo', 'e', 'disse', 'malizia', 'ch', 'elli', 'ha', 'pensata', 'per', 'gittarsi'], ['ond', 'ei', 'ch', 'avea', 'lacciuoli', 'a', 'gran', 'rispuose', 'quand', 'io', 'procuro', 'a', 'mia', 'maggior', 'trestizia'], ['alichin', 'non', 'si', 'tenne', 'e', 'di', 'a', 'li', 'altri', 'disse', 'a', 'lui', 'se', 'tu', 'ti', 'cali', 'io', 'non', 'ti', 'verrò', 'di', 'gualoppo', 'ma', 'batterò', 'sovra', 'la', 'pece', 'l', 'ali'], ['lascisi', 'l', 'collo', 'e', 'sia', 'la', 'ripa', 'scudo', 'a', 'veder', 'se', 'tu', 'sol', 'più', 'di', 'noi', 'vali'], ['o', 'tu', 'che', 'leggi', 'udirai', 'nuovo', 'ludo', 'ciascun', 'da', 'occhi', 'volse', 'quel', 'prima', 'ch', 'fare', 'era', 'più', 'crudo'], ['lo', 'navarrese', 'ben', 'suo', 'tempo', 'colse', 'fermò', 'le', 'piante', 'a', 'terra', 'e', 'in', 'un', 'punto', 'saltò', 'e', 'dal', 'proposto', 'lor', 'si', 'sciolse'], ['di', 'che', 'ciascun', 'di', 'colpa', 'fu', 'compunto', 'ma', 'quei', 'cagion', 'fu', 'del', 'difetto', 'si', 'mosse', 'e', 'gridò', 'tu', 'se'], ['ma', 'poco', 'i', 'valse', 'ché', 'l', 'ali', 'al', 'sospetto', 'non', 'potero', 'avanzar', 'quelli', 'andò', 'quei', 'drizzò', 'volando', 'suso', 'il', 'petto', 'non', 'altrimenti', 'l', 'anitra', 'quando', 'l', 's', 'appressa', 'giù', 's', 'attuffa', 'ed', 'ritorna', 'sù', 'crucciato'], ['irato', 'calcabrina', 'de', 'la', 'buffa', 'volando', 'dietro', 'li', 'invaghito', 'che', 'quei', 'campasse', 'per', 'zuffa', 'e', 'come', 'l', 'barattier', 'fu', 'disparito', 'li', 'artigli', 'al', 'suo', 'compagno', 'e', 'fu', 'con', 'lui', 'sopra', 'l', 'fosso', 'ghermito'], ['ma', 'l', 'altro', 'fu', 'bene', 'grifagno', 'ad', 'artigliar', 'ben', 'lui', 'e', 'amendue', 'cadder', 'nel', 'mezzo', 'del', 'bogliente', 'stagno'], ['lo', 'caldo', 'sùbito', 'fue', 'ma', 'però', 'di', 'levarsi', 'era', 'neente', 'sì', 'avieno', 'inviscate', 'l', 'ali', 'sue'], ['con', 'li', 'altri', 'suoi', 'dolente', 'quattro', 'ne', 'fé', 'volar', 'da', 'l', 'altra', 'costa', 'con', 'i', 'raffi', 'e', 'assai', 'prestamente', 'di', 'là', 'discesero', 'a', 'la', 'posta', 'porser', 'li', 'uncini', 'verso', 'li', 'mpaniati', 'ch', 'eran', 'già', 'dentro', 'da', 'la', 'crosta'], ['e', 'noi', 'lasciammo', 'lor', 'così', 'mpacciati'], ['taciti', 'soli', 'sanza', 'compagnia', 'n', 'andavam', 'l', 'un', 'dinanzi', 'e', 'l', 'altro', 'dopo', 'come', 'frati', 'minor', 'vanno', 'per'], ['vòlt', 'era', 'la', 'favola', 'd', 'isopo', 'lo', 'mio', 'pensier', 'per', 'rissa', 'dov', 'de', 'la', 'rana', 'e', 'del', 'topo', 'ché', 'più', 'non', 'si', 'pareggia', 'mo', 'e', 'issa', 'che', 'l', 'un', 'con', 'fa', 'se', 'ben', 's', 'accoppia', 'e', 'fine', 'con', 'la'], ['e', 'come', 'l', 'pensier', 'de', 'l', 'scoppia', 'così', 'di', 'un', 'altro', 'poi', 'che', 'la', 'prima', 'paura', 'mi', 'fé', 'doppia'], ['io', 'pensava', 'così', 'questi', 'per', 'noi', 'sono', 'scherniti', 'con', 'danno', 'e', 'beffa', 'sì', 'assai', 'credo', 'che', 'lor', 'nòi'], ['se', 'l', 'ira', 'sovra', 'l', 'mal', 'voler', 's', 'aggueffa', 'più', 'crudeli', 'cane', 'a', 'ch', 'elli', 'acceffa'], ['già', 'mi', 'sentia', 'tutti', 'arricciar', 'la', 'paura', 'e', 'stava', 'in', 'dietro', 'intento', 'quand', 'io', 'dissi', 'maestro', 'se', 'non', 'celi', 'te', 'ho', 'pavento', 'd', 'i', 'malebranche'], ['noi', 'li', 'avem', 'già', 'dietro', 'io', 'li', 'magino', 'sì', 'che', 'già', 'li'], ['e', 's', 'i', 'fossi', 'di', 'piombato', 'vetro', 'l', 'imagine', 'di', 'fuor', 'tua', 'non', 'trarrei', 'più', 'tosto', 'a', 'me', 'che', 'quella', 'dentro', 'mpetro'], ['pur', 'mo', 'venieno', 'i', 'tuo', 'pensier', 'tra', 'miei', 'con', 'simile', 'atto', 'e', 'con', 'simile', 'faccia', 'sì', 'che', 'd', 'intrambi', 'un', 'sol', 'consiglio', 'fei'], ['s', 'elli', 'è', 'sì', 'la', 'destra', 'costa', 'possiam', 'ne', 'l', 'altra', 'scendere', 'noi', 'fuggirem', 'caccia'], ['già', 'non', 'di', 'tal', 'consiglio', 'rendere', 'ch', 'io', 'venir', 'con', 'l', 'non', 'molto', 'lungi', 'per', 'volerne', 'prendere'], ['lo', 'duca', 'mio', 'di', 'sùbito', 'mi', 'prese', 'come', 'la', 'madre', 'ch', 'è', 'desta', 'e', 'vede', 'presso', 'le', 'fiamme', 'accese', 'che', 'il', 'e', 'fugge', 'e', 'non', 's', 'arresta', 'avendo', 'più', 'di', 'lui', 'che', 'di', 'sé', 'cura', 'solo', 'una', 'vesta', 'e', 'giù', 'dal', 'la', 'ripa', 'dura', 'supin', 'si', 'diede', 'a', 'la', 'pendente', 'roccia', 'che', 'l', 'un', 'de', 'lati', 'a', 'l', 'altra', 'bolgia', 'tura'], ['non', 'corse', 'mai', 'sì', 'tosto', 'acqua', 'per', 'doccia', 'a', 'volger', 'di', 'molin', 'terragno', 'quand', 'ella', 'più', 'verso', 'le', 'pale', 'approccia', 'come', 'l', 'maestro', 'mio', 'per', 'quel', 'vivagno', 'portandosene', 'me', 'sovra', 'l', 'petto', 'come', 'suo', 'figlio', 'non', 'come', 'compagno'], ['a', 'pena', 'fuoro', 'i', 'piè', 'suoi', 'giunti', 'al', 'letto', 'del', 'fondo', 'giù', 'ch', 'in', 'sul', 'colle', 'sovresso', 'noi', 'ma', 'non', 'lì', 'era', 'sospetto', 'ché', 'l', 'alta', 'provedenza', 'che', 'lor', 'volle', 'porre', 'ministri', 'de', 'la', 'fossa', 'quinta', 'poder', 'di', 'partirs', 'indi', 'a', 'tutti', 'tolle'], ['là', 'giù', 'trovammo', 'una', 'gente', 'giva', 'intorno', 'assai', 'passi', 'piangendo', 'e', 'nel', 'sembiante', 'stanca', 'e', 'vinta'], ['elli', 'avean', 'cappe', 'con', 'bassi', 'dinanzi', 'a', 'li', 'occhi', 'fatte', 'de', 'la', 'taglia', 'che', 'in', 'per', 'li', 'monaci', 'fassi'], ['di', 'fuor', 'dorate', 'son', 'sì', 'ch', 'elli', 'abbaglia', 'ma', 'dentro', 'tutte', 'piombo', 'e', 'tanto', 'che', 'federigo', 'le', 'mettea', 'di', 'paglia'], ['oh', 'in', 'etterno', 'faticoso', 'manto', 'noi', 'ancor', 'pur', 'a', 'man', 'manca', 'con', 'loro', 'insieme', 'intenti', 'al', 'tristo', 'pianto', 'ma', 'per', 'lo', 'peso', 'stanca', 'venìa', 'sì', 'pian', 'eravam', 'nuovi', 'di', 'ad', 'd', 'anca'], ['per', 'ch', 'io', 'al', 'duca', 'mio', 'fa', 'che', 'tu', 'trovi', 'alcun', 'ch', 'al', 'fatto', 'o', 'al', 'nome', 'si', 'conosca', 'e', 'li', 'sì', 'andando', 'intorno', 'movi'], ['e', 'un', 'che', 'ntese', 'la', 'parola', 'tosca', 'di', 'retro', 'a', 'noi', 'gridò', 'tenete', 'i', 'piedi', 'voi', 'che', 'correte', 'sì', 'per', 'l', 'aura', 'fosca', 'forse', 'da', 'me', 'quel', 'chiedi'], ['onde', 'l', 'duca', 'si', 'volse', 'e', 'disse', 'aspetta', 'e', 'poi', 'secondo', 'il', 'suo', 'passo', 'procedi'], ['ristetti', 'e', 'due', 'mostrar', 'gran', 'fretta', 'de', 'l', 'animo', 'col', 'viso', 'd', 'esser', 'meco', 'ma', 'tardavali', 'l', 'carco', 'e', 'la', 'via', 'stretta'], ['quando', 'fuor', 'giunti', 'assai', 'con', 'l', 'occhio', 'mi', 'rimiraron', 'sanza', 'far', 'parola', 'poi', 'si', 'volsero', 'in', 'sé', 'e', 'dicean', 'seco', 'costui', 'par', 'vivo', 'a', 'l', 'atto', 'de', 'la', 'gola', 'e', 's', 'e', 'son', 'morti', 'per', 'qual', 'privilegio', 'vanno', 'scoperti', 'de', 'la', 'grave', 'stola'], ['poi', 'disser', 'me', 'o', 'tosco', 'ch', 'al', 'collegio', 'de', 'l', 'ipocriti', 'tristi', 'se', 'venuto', 'dir', 'chi', 'tu', 'se', 'non', 'avere', 'in', 'dispregio'], ['e', 'io', 'a', 'loro', 'i', 'fui', 'nato', 'e', 'cresciuto', 'sovra', 'l', 'bel', 'fiume', 'a', 'la', 'gran', 'villa', 'e', 'son', 'col', 'corpo', 'ho', 'sempre', 'avuto'], ['ma', 'voi', 'chi', 'siete', 'a', 'cui', 'tanto', 'distilla', 'quant', 'i', 'veggio', 'dolor', 'giù', 'per', 'è', 'in', 'voi', 'che', 'sì', 'sfavilla'], ['e', 'l', 'un', 'rispuose', 'a', 'me', 'le', 'cappe', 'rance', 'son', 'di', 'piombo', 'sì', 'grosse', 'che', 'li', 'pesi', 'fan', 'così', 'cigolar', 'le', 'lor'], ['frati', 'godenti', 'fummo', 'e', 'bolognesi', 'io', 'catalano', 'e', 'questi', 'loderingo', 'nomati', 'e', 'da', 'tua', 'terra', 'insieme', 'presi', 'come', 'suole', 'esser', 'tolto', 'un', 'solingo', 'per', 'sua', 'pace', 'e', 'fummo', 'tali', 'ch', 'ancor', 'si', 'dal', 'gardingo'], ['io', 'cominciai', 'o', 'frati', 'i', 'vostri', 'mali'], ['ma', 'più', 'non', 'dissi', 'ch', 'a', 'l', 'occhio', 'mi', 'corse', 'un', 'in', 'terra', 'con', 'tre', 'pali'], ['quando', 'mi', 'vide', 'tutto', 'si', 'distorse', 'soffiando', 'ne', 'la', 'barba', 'con', 'sospiri', 'e', 'l', 'frate', 'catalan', 'ciò', 's', 'accorse', 'mi', 'disse', 'quel', 'confitto', 'che', 'tu', 'consigliò', 'i', 'farisei', 'che', 'convenia', 'porre', 'un', 'uom', 'per', 'lo', 'popolo', 'a', 'martìri'], ['attraversato', 'è', 'nudo', 'ne', 'la', 'via', 'come', 'tu', 'vedi', 'mestier', 'ch', 'el', 'senta', 'come', 'pesa', 'pria'], ['e', 'a', 'modo', 'si', 'stenta', 'in', 'questa', 'fossa', 'e', 'dal', 'concilio', 'che', 'fu', 'per', 'li', 'giudei'], ['allor', 'vid', 'virgilio', 'sovra', 'colui', 'ch', 'era', 'disteso', 'in', 'croce', 'tanto', 'vilmente', 'ne', 'essilio'], ['poscia', 'drizzò', 'al', 'frate', 'cotal', 'voce', 'non', 'vi', 'dispiaccia', 'se', 'vi', 'lece', 'dirci', 's', 'a', 'la', 'man', 'destra', 'alcuna', 'foce', 'amendue', 'possiamo', 'uscirci', 'sanza', 'costrigner', 'de', 'li', 'angeli', 'neri', 'che', 'd', 'esto', 'fondo', 'a'], ['più', 'non', 'speri', 's', 'appressa', 'un', 'sasso', 'la', 'gran', 'cerchia', 'si', 'move', 'e', 'varca', 'tutt', 'i', 'vallon', 'feri', 'salvo', 'che', 'n', 'questo', 'è', 'e', 'nol', 'coperchia', 'montar', 'potrete', 'su', 'per', 'la', 'ruina', 'che', 'in', 'costa', 'e', 'nel', 'fondo', 'soperchia'], ['lo', 'duca', 'a', 'testa', 'china', 'poi', 'disse', 'la', 'che', 'i', 'di', 'qua', 'uncina'], ['e', 'l', 'frate', 'io', 'udi', 'già', 'dire', 'bologna', 'del', 'diavol', 'vizi', 'tra', 'quali', 'udi', 'elli', 'è', 'bugiardo', 'e', 'padre', 'di', 'menzogna'], ['appresso', 'il', 'duca', 'a', 'gran', 'passi', 'sen', 'gì', 'turbato', 'un', 'poco', 'd', 'ira', 'nel', 'sembiante', 'ond', 'io', 'da', 'li', 'mi', 'parti', 'dietro', 'a', 'le', 'poste', 'de', 'le', 'care', 'piante'], ['parte', 'del', 'anno', 'che', 'l', 'sole', 'i', 'crin', 'sotto', 'l', 'aquario', 'tempra', 'e', 'già', 'le', 'notti', 'al', 'mezzo', 'dì', 'quando', 'la', 'brina', 'la', 'terra', 'assempra', 'l', 'imagine', 'di', 'sua', 'sorella', 'bianca', 'ma', 'dura', 'a', 'la', 'sua', 'penna', 'tempra', 'lo', 'villanello', 'a', 'cui', 'la', 'roba', 'manca', 'si', 'leva', 'e', 'guarda', 'e', 'vede', 'la', 'campagna', 'biancheggiar', 'ond', 'ei', 'si', 'batte', 'ritorna', 'in', 'casa', 'e', 'qua', 'e', 'là', 'si', 'lagna', 'come', 'l', 'tapin', 'che', 'non', 'sa', 'si', 'faccia', 'poi', 'riede', 'e', 'la', 'speranza', 'ringavagna', 'veggendo', 'l', 'mondo', 'aver', 'cangiata', 'faccia', 'poco', 'd', 'ora', 'e', 'prende', 'suo', 'vincastro', 'e', 'pecorelle', 'a', 'pascer', 'caccia'], ['così', 'mi', 'fece', 'lo', 'mastro', 'quand', 'io', 'li', 'vidi', 'sì', 'turbar', 'la', 'fronte', 'e', 'così', 'tosto', 'al', 'mal', 'giunse', 'lo', 'come', 'al', 'guasto', 'lo', 'duca', 'a', 'me', 'si', 'volse', 'con', 'dolce', 'ch', 'io', 'vidi', 'prima', 'a', 'piè', 'del', 'monte'], ['le', 'braccia', 'aperse', 'dopo', 'alcun', 'consiglio', 'eletto', 'seco', 'riguardando', 'prima', 'ben', 'la', 'ruina', 'e', 'diedemi', 'di', 'piglio'], ['e', 'come', 'quei', 'ch', 'ed', 'estima', 'che', 'sempre', 'par', 'che', 'nnanzi', 'si', 'così', 'levando', 'me', 'sù', 'ver', 'la', 'cima', 'd', 'un', 'avvisava', 'un', 'altra', 'scheggia', 'dicendo', 'sovra', 'poi', 't', 'ma', 'tenta', 'pria', 's', 'è', 'tal', 'ch', 'ella', 'ti', 'reggia'], ['non', 'era', 'via', 'da', 'di', 'cappa', 'ché', 'noi', 'a', 'pena', 'ei', 'lieve', 'e', 'io', 'sospinto', 'potavam', 'sù', 'montar', 'in', 'chiappa'], ['e', 'se', 'non', 'fosse', 'che', 'da', 'quel', 'più', 'da', 'l', 'altro', 'era', 'la', 'costa', 'corta', 'non', 'so', 'di', 'lui', 'ma', 'io', 'sarei', 'ben', 'vinto'], ['perché', 'malebolge', 'inver', 'la', 'porta', 'del', 'bassissimo', 'pozzo', 'tutta', 'lo', 'sito', 'di', 'ciascuna', 'valle', 'porta', 'che', 'l', 'una', 'surge', 'e', 'l', 'altra', 'scende', 'noi', 'pur', 'venimmo', 'al', 'fine', 'in', 'su', 'la', 'punta', 'ultima', 'pietra', 'si', 'scoscende'], ['la', 'lena', 'm', 'era', 'del', 'polmon', 'sì', 'munta', 'quand', 'io', 'fui', 'sù', 'ch', 'i', 'non', 'potea', 'più', 'oltre', 'assisi', 'ne', 'la', 'prima', 'giunta'], ['omai', 'convien', 'così', 'ti', 'spoltre', 'disse', 'l', 'maestro', 'ché', 'seggendo', 'in', 'piuma', 'in', 'fama', 'non', 'vien', 'né', 'sotto', 'coltre', 'sanza', 'la', 'qual', 'chi', 'sua', 'vita', 'consuma', 'in', 'terra', 'di', 'sé', 'lascia', 'qual', 'fummo', 'in', 'aere', 'e', 'in', 'acqua', 'la', 'schiuma'], ['e', 'però', 'leva', 'sù', 'vinci', 'l', 'ambascia', 'con', 'l', 'che', 'vince', 'ogne', 'battaglia', 'se', 'col', 'suo', 'grave', 'corpo', 'non', 's', 'accascia'], ['più', 'lunga', 'scala', 'convien', 'che', 'si', 'saglia', 'non', 'basta', 'da', 'costoro', 'esser', 'partito'], ['se', 'tu', 'mi', 'ntendi', 'or', 'fa', 'sì', 'che'], ['leva', 'mi', 'allor', 'mostrandomi', 'fornito', 'meglio', 'di', 'i', 'non', 'mi', 'sentia', 'e', 'dissi', 'va', 'ch', 'i', 'son', 'forte', 'e', 'ardito'], ['su', 'per', 'lo', 'scoglio', 'la', 'via', 'ch', 'era', 'ronchioso', 'stretto', 'e', 'ed', 'erto', 'più', 'assai', 'che', 'quel', 'di', 'pria'], ['parlando', 'andava', 'per', 'non', 'parer', 'fievole', 'onde', 'una', 'voce', 'uscì', 'de', 'fosso', 'a', 'formar'], ['non', 'che', 'sovra', 'l', 'dosso', 'fossi', 'de', 'l', 'arco', 'già', 'che', 'varca', 'quivi', 'ma', 'parlava', 'ad', 'mosso'], ['io', 'era', 'in', 'giù', 'ma', 'li', 'occhi', 'vivi', 'non', 'poteano', 'ire', 'al', 'fondo', 'per', 'lo', 'scuro', 'per', 'ch', 'io', 'maestro', 'fa', 'che', 'tu', 'arrivi', 'da', 'l', 'altro', 'e', 'lo', 'ché', 'com', 'i', 'odo', 'quinci', 'e', 'non', 'intendo', 'veggio', 'e', 'neente', 'affiguro'], ['altra', 'risposta', 'disse', 'non', 'ti', 'non', 'lo', 'far', 'ché', 'la', 'si', 'de', 'seguir', 'con', 'l', 'opera'], ['noi', 'discendemmo', 'il', 'ponte', 'da', 'la', 'dove', 's', 'aggiugne', 'con', 'l', 'ottava', 'ripa', 'e', 'poi', 'mi', 'fu', 'la', 'bolgia', 'manifesta', 'e', 'vidivi', 'entro', 'terribile', 'stipa', 'di', 'e', 'di', 'sì', 'diversa', 'mena', 'che', 'la', 'memoria', 'il', 'sangue', 'ancor', 'mi', 'scipa'], ['più', 'non', 'si', 'vanti', 'libia', 'con', 'sua', 'rena', 'ché', 'se', 'chelidri', 'iaculi', 'e', 'faree', 'produce', 'e', 'cencri', 'con', 'anfisibena', 'né', 'tante', 'pestilenzie', 'né', 'sì', 'ree', 'mostrò', 'con', 'tutta', 'l', 'etïopia', 'né', 'con', 'ciò', 'che', 'di', 'sopra', 'al', 'mar', 'rosso', 'èe'], ['tra', 'questa', 'cruda', 'e', 'tristissima', 'copia', 'corrëan', 'e', 'spaventate', 'sanza', 'pertugio', 'o', 'elitropia', 'con', 'serpi', 'le', 'man', 'dietro', 'avean', 'legate', 'ficcavan', 'per', 'le', 'ren', 'la', 'coda', 'capo', 'ed', 'eran', 'dinanzi', 'aggroppate'], ['ed', 'ecco', 'a', 'un', 'ch', 'era', 'da', 'nostra', 'proda', 's', 'serpente', 'che', 'l', 'trafisse', 'là', 'dove', 'l', 'spalle', 's', 'annoda'], ['né', 'o', 'sì', 'tosto', 'mai', 'né', 'i', 'si', 'scrisse', 'com', 'el', 's', 'arse', 'e', 'tutto', 'convenne', 'che', 'cascando', 'divenisse', 'e', 'che', 'fu', 'a', 'terra', 'sì', 'distrutto', 'la', 'si', 'raccolse', 'per', 'sé', 'stessa', 'e', 'medesmo', 'ritornò', 'di', 'butto'], ['così', 'per', 'li', 'gran', 'savi', 'si', 'che', 'la', 'more', 'e', 'rinasce', 'quando', 'al', 'cinquecentesimo', 'anno', 'appressa', 'erba', 'né', 'biado', 'in', 'sua', 'vita', 'non', 'pasce', 'ma', 'd', 'lagrime', 'e', 'd', 'amomo', 'e', 'nardo', 'e', 'mirra', 'son', 'l', 'fasce'], ['e', 'qual', 'è', 'quel', 'che', 'e', 'non', 'sa', 'forza', 'di', 'demon', 'ch', 'a', 'terra', 'il', 'tira', 'o', 'd', 'altra', 'oppilazion', 'che', 'lega', 'l', 'omo', 'quando', 'si', 'che', 'ntorno', 'si', 'smarrito', 'de', 'la', 'grande', 'angoscia', 'ch', 'elli', 'ha', 'sofferta', 'e', 'guardando', 'sospira', 'era', 'l', 'peccator'], ['oh', 'potenza', 'di', 'dio', 'quant', 'è', 'severa', 'che', 'cotai', 'colpi', 'per', 'vendetta', 'croscia', 'lo', 'duca', 'il', 'domandò', 'poi', 'chi', 'ello', 'era', 'per', 'ch', 'ei', 'rispuose', 'io', 'piovvi', 'di', 'in', 'questa', 'gola', 'fiera'], ['bestial', 'piacque', 'e', 'non', 'umana', 'sì', 'come', 'a', 'mul', 'ch', 'i', 'fui', 'son', 'vanni', 'fucci', 'e', 'pistoia', 'mi', 'fu', 'degna', 'tana'], ['e', 'ïo', 'al', 'duca', 'dilli', 'che', 'non', 'mucci', 'e', 'domanda', 'che', 'colpa', 'qua', 'giù', 'l', 'pinse', 'ch', 'io', 'l', 'vidi', 'uomo', 'di', 'sangue', 'e', 'di', 'crucci'], ['e', 'l', 'peccator', 'che', 'ntese', 'non', 's', 'infinse', 'ma', 'drizzò', 'verso', 'me', 'l', 'animo', 'e', 'di', 'trista', 'si', 'dipinse', 'poi', 'più', 'mi', 'duol', 'che', 'tu', 'm', 'hai', 'la', 'miseria', 'dove', 'tu', 'mi', 'vedi', 'che', 'quando', 'l', 'altra'], ['io', 'non', 'posso', 'negar', 'quel', 'che', 'tu', 'chiedi', 'in', 'giù', 'son', 'tanto', 'perch', 'io', 'fui', 'ladro', 'a', 'la', 'sagrestia', 'd', 'i', 'belli', 'arredi', 'e', 'falsamente', 'già', 'fu', 'apposto'], ['ma', 'tu', 'non', 'godi', 'se', 'mai', 'sarai', 'di', 'fuor', 'da', 'luoghi', 'bui', 'apri', 'li', 'orecchi', 'al', 'mio', 'annunzio', 'e', 'odi'], ['pistoia', 'in', 'pria', 'd', 'i', 'si', 'dimagra', 'poi', 'fiorenza', 'e', 'modi'], ['tragge', 'marte', 'di', 'val', 'di', 'magra', 'ch', 'è', 'di', 'e', 'con', 'tempesta', 'impetüosa', 'e', 'agra', 'sovra', 'campo', 'picen', 'fia', 'ond', 'ei', 'repente', 'spezzerà', 'la', 'nebbia', 'sì', 'ch', 'ogne', 'bianco', 'ne', 'sarà', 'feruto'], ['e', 'detto', 'l', 'ho', 'perché', 'doler', 'ti', 'debbia'], ['al', 'fine', 'de', 'le', 'sue', 'parole', 'il', 'ladro', 'le', 'mani', 'alzò', 'con', 'amendue', 'le', 'fiche', 'gridando', 'togli', 'dio', 'ch', 'a', 'te', 'le', 'squadro'], ['da', 'indi', 'in', 'qua', 'mi', 'fuor', 'le', 'serpi', 'amiche', 'perch', 'una', 'li', 's', 'allora', 'al', 'collo', 'come', 'dicesse', 'non', 'vo', 'che', 'più', 'diche', 'e', 'un', 'le', 'braccia', 'e', 'rilegollo', 'ribadendo', 'sé', 'stessa', 'che', 'non', 'esse', 'dare', 'un', 'crollo'], ['ahi', 'pistoia', 'pistoia', 'stanzi', 'd', 'incenerarti', 'sì', 'che', 'più', 'non', 'duri', 'poi', 'mal', 'fare', 'il', 'seme', 'tuo', 'avanzi', 'per', 'tutt', 'i', 'cerchi', 'nferno', 'scuri', 'non', 'vidi', 'spirto', 'tanto', 'quel', 'che', 'cadde', 'a', 'tebe', 'giù', 'da', 'muri'], ['el', 'si', 'fuggì', 'che', 'non', 'verbo', 'e', 'io', 'vidi', 'un', 'centauro', 'pien', 'di', 'rabbia', 'venir', 'chiamando', 'ov', 'è', 'ov', 'è', 'l', 'acerbo'], ['maremma', 'non', 'cred', 'io', 'che', 'tante', 'n', 'abbia', 'bisce', 'avea', 'su', 'per', 'la', 'groppa', 'infin', 'ove', 'comincia', 'nostra', 'labbia'], ['sovra', 'le', 'dietro', 'da', 'la', 'con', 'l', 'ali', 'aperte', 'li', 'giacea', 'un', 'draco', 'e', 'quello', 'affuoca', 'qualunque', 's', 'intoppa'], ['lo', 'mio', 'disse', 'questi', 'è', 'caco', 'che', 'l', 'sasso', 'di', 'monte', 'di', 'sangue', 'fece', 'spesse', 'volte', 'laco'], ['non', 'va', 'co', 'suoi', 'fratei', 'per', 'un', 'cammino', 'per', 'lo', 'furto', 'che', 'frodolente', 'del', 'grande', 'ch', 'elli', 'vicino', 'onde', 'cessar', 'le', 'sue', 'opere', 'biece', 'la', 'd', 'ercule', 'che', 'forse', 'diè', 'cento', 'e', 'non', 'diece'], ['mentre', 'che', 'sì', 'parlava', 'ed', 'trascorse', 'e', 'tre', 'spiriti', 'venner', 'sotto', 'noi', 'de', 'quai', 'né', 'io', 'né', 'l', 'duca', 'mio', 's', 'accorse', 'se', 'non', 'quando', 'gridar', 'chi', 'voi', 'per', 'che', 'nostra', 'novella', 'e', 'pur', 'ad', 'poi'], ['io', 'non', 'li', 'conoscea', 'ma', 'ei', 'suol', 'seguitar', 'per', 'alcun', 'caso', 'che', 'l', 'un', 'nomar', 'un', 'convenette', 'dicendo', 'cianfa', 'dove', 'fia', 'rimaso', 'per', 'ch', 'io', 'acciò', 'che', 'l', 'duca', 'stesse', 'attento', 'mi', 'puosi', 'l', 'dito', 'su', 'dal', 'mento', 'al'], ['se', 'tu', 'se', 'or', 'lettore', 'a', 'lento', 'dirò', 'non', 'sarà', 'maraviglia', 'io', 'che', 'l', 'a', 'pena', 'mi', 'consento'], ['com', 'tenea', 'levate', 'in', 'lor', 'le', 'ciglia', 'con', 'sei', 'piè', 'si', 'dinanzi', 'a', 'e', 'tutto', 'a', 'lui', 's', 'appiglia'], ['co', 'piè', 'di', 'mezzo', 'li', 'avvinse', 'la', 'pancia', 'e', 'con', 'li', 'anterïor', 'le', 'braccia', 'prese', 'poi', 'li', 'addentò', 'e', 'l', 'una', 'e', 'l', 'altra', 'guancia', 'li', 'a', 'le', 'e', 'la', 'coda', 'tra', 'mbedue', 'e', 'dietro', 'per', 'le', 'ren', 'sù', 'la', 'ritese'], ['ellera', 'abbarbicata', 'mai', 'non', 'fue', 'ad', 'alber', 'sì', 'come', 'l', 'orribil', 'fiera', 'per', 'sue'], ['poi', 's', 'appiccar', 'come', 'di', 'calda', 'lor', 'colore', 'né', 'l', 'un', 'né', 'altro', 'già', 'parea', 'quel', 'ch', 'era', 'come', 'procede', 'innanzi', 'da', 'l', 'ardore', 'per', 'lo', 'papiro', 'suso', 'bruno', 'che', 'non', 'è', 'nero', 'ancora', 'e', 'l', 'bianco', 'more'], ['li', 'altri', 'due', 'l', 'riguardavano', 'e', 'ciascuno', 'omè', 'agnel', 'come', 'ti', 'muti', 'vedi', 'che', 'già', 'non', 'se', 'né', 'due', 'né', 'uno'], ['eran', 'li', 'capi', 'un', 'n', 'apparver', 'due', 'figure', 'miste', 'in', 'una', 'faccia', 'ov', 'eran', 'due', 'perduti'], ['fersi', 'le', 'braccia', 'due', 'di', 'liste', 'le', 'cosce', 'con', 'le', 'gambe', 'e', 'l', 'ventre', 'e', 'l', 'casso', 'divenner', 'che', 'non', 'fuor', 'mai', 'viste'], ['ogne', 'primaio', 'aspetto', 'ivi', 'era', 'e', 'nessun', 'l', 'imagine', 'parea', 'e', 'tal', 'sen', 'gio', 'con', 'lento', 'passo'], ['come', 'l', 'ramarro', 'sotto', 'la', 'fersa', 'dei', 'dì', 'cangiando', 'sepe', 'folgore', 'par', 'se', 'la', 'via', 'attraversa', 'sì', 'pareva', 'verso', 'l', 'epe', 'de', 'li', 'altri', 'due', 'un', 'serpentello', 'acceso', 'livido', 'e', 'nero', 'come', 'gran', 'e', 'quella', 'parte', 'onde', 'prima', 'nostro', 'alimento', 'a', 'l', 'un', 'di', 'lor', 'trafisse', 'poi', 'cadde', 'giuso', 'innanzi', 'disteso'], ['lo', 'trafitto', 'l', 'mirò', 'ma', 'nulla', 'anzi', 'co', 'piè', 'fermati', 'sbadigliava', 'pur', 'come', 'l', 'assalisse'], ['elli', 'l', 'serpente', 'e', 'quei', 'lui', 'riguardava', 'l', 'un', 'piaga', 'e', 'l', 'altro', 'per', 'la', 'bocca', 'fummavan', 'forte', 'e', 'l', 'fummo', 'si', 'scontrava'], ['taccia', 'lucano', 'ormai', 'dov', 'e', 'tocca', 'del', 'misero', 'sabello', 'e', 'di', 'nasidio', 'e', 'attenda', 'a', 'udir', 'quel', 'ch', 'or', 'si', 'scocca'], ['taccia', 'di', 'cadmo', 'e', 'd', 'aretusa', 'ovidio', 'ché', 'in', 'serpente', 'e', 'quella', 'in', 'fonte', 'converte', 'non', 'lo', 'nvidio', 'ché', 'due', 'nature', 'mai', 'a', 'fronte', 'a', 'fronte', 'non', 'trasmutò', 'sì', 'ch', 'amendue', 'le', 'forme', 'a', 'cambiar', 'lor', 'matera', 'fosser', 'pronte'], ['insieme', 'si', 'rispuosero', 'a', 'tai', 'norme', 'che', 'l', 'serpente', 'la', 'coda', 'in', 'forca', 'e', 'l', 'feruto', 'ristrinse', 'insieme', 'l', 'orme'], ['le', 'gambe', 'le', 'cosce', 'seco', 'stesse', 's', 'appiccar', 'sì', 'che', 'n', 'poco', 'la', 'giuntura', 'non', 'facea', 'segno', 'alcun', 'che', 'si', 'paresse'], ['coda', 'fessa', 'la', 'figura', 'che', 'là', 'e', 'la', 'sua', 'pelle', 'si', 'facea', 'molle', 'di', 'là', 'dura'], ['io', 'vidi', 'le', 'braccia', 'ascelle', 'e', 'i', 'due', 'piè', 'de', 'la', 'fiera', 'ch', 'eran', 'corti', 'tanto', 'allungar', 'quanto', 'quelle'], ['poscia', 'li', 'piè', 'di', 'diventaron', 'lo', 'membro', 'che', 'l', 'uom', 'l', 'suo', 'n', 'avea', 'due', 'porti'], ['mentre', 'che', 'l', 'fummo', 'l', 'uno', 'e', 'l', 'altro', 'vela', 'di', 'l', 'pel', 'per', 'l', 'una', 'parte', 'e', 'da', 'l', 'l', 'un', 'si', 'l', 'altro', 'cadde', 'giuso', 'non', 'torcendo', 'però', 'le', 'empie', 'sotto', 'le', 'quai', 'ciascun', 'cambiava', 'muso'], ['quel', 'ch', 'dritto', 'ver', 'le', 'tempie', 'e', 'di', 'troppa', 'ch', 'in', 'là', 'venne', 'orecchi', 'de', 'le', 'scempie', 'ciò', 'che', 'non', 'corse', 'in', 'dietro', 'e', 'si', 'ritenne', 'di', 'quel', 'naso', 'a', 'la', 'faccia', 'e', 'le', 'labbra', 'convenne'], ['quel', 'che', 'giacëa', 'il', 'muso', 'innanzi', 'caccia', 'e', 'li', 'orecchi', 'ritira', 'per', 'la', 'testa', 'come', 'face', 'le', 'corna', 'la', 'lumaccia', 'e', 'la', 'lingua', 'ch', 'avëa', 'unita', 'a', 'parlar', 'si', 'fende', 'e', 'la', 'forcuta', 'ne', 'l', 'altro', 'si', 'e', 'l', 'fummo', 'resta'], ['ch', 'era', 'fiera', 'divenuta', 'suffolando', 'si', 'fugge', 'per', 'la', 'valle', 'e', 'l', 'altro', 'dietro', 'a', 'lui', 'parlando', 'sputa'], ['poscia', 'li', 'volse', 'le', 'spalle', 'e', 'disse', 'a', 'l', 'i', 'vo', 'che', 'buoso', 'corra', 'com', 'io', 'carpon', 'per', 'questo', 'calle'], ['così', 'vid', 'io', 'la', 'settima', 'zavorra', 'mutare', 'e', 'qui', 'mi', 'scusi', 'la', 'novità', 'se', 'fior', 'la', 'penna', 'abborra'], ['e', 'che', 'li', 'miei', 'confusi', 'fossero', 'alquanto', 'e', 'l', 'animo', 'non', 'quei', 'fuggirsi', 'tanto', 'chiusi', 'ch', 'i', 'non', 'scorgessi', 'ben', 'puccio', 'era', 'quel', 'che', 'sol', 'di', 'tre', 'compagni', 'venner', 'prima', 'non', 'era', 'mutato', 'l', 'altr', 'era', 'quel', 'che', 'tu', 'gaville', 'piagni'], ['godi', 'fiorenza', 'poi', 'che', 'se', 'sì', 'grande', 'che', 'per', 'mare', 'e', 'per', 'l', 'ali', 'e', 'tuo', 'spande', 'tra', 'li', 'ladron', 'cinque', 'tuoi', 'cittadini', 'onde', 'mi', 'ven', 'vergogna', 'e', 'tu', 'in', 'grande', 'orranza', 'non', 'ne', 'sali'], ['ma', 'se', 'presso', 'al', 'mattin', 'del', 'ver', 'si', 'sogna', 'tu', 'sentirai', 'di', 'qua', 'da', 'picciol', 'di', 'quel', 'che', 'prato', 'non', 'ch', 'altri', 't', 'agogna'], ['già', 'fosse', 'tempo'], ['ei', 'da', 'che', 'pur', 'esser', 'dee', 'ché', 'più', 'mi', 'graverà', 'com', 'più', 'm', 'attempo'], ['ci', 'e', 'su', 'per', 'le', 'scalee', 'che', 'fatto', 'iborni', 'a', 'scender', 'pria', 'rimontò', 'l', 'mio', 'e', 'e', 'proseguendo', 'la', 'solinga', 'via', 'tra', 'le', 'schegge', 'e', 'tra', 'rocchi', 'de', 'lo', 'scoglio', 'lo', 'piè', 'sanza', 'la', 'man', 'non', 'si', 'spedia'], ['allor', 'mi', 'dolsi', 'e', 'ora', 'mi', 'ridoglio', 'quando', 'drizzo', 'la', 'mente', 'a', 'ciò', 'ch', 'io', 'vidi', 'e', 'più', 'lo', 'ngegno', 'affreno', 'ch', 'i', 'non', 'perché', 'non', 'corra', 'che', 'virtù', 'nol', 'sì', 'che', 'se', 'stella', 'bona', 'o', 'miglior', 'cosa', 'm', 'ha', 'dato', 'l', 'ben', 'ch', 'nol', 'm', 'invidi'], ['quante', 'l', 'al', 'poggio', 'si', 'riposa', 'nel', 'tempo', 'che', 'che', 'l', 'mondo', 'schiara', 'la', 'faccia', 'sua', 'a', 'ascosa', 'come', 'la', 'cede', 'a', 'la', 'zanzara', 'giù', 'per', 'la', 'vallea', 'dov', 'e', 'e', 'ara', 'di', 'tante', 'fiamme', 'tutta', 'risplendea', 'l', 'bolgia', 'sì', 'com', 'io', 'tosto', 'che', 'fui', 'là', 've', 'l', 'fondo', 'parea'], ['e', 'qual', 'colui', 'che', 'si', 'vengiò', 'con', 'li', 'orsi', 'vide', 'l', 'elia', 'al', 'quando', 'i', 'al', 'levorsi', 'che', 'nol', 'potea', 'sì', 'con', 'li', 'occhi', 'seguire', 'ch', 'el', 'vedesse', 'altro', 'che', 'la', 'fiamma', 'sola', 'sì', 'come', 'nuvoletta', 'in', 'sù', 'salire', 'tal', 'si', 'move', 'ciascuna', 'per', 'la', 'del', 'fosso', 'ché', 'nessuna', 'mostra', 'l', 'furto', 'e', 'ogne', 'fiamma', 'un', 'peccatore', 'invola'], ['io', 'stava', 'sovra', 'a', 'veder', 'surto', 'sì', 's', 'io', 'non', 'avessi', 'un', 'ronchion', 'preso', 'caduto', 'sarei', 'giù', 'sanz', 'esser', 'urto'], ['e', 'l', 'duca', 'che', 'mi', 'vide', 'tanto', 'atteso', 'disse', 'dai', 'fuochi', 'son', 'li', 'spirti', 'catun', 'si', 'fascia', 'di', 'ch', 'elli', 'è', 'inceso'], ['maestro', 'mio', 'rispuos', 'io', 'per', 'udirti', 'son', 'io', 'più', 'certo', 'ma', 'già', 'm', 'era', 'avviso', 'che', 'così', 'fosse', 'e', 'già', 'voleva', 'dirti', 'chi', 'è', 'n', 'quel', 'foco', 'che', 'vien', 'sì', 'di', 'sopra', 'che', 'par', 'de', 'la', 'pira', 'dov', 'eteòcle', 'fratel', 'fu', 'miso'], ['rispuose', 'a', 'me', 'là', 'martira', 'ulisse', 'e', 'dïomede', 'e', 'così', 'insieme', 'a', 'la', 'come', 'a', 'l', 'ira', 'e', 'da', 'la', 'lor', 'fiamma', 'si', 'l', 'agguato', 'del', 'caval', 'che', 'porta', 'onde', 'uscì', 'de', 'gentil', 'seme'], ['piangevisi', 'entro', 'l', 'arte', 'per', 'che', 'morta', 'deïdamìa', 'ancor', 'si', 'duol', 'd', 'achille', 'palladio', 'pena', 'vi', 'si', 'porta'], ['s', 'ei', 'da', 'quelle', 'parlar', 'diss', 'io', 'maestro', 'assai', 'ten', 'priego', 'e', 'ripriego', 'che', 'l', 'priego', 'mille', 'mi', 'facci', 'de', 'l', 'niego', 'fin', 'che', 'la', 'fiamma', 'cornuta', 'qua', 'vegna', 'vedi', 'che', 'del', 'disio', 'ver', 'lei', 'mi', 'piego'], ['ed', 'me', 'preghiera', 'è', 'degna', 'di', 'molta', 'loda', 'e', 'io', 'però', 'l', 'accetto', 'ma', 'fa', 'la', 'tua', 'lingua', 'si', 'sostegna'], ['lascia', 'parlare', 'a', 'me', 'ch', 'i', 'ho', 'concetto', 'ciò', 'che', 'tu', 'vuoi', 'ch', 'ei', 'sarebbero', 'schivi', 'perch', 'e', 'fuor', 'forse', 'tuo', 'detto'], ['poi', 'che', 'la', 'fiamma', 'fu', 'venuta', 'quivi', 'dove', 'parve', 'al', 'mio', 'duca', 'tempo', 'e', 'in', 'questa', 'forma', 'lui', 'parlare', 'audivi', 'o', 'voi', 'che', 'siete', 'un', 'foco', 's', 'io', 'meritai', 'di', 'voi', 'mentre', 'ch', 'io', 'vissi', 's', 'io', 'meritai', 'voi', 'assai', 'o', 'poco', 'quando', 'li', 'alti', 'versi', 'scrissi', 'non', 'vi', 'movete', 'ma', 'l', 'un', 'dica', 'dove', 'per', 'lui', 'perduto', 'a', 'morir'], ['lo', 'de', 'la', 'fiamma', 'a', 'crollarsi', 'mormorando', 'pur', 'come', 'quella', 'cui', 'vento', 'affatica', 'indi', 'la', 'cima', 'qua', 'e', 'là', 'fosse', 'la', 'lingua', 'che', 'parlasse', 'gittò', 'voce', 'di', 'fuori', 'e', 'disse', 'quando', 'mi', 'da', 'circe', 'che', 'sottrasse', 'me', 'più', 'd', 'un', 'anno', 'là', 'presso', 'a', 'gaeta', 'prima', 'che', 'sì', 'enëa', 'la', 'nomasse', 'di', 'né', 'la', 'pieta', 'del', 'né', 'l', 'debito', 'amore', 'lo', 'qual', 'dovea', 'penelopè', 'far', 'lieta', 'vincer', 'potero', 'dentro', 'a', 'me', 'l', 'ardore', 'ch', 'i', 'ebbi', 'a', 'divenir', 'del', 'mondo', 'e', 'de', 'li', 'vizi', 'umani', 'e', 'del', 'valore', 'ma', 'misi', 'l', 'alto', 'mare', 'aperto', 'sol', 'con', 'un', 'legno', 'e', 'compagna', 'picciola', 'da', 'la', 'qual', 'non', 'fui', 'diserto'], ['l', 'un', 'e', 'l', 'altro', 'vidi', 'infin', 'la', 'spagna', 'fin', 'nel', 'morrocco', 'e', 'l', 'isola', 'sardi', 'e', 'l', 'altre', 'che', 'quel', 'mare', 'intorno', 'bagna'], ['io', 'e', 'compagni', 'eravam', 'vecchi', 'e', 'tardi', 'quando', 'venimmo', 'a', 'foce', 'stretta', 'dov', 'ercule', 'segnò', 'li', 'suoi', 'che', 'l', 'oltre', 'non', 'si', 'metta', 'da', 'la', 'man', 'destra', 'mi', 'sibilia', 'da', 'l', 'altra', 'già', 'm', 'avea', 'lasciata', 'setta'], ['o', 'frati', 'che', 'cento', 'milia', 'perigli', 'siete', 'giunti', 'a', 'l', 'a', 'questa', 'tanto', 'vigilia', 'd', 'i', 'nostri', 'sensi', 'ch', 'è', 'del', 'rimanente', 'non', 'vogliate', 'negar', 'l', 'esperïenza', 'al', 'del', 'mondo', 'sanza', 'gente'], ['considerate', 'la', 'vostra', 'semenza', 'fatti', 'non', 'foste', 'a', 'viver', 'come', 'bruti', 'ma', 'per', 'seguir', 'e', 'canoscenza'], ['li', 'fec', 'io', 'sì', 'con', 'picciola', 'al', 'cammino', 'che', 'a', 'pena', 'poscia', 'li', 'avrei', 'ritenuti', 'e', 'volta', 'nostra', 'poppa', 'nel', 'mattino', 'de', 'remi', 'facemmo', 'ali', 'al', 'folle', 'volo', 'acquistando', 'dal', 'lato'], ['tutte', 'già', 'de', 'l', 'altro', 'polo', 'vedea', 'la', 'notte', 'e', 'l', 'nostro', 'tanto', 'basso', 'che', 'non', 'surgëa', 'fuor', 'del', 'marin', 'suolo'], ['cinque', 'volte', 'racceso', 'e', 'tante', 'casso', 'lo', 'lume', 'era', 'di', 'sotto', 'da', 'la', 'luna', 'poi', 'che', 'eravam', 'ne', 'l', 'alto', 'passo', 'quando', 'n', 'una', 'montagna', 'bruna', 'la', 'e', 'alta', 'tanto', 'quanto', 'veduta', 'non', 'avëa', 'alcuna'], ['noi', 'ci', 'allegrammo', 'e', 'tosto', 'tornò', 'in', 'pianto', 'ché', 'de', 'terra', 'un', 'turbo', 'nacque', 'e', 'percosse', 'del', 'legno', 'il', 'canto'], ['tre', 'volte', 'il', 'fé', 'girar', 'con', 'tutte', 'l', 'acque', 'a', 'la', 'quarta', 'levar', 'la', 'e', 'la', 'in', 'altrui', 'piacque', 'infin', 'che', 'l', 'mar', 'fu', 'sovra', 'noi', 'richiuso'], ['sù', 'la', 'fiamma', 'e', 'queta', 'per', 'non', 'dir', 'più', 'e', 'già', 'sen', 'gia', 'con', 'la', 'licenza', 'del', 'dolce', 'poeta', 'quand', 'un', 'altra', 'che', 'lei', 'venìa', 'ne', 'fece', 'volger', 'li', 'la', 'per', 'un', 'confuso', 'suon', 'che', 'fuor', 'n', 'uscia'], ['come', 'che', 'mugghiò', 'prima', 'col', 'pianto', 'e', 'ciò', 'fu', 'dritto', 'avea', 'con', 'sua', 'lima', 'mugghiava', 'con', 'la', 'voce', 'de', 'l', 'afflitto', 'sì', 'che', 'con', 'tutto', 'fosse', 'di', 'rame', 'pur', 'pareva', 'dal', 'dolor', 'trafitto', 'così', 'per', 'non', 'aver', 'via', 'né', 'forame', 'dal', 'principio', 'nel', 'foco', 'in', 'suo', 'linguaggio', 'si', 'convertïan', 'le', 'parole'], ['ma', 'ch', 'ebber', 'colto', 'lor', 'vïaggio', 'su', 'per', 'la', 'dandole', 'quel', 'guizzo', 'che', 'dato', 'avea', 'la', 'lingua', 'in', 'lor', 'udimmo', 'dire', 'o', 'tu', 'a', 'io', 'drizzo', 'la', 'voce', 'e', 'che', 'parlavi', 'mo', 'lombardo', 'dicendo', 'istra', 'ten', 'va', 'più', 'non', 't', 'adizzo', 'perch', 'io', 'sia', 'giunto', 'forse', 'non', 't', 'incresca', 'restare', 'a', 'parlar', 'meco', 'vedi', 'che', 'non', 'incresce', 'a', 'me', 'e', 'ardo', 'se', 'tu', 'pur', 'mo', 'in', 'questo', 'mondo', 'cieco', 'se', 'di', 'quella', 'dolce', 'terra', 'latina', 'ond', 'io', 'mia', 'colpa', 'tutta', 'reco', 'dimmi', 'se', 'romagnuoli', 'han', 'pace', 'o', 'guerra', 'ch', 'io', 'fui', 'd', 'i', 'monti', 'là', 'intra', 'orbino', 'e', 'l', 'giogo', 'di', 'che', 'tever', 'si', 'diserra'], ['io', 'era', 'in', 'giuso', 'ancora', 'e', 'chino', 'quando', 'il', 'mio', 'duca', 'mi', 'tentò', 'di', 'dicendo', 'parla', 'tu', 'questi', 'è', 'latino'], ['e', 'io', 'ch', 'avea', 'pronta', 'sanza', 'indugio', 'a', 'parlare', 'incominciai', 'o', 'anima', 'che', 'giù', 'nascosta', 'romagna', 'tua', 'non', 'è', 'e', 'non', 'fu', 'mai', 'sanza', 'cuor', 'de', 'suoi', 'tiranni', 'ma', 'n', 'or', 'vi', 'lasciai'], ['ravenna', 'sta', 'stata', 'è', 'molt', 'anni', 'l', 'aguglia', 'da', 'polenta', 'la', 'si', 'cova', 'sì', 'che', 'cervia', 'ricuopre', 'co', 'suoi', 'vanni'], ['la', 'terra', 'che', 'fé', 'lunga', 'prova', 'e', 'di', 'franceschi', 'sanguinoso', 'mucchio', 'sotto', 'le', 'branche', 'si', 'ritrova'], ['mastin', 'vecchio', 'e', 'l', 'nuovo', 'da', 'verrucchio', 'che', 'fecer', 'di', 'montagna', 'il', 'mal', 'governo', 'là', 'dove', 'soglion', 'fan', 'd', 'i'], ['le', 'città', 'di', 'lamone', 'e', 'di', 'santerno', 'conduce', 'il', 'lïoncel', 'dal', 'nido', 'bianco', 'che', 'muta', 'da', 'la', 'state'], ['e', 'quella', 'cu', 'il', 'savio', 'bagna', 'il', 'fianco', 'così', 'com', 'ella', 'sie', 'tra', 'l', 'piano', 'e', 'l', 'monte', 'tra', 'tirannia', 'si', 'vive', 'franco'], ['ora', 'chi', 'se', 'ti', 'priego', 'che', 'ne', 'conte', 'non', 'esser', 'duro', 'più', 'ch', 'altri', 'sia', 'stato', 'l', 'nome', 'tuo', 'nel', 'mondo', 'tegna', 'fronte'], ['poscia', 'che', 'l', 'foco', 'alquanto', 'ebbe', 'rugghiato', 'al', 'modo', 'suo', 'l', 'aguta', 'punta', 'mosse', 'di', 'là', 'e', 'diè', 'cotal', 'fiato', 's', 'i', 'credesse', 'che', 'mia', 'fosse', 'a', 'persona', 'che', 'mai', 'mondo', 'questa', 'fiamma', 'staria', 'sanza', 'più', 'scosse', 'ma', 'però', 'che', 'mai', 'di', 'questo', 'fondo', 'non', 'tornò', 'vivo', 'alcun', 's', 'i', 'odo', 'sanza', 'infamia', 'ti'], ['io', 'fui', 'uom', 'd', 'arme', 'e', 'poi', 'fui', 'cordigliero', 'cinto', 'fare', 'ammenda', 'e', 'il', 'creder', 'mio', 'venìa', 'intero', 'se', 'non', 'fosse', 'gran', 'prete', 'a', 'cui', 'mal', 'prenda', 'che', 'mi', 'rimise', 'ne', 'le', 'prime', 'colpe', 'e', 'e', 'quare', 'm', 'intenda'], ['mentre', 'ch', 'io', 'forma', 'fui', 'd', 'ossa', 'e', 'di', 'polpe', 'madre', 'mi', 'l', 'opere', 'mie', 'non', 'furon', 'leonine', 'ma', 'di', 'volpe'], ['li', 'accorgimenti', 'e', 'le', 'io', 'seppi', 'tutte', 'e', 'sì', 'menai', 'lor', 'arte', 'ch', 'al', 'fine', 'de', 'la', 'terra', 'il', 'suono', 'uscie'], ['mi', 'vidi', 'giunto', 'in', 'quella', 'parte', 'di', 'mia', 'etade', 'ciascun', 'dovrebbe', 'calar', 'le', 'vele', 'e', 'le', 'sarte', 'ciò', 'mi', 'piacëa', 'allor', 'm', 'increbbe', 'e', 'pentuto', 'e', 'confesso', 'mi', 'rendei', 'ahi', 'miser', 'e', 'sarebbe'], ['lo', 'principe', 'd', 'i', 'novi', 'farisei', 'avendo', 'guerra', 'presso', 'a', 'laterano', 'e', 'non', 'con', 'saracin', 'né', 'con', 'ché', 'ciascun', 'suo', 'nimico', 'era', 'cristiano', 'e', 'era', 'stato', 'a', 'vincer', 'acri', 'né', 'mercatante', 'in', 'terra', 'di', 'né', 'officio', 'né', 'ordini', 'sacri', 'guardò', 'in', 'sé', 'né', 'in', 'me', 'quel', 'capestro', 'che', 'solea', 'fare', 'i', 'cinti', 'più', 'macri'], ['ma', 'come', 'costantin', 'd', 'entro', 'siratti', 'guerir', 'de', 'la', 'lebbre', 'così', 'mi', 'chiese', 'questi', 'per', 'maestro', 'a', 'guerir', 'de', 'la', 'sua', 'superba', 'febbre', 'consiglio', 'e', 'io', 'tacetti', 'perché', 'le', 'sue', 'parole', 'parver', 'ebbre'], ['e', 'poi', 'ridisse', 'tuo', 'cuor', 'non', 'sospetti', 't', 'assolvo', 'e', 'tu', 'm', 'insegna', 'fare', 'penestrino', 'in', 'terra', 'getti'], ['lo', 'ciel', 'poss', 'serrare', 'e', 'diserrare', 'come', 'tu', 'sai', 'però', 'son', 'due', 'le', 'chiavi', 'che', 'l', 'mio', 'non', 'ebbe', 'care'], ['allor', 'mi', 'pinser', 'li', 'là', 've', 'l', 'tacer', 'mi', 'fu', 'avviso', 'l', 'peggio', 'e', 'dissi', 'padre', 'da', 'che', 'tu', 'mi', 'lavi', 'di', 'quel', 'peccato', 'ov', 'io', 'mo', 'cader', 'deggio', 'lunga', 'promessa', 'con', 'l', 'ti', 'farà', 'ne', 'l', 'alto', 'seggio'], ['francesco', 'poi', 'com', 'io', 'fu', 'morto', 'per', 'me', 'ma', 'un', 'd', 'i', 'neri', 'cherubini', 'li', 'disse', 'non', 'portar', 'non', 'mi', 'far', 'torto'], ['venir', 'se', 'giù', 'tra', 'miei', 'meschini', 'perché', 'diede', 'l', 'dal', 'quale', 'in', 'qua', 'stato', 'li', 'sono', 'a', 'crini', 'ch', 'assolver', 'non', 'si', 'può', 'chi', 'non', 'si', 'pente', 'e', 'volere', 'insieme', 'puossi', 'per', 'la', 'contradizion'], ['oh', 'me', 'come', 'mi', 'riscossi', 'quando', 'mi', 'prese', 'forse', 'tu', 'non', 'pensavi', 'ch', 'io', 'löico', 'fossi'], ['a', 'mi', 'portò', 'e', 'quelli', 'attorse', 'otto', 'la', 'coda', 'al', 'duro', 'e', 'che', 'per', 'gran', 'rabbia', 'la', 'è', 'd', 'i', 'del', 'foco', 'furo', 'per', 'ch', 'io', 'là', 'dove', 'vedi', 'son', 'perduto', 'e', 'sì', 'vestito', 'mi', 'rancuro'], ['quand', 'elli', 'suo', 'dir', 'così', 'la', 'fiamma', 'dolorando', 'si', 'partio', 'torcendo', 'e', 'dibattendo', 'aguto'], ['noi', 'passamm', 'oltre', 'e', 'io', 'e', 'l', 'duca', 'mio', 'su', 'per', 'lo', 'scoglio', 'infino', 'in', 'su', 'l', 'altr', 'arco', 'che', 'cuopre', 'l', 'fosso', 'in', 'che', 'si', 'paga', 'il', 'fio', 'a', 'quei', 'che'], ['poria', 'mai', 'pur', 'con', 'parole', 'sciolte', 'dicer', 'del', 'sangue', 'e', 'de', 'le', 'piaghe', 'a', 'pieno', 'ch', 'i', 'ora', 'vidi', 'per', 'narrar', 'più', 'volte', 'ogne', 'lingua', 'per', 'certo', 'verria', 'meno', 'per', 'lo', 'nostro', 'sermone', 'e', 'per', 'mente', 'c', 'hanno', 'a', 'tanto', 'comprender', 'poco', 'seno'], ['s', 'el', 's', 'aunasse', 'ancor', 'gente', 'che', 'in', 'su', 'la', 'fortunata', 'terra', 'di', 'puglia', 'fu', 'del', 'suo', 'sangue', 'dolente', 'per', 'li', 'troiani', 'e', 'la', 'lunga', 'guerra', 'che', 'de', 'l', 'anella', 'fé', 'sì', 'come', 'livïo', 'scrive', 'che', 'con', 'quella', 'che', 'sentio', 'di', 'colpi', 'doglie', 'per', 'contastare', 'a', 'ruberto', 'guiscardo', 'e', 'l', 'altra', 'il', 'cui', 'ossame', 'ancor', 's', 'accoglie', 'a', 'ceperan', 'là', 'dove', 'fu', 'bugiardo', 'ciascun', 'e', 'là', 'da', 'tagliacozzo', 'dove', 'vinse', 'il', 'vecchio', 'qual', 'forato', 'suo', 'membro', 'e', 'mostrasse', 'd', 'aequar', 'sarebbe', 'nulla', 'il', 'modo', 'nona', 'bolgia', 'sozzo'], ['già', 'veggia', 'per', 'mezzul', 'perdere', 'com', 'io', 'vidi', 'un', 'si', 'pertugia', 'rotto', 'dal', 'mento', 'infin', 'dove'], ['gambe', 'le', 'minugia', 'la', 'e', 'l', 'tristo', 'sacco', 'che', 'merda', 'fa', 'di', 'quel', 'che', 'si', 'trangugia'], ['mentre', 'che', 'tutto', 'in', 'lui', 'veder', 'm', 'guardommi', 'e', 'con', 'le', 'man', 's', 'aperse', 'il', 'petto', 'or', 'vedi', 'com', 'io', 'mi', 'dilacco', 'vedi', 'come', 'storpiato', 'a', 'me', 'sen', 'va', 'piangendo', 'alì', 'volto', 'dal', 'mento', 'al', 'ciuffetto'], ['e', 'tutti', 'li', 'altri', 'che', 'tu', 'vedi', 'di', 'scandalo', 'e', 'di', 'scisma', 'fuor', 'vivi', 'e', 'son', 'così'], ['è', 'qua', 'dietro', 'che', 'n', 'accisma', 'sì', 'crudelmente', 'al', 'taglio', 'de', 'la', 'spada', 'rimettendo', 'ciascun', 'di', 'questa', 'risma', 'quand', 'avem', 'volta', 'dolente', 'strada', 'però', 'che', 'le', 'ferite', 'son', 'richiuse', 'prima', 'ch', 'altri', 'dinanzi', 'li', 'rivada'], ['ma', 'tu', 'se', 'che', 'n', 'su', 'lo', 'scoglio', 'muse', 'forse', 'per', 'indugiar', 'd', 'ire', 'a', 'la', 'pena', 'ch', 'è', 'giudicata', 'in', 'su', 'le', 'tue', 'accuse'], ['né', 'morte', 'l', 'giunse', 'né', 'l', 'mena', 'rispuose', 'l', 'maestro', 'a', 'tormentarlo', 'ma', 'per', 'dar', 'lui', 'esperïenza', 'piena', 'a', 'me', 'che', 'convien', 'menarlo', 'per', 'lo', 'nferno', 'qua', 'giù', 'di', 'giro', 'in', 'giro', 'e', 'quest', 'è', 'ver', 'così', 'com', 'io', 'ti', 'parlo'], ['più', 'fuor', 'di', 'quando', 'l', 'udiro', 's', 'arrestaron', 'nel', 'fosso', 'a', 'riguardarmi', 'per', 'maraviglia', 'oblïando', 'il'], ['or', 'dì', 'a', 'dunque', 'che', 's', 'armi', 'tu', 'che', 'forse', 'vedra', 'il', 'sole', 'in', 'breve', 's', 'ello', 'non', 'vuol', 'qui', 'tosto', 'sì', 'di', 'stretta', 'di', 'neve', 'non', 'rechi', 'la', 'vittoria', 'al', 'ch', 'altrimenti', 'saria', 'leve'], ['poi', 'che', 'l', 'un', 'piè', 'per', 'girsene', 'sospese', 'mäometto', 'mi', 'disse', 'esta', 'a', 'in', 'terra', 'lo', 'distese'], ['un', 'altro', 'che', 'forata', 'avea', 'gola', 'e', 'tronco', 'l', 'naso', 'infin', 'sotto', 'le', 'ciglia', 'e', 'non', 'ch', 'una', 'orecchia', 'ristato', 'a', 'riguardar', 'per', 'maraviglia', 'con', 'li', 'altri', 'innanzi', 'a', 'li', 'altri', 'aprì', 'la', 'canna', 'ch', 'di', 'fuor', 'd', 'ogne', 'parte', 'vermiglia', 'o', 'tu', 'cui', 'non', 'e', 'cu', 'io', 'vidi', 'su', 'in', 'terra', 'se', 'non', 'rimembriti', 'di', 'pier', 'da', 'medicina', 'se', 'a', 'veder', 'lo', 'dolce', 'piano', 'che', 'da', 'vercelli', 'a', 'marcabò', 'dichina'], ['e', 'fa', 'saper', 'a', 'due', 'miglior', 'da', 'fano', 'a', 'e', 'anco', 'ad', 'se', 'l', 'antiveder', 'qui', 'non', 'è', 'vano', 'gittati', 'saran', 'fuor', 'di', 'vasello', 'e', 'mazzerati', 'a', 'la', 'tradimento', 'd', 'un', 'tiranno', 'fello'], ['tra', 'l', 'isola', 'di', 'cipri', 'e', 'di', 'maiolica', 'non', 'vide', 'mai', 'sì', 'fallo', 'nettuno', 'da', 'pirate', 'non', 'da', 'gente'], ['che', 'vede', 'pur', 'con', 'l', 'uno', 'e', 'tien', 'la', 'terra', 'che', 'tale', 'qui', 'meco', 'vorrebbe', 'di', 'vedere', 'esser', 'digiuno', 'a', 'parlamento', 'seco', 'poi', 'farà', 'sì', 'ch', 'di', 'focara', 'non', 'sarà', 'lor', 'mestier', 'voto', 'né', 'preco'], ['e', 'io', 'a', 'lui', 'dimostrami', 'e', 'dichiara', 'se', 'vuo', 'ch', 'i', 'porti', 'sù', 'di', 'te', 'novella', 'chi', 'è', 'colui', 'da', 'la', 'veduta', 'amara'], ['allor', 'puose', 'la', 'mano', 'a', 'la', 'mascella', 'd', 'un', 'suo', 'compagno', 'e', 'la', 'bocca', 'li', 'aperse', 'gridando', 'questi', 'è', 'desso', 'e', 'non', 'favella'], ['questi', 'scacciato', 'il', 'dubitar', 'sommerse', 'in', 'cesare', 'affermando', 'che', 'l', 'fornito', 'sempre', 'con', 'danno', 'l', 'attender'], ['oh', 'quanto', 'mi', 'pareva', 'sbigottito', 'con', 'la', 'lingua', 'tagliata', 'strozza', 'curïo', 'ch', 'a', 'dir', 'fu', 'ardito', 'e', 'un', 'ch', 'avea', 'l', 'una', 'e', 'l', 'altra', 'man', 'mozza', 'levando', 'i', 'per', 'l', 'aura', 'fosca', 'sì', 'che', 'facea', 'la', 'faccia', 'sozza', 'ricordera', 'ti', 'del', 'mosca', 'disse', 'ha', 'cosa', 'fatta', 'che', 'fu', 'mal', 'la', 'gente', 'tosca'], ['li', 'aggiunsi', 'e', 'morte', 'di', 'tua', 'schiatta', 'per', 'ch', 'duol', 'con', 'duolo', 'sen', 'gio', 'persona', 'trista', 'e'], ['ma', 'io', 'rimasi', 'a', 'riguardar', 'lo', 'stuolo', 'e', 'vidi', 'cosa', 'ch', 'paura', 'sanza', 'più', 'di', 'solo', 'se', 'coscïenza', 'm', 'assicura', 'la', 'buona', 'che', 'l', 'uom', 'francheggia', 'sotto', 'l', 'asbergo', 'del', 'pura'], ['io', 'vidi', 'e', 'ancor', 'par', 'ch', 'io', 'l', 'veggia', 'sanza', 'capo', 'andar', 'sì', 'altri', 'de', 'la', 'trista', 'greggia', 'e', 'l', 'capo', 'tronco', 'tenea', 'per', 'le', 'chiome', 'pesol', 'con', 'mano', 'a', 'guisa', 'di', 'lanterna', 'e', 'quel', 'mirava', 'noi', 'oh', 'me'], ['di', 'sé', 'facea', 'a', 'sé', 'stesso', 'lucerna', 'ed', 'eran', 'due', 'in', 'uno', 'e', 'uno', 'in', 'due', 'com', 'esser', 'può', 'quei', 'sa', 'che', 'sì'], ['quando', 'diritto', 'al', 'piè', 'del', 'ponte', 'fue', 'levò', 'l', 'braccio', 'alto', 'con', 'tutta', 'la', 'testa', 'per', 'le', 'parole', 'sue', 'che', 'fuoro', 'or', 'vedi', 'pena', 'molesta', 'tu', 'che', 'spirando', 'vai', 'veggendo', 'i', 'morti', 'è', 'grande', 'come', 'questa'], ['e', 'perché', 'tu', 'di', 'me', 'porti', 'sappi', 'ch', 'i', 'son', 'bertram', 'dal', 'bornio', 'che', 'diedi', 'al', 're', 'giovane', 'i', 'ma', 'conforti'], ['io', 'feci', 'il', 'padre', 'e', 'l', 'figlio', 'non', 'fé', 'absalone', 'e', 'di', 'davìd', 'coi', 'malvagi', 'punzelli'], ['perch', 'io', 'parti', 'così', 'giunte', 'persone', 'partito', 'porto', 'il', 'lasso', 'dal', 'suo', 'principio', 'ch', 'è', 'in', 'questo', 'troncone'], ['così', 's', 'osserva', 'in', 'me', 'lo'], ['la', 'molta', 'gente', 'e', 'le', 'diverse', 'avean', 'le', 'luci', 'mie', 'sì', 'inebrïate', 'che', 'de', 'a', 'piangere', 'eran', 'vaghe'], ['ma', 'mi', 'che', 'pur', 'guate', 'perché', 'la', 'vista', 'tua', 'pur', 'si', 'soffolge', 'là', 'giù', 'tra', 'l', 'ombre', 'triste', 'smozzicate', 'tu', 'non', 'hai', 'fatto', 'sì', 'a', 'l', 'altre', 'bolge', 'pensa', 'se', 'tu', 'le', 'credi', 'che', 'miglia', 'ventidue', 'la', 'valle', 'volge'], ['e', 'già', 'la', 'è', 'sotto', 'i', 'nostri', 'piedi', 'è', 'poco', 'omai', 'che', 'n', 'è', 'concesso', 'e', 'altro', 'è', 'da', 'veder', 'che', 'tu', 'non'], ['se', 'tu', 'avessi', 'rispuos', 'io', 'appresso', 'atteso', 'a', 'la', 'cagion', 'per', 'ch', 'io', 'forse', 'm', 'avresti', 'ancor', 'lo', 'star', 'dimesso'], ['parte', 'sen', 'e', 'io', 'retro', 'li', 'andava', 'lo', 'faccendo', 'la', 'risposta', 'e', 'a', 'quella', 'cava', 'dov', 'io', 'tenea', 'or', 'li', 'occhi', 'sì', 'a', 'ch', 'un', 'del', 'mio', 'sangue', 'pianga', 'la', 'colpa', 'che', 'costa'], ['allor', 'disse', 'l', 'maestro', 'non', 'si', 'franga', 'lo', 'tuo', 'pensier', 'da', 'sovr', 'ello'], ['attendi', 'ad', 'altro', 'ed', 'ei', 'là', 'si', 'rimanga', 'ch', 'io', 'vidi', 'lui', 'a', 'piè', 'del', 'ponticello', 'mostrarti', 'e', 'col', 'dito', 'e', 'udi', 'l', 'nominar', 'geri', 'del', 'bello'], ['tu', 'allor', 'sì', 'del', 'impedito', 'sovra', 'colui', 'che', 'già', 'tenne', 'altaforte', 'che', 'non', 'guardasti', 'in', 'là', 'sì', 'fu', 'partito'], ['o', 'duca', 'mio', 'la', 'vïolenta', 'morte', 'che', 'non', 'li', 'è', 'vendicata', 'ancor', 'diss', 'io', 'per', 'alcun', 'che', 'de', 'l', 'onta', 'sia', 'consorte', 'fece', 'lui', 'disdegnoso', 'ond', 'el', 'sen', 'gio', 'sanza', 'parlarmi', 'sì', 'com', 'estimo', 'e', 'in', 'ciò', 'm', 'ha', 'el', 'fatto', 'a', 'sé', 'più', 'pio'], ['così', 'al', 'loco', 'primo', 'che', 'de', 'lo', 'scoglio', 'l', 'altra', 'valle', 'mostra', 'lume', 'vi', 'fosse', 'tutto', 'ad', 'imo'], ['quando', 'noi', 'fummo', 'sor', 'l', 'ultima', 'chiostra', 'di', 'malebolge', 'sì', 'suoi', 'parere', 'a', 'veduta', 'nostra', 'saettaron', 'me', 'diversi', 'che', 'di', 'pietà', 'ferrati', 'avean', 'li', 'ond', 'io', 'li', 'orecchi', 'le', 'man', 'copersi'], ['qual', 'dolor', 'fora', 'se', 'de', 'li', 'spedali', 'tra', 'l', 'luglio', 'e', 'l', 'settembre', 'e', 'di', 'e', 'di', 'sardigna', 'i', 'mali', 'fossero', 'in', 'una', 'fossa', 'tutti', 'nsembre', 'tal', 'era', 'quivi', 'e', 'n', 'qual', 'suol', 'venir', 'de', 'le', 'marcite', 'membre'], ['noi', 'discendemmo', 'in', 'su', 'l', 'del', 'lungo', 'scoglio', 'pur', 'da', 'man', 'sinistra', 'e', 'allor', 'fu', 'la', 'mia', 'vista', 'più', 'viva', 'lo', 'fondo', 'la', 'de', 'l', 'sire', 'infallibil', 'giustizia', 'i', 'falsador', 'registra'], ['non', 'credo', 'ch', 'a', 'veder', 'maggior', 'tristizia', 'fosse', 'in', 'egina', 'il', 'popol', 'tutto', 'infermo', 'fu', 'l', 'aere', 'sì', 'pien', 'di', 'malizia', 'che', 'li', 'animali', 'infino', 'al', 'picciol', 'vermo', 'cascaron', 'tutti', 'e', 'poi', 'le', 'antiche', 'secondo', 'che', 'i', 'poeti', 'per', 'fermo', 'si', 'ristorar', 'di', 'seme', 'di', 'formiche', 'ch', 'era', 'a', 'per', 'quella', 'oscura', 'valle', 'li', 'spirti'], ['qual', 'sovra', 'l', 'e', 'qual', 'sovra', 'le', 'spalle', 'l', 'un', 'de', 'l', 'altro', 'giacea', 'e', 'qual', 'si', 'trasmutava', 'per', 'lo', 'tristo', 'calle'], ['passo', 'passo', 'andavam', 'sanza', 'sermone', 'guardando', 'e', 'ascoltando', 'li', 'non', 'potean', 'levar', 'le', 'lor', 'persone'], ['io', 'vidi', 'due', 'sedere', 'a', 'sé', 'poggiati', 'com', 'a', 'scaldar', 'si', 'poggia', 'tegghia', 'a', 'tegghia', 'al', 'piè', 'di', 'schianze', 'macolati', 'e', 'non', 'vidi', 'già', 'mai', 'menare', 'stregghia', 'a', 'ragazzo', 'aspettato', 'dal', 'né', 'a', 'colui', 'che', 'mal', 'volontier', 'vegghia', 'ciascun', 'menava', 'spesso', 'il', 'morso', 'de', 'l', 'sopra', 'sé', 'per', 'la', 'gran', 'rabbia', 'del', 'pizzicor', 'non', 'ha', 'più', 'soccorso', 'e', 'sì', 'traevan', 'coltel', 'di', 'scardova', 'le', 'scaglie', 'o', 'd', 'che', 'più', 'larghe', 'l', 'abbia'], ['o', 'tu', 'che', 'con', 'le', 'dita', 'ti', 'dismaglie', 'cominciò', 'l', 'duca', 'mio', 'a', 'l', 'un', 'di', 'loro', 'e', 'che', 'fai', 'tanaglie', 'dinne', 's', 'alcun', 'latino', 'è', 'tra', 'che', 'son', 'entro', 'se', 'l', 'unghia', 'ti', 'basti', 'etternalmente', 'cotesto', 'lavoro'], ['latin', 'siam', 'noi', 'che', 'tu', 'vedi', 'guasti', 'qui', 'l', 'un', 'piangendo', 'ma', 'tu', 'chi', 'se', 'che', 'di', 'dimandasti'], ['duca', 'disse', 'i', 'son', 'un', 'che', 'discendo', 'giù', 'in', 'balzo', 'e', 'di', 'mostrar', 'lo', 'a', 'lui', 'intendo'], ['allor', 'lo', 'comun', 'rincalzo', 'e', 'tremando', 'ciascuno', 'a', 'me', 'si', 'volse', 'con', 'altri', 'di'], ['lo', 'buon', 'maestro', 'a', 'me', 'tutto', 's', 'accolse', 'dicendo', 'dì', 'a', 'lor', 'ciò', 'che', 'tu', 'vuoli', 'io', 'incominciai', 'poscia', 'volse', 'se', 'memoria', 'non', 's', 'imboli', 'nel', 'primo', 'mondo', 'da', 'l', 'umane', 'menti', 'ma', 's', 'viva', 'sotto', 'molti', 'soli', 'ditemi', 'chi', 'voi', 'siete', 'e', 'di', 'che', 'genti', 'la', 'vostra', 'sconcia', 'e', 'fastidiosa', 'pena', 'di', 'me', 'non', 'vi', 'spaventi'], ['io', 'fui', 'd', 'arezzo', 'e', 'albero', 'da', 'siena', 'rispuose', 'l', 'un', 'mi', 'fé', 'mettere', 'al', 'foco', 'ma', 'quel', 'per', 'ch', 'io', 'mori', 'qui', 'non', 'mi', 'mena'], ['vero', 'è', 'ch', 'i', 'dissi', 'lui', 'a', 'gioco', 'i', 'mi', 'saprei', 'levar', 'per', 'l', 'aere', 'a', 'volo', 'e', 'quei', 'ch', 'avea', 'vaghezza', 'e', 'senno', 'poco', 'volle', 'ch', 'i', 'li', 'mostrassi', 'l', 'arte', 'e', 'solo', 'perch', 'io', 'nol', 'feci', 'mi', 'fece', 'tal', 'che', 'l', 'avea', 'per', 'figliuolo'], ['ma', 'ne', 'de', 'le', 'diece', 'me', 'per', 'l', 'alchìmia', 'che', 'nel', 'dannò', 'minòs', 'a', 'cui', 'fallar', 'lece'], ['e', 'io', 'dissi', 'al', 'poeta', 'fu', 'già', 'mai', 'gente', 'sì', 'vana', 'come', 'la', 'sanese', 'certo', 'non', 'la', 'francesca', 'sì', 'd'], ['l', 'altro', 'lebbroso', 'che', 'm', 'intese', 'rispuose', 'al', 'mio', 'tra', 'stricca', 'che', 'seppe', 'far', 'le', 'temperate', 'spese', 'e', 'niccolò', 'che', 'la', 'costuma', 'ricca', 'del', 'garofano', 'prima', 'discoverse', 'ne', 'l', 'orto', 'dove', 'tal', 'seme', 's', 'appicca', 'e', 'tra', 'ne', 'la', 'brigata', 'in', 'che', 'disperse', 'd', 'ascian', 'la', 'la', 'e', 'l', 'abbagliato', 'suo', 'senno'], ['ma', 'perché', 'chi', 'sì', 'ti', 'seconda', 'i', 'sanesi', 'ver', 'me', 'l', 'occhio', 'sì', 'che', 'la', 'mia', 'ben', 'ti', 'risponda', 'sì', 'vedrai', 'ch', 'io', 'l', 'ombra', 'di', 'capocchio', 'falsai', 'li', 'metalli', 'con', 'l', 'alchìmia', 'e', 'te', 'dee', 'ricordar', 'se', 'ben', 't', 'adocchio', 'com', 'io', 'fui', 'di', 'natura', 'buona', 'scimia'], ['nel', 'tempo', 'che', 'iunone', 'era', 'semelè', 'contra', 'l', 'sangue', 'tebano', 'come', 'mostrò', 'una', 'e', 'altra', 'atamante', 'divenne', 'tanto', 'insano', 'che', 'veggendo', 'la', 'moglie', 'con', 'due', 'figli', 'andar', 'da', 'ciascuna', 'mano', 'tendiam', 'le', 'reti', 'sì', 'ch', 'io', 'pigli', 'la', 'leonessa', 'e', 'leoncini', 'al', 'varco', 'e', 'poi', 'distese', 'i', 'dispietati', 'artigli', 'un', 'ch', 'avea', 'nome', 'learco', 'e', 'rotollo', 'e', 'percosselo', 'ad', 'un', 'sasso', 'e', 'quella', 's', 'annegò', 'con', 'l', 'altro', 'carco'], ['e', 'quando', 'la', 'fortuna', 'volse', 'in', 'basso', 'l', 'altezza', 'de', 'troian', 'che', 'tutto', 'ardiva', 'sì', 'che', 'nsieme', 'col', 'regno', 'il', 're', 'fu', 'casso', 'ecuba', 'trista', 'misera', 'e', 'cattiva', 'che', 'vide', 'polissena', 'morta', 'suo', 'polidoro', 'in', 'su', 'la', 'riva', 'del', 'mar', 'si', 'fu', 'la', 'dolorosa', 'accorta', 'forsennata', 'latrò', 'sì', 'cane', 'tanto', 'le', 'fé', 'la', 'mente', 'torta'], ['ma', 'né', 'di', 'tebe', 'furie', 'né', 'troiane', 'si', 'vider', 'mäi', 'in', 'alcun', 'tanto', 'crude', 'non', 'punger', 'bestie', 'nonché', 'umane', 'quant', 'io', 'vidi', 'in', 'due', 'ombre', 'smorte', 'e', 'nude', 'che', 'mordendo', 'correvan', 'di', 'quel', 'modo', 'l', 'porco', 'quando', 'del', 'porcil', 'si'], ['l', 'una', 'capocchio', 'e', 'in', 'sul', 'nodo', 'del', 'collo', 'l', 'tirando', 'fece', 'il', 'ventre', 'al', 'fondo', 'sodo'], ['e', 'l', 'aretin', 'che', 'rimase', 'tremando', 'mi', 'disse', 'quel', 'folletto', 'è', 'schicchi', 'e', 'va', 'altrui', 'così', 'conciando'], ['oh', 'diss', 'io', 'lui', 'se', 'l', 'altro', 'non', 'ti', 'ficchi', 'denti', 'non', 'ti', 'sia', 'a', 'è', 'pria', 'che', 'di', 'qui', 'si', 'spicchi'], ['ed', 'elli', 'a', 'me', 'quell', 'è', 'l', 'anima', 'antica', 'di', 'scellerata', 'che', 'divenne', 'al', 'padre', 'fuor', 'del', 'dritto', 'amore', 'amica'], ['questa', 'a', 'sé', 'forma', 'come', 'l', 'altro', 'che', 'là', 'va', 'sostenne', 'guadagnar', 'la', 'donna', 'de', 'la', 'torma', 'falsificare', 'in', 'sé', 'buoso', 'donati', 'testando', 'e', 'dando', 'al', 'testamento', 'norma'], ['e', 'poi', 'che', 'i', 'due', 'rabbiosi', 'fuor', 'passati', 'io', 'avea', 'l', 'occhio', 'tenuto', 'rivolsilo', 'a', 'guardar', 'li', 'mal', 'nati'], ['io', 'vidi', 'un', 'fatto', 'a', 'guisa', 'di', 'lëuto', 'pur', 'elli', 'avesse', 'avuta', 'l', 'tronca', 'da', 'l', 'altro', 'che', 'l', 'uomo', 'ha', 'forcuto'], ['la', 'grave', 'idropesì', 'che', 'sì', 'dispaia', 'le', 'membra', 'con', 'l', 'omor', 'che', 'mal', 'converte', 'che', 'l', 'viso', 'non', 'risponde', 'a', 'la', 'ventraia', 'faceva', 'lui', 'come', 'l', 'etico', 'fa', 'che', 'per', 'la', 'sete', 'l', 'l', 'mento', 'e', 'l', 'altro', 'in', 'sù'], ['o', 'voi', 'che', 'sanz', 'alcuna', 'pena', 'siete', 'e', 'non', 'so', 'io', 'diss', 'elli', 'a', 'noi', 'guardate', 'e', 'attendete', 'a', 'la', 'miseria', 'del', 'maestro', 'adamo', 'io', 'ebbi', 'vivo', 'assai', 'di', 'quel', 'ch', 'i', 'volli', 'e', 'ora', 'lasso', 'un', 'gocciol', 'd'], ['li', 'ruscelletti', 'che', 'd', 'i', 'verdi', 'colli', 'del', 'casentin', 'in', 'faccendo', 'i', 'lor', 'e', 'sempre', 'mi', 'stanno', 'innanzi', 'e', 'non', 'indarno', 'ché', 'l', 'imagine', 'lor', 'vie', 'm', 'asciuga', 'che', 'l', 'male', 'nel', 'mi', 'discarno'], ['la', 'rigida', 'giustizia', 'che', 'mi', 'fruga', 'tragge', 'cagion', 'ov', 'io', 'peccai', 'a', 'metter', 'più', 'li', 'miei', 'sospiri', 'fuga'], ['ivi', 'è', 'dov', 'io', 'falsai', 'la', 'lega', 'del', 'per', 'ch', 'io', 'il', 'corpo', 'sù', 'arso', 'lasciai'], ['ma', 's', 'anima', 'trista', 'di', 'guido', 'o', 'd', 'alessandro', 'o', 'di', 'lor', 'frate', 'per', 'fonte', 'branda', 'non', 'vista'], ['dentro', 'c', 'è', 'l', 'se', 'l', 'arrabbiate', 'ombre', 'che', 'dicon', 'vero', 'ma', 'che', 'mi', 'val', 'c', 'ho', 'le', 'membra', 'legate', 'pur', 'di', 'ancor', 'i', 'potessi', 'in', 'cent', 'andare', 'un', 'oncia', 'io', 'sarei', 'messo', 'già', 'lo', 'sentiero', 'cercando', 'lui', 'questa', 'con', 'tutto', 'ch', 'ella', 'undici', 'miglia', 'e', 'men', 'd', 'un', 'mezzo', 'di', 'traverso', 'non', 'ci', 'ha'], ['io', 'son', 'per', 'lor', 'tra', 'sì', 'fatta', 'e', 'm', 'indussero', 'a', 'batter', 'fiorini', 'ch', 'avevan', 'di', 'mondiglia'], ['e', 'io', 'a', 'son', 'li', 'due', 'fumman', 'come', 'man', 'bagnate', 'l', 'verno', 'giacendo', 'stretti', 'a', 'tuoi', 'destri', 'confini'], ['qui', 'volta', 'non', 'rispuose', 'quando', 'piovvi', 'greppo', 'e', 'non', 'credo', 'che', 'dieno', 'in', 'sempiterno'], ['l', 'la', 'falsa', 'accusò', 'gioseppo', 'l', 'altr', 'è', 'l', 'falso', 'sinon', 'greco', 'di', 'per', 'febbre', 'aguta', 'gittan', 'tanto'], ['e', 'l', 'un', 'di', 'lor', 'che', 'si', 'recò', 'a', 'noia', 'forse', 'd', 'esser', 'nomato', 'sì', 'oscuro', 'col', 'pugno', 'li', 'percosse', 'l', 'epa', 'croia'], ['quella', 'sonò', 'come', 'e', 'mastro', 'adamo', 'li', 'percosse', 'col', 'suo', 'parve', 'men', 'duro', 'dicendo', 'a', 'ancor', 'che', 'mi', 'sia', 'lo', 'muover', 'per', 'le', 'membra', 'che', 'son', 'gravi', 'ho', 'io', 'il', 'braccio', 'a', 'tal', 'sciolto'], ['ond', 'ei', 'rispuose', 'quando', 'tu', 'andavi', 'al', 'non', 'l', 'avei', 'tu', 'così', 'presto', 'ma', 'sì', 'e', 'più', 'l', 'avei', 'quando', 'coniavi'], ['e', 'l', 'tu', 'di', 'ver', 'di', 'questo', 'ma', 'tu', 'non', 'fosti', 'sì', 'ver', 'testimonio', 'là', 've', 'del', 'ver', 'fosti', 'a', 'richesto'], ['s', 'io', 'dissi', 'falso', 'e', 'tu', 'falsasti', 'il', 'conio', 'disse', 'sinon', 'e', 'son', 'qui', 'per', 'un', 'fallo', 'e', 'più', 'ch', 'alcun', 'demonio'], ['ricorditi', 'spergiuro', 'del', 'cavallo', 'rispuose', 'quel', 'ch', 'avëa', 'epa', 'e', 'sieti', 'reo', 'che', 'tutto', 'il', 'mondo', 'sallo'], ['sia', 'rea', 'onde', 'disse', 'l', 'greco', 'la', 'lingua', 'e', 'l', 'acqua', 'marcia', 'che', 'l', 'ventre', 'innanzi', 'a', 'li', 'occhi', 'sì', 't', 'assiepa'], ['allora', 'il', 'monetier', 'si', 'squarcia', 'la', 'bocca', 'tua', 'per', 'tuo', 'mal', 'ché', 's', 'i', 'ho', 'sete', 'e', 'omor', 'mi', 'rinfarcia', 'tu', 'hai', 'l', 'e', 'l', 'capo', 'che', 'ti', 'duole', 'e', 'per', 'leccar', 'lo', 'specchio', 'di', 'a', 'nvitar', 'parole'], ['ad', 'ascoltarli', 'er', 'io', 'del', 'tutto', 'fisso', 'quando', 'mi', 'disse', 'or', 'pur', 'mira', 'che', 'per', 'poco', 'non', 'mi', 'risso'], ['quand', 'io', 'l', 'senti', 'a', 'me', 'parlar', 'lui', 'con', 'tal', 'ch', 'ancor', 'per', 'la', 'memoria', 'mi', 'si', 'gira'], ['colui', 'che', 'suo', 'dannaggio', 'sogna', 'che', 'sognando', 'desidera', 'sognare', 'sì', 'che', 'quel', 'ch', 'è', 'come', 'non', 'tal', 'mi', 'fec', 'possendo', 'parlare', 'che', 'scusarmi', 'e', 'scusava', 'me', 'tuttavia', 'e', 'nol', 'mi', 'credea', 'fare'], ['maggior', 'difetto', 'men', 'vergogna', 'lava', 'disse', 'l', 'maestro', 'che', 'l', 'tuo', 'non', 'è', 'però', 'd', 'ogne', 'trestizia', 'ti', 'disgrava'], ['e', 'fa', 'ragion', 'ch', 'io', 'ti', 'sia', 'sempre', 'allato', 'se', 'più', 'avvien', 'che', 'fortuna', 't', 'sien', 'genti', 'in', 'simigliante', 'piato', 'ché', 'voler', 'ciò', 'udire', 'è', 'bassa', 'voglia'], ['una', 'medesma', 'lingua', 'pria', 'mi', 'morse', 'sì', 'che', 'mi', 'tinse', 'e', 'l', 'altra', 'guancia', 'e', 'poi', 'la', 'mi', 'riporse', 'così', 'od', 'io', 'che', 'solea', 'far', 'la', 'lancia', 'd', 'achille', 'e', 'del', 'suo', 'padre', 'esser', 'trista', 'e', 'poi', 'di', 'buona', 'mancia'], ['noi', 'demmo', 'il', 'dosso', 'al', 'misero', 'vallone', 'su', 'la', 'ripa', 'che', 'l', 'sanza'], ['quiv', 'era', 'men', 'che', 'notte', 'e', 'men', 'che', 'giorno', 'sì', 'che', 'l', 'viso', 'm', 'andava', 'ma', 'io', 'senti', 'un', 'tanto', 'ch', 'avrebbe', 'ogne', 'fioco', 'che', 'sé', 'la', 'sua', 'via', 'dirizzò', 'li', 'miei', 'tutti', 'ad', 'un', 'loco'], ['dopo', 'la', 'carlo', 'magno', 'perdé', 'la', 'santa', 'gesta', 'non', 'sonò', 'sì', 'terribilmente', 'orlando'], ['in', 'là', 'volta', 'parve', 'veder', 'molte', 'torri', 'ond', 'io', 'maestro', 'dì', 'che', 'terra', 'è', 'questa'], ['ed', 'elli', 'a', 'me', 'però', 'che', 'tu', 'trascorri', 'per', 'le', 'tenebre', 'troppo', 'la', 'lungi', 'avvien', 'poi', 'nel', 'maginare', 'abborri'], ['tu', 'vedrai', 'ben', 'se', 'tu', 'là', 'ti', 'congiungi', 'l', 's', 'inganna', 'di', 'lontano', 'però', 'alquanto', 'più', 'te', 'stesso', 'pungi'], ['poi', 'caramente', 'per', 'mano', 'e', 'disse', 'pria', 'che', 'noi', 'siam', 'più', 'che', 'l', 'men', 'ti', 'paia', 'che', 'non', 'son', 'torri', 'ma', 'giganti', 'e', 'son', 'nel', 'pozzo', 'intorno', 'da', 'la', 'ripa', 'da', 'l', 'umbilico', 'in', 'giuso', 'tutti', 'quanti'], ['come', 'quando', 'la', 'nebbia', 'si', 'lo', 'sguardo', 'a', 'poco', 'a', 'poco', 'raffigura', 'ciò', 'che', 'cela', 'l', 'vapor', 'che', 'l', 'aere', 'stipa', 'forando', 'l', 'aura', 'grossa', 'e', 'scura', 'più', 'e', 'più', 'appressando', 'ver', 'la', 'sponda', 'fuggiemi', 'errore', 'e', 'cresciemi', 'paura', 'però', 'che', 'come', 'su', 'la', 'tonda', 'montereggion', 'di', 'torri', 'si', 'corona', 'così', 'la', 'proda', 'l', 'circonda', 'torreggiavan', 'di', 'mezza', 'la', 'persona', 'li', 'orribili', 'giganti', 'cui', 'del', 'cielo', 'ancora', 'quando', 'tuona'], ['e', 'io', 'scorgeva', 'già', 'd', 'alcun', 'la', 'faccia', 'le', 'spalle', 'e', 'l', 'petto', 'e', 'del', 'ventre', 'gran', 'parte', 'e', 'per', 'le', 'coste', 'le'], ['natura', 'certo', 'lasciò', 'l', 'arte', 'di', 'sì', 'fatti', 'animali', 'assai', 'fé', 'bene', 'per', 'tòrre', 'tali', 'essecutori', 'a', 'marte'], ['e', 's', 'ella', 'di', 'balene', 'non', 'si', 'pente', 'chi', 'guarda', 'sottilmente', 'più', 'e', 'più', 'discreta', 'la', 'l', 's', 'al', 'mal', 'volere', 'e', 'a', 'la', 'possa', 'nessun', 'riparo', 'vi', 'può', 'la', 'gente'], ['la', 'faccia', 'parea', 'e', 'grossa', 'come', 'la', 'pina', 'di', 'san', 'pietro', 'eran', 'l', 'altre', 'che', 'era', 'perizoma', 'dal', 'mezzo', 'in', 'giù', 'ne', 'mostrava', 'ben', 'di', 'sovra', 'che', 'di', 'giugnere', 'a', 'la', 'chioma', 'tre', 'frison', 's', 'averien', 'dato', 'mal', 'vanto', 'ch', 'i', 'ne', 'gran', 'dal', 'loco', 'in', 'giù', 'dov', 'omo', 'affibbia', 'l', 'manto'], ['raphèl', 'maì', 'amècche', 'zabì', 'almi', 'cominciò', 'a', 'la', 'fiera', 'bocca', 'si', 'più', 'dolci', 'salmi'], ['duca', 'mio', 'lui', 'anima', 'sciocca', 'col', 'e', 'con', 'quel', 'ti', 'disfoga', 'ira', 'o', 'altra', 'passïon', 'ti', 'cércati', 'al', 'collo', 'e', 'troverai', 'la', 'soga', 'che', 'l', 'tien', 'o', 'anima', 'vedi', 'lui', 'che', 'l', 'gran', 'petto', 'ti', 'doga'], ['poi', 'disse', 'a', 'me', 'elli', 'stessi', 's', 'accusa', 'questi', 'è', 'nembrotto', 'per', 'lo', 'cui', 'mal', 'coto', 'pur', 'un', 'linguaggio', 'nel', 'mondo', 'non', 's', 'usa'], ['lasciànlo', 'stare', 'e', 'non', 'parliamo', 'a', 'vòto', 'a', 'lui', 'ciascun', 'linguaggio', 'come', 'l', 'suo', 'ad', 'altrui', 'ch', 'a', 'nullo', 'è', 'noto'], ['facemmo', 'adunque', 'più', 'lungo', 'vïaggio', 'vòlti', 'a', 'e', 'd', 'un', 'l', 'altro', 'assai', 'più', 'fero', 'e', 'maggio'], ['a', 'cigner', 'lui', 'che', 'fosse', 'l', 'maestro', 'non', 'so', 'io', 'dir', 'ma', 'el', 'tenea', 'soccinto', 'dinanzi', 'l', 'altro', 'e', 'dietro', 'il', 'braccio', 'destro', 'd', 'una', 'catena', 'che', 'l', 'tenea', 'avvinto', 'dal', 'collo', 'in', 'giù', 'sì', 'che', 'n', 'su', 'lo', 'scoperto', 'si', 'ravvolgëa', 'infino', 'al', 'giro', 'quinto'], ['questo', 'volle', 'esser', 'esperto', 'di', 'l', 'giove', 'disse', 'l', 'mio', 'duca', 'ond', 'elli', 'ha', 'cotal', 'merto'], ['nome', 'le', 'gran', 'prove', 'quando', 'i', 'giganti', 'fer', 'paura', 'a', 'dèi', 'le', 'braccia', 'el', 'menò', 'già', 'mai'], ['e', 'io', 'a', 'lui', 's', 'puote', 'io', 'che', 'de', 'lo', 'brïareo', 'li', 'occhi', 'mei'], ['ond', 'ei', 'rispuose', 'tu', 'vedrai', 'di', 'qui', 'che', 'parla', 'ed', 'è', 'disciolto', 'che', 'ne', 'porrà', 'nel', 'fondo', 'd', 'ogne', 'reo'], ['quel', 'che', 'tu', 'vuo', 'veder', 'più', 'là', 'è', 'molto', 'ed', 'è', 'legato', 'e', 'fatto', 'come', 'salvo', 'che', 'più', 'feroce', 'par', 'nel', 'volto'], ['non', 'fu', 'tremoto', 'rubesto', 'che', 'scotesse', 'una', 'torre', 'così', 'come', 'fïalte', 'a', 'scuotersi', 'fu'], ['allor', 'temett', 'io', 'più', 'che', 'mai', 'e', 'non', 'v', 'era', 'più', 'che', 'la', 'dotta', 's', 'io', 'non', 'le', 'ritorte'], ['noi', 'procedemmo', 'più', 'avante', 'allotta', 'e', 'anteo', 'che', 'ben', 'cinque', 'alle', 'sanza', 'la', 'testa', 'uscia', 'fuor', 'de'], ['o', 'tu', 'che', 'ne', 'la', 'fortunata', 'valle', 'che', 'fece', 'scipïon', 'di', 'gloria', 'reda', 'quand', 'anibàl', 'co', 'suoi', 'diede', 'le', 'recasti', 'già', 'mille', 'leon', 'per', 'preda', 'e', 'che', 'se', 'fossi', 'stato', 'a', 'l', 'alta', 'guerra', 'de', 'tuoi', 'fratelli', 'ancor', 'par', 'che', 'si', 'ch', 'avrebber', 'i', 'figli', 'de', 'la', 'terra', 'giù', 'e', 'non', 'ten', 'schifo', 'dove', 'cocito', 'la'], ['non', 'ci', 'fare', 'ire', 'a', 'tizio', 'né', 'a', 'tifo', 'questi', 'può', 'dar', 'di', 'quel', 'che', 'qui', 'si', 'brama', 'però', 'ti', 'china', 'e', 'non', 'torcer', 'lo', 'grifo'], ['ancor', 'ti', 'può', 'nel', 'mondo', 'render', 'fama', 'ch', 'el', 'vive', 'e', 'vita', 'ancor', 'aspetta', 'se', 'nnanzi', 'tempo', 'a', 'sé', 'nol', 'chiama'], ['così', 'disse', 'l', 'maestro', 'e', 'quelli', 'in', 'fretta', 'le', 'man', 'e', 'l', 'duca', 'mio', 'ond', 'ercule', 'sentì', 'già', 'grande'], ['prender', 'si', 'sentio', 'disse', 'a', 'me', 'fatti', 'qua', 'sì', 'ch', 'io', 'ti', 'prenda', 'poi', 'sì', 'ch', 'un', 'fascio', 'era', 'io'], ['qual', 'pare', 'a', 'sotto', 'l', 'un', 'nuvol', 'sovr', 'essa', 'sì', 'ched', 'ella', 'incontro', 'penda', 'tal', 'parve', 'antëo', 'a', 'me', 'che', 'stava', 'a', 'bada', 'di', 'vederlo', 'e', 'fu', 'tal', 'ora', 'avrei', 'voluto', 'ir', 'per', 'altra', 'strada'], ['ma', 'al', 'che', 'divora', 'lucifero', 'con', 'giuda', 'ci', 'sposò', 'né', 'sì', 'chinato', 'lì', 'fece', 'dimora', 'e', 'come', 'albero', 'in', 'nave', 'si', 'levò'], ['s', 'ïo', 'avessi', 'le', 'rime', 'chiocce', 'come', 'si', 'converrebbe', 'al', 'tristo', 'buco', 'sovra', 'pontan', 'tutte', 'l', 'altre', 'rocce', 'io', 'premerei', 'di', 'mio', 'concetto', 'il', 'suco', 'più', 'pienamente', 'ma', 'perch', 'io', 'l', 'abbo', 'non', 'sanza', 'tema', 'a', 'dicer', 'mi', 'conduco', 'ché', 'non', 'è', 'impresa', 'da', 'pigliare', 'discriver', 'fondo', 'l', 'universo', 'né', 'da', 'lingua', 'che', 'chiami', 'babbo'], ['ma', 'quelle', 'aiutino', 'il', 'mio', 'ch', 'aiutaro', 'anfïone', 'a', 'chiuder', 'sì', 'che', 'dal', 'fatto', 'il', 'dir', 'non', 'sia', 'diverso'], ['oh', 'sovra', 'tutte', 'mal', 'creata', 'plebe', 'che', 'onde', 'è', 'foste', 'state', 'qui', 'pecore', 'o', 'zebe', 'come', 'noi', 'fummo', 'giù', 'nel', 'pozzo', 'scuro', 'sotto', 'i', 'piè', 'del', 'gigante', 'più', 'bassi', 'e', 'io', 'mirava', 'ancora', 'a', 'l', 'alto', 'muro', 'dicere', 'udi', 'mi', 'guarda', 'come', 'passi', 'va', 'sì', 'tu', 'non', 'calchi', 'con', 'le', 'piante', 'le', 'de', 'fratei', 'miseri', 'lassi'], ['per', 'ch', 'e', 'vidimi', 'davante', 'e', 'sotto', 'i', 'piedi', 'un', 'lago', 'che', 'per', 'gelo', 'avea', 'di', 'e', 'non', 'd', 'acqua', 'sembiante'], ['non', 'fece', 'al', 'corso', 'suo', 'sì', 'grosso', 'velo', 'la', 'danoia', 'in', 'né', 'tanaï', 'là', 'sotto', 'l', 'freddo', 'cielo', 'com', 'era', 'quivi', 'che', 'se', 'vi', 'fosse', 'sù', 'caduto', 'o', 'pietrapana', 'non', 'pur', 'da', 'l', 'orlo', 'fatto', 'cricchi'], ['e', 'come', 'si', 'sta', 'la', 'muso', 'fuor', 'de', 'l', 'acqua', 'quando', 'sogna', 'di', 'spigolar', 'sovente', 'la', 'villana', 'insin', 'là', 'dove', 'appar', 'vergogna', 'eran', 'l', 'ombre', 'dolenti', 'ne', 'la', 'ghiaccia', 'mettendo', 'i', 'denti', 'in', 'nota', 'di', 'cicogna'], ['ognuna', 'in', 'giù', 'tenea', 'volta', 'la', 'faccia', 'da', 'bocca', 'il', 'freddo', 'e', 'da', 'li', 'occhi', 'il', 'cor', 'tristo', 'tra', 'lor', 'si', 'procaccia'], ['quand', 'io', 'm', 'ebbi', 'dintorno', 'visto', 'volsimi', 'a', 'piedi', 'e', 'vidi', 'due', 'sì', 'che', 'l', 'del', 'insieme', 'misto'], ['ditemi', 'voi', 'che', 'strignete', 'i', 'petti', 'diss', 'chi', 'siete'], ['e', 'quei', 'piegaro', 'i', 'colli', 'e', 'poi', 'ch', 'ebber', 'li', 'visi', 'a', 'me', 'eretti', 'li', 'lor', 'ch', 'eran', 'pria', 'pur', 'dentro', 'molli', 'gocciar', 'le', 'labbra', 'e', 'strinse', 'le', 'lagrime', 'tra', 'essi', 'e', 'riserrolli'], ['con', 'legno', 'legno', 'spranga', 'mai', 'non', 'cinse', 'così', 'ond', 'ei', 'come', 'due', 'becchi', 'cozzaro', 'ira', 'li', 'vinse'], ['e', 'un', 'ch', 'avea', 'perduti', 'ambo', 'li', 'per', 'la', 'freddura', 'pur', 'col', 'viso', 'in', 'perché', 'cotanto', 'in', 'noi', 'ti', 'specchi', 'se', 'vuoi', 'saper', 'son', 'cotesti', 'due', 'la', 'valle', 'onde', 'bisenzo', 'si', 'dichina', 'del', 'padre', 'loro', 'di', 'lor', 'fue'], ['d', 'un', 'la', 'caina', 'cercare', 'e', 'non', 'ombra', 'degna', 'gelatina', 'non', 'cui', 'fu', 'rotto', 'il', 'petto', 'e', 'l', 'ombra', 'con', 'colpo', 'per', 'la', 'man', 'd', 'artù', 'non', 'focaccia', 'non', 'questi', 'che', 'm', 'ingombra', 'col', 'capo', 'sì', 'ch', 'i', 'non', 'veggio', 'oltre', 'più', 'e', 'fu', 'nomato', 'se', 'tosco', 'se', 'ben', 'sai', 'chi', 'fu'], ['e', 'perché', 'non', 'mi', 'metti', 'più', 'sermoni', 'sappi', 'ch', 'i', 'il', 'camiscion', 'de', 'pazzi', 'e', 'aspetto', 'mi', 'scagioni'], ['poscia', 'vid', 'io', 'mille', 'visi', 'cagnazzi', 'fatti', 'per', 'freddo', 'onde', 'mi', 'vien', 'e', 'de', 'gelati', 'guazzi'], ['e', 'ch', 'andavamo', 'inver', 'lo', 'mezzo', 'al', 'quale', 'gravezza', 'si', 'rauna', 'e', 'io', 'tremava', 'ne', 'l', 'etterno', 'rezzo', 'se', 'voler', 'fu', 'o', 'destino', 'o', 'non', 'so', 'ma', 'tra', 'le', 'teste', 'forte', 'percossi', 'l', 'piè', 'nel', 'una'], ['piangendo', 'mi', 'sgridò', 'tu', 'non', 'vieni', 'a', 'crescer', 'la', 'vendetta', 'di', 'montaperti', 'perché', 'mi', 'moleste'], ['e', 'io', 'maestro', 'mio', 'or', 'qui', 'm', 'aspetta', 'sì', 'ch', 'io', 'esca', 'd', 'un', 'dubbio', 'mi', 'farai', 'quantunque', 'vorrai', 'fretta'], ['lo', 'duca', 'stette', 'e', 'io', 'dissi', 'a', 'colui', 'che', 'bestemmiava', 'duramente', 'ancora', 'qual', 'se', 'tu', 'che', 'così', 'rampogni', 'altrui'], ['or', 'tu', 'chi', 'se', 'che', 'per', 'l', 'antenora', 'rispuose', 'altrui', 'le', 'gote', 'sì', 'che', 'se', 'vivo', 'troppo', 'fora'], ['vivo', 'son', 'io', 'e', 'caro', 'esser', 'ti', 'puote', 'fu', 'mia', 'risposta', 'se', 'dimandi', 'ch', 'io', 'metta', 'il', 'tuo', 'tra', 'l', 'altre', 'note'], ['ed', 'elli', 'a', 'me', 'del', 'contrario', 'ho', 'io', 'brama'], ['lèvati', 'quinci', 'e', 'dar', 'più', 'lagna', 'ché', 'mal', 'sai', 'lusingar', 'per', 'lama'], ['allor', 'lo', 'presi', 'per', 'la', 'cuticagna', 'e', 'dissi', 'el', 'converrà', 'che', 'tu', 'ti', 'nomi', 'o', 'che', 'capel', 'qui', 'ti', 'rimagna'], ['ond', 'elli', 'a', 'me', 'perché', 'tu', 'mi', 'ti', 'dirò', 'ch', 'io', 'sia', 'né', 'mosterrolti', 'se', 'mille', 'fiate', 'in', 'sul', 'capo', 'mi', 'tomi'], ['io', 'avea', 'già', 'i', 'capelli', 'avvolti', 'e', 'tratti', 'avea', 'più', 'd', 'una', 'latrando', 'lui', 'con', 'li', 'occhi', 'giù', 'raccolti', 'un', 'altro', 'gridò', 'che', 'tu', 'bocca', 'non', 'ti', 'basta', 'sonar', 'le', 'mascelle', 'se', 'tu', 'non', 'qual', 'diavol', 'ti', 'tocca'], ['omai', 'diss', 'io', 'non', 'vo', 'la', 'tua', 'di', 'te', 'vere', 'novelle'], ['va', 'via', 'rispuose', 'e', 'ciò', 'vuoi', 'conta', 'ma', 'non', 'tacer', 'se', 'tu', 'di', 'qua', 'eschi', 'di', 'quel', 'ch', 'ebbe', 'or', 'così', 'la', 'lingua', 'pronta'], ['el', 'argento', 'de', 'franceschi', 'io', 'vidi', 'potrai', 'dir', 'duera', 'là', 'dove', 'i', 'peccatori', 'stanno', 'freschi'], ['se', 'fossi', 'domandato', 'chi', 'v', 'era', 'tu', 'hai', 'dallato', 'quel', 'di', 'beccheria', 'di', 'cui', 'segò', 'gorgiera'], ['gianni', 'de', 'soldanier', 'credo', 'che', 'sia', 'più', 'là', 'con', 'ganellone', 'e', 'tebaldello', 'ch', 'aprì', 'si', 'dormia'], ['eravam', 'partiti', 'già', 'da', 'ello', 'ch', 'io', 'vidi', 'due', 'ghiacciati', 'in', 'una', 'buca', 'sì', 'che', 'l', 'un', 'capo', 'a', 'l', 'altro', 'era', 'cappello', 'e', 'come', 'l', 'pan', 'per', 'fame', 'si', 'l', 'sovran', 'li', 'denti', 'a', 'l', 'là', 've', 'l', 'cervel', 's', 'aggiugne', 'con', 'la', 'nuca', 'non', 'altrimenti', 'tidëo', 'tempie', 'a', 'menalippo', 'per', 'quei', 'il', 'teschio', 'e', 'cose'], ['o', 'tu', 'che', 'mostri', 'per', 'sì', 'bestial', 'segno', 'odio', 'sovra', 'colui', 'che', 'tu', 'ti', 'mangi', 'dimmi', 'diss', 'io', 'per', 'tal', 'convegno', 'se', 'tu', 'a', 'ragion', 'di', 'lui', 'ti', 'piangi', 'sappiendo', 'chi', 'voi', 'siete', 'e', 'la', 'sua', 'pecca', 'nel', 'mondo', 'suso', 'ancora', 'io', 'te', 'ne', 'cangi', 'se', 'quella', 'con', 'ch', 'io', 'parlo', 'non', 'si', 'secca'], ['la', 'bocca', 'sollevò', 'dal', 'fiero', 'pasto', 'quel', 'peccator', 'forbendola', 'a', 'del', 'capo', 'ch', 'elli', 'avea', 'di', 'retro', 'guasto'], ['poi', 'cominciò', 'tu', 'vuo', 'ch', 'io', 'rinovelli', 'disperato', 'dolor', 'che', 'l', 'cor', 'mi', 'preme', 'già', 'pur', 'pensando', 'pria', 'ch', 'io', 'ne', 'favelli'], ['ma', 'se', 'le', 'mie', 'parole', 'esser', 'dien', 'seme', 'che', 'frutti', 'al', 'traditor', 'ch', 'i', 'rodo', 'e', 'lagrimar', 'insieme'], ['io', 'non', 'so', 'chi', 'tu', 'se', 'né', 'per', 'che', 'modo', 'venuto', 'se', 'qua', 'giù', 'fiorentino', 'mi', 'sembri', 'veramente', 'quand', 'io', 't', 'odo'], ['tu', 'dei', 'saper', 'ch', 'i', 'fui', 'conte', 'ugolino', 'e', 'questi', 'è', 'l', 'arcivescovo', 'ti', 'dirò', 'perché', 'i', 'son', 'tal', 'vicino'], ['che', 'per', 'l', 'effetto', 'de', 'suo', 'mai', 'pensieri', 'di', 'lui', 'io', 'fossi', 'poscia', 'morto', 'dir', 'non', 'è', 'mestieri', 'però', 'quel', 'che', 'non', 'puoi', 'inteso', 'cioè', 'come', 'la', 'morte', 'mia', 'fu', 'cruda', 'udirai', 'e', 'saprai', 's', 'e', 'm', 'ha', 'offeso'], ['pertugio', 'da', 'la', 'muda', 'la', 'qual', 'per', 'me', 'ha', 'l', 'titol', 'de', 'la', 'fame', 'e', 'che', 'conviene', 'ancor', 'ch', 'altrui', 'si', 'chiuda', 'm', 'avea', 'mostrato', 'per', 'lo', 'suo', 'forame', 'già', 'quand', 'io', 'mal', 'sonno', 'che', 'del', 'futuro', 'mi', 'squarciò', 'l', 'velame'], ['questi', 'pareva', 'a', 'me', 'maestro', 'e', 'donno', 'lupo', 'e', 'lupicini', 'al', 'monte', 'per', 'che', 'veder', 'lucca', 'non', 'ponno'], ['con', 'cagne', 'magre', 'e', 'conte', 'gualandi', 'con', 'sismondi', 'e', 'con', 'lanfranchi', 's', 'avea', 'messi', 'dinanzi', 'da', 'la', 'fronte'], ['in', 'picciol', 'corso', 'mi', 'parieno', 'lo', 'padre', 'e', 'e', 'con', 'mi', 'parea', 'lor', 'veder', 'fender'], ['quando', 'fui', 'la', 'dimane', 'pianger', 'senti', 'fra', 'l', 'sonno', 'i', 'figliuoli', 'ch', 'eran', 'con', 'meco', 'e', 'dimandar', 'del', 'pane'], ['ben', 'se', 'crudel', 'se', 'tu', 'non', 'ti', 'duoli', 'pensando', 'ciò', 'che', 'l', 'mio', 'cor', 's', 'annunziava', 'e', 'se', 'non', 'piangi', 'di', 'che', 'pianger', 'suoli', 'già', 'eran', 'desti', 'e', 'l', 'ora', 's', 'che', 'l', 'cibo', 'ne', 'solëa', 'e', 'per', 'suo', 'sogno', 'ciascun', 'dubitava', 'e', 'io', 'senti', 'chiavar', 'l', 'uscio', 'di', 'sotto', 'a', 'l', 'orribile', 'torre', 'ond', 'io', 'viso', 'a', 'mie', 'figliuoi', 'motto'], ['io', 'non', 'piangëa', 'sì', 'dentro', 'piangevan', 'e', 'anselmuccio', 'mio', 'disse', 'tu', 'sì', 'padre', 'che', 'hai'], ['perciò', 'non', 'lagrimai', 'né', 'io', 'quel', 'giorno', 'né', 'la', 'notte', 'appresso', 'infin', 'che', 'l', 'altro', 'sol', 'nel', 'mondo', 'uscìo'], ['come', 'un', 'poco', 'si', 'fu', 'messo', 'nel', 'doloroso', 'carcere', 'e', 'io', 'scorsi', 'quattro', 'visi', 'il', 'mio', 'aspetto', 'stesso', 'ambo', 'le', 'man', 'per', 'lo', 'dolor', 'mi', 'morsi', 'ed', 'ei', 'ch', 'io', 'l', 'fessi', 'voglia', 'di', 'manicar', 'di', 'sùbito', 'levorsi', 'e', 'disser', 'assai', 'ci', 'fia', 'tu', 'di', 'noi', 'tu', 'ne', 'vestisti', 'queste', 'misere', 'carni', 'e', 'tu', 'le', 'spoglia'], ['queta', 'mi', 'allor', 'per', 'non', 'farli', 'più', 'tristi', 'lo', 'l', 'tutti', 'muti', 'ahi', 'dura', 'terra', 'perché', 'non', 't', 'apristi', 'poscia', 'che', 'fummo', 'al', 'quarto', 'dì', 'venuti', 'gaddo', 'mi', 'si', 'gittò', 'a', 'piedi', 'dicendo', 'padre', 'mio', 'ché', 'aiuti'], ['quivi', 'morì', 'e', 'come', 'tu', 'mi', 'vedi', 'vid', 'li', 'tre', 'ad', 'uno', 'ad', 'uno', 'tra', 'l', 'quinto', 'l', 'sesto', 'mi', 'diedi', 'già', 'brancolar', 'sovra', 'ciascuno', 'e', 'chiamai', 'poi', 'che', 'morti'], ['più', 'che', 'l', 'dolor', 'poté', 'l', 'digiuno'], ['ciò', 'con', 'torti', 'l', 'teschio', 'misero', 'co', 'denti', 'che', 'furo', 'a', 'l', 'osso', 'come', 'd', 'un', 'can', 'forti'], ['pisa', 'vituperio', 'de', 'le', 'genti', 'del', 'bel', 'paese', 'là', 'dove', 'l', 'sì', 'suona', 'poi', 'che', 'a', 'te', 'punir', 'son', 'lenti', 'muovasi', 'la', 'capraia', 'e', 'la', 'gorgona', 'e', 'faccian', 'siepe', 'ad', 'arno', 'in', 'su', 'la', 'sì', 'ch', 'elli', 'annieghi', 'in', 'te', 'ogne', 'persona', 'che', 'se', 'l', 'conte', 'ugolino', 'aveva', 'voce', 'd', 'aver', 'tradita', 'de', 'le', 'castella', 'non', 'tu', 'i', 'figliuoi', 'porre', 'a', 'tal', 'croce'], ['innocenti', 'facea', 'l', 'età', 'novella', 'novella', 'tebe', 'l', 'brigata', 'e', 'li', 'altri', 'due', 'che', 'l', 'canto', 'suso', 'appella'], ['noi', 'passammo', 'oltre', 'là', 'la', 'gelata', 'un', 'altra', 'gente', 'fascia', 'non', 'giù', 'ma', 'tutta'], ['lo', 'pianto', 'lì', 'pianger', 'non', 'lascia', 'e', 'l', 'duol', 'che', 'truova', 'li', 'si', 'volge', 'in', 'entro', 'a', 'far', 'crescer', 'l', 'ambascia', 'ché', 'le', 'lagrime', 'prime', 'fanno', 'e', 'sì', 'come', 'visiere', 'di', 'cristallo', 'rïempion', 'sotto', 'l', 'ciglio', 'tutto', 'il', 'coppo'], ['e', 'avvegna', 'che', 'sì', 'callo', 'per', 'la', 'freddura', 'ciascun', 'sentimento', 'cessato', 'avesse', 'del', 'mio', 'viso', 'stallo', 'già', 'mi', 'parea', 'sentire', 'alquanto', 'vento', 'per', 'ch', 'io', 'maestro', 'mio', 'questo', 'chi', 'move', 'non', 'è', 'qua', 'giù', 'ogne', 'vapore', 'spento'], ['ond', 'elli', 'a', 'me', 'avaccio', 'sarai', 'dove', 'di', 'ciò', 'ti', 'farà', 'l', 'occhio', 'veggendo', 'la', 'cagion', 'che', 'l', 'fiato', 'piove'], ['e', 'un', 'de', 'de', 'la', 'fredda', 'crosta', 'gridò', 'a', 'noi', 'o', 'anime', 'crudeli', 'che', 'data', 'v', 'è', 'l', 'ultima', 'posta', 'levatemi', 'dal', 'duri', 'veli', 'sì', 'ch', 'ïo', 'sfoghi', 'l', 'duol', 'che', 'm', 'impregna', 'che', 'l', 'pianto', 'si', 'raggeli'], ['per', 'a', 'lui', 'se', 'vuo', 'ch', 'i', 'ti', 'sovvegna', 'chi', 'se', 'e', 's', 'io', 'non', 'ti', 'al', 'fondo', 'de', 'la', 'ghiaccia', 'ir', 'mi', 'convegna'], ['adunque', 'i', 'son', 'frate', 'alberigo', 'i', 'son', 'quel', 'da', 'le', 'frutta', 'del', 'mal', 'orto', 'che', 'qui', 'dattero', 'per', 'figo'], ['oh', 'diss', 'io', 'or', 'se', 'tu', 'ancor', 'morto'], ['ed', 'elli', 'a', 'me', 'mio', 'corpo', 'stea', 'nel', 'mondo', 'sù', 'nulla', 'scïenza', 'porto'], ['cotal', 'vantaggio', 'ha', 'questa', 'tolomea', 'che', 'spesse', 'volte', 'l', 'anima', 'ci', 'cade', 'innanzi', 'ch', 'atropòs', 'mossa', 'le', 'dea'], ['e', 'perché', 'tu', 'più', 'volentier', 'mi', 'rade', 'le', 'nvetrïate', 'lagrime', 'dal', 'volto', 'sappie', 'che', 'tosto', 'che', 'l', 'anima', 'trade', 'fec', 'ïo', 'il', 'corpo', 'suo', 'l', 'è', 'tolto', 'da', 'un', 'demonio', 'che', 'poscia', 'mentre', 'che', 'l', 'tempo', 'suo', 'tutto', 'sia', 'vòlto'], ['ella', 'ruina', 'in', 'sì', 'fatta', 'cisterna', 'e', 'forse', 'pare', 'corpo', 'suso', 'de', 'l', 'ombra', 'che', 'di', 'qua', 'dietro', 'mi', 'verna'], ['tu', 'l', 'se', 'tu', 'vien', 'giuso', 'elli', 'è', 'ser', 'doria', 'e', 'anni', 'poscia', 'passati', 'ch', 'el', 'fu', 'racchiuso'], ['credo', 'diss', 'io', 'lui', 'che', 'tu', 'm', 'ché', 'branca', 'doria', 'non', 'morì', 'unquanche', 'e', 'mangia', 'e', 'bee', 'e', 'dorme', 'e', 'veste', 'panni'], ['nel', 'fosso', 'sù', 'diss', 'el', 'de', 'malebranche', 'là', 'dove', 'bolle', 'la', 'tenace', 'pece', 'non', 'era', 'ancora', 'giunto', 'michel', 'zanche', 'che', 'questi', 'lasciò', 'il', 'diavolo', 'in', 'sua', 'vece', 'nel', 'corpo', 'suo', 'ed', 'un', 'suo', 'prossimano', 'che', 'l', 'tradimento', 'insieme', 'con', 'lui', 'fece'], ['ma', 'distendi', 'oggimai', 'in', 'qua', 'aprimi', 'li', 'occhi'], ['e', 'io', 'gliel', 'apersi', 'e', 'cortesia', 'fu', 'lui', 'esser'], ['ahi', 'genovesi', 'uomini', 'diversi', 'd', 'costume', 'e', 'pien', 'd', 'ogne', 'magagna', 'perché', 'non', 'siete', 'voi', 'del', 'mondo', 'spersi', 'ché', 'col', 'peggiore', 'spirto', 'di', 'romagna', 'trovai', 'di', 'voi', 'un', 'tal', 'che', 'per', 'sua', 'in', 'anima', 'in', 'cocito', 'già', 'si', 'bagna', 'e', 'in', 'corpo', 'par', 'vivo', 'ancor', 'di', 'sopra'], ['vexilla', 'inferni', 'verso', 'di', 'noi', 'però', 'dinanzi', 'mira', 'disse', 'l', 'maestro', 'mio', 'se', 'tu', 'l', 'discerni'], ['come', 'grossa', 'nebbia', 'spira', 'l', 'emisperio', 'nostro', 'annotta', 'di', 'lungi', 'un', 'molin', 'che', 'l', 'vento', 'gira', 'veder', 'mi', 'parve', 'un', 'tal', 'dificio', 'allotta', 'poi', 'per', 'lo', 'vento', 'mi', 'ristrinsi', 'retro', 'al', 'duca', 'mio', 'altra'], ['già', 'era', 'e', 'con', 'paura', 'metro', 'là', 'dove', 'l', 'ombre', 'tutte', 'eran', 'coperte', 'e', 'come', 'vetro'], ['altre', 'sono', 'stanno', 'erte', 'quella', 'col', 'capo', 'e', 'quella', 'con', 'le', 'piante', 'arco', 'il', 'volto', 'a', 'piè', 'rinverte'], ['quando', 'noi', 'fummo', 'fatti', 'tanto', 'ch', 'al', 'mio', 'maestro', 'piacque', 'di', 'mostrarmi', 'la', 'creatura', 'ch', 'ebbe', 'd', 'innanzi', 'mi', 'si', 'e', 'fé', 'restarmi', 'ecco', 'dite', 'dicendo', 'ed', 'ecco', 'il', 'loco', 'ove', 'convien', 'che', 'di', 'fortezza', 't', 'armi'], ['com', 'io', 'divenni', 'allor', 'gelato', 'e', 'fioco', 'lettor', 'ch', 'i', 'non', 'lo', 'ch', 'ogne', 'parlar', 'sarebbe', 'poco'], ['io', 'non', 'mori', 'e', 'non', 'pensa', 'oggimai', 'per', 'te', 's', 'hai', 'fior', 'd', 'ingegno', 'd', 'uno', 'privo'], ['lo', 'mperador', 'del', 'doloroso', 'regno', 'da', 'mezzo', 'petto', 'uscia', 'fuor', 'de', 'la', 'e', 'più', 'con', 'un', 'io', 'mi', 'che', 'i', 'giganti', 'non', 'fan', 'con', 'le', 'sue', 'braccia', 'vedi', 'quant', 'esser', 'dee', 'quel', 'tutto', 'ch', 'a', 'così', 'fatta', 'parte', 'si', 'confaccia'], ['s', 'el', 'fu', 'bel', 'com', 'elli', 'è', 'ora', 'brutto', 'e', 'contra', 'l', 'suo', 'alzò', 'le', 'ciglia', 'ben', 'dee', 'da', 'lui', 'procedere', 'ogne', 'lutto'], ['oh', 'quanto', 'a', 'me', 'gran', 'maraviglia', 'io', 'vidi', 'tre', 'facce', 'a', 'la', 'sua', 'testa', 'l', 'una', 'dinanzi', 'e', 'quella', 'era', 'vermiglia', 'l', 'altr', 'eran', 'due', 'che', 's', 'aggiugnieno', 'a', 'l', 'e', 'sé', 'giugnieno', 'al', 'loco', 'de', 'la', 'cresta', 'e', 'la', 'destra', 'parea', 'tra', 'bianca', 'e', 'gialla', 'la', 'sinistra', 'a', 'vedere', 'era', 'tal', 'di', 'là', 'onde', 'l', 'nilo', 's', 'avvalla'], ['sotto', 'ciascuna', 'uscivan', 'due', 'ali', 'quanto', 'si', 'convenia', 'a', 'tanto', 'uccello', 'vele', 'mai', 'cotali'], ['non', 'avean', 'penne', 'ma', 'di', 'vispistrello', 'era', 'lor', 'modo', 'e', 'che', 'tre', 'da', 'ello', 's'], ['con', 'sei', 'occhi', 'piangëa', 'e', 'per', 'tre', 'menti', 'e', 'sanguinosa', 'bava'], ['da', 'ogne', 'bocca', 'dirompea', 'co', 'denti', 'un', 'peccatore', 'a', 'guisa', 'di', 'maciulla', 'sì', 'che', 'facea', 'così', 'dolenti'], ['a', 'quel', 'dinanzi', 'il', 'mordere', 'verso', 'l', 'la', 'de', 'tutta', 'brulla'], ['quell', 'anima', 'là', 'sù', 'c', 'ha', 'maggior', 'pena', 'disse', 'l', 'maestro', 'è', 'giuda', 'scarïotto', 'che', 'l', 'capo', 'ha', 'dentro', 'e', 'fuor', 'le', 'gambe', 'mena'], ['de', 'li', 'altri', 'due', 'c', 'hanno', 'il', 'capo', 'di', 'sotto', 'quel', 'dal', 'nero', 'ceffo', 'è', 'bruto', 'vedi', 'come', 'si', 'e', 'non', 'motto', 'e', 'l', 'altro', 'è', 'cassio', 'che', 'par', 'sì', 'membruto'], ['la', 'notte', 'risurge', 'e', 'oramai', 'è', 'da', 'partir', 'ché', 'tutto', 'avem', 'veduto'], ['com', 'a', 'lui', 'piacque', 'il', 'collo', 'li', 'avvinghiai', 'ed', 'el', 'prese', 'di', 'tempo', 'e', 'poste', 'e', 'quando', 'l', 'ali', 'fuoro', 'aperte', 'assai', 'appigliò', 'sé', 'a', 'le', 'coste', 'di', 'vello', 'in', 'vello', 'giù', 'discese', 'poscia', 'tra', 'l', 'folto', 'pelo', 'e', 'le', 'gelate', 'croste'], ['quando', 'là', 'dove', 'la', 'coscia', 'si', 'volge', 'a', 'punto', 'in', 'sul', 'grosso', 'de', 'l', 'anche', 'lo', 'duca', 'con', 'fatica', 'e', 'con', 'angoscia', 'volse', 'la', 'testa', 'ov', 'elli', 'avea', 'le', 'zanche', 'e', 'che', 'sì', 'che', 'n', 'inferno', 'i', 'credea', 'tornar', 'anche'], ['attienti', 'ben', 'ché', 'per', 'cotali', 'scale', 'l', 'maestro', 'ansando', 'com', 'uom', 'lasso', 'conviensi', 'dipartir', 'da', 'male'], ['poi', 'uscì', 'fuor', 'per', 'lo', 'fóro', 'd', 'un', 'sasso', 'me', 'in', 'su', 'l', 'a', 'sedere', 'appresso', 'porse', 'a', 'me', 'passo'], ['io', 'li', 'occhi', 'e', 'credetti', 'vedere', 'lucifero', 'com', 'io', 'l', 'avea', 'e', 'vidili', 'le', 'gambe', 'in', 'sù', 'tenere', 'e', 's', 'io', 'divenni', 'allora', 'travagliato', 'la', 'gente', 'grossa', 'il', 'pensi', 'che', 'non', 'vede', 'qual', 'è', 'quel', 'passato'], ['sù', 'maestro', 'piede', 'la', 'via', 'è', 'lunga', 'e', 'l', 'cammino', 'è', 'malvagio', 'e', 'già', 'il', 'sole', 'terza', 'riede'], ['non', 'era', 'camminata', 'di', 'palagio', 'là', 'v', 'eravam', 'ma', 'natural', 'burella', 'ch', 'avea', 'mal', 'di', 'lume', 'disagio'], ['prima', 'ch', 'io', 'de', 'l', 'mi', 'maestro', 'mio', 'diss', 'io', 'quando', 'fui', 'dritto', 'a', 'trarmi', 'd', 'erro', 'un', 'poco', 'mi', 'favella', 'ov', 'è', 'la', 'ghiaccia', 'e', 'questi', 'com', 'è', 'fitto', 'sottosopra', 'e', 'come', 'in', 'sì', 'poc', 'ora', 'da', 'sera', 'a', 'mane', 'ha', 'fatto', 'il', 'sol', 'tragitto'], ['ed', 'elli', 'a', 'me', 'tu', 'imagini', 'ancora', 'd', 'di', 'là', 'dal', 'centro', 'ov', 'io', 'mi', 'presi', 'al', 'pel', 'vermo', 'reo', 'che', 'l', 'mondo', 'fóra'], ['di', 'là', 'fosti', 'quant', 'io', 'scesi', 'quand', 'io', 'mi', 'volsi', 'tu', 'passasti', 'l', 'punto', 'al', 'qual', 'si', 'traggon', 'd', 'parte', 'i', 'pesi'], ['e', 'se', 'or', 'emisperio', 'giunto', 'ch', 'è', 'contraposto', 'a', 'che', 'la', 'gran', 'secca', 'coverchia', 'e', 'sotto', 'l', 'cui', 'colmo', 'consunto', 'fu', 'l', 'uom', 'e', 'visse', 'sanza', 'pecca', 'tu', 'haï', 'i', 'piedi', 'in', 'su', 'picciola', 'spera', 'faccia', 'la', 'giudecca'], ['qui', 'è', 'da', 'man', 'quando', 'di', 'là', 'è', 'sera', 'e', 'questi', 'che', 'ne', 'fé', 'col', 'pelo', 'fitto', 'è', 'ancora', 'sì', 'come', 'prim', 'era'], ['da', 'questa', 'parte', 'cadde', 'cielo', 'terra', 'che', 'pria', 'qua', 'si', 'sporse', 'per', 'paura', 'di', 'lui', 'fé', 'del', 'mar', 'velo', 'e', 'a', 'l', 'emisperio', 'nostro', 'e', 'forse', 'per', 'fuggir', 'lui', 'loco', 'ch', 'appar', 'di', 'qua', 'e', 'sù', 'ricorse'], ['luogo', 'è', 'là', 'giù', 'da', 'belzebù', 'remoto', 'tanto', 'quanto', 'la', 'tomba', 'si', 'distende', 'che', 'non', 'per', 'vista', 'ma', 'per', 'noto', 'd', 'un', 'ruscelletto', 'che', 'quivi', 'per', 'la', 'buca', 'd', 'un', 'sasso', 'ch', 'elli', 'ha', 'roso', 'col', 'corso', 'ch', 'elli', 'avvolge', 'e', 'poco', 'pende'], ['lo', 'duca', 'e', 'io', 'per', 'quel', 'cammino', 'ascoso', 'intrammo', 'a', 'ritornar', 'nel', 'chiaro', 'sanza', 'cura', 'alcun', 'riposo', 'salimmo', 'sù', 'el', 'primo', 'e', 'io', 'tanto', 'ch', 'i', 'vidi', 'de', 'che', 'porta', 'l', 'ciel', 'per', 'un', 'pertugio', 'tondo'], ['e', 'quindi', 'uscimmo', 'a', 'riveder', 'le', 'stelle']]\n"
     ]
    }
   ],
   "source": [
    "print(inferno_corrupted_nocorr_tokenized)"
   ]
  },
  {
   "cell_type": "code",
   "execution_count": 38,
   "metadata": {
    "executionInfo": {
     "elapsed": 12,
     "status": "ok",
     "timestamp": 1640217374023,
     "user": {
      "displayName": "Francesco Salvi",
      "photoUrl": "https://lh3.googleusercontent.com/a/default-user=s64",
      "userId": "17039456355099176000"
     },
     "user_tz": -60
    },
    "id": "9qzkV9BizZQi"
   },
   "outputs": [],
   "source": [
    "# Word2Vec parameters\n",
    "min_count = 1                # minimum number of  word occurrencies\n",
    "vector_size = 100            # embeddings size\n",
    "window = 5                   # context window size\n",
    "alpha = 0.5                  # initial learning rate\n",
    "min_alpha = 0.5              # limit learning rate\n",
    "epochs = 20                  # epochs number\n",
    "negative = 20                # number of draws for negative sampling"
   ]
  },
  {
   "cell_type": "code",
   "execution_count": 39,
   "metadata": {
    "colab": {
     "base_uri": "https://localhost:8080/"
    },
    "executionInfo": {
     "elapsed": 431,
     "status": "ok",
     "timestamp": 1640217374442,
     "user": {
      "displayName": "Francesco Salvi",
      "photoUrl": "https://lh3.googleusercontent.com/a/default-user=s64",
      "userId": "17039456355099176000"
     },
     "user_tz": -60
    },
    "id": "VwH-PPjszZQj",
    "outputId": "b4a8a176-a1aa-407e-8572-2773070c1bf0"
   },
   "outputs": [
    {
     "data": {
      "text/plain": [
       "(439306, 586480)"
      ]
     },
     "execution_count": 39,
     "metadata": {},
     "output_type": "execute_result"
    }
   ],
   "source": [
    "embeddings_W2V_CBOW = Word2Vec(min_count=min_count, vector_size=vector_size, \n",
    "                               window=window, sg=0, negative=negative, alpha=alpha,\n",
    "                               min_alpha=min_alpha, epochs=epochs, seed=42)\n",
    "embeddings_W2V_CBOW.build_vocab(inferno_corrupted_nocorr_tokenized)\n",
    "embeddings_W2V_CBOW.train(inferno_corrupted_nocorr_tokenized, total_examples=embeddings_W2V_CBOW.corpus_count, \n",
    "                          epochs=embeddings_W2V_CBOW.epochs)"
   ]
  },
  {
   "cell_type": "code",
   "execution_count": 40,
   "metadata": {
    "colab": {
     "base_uri": "https://localhost:8080/"
    },
    "executionInfo": {
     "elapsed": 2299,
     "status": "ok",
     "timestamp": 1640217376739,
     "user": {
      "displayName": "Francesco Salvi",
      "photoUrl": "https://lh3.googleusercontent.com/a/default-user=s64",
      "userId": "17039456355099176000"
     },
     "user_tz": -60
    },
    "id": "X-xPrZvRzZQj",
    "outputId": "6246ad79-3a6c-4082-fb2d-bb8dd2f53112"
   },
   "outputs": [
    {
     "data": {
      "text/plain": [
       "(439673, 586480)"
      ]
     },
     "execution_count": 40,
     "metadata": {},
     "output_type": "execute_result"
    }
   ],
   "source": [
    "embeddings_W2V_SkipGram = Word2Vec(min_count=min_count, vector_size=vector_size,\n",
    "                                   window=window, sg=1, negative=negative, alpha=alpha,\n",
    "                                   min_alpha=min_alpha, epochs=epochs, seed=42)\n",
    "embeddings_W2V_SkipGram.build_vocab(inferno_corrupted_nocorr_tokenized)\n",
    "embeddings_W2V_SkipGram.train(inferno_corrupted_nocorr_tokenized, total_examples=embeddings_W2V_SkipGram.corpus_count, \n",
    "                              epochs=embeddings_W2V_SkipGram.epochs)"
   ]
  },
  {
   "cell_type": "code",
   "execution_count": 41,
   "metadata": {
    "executionInfo": {
     "elapsed": 8,
     "status": "ok",
     "timestamp": 1640217376740,
     "user": {
      "displayName": "Francesco Salvi",
      "photoUrl": "https://lh3.googleusercontent.com/a/default-user=s64",
      "userId": "17039456355099176000"
     },
     "user_tz": -60
    },
    "id": "MXM1FcgTzZQk"
   },
   "outputs": [],
   "source": [
    "# FastText parameters\n",
    "min_count = 1                # minimum number of  word occurrencies\n",
    "vector_size = 100            # embeddings size\n",
    "window = 5                   # context window size\n",
    "alpha = 0.05                 # initial learning rate\n",
    "min_alpha = 0.0001           # limit learning rate\n",
    "epochs = 20                  # epochs number\n",
    "negative = 20                # number of draws for negative sampling\n",
    "min_n = 3                    # min length of char ngram\n",
    "max_n = 6                    # max length of char ngram"
   ]
  },
  {
   "cell_type": "code",
   "execution_count": 42,
   "metadata": {
    "colab": {
     "base_uri": "https://localhost:8080/"
    },
    "executionInfo": {
     "elapsed": 3687,
     "status": "ok",
     "timestamp": 1640217380420,
     "user": {
      "displayName": "Francesco Salvi",
      "photoUrl": "https://lh3.googleusercontent.com/a/default-user=s64",
      "userId": "17039456355099176000"
     },
     "user_tz": -60
    },
    "id": "-X5iCZnxzZQk",
    "outputId": "5a756686-f000-43d0-a170-a593ea737a28"
   },
   "outputs": [
    {
     "data": {
      "text/plain": [
       "(439714, 586480)"
      ]
     },
     "execution_count": 42,
     "metadata": {},
     "output_type": "execute_result"
    }
   ],
   "source": [
    "embeddings_FT_CBOW = FastText(min_count=min_count, vector_size=vector_size,\n",
    "                              window=window, sg=0, negative=negative, alpha=alpha,\n",
    "                              min_alpha=min_alpha, epochs=epochs,\n",
    "                              min_n=min_n, max_n=max_n, seed=42)\n",
    "embeddings_FT_CBOW.build_vocab(inferno_corrupted_nocorr_tokenized)\n",
    "embeddings_FT_CBOW.train(inferno_corrupted_nocorr_tokenized, total_examples=embeddings_FT_CBOW.corpus_count, \n",
    "                         epochs=embeddings_FT_CBOW.epochs)"
   ]
  },
  {
   "cell_type": "code",
   "execution_count": 43,
   "metadata": {
    "colab": {
     "base_uri": "https://localhost:8080/"
    },
    "executionInfo": {
     "elapsed": 6920,
     "status": "ok",
     "timestamp": 1640217387335,
     "user": {
      "displayName": "Francesco Salvi",
      "photoUrl": "https://lh3.googleusercontent.com/a/default-user=s64",
      "userId": "17039456355099176000"
     },
     "user_tz": -60
    },
    "id": "9_bcp-o0zZQl",
    "outputId": "94fff908-62f6-4b25-db80-1367d1e3a4d7"
   },
   "outputs": [
    {
     "data": {
      "text/plain": [
       "(439741, 586480)"
      ]
     },
     "execution_count": 43,
     "metadata": {},
     "output_type": "execute_result"
    }
   ],
   "source": [
    "embeddings_FT_SkipGram = FastText(min_count=min_count, vector_size=vector_size,\n",
    "                                  window=window, sg=1, negative=negative, alpha=alpha,\n",
    "                                  min_alpha=min_alpha, epochs=epochs,\n",
    "                                  min_n=min_n, max_n=max_n, seed=42)\n",
    "embeddings_FT_SkipGram.build_vocab(inferno_corrupted_nocorr_tokenized)\n",
    "embeddings_FT_SkipGram.train(inferno_corrupted_nocorr_tokenized, total_examples=embeddings_FT_SkipGram.corpus_count, \n",
    "                             epochs=embeddings_FT_SkipGram.epochs)"
   ]
  },
  {
   "cell_type": "markdown",
   "metadata": {
    "id": "xnMmKbFIzZQl"
   },
   "source": [
    "## Nearest neighbors"
   ]
  },
  {
   "cell_type": "markdown",
   "metadata": {
    "id": "oHuNeyZmzZQl"
   },
   "source": [
    "For a first intuitive evaluation of embeddings, we will compare how they perform when asking for the nearest neighbors of 10 words with middle frequency, randomly selected."
   ]
  },
  {
   "cell_type": "code",
   "execution_count": 44,
   "metadata": {
    "executionInfo": {
     "elapsed": 18,
     "status": "ok",
     "timestamp": 1640217387337,
     "user": {
      "displayName": "Francesco Salvi",
      "photoUrl": "https://lh3.googleusercontent.com/a/default-user=s64",
      "userId": "17039456355099176000"
     },
     "user_tz": -60
    },
    "id": "rffBokeMzZQm"
   },
   "outputs": [],
   "source": [
    "words_flatten = [word for sentence in inferno_corrupted_nocorr_tokenized for word in sentence]"
   ]
  },
  {
   "cell_type": "code",
   "execution_count": 45,
   "metadata": {
    "colab": {
     "base_uri": "https://localhost:8080/"
    },
    "executionInfo": {
     "elapsed": 17,
     "status": "ok",
     "timestamp": 1640217387337,
     "user": {
      "displayName": "Francesco Salvi",
      "photoUrl": "https://lh3.googleusercontent.com/a/default-user=s64",
      "userId": "17039456355099176000"
     },
     "user_tz": -60
    },
    "id": "5fNYRIcnzZQm",
    "outputId": "da2a0b92-545d-4199-809c-1e4fae791019"
   },
   "outputs": [
    {
     "data": {
      "text/plain": [
       "[('abbaglia', 1),\n",
       " ('abbagliato', 1),\n",
       " ('abbaia', 1),\n",
       " ('abbandonai', 1),\n",
       " ('abbandono', 1),\n",
       " ('abbandonò', 1),\n",
       " ('abbarbicata', 1),\n",
       " ('abbatte', 1),\n",
       " ('abbi', 1),\n",
       " ('abbica', 1)]"
      ]
     },
     "execution_count": 45,
     "metadata": {},
     "output_type": "execute_result"
    }
   ],
   "source": [
    "# Create Bag of Words\n",
    "dic = Dictionary([words_flatten])\n",
    "bow = dic.doc2bow(words_flatten)\n",
    "\n",
    "# Map word id to word\n",
    "bow = list(map(lambda x: (dic[x[0]], x[1]), bow))\n",
    "\n",
    "# Sort bow\n",
    "bow = sorted(bow, key=lambda x: x[1])\n",
    "\n",
    "bow[:10]"
   ]
  },
  {
   "cell_type": "code",
   "execution_count": 46,
   "metadata": {
    "colab": {
     "base_uri": "https://localhost:8080/",
     "height": 283
    },
    "executionInfo": {
     "elapsed": 915,
     "status": "ok",
     "timestamp": 1640217388237,
     "user": {
      "displayName": "Francesco Salvi",
      "photoUrl": "https://lh3.googleusercontent.com/a/default-user=s64",
      "userId": "17039456355099176000"
     },
     "user_tz": -60
    },
    "id": "s524BHGpzZQm",
    "outputId": "1452b709-67da-4312-9616-4ebfafa88280"
   },
   "outputs": [
    {
     "data": {
      "image/png": "[encoded data removed]",
      "text/plain": [
       "<Figure size 432x288 with 1 Axes>"
      ]
     },
     "metadata": {
      "needs_background": "light"
     },
     "output_type": "display_data"
    }
   ],
   "source": [
    "# Extract word frequencies and plot distribution\n",
    "word_frequency = np.array(list(zip(*bow))[1])\n",
    "x, y = np.unique(word_frequency, return_counts=True)\n",
    "plt.loglog(x, y)\n",
    "plt.xlabel('Word frequency')\n",
    "plt.ylabel('Occurrences');"
   ]
  },
  {
   "cell_type": "markdown",
   "metadata": {
    "id": "jNDupJJrzZQn"
   },
   "source": [
    "As the plot shows, the word frequency distribution follows a power law, with the great majority of words that have very low frequencies, less than 5. This trend is a very common pattern in linguistic analysis and is a property of every language, Voynich included.\n",
    "\n",
    "We will thus randomly sample 10 words with frequency between 5 and 8. Note that this, despite not having chosen a high frequency, corresponds already to sampling between the roughtly the 88th and the 93rd percentile of the sorted bow matrix."
   ]
  },
  {
   "cell_type": "code",
   "execution_count": 47,
   "metadata": {
    "colab": {
     "base_uri": "https://localhost:8080/"
    },
    "executionInfo": {
     "elapsed": 30,
     "status": "ok",
     "timestamp": 1640217388238,
     "user": {
      "displayName": "Francesco Salvi",
      "photoUrl": "https://lh3.googleusercontent.com/a/default-user=s64",
      "userId": "17039456355099176000"
     },
     "user_tz": -60
    },
    "id": "7NWzI4qvzZQn",
    "outputId": "c2cd82c6-9c3f-466d-f341-c4b6ef592e81"
   },
   "outputs": [
    {
     "data": {
      "text/plain": [
       "array(['odo', 'aver', 'pensa', 'sul', 'sùbito', 'dolenti', 'vedere',\n",
       "       'ebbi', 'piano', 'ten'], dtype='<U10')"
      ]
     },
     "execution_count": 47,
     "metadata": {},
     "output_type": "execute_result"
    }
   ],
   "source": [
    "words_list = list(filter(lambda x: 5 <= x[1] <= 8, bow))\n",
    "words_list = np.array(list(map(lambda x: x[0], words_list)))\n",
    "\n",
    "np.random.seed(30)\n",
    "words_sample = np.random.choice(words_list, 10, replace=False)\n",
    "words_sample"
   ]
  },
  {
   "cell_type": "markdown",
   "metadata": {
    "id": "pxGwkIg0zZQn"
   },
   "source": [
    "Also, we will add to this list three iconic words in the Inferno: *amor* (love), *selva* (forest), *stelle* (stars), aswell as two random words with frequency 1: *ciocca* (strand) and *battesmo* (baptism)."
   ]
  },
  {
   "cell_type": "code",
   "execution_count": 48,
   "metadata": {
    "colab": {
     "base_uri": "https://localhost:8080/"
    },
    "executionInfo": {
     "elapsed": 28,
     "status": "ok",
     "timestamp": 1640217388238,
     "user": {
      "displayName": "Francesco Salvi",
      "photoUrl": "https://lh3.googleusercontent.com/a/default-user=s64",
      "userId": "17039456355099176000"
     },
     "user_tz": -60
    },
    "id": "7_ufhby2zZQo",
    "outputId": "e908b751-4187-4e10-f4a4-704fcc1baed7"
   },
   "outputs": [
    {
     "data": {
      "text/plain": [
       "array(['odo', 'aver', 'pensa', 'sul', 'sùbito', 'dolenti', 'vedere',\n",
       "       'ebbi', 'piano', 'ten', 'amor', 'selva', 'stelle', 'occhi',\n",
       "       'cielo'], dtype='<U10')"
      ]
     },
     "execution_count": 48,
     "metadata": {},
     "output_type": "execute_result"
    }
   ],
   "source": [
    "words_sample = np.concatenate((words_sample, np.array(['amor', 'selva', 'stelle', 'occhi', 'cielo'])))\n",
    "words_sample"
   ]
  },
  {
   "cell_type": "code",
   "execution_count": 49,
   "metadata": {
    "colab": {
     "base_uri": "https://localhost:8080/"
    },
    "executionInfo": {
     "elapsed": 25,
     "status": "ok",
     "timestamp": 1640217388238,
     "user": {
      "displayName": "Francesco Salvi",
      "photoUrl": "https://lh3.googleusercontent.com/a/default-user=s64",
      "userId": "17039456355099176000"
     },
     "user_tz": -60
    },
    "id": "TCYtVOyuzZQo",
    "outputId": "9185439b-8133-4aaa-ca55-473aa555cb1b"
   },
   "outputs": [
    {
     "name": "stdout",
     "output_type": "stream",
     "text": [
      "Amor: 10\n",
      "Selva: 11\n",
      "Stelle: 5\n",
      "Occhi: 37\n",
      "Cielo: 10\n"
     ]
    }
   ],
   "source": [
    "# Check the frequency of the mentioned words\n",
    "dic_words = {x[0]: x[1] for x in bow}\n",
    "print('Amor: {}'.format(dic_words['amor']),\n",
    "      'Selva: {}'.format(dic_words['selva']),\n",
    "      'Stelle: {}'.format(dic_words['stelle']),\n",
    "      'Occhi: {}'.format(dic_words['occhi']),\n",
    "      'Cielo: {}'.format(dic_words['cielo']), sep='\\n')"
   ]
  },
  {
   "cell_type": "code",
   "execution_count": 50,
   "metadata": {
    "colab": {
     "base_uri": "https://localhost:8080/"
    },
    "executionInfo": {
     "elapsed": 24,
     "status": "ok",
     "timestamp": 1640217388239,
     "user": {
      "displayName": "Francesco Salvi",
      "photoUrl": "https://lh3.googleusercontent.com/a/default-user=s64",
      "userId": "17039456355099176000"
     },
     "user_tz": -60
    },
    "id": "TY98cGcczZQo",
    "outputId": "06741e42-b714-44c0-c5f2-32b85e9d86d3"
   },
   "outputs": [
    {
     "data": {
      "text/plain": [
       "[{'odo': [('infamia', 0.8397964835166931),\n",
       "   ('contastare', 0.8273570537567139),\n",
       "   ('pienamente', 0.8261738419532776),\n",
       "   ('suco', 0.8259614109992981),\n",
       "   ('iborni', 0.8256613612174988),\n",
       "   ('ridoglio', 0.8241922855377197),\n",
       "   ('simil', 0.8194367289543152),\n",
       "   ('cangia', 0.8192595839500427),\n",
       "   ('orizzonta', 0.8191149234771729),\n",
       "   ('discendiam', 0.8174539804458618)]},\n",
       " {'aver': [('flegïàs', 0.8433818817138672),\n",
       "   ('dispietati', 0.8365761637687683),\n",
       "   ('volesse', 0.8300299048423767),\n",
       "   ('alessandro', 0.8299257159233093),\n",
       "   ('destro', 0.8237832188606262),\n",
       "   ('cicilia', 0.8216171264648438),\n",
       "   ('rezzo', 0.8180660009384155),\n",
       "   ('spietati', 0.8149651288986206),\n",
       "   ('aggiugne', 0.8133135437965393),\n",
       "   ('piante', 0.8118089437484741)]},\n",
       " {'pensa': [('parlasia', 0.9423741102218628),\n",
       "   ('sospinse', 0.9309630393981934),\n",
       "   ('fonde', 0.9274328351020813),\n",
       "   ('focara', 0.9242076873779297),\n",
       "   ('pulci', 0.9229783415794373),\n",
       "   ('lusingar', 0.9222831726074219),\n",
       "   ('montare', 0.9220003485679626),\n",
       "   ('asciutti', 0.9219182729721069),\n",
       "   ('sposò', 0.9214954376220703),\n",
       "   ('scuotersi', 0.9211960434913635)]},\n",
       " {'sul': [('originar', 0.7859503626823425),\n",
       "   ('patre', 0.7810866236686707),\n",
       "   ('doglie', 0.7650326490402222),\n",
       "   ('chiusa', 0.7641650438308716),\n",
       "   ('fossimo', 0.7449367642402649),\n",
       "   ('luglio', 0.7429624199867249),\n",
       "   ('contastare', 0.7429289221763611),\n",
       "   ('triegue', 0.7370628118515015),\n",
       "   ('ritrar', 0.7368258237838745),\n",
       "   ('pertratta', 0.7366719245910645)]},\n",
       " {'sùbito': [('fue', 0.9773784875869751),\n",
       "   ('levarsi', 0.9615495204925537),\n",
       "   ('cercate', 0.9381600618362427),\n",
       "   ('colto', 0.9359741806983948),\n",
       "   ('boglienti', 0.9341980814933777),\n",
       "   ('costor', 0.9331027269363403),\n",
       "   ('salvi', 0.9311290383338928),\n",
       "   ('bagnate', 0.9296939969062805),\n",
       "   ('vïaggio', 0.9240975379943848),\n",
       "   ('mozzi', 0.921905517578125)]},\n",
       " {'dolenti': [('truono', 0.7163508534431458),\n",
       "   ('largo', 0.6983085870742798),\n",
       "   ('forte', 0.6763564944267273),\n",
       "   ('dirò', 0.6725143194198608),\n",
       "   ('piano', 0.6603263020515442),\n",
       "   ('dichina', 0.6575298309326172),\n",
       "   ('pensier', 0.6535159945487976),\n",
       "   ('vercelli', 0.6456809043884277),\n",
       "   ('sentir', 0.6397804021835327),\n",
       "   ('appulcro', 0.6357817053794861)]},\n",
       " {'vedere': [('concedette', 0.8747770190238953),\n",
       "   ('crine', 0.8686525821685791),\n",
       "   ('foss', 0.8664765954017639),\n",
       "   ('dubitava', 0.8660856485366821),\n",
       "   ('torca', 0.8552421927452087),\n",
       "   ('cercando', 0.8548327088356018),\n",
       "   ('voto', 0.8517540693283081),\n",
       "   ('vieni', 0.8512765169143677),\n",
       "   ('preco', 0.8508099913597107),\n",
       "   ('danar', 0.8496875762939453)]},\n",
       " {'ebbi': [('congiunto', 0.8519918322563171),\n",
       "   ('procede', 0.849446713924408),\n",
       "   ('andava', 0.846080482006073),\n",
       "   ('cotesti', 0.8448494076728821),\n",
       "   ('incontran', 0.8447011113166809),\n",
       "   ('convenne', 0.8437538743019104),\n",
       "   ('venedico', 0.843696653842926),\n",
       "   ('passò', 0.8415905833244324),\n",
       "   ('restò', 0.8413154482841492),\n",
       "   ('timido', 0.8376264572143555)]},\n",
       " {'piano': [('cangia', 0.906434178352356),\n",
       "   ('sarien', 0.8622890710830688),\n",
       "   ('sospesi', 0.856503427028656),\n",
       "   ('groppo', 0.8554043769836426),\n",
       "   ('cani', 0.8552154302597046),\n",
       "   ('serpi', 0.8520241379737854),\n",
       "   ('porser', 0.8507252931594849),\n",
       "   ('scardova', 0.8475722670555115),\n",
       "   ('so', 0.8473818302154541),\n",
       "   ('suol', 0.84501713514328)]},\n",
       " {'ten': [('facci', 0.8584932088851929),\n",
       "   ('priego', 0.8417752385139465),\n",
       "   ('tacer', 0.8281494975090027),\n",
       "   ('garra', 0.8077157139778137),\n",
       "   ('soluto', 0.8067538738250732),\n",
       "   ('porto', 0.8005498647689819),\n",
       "   ('venisse', 0.7992475032806396),\n",
       "   ('drizzo', 0.789322018623352),\n",
       "   ('manca', 0.7864505052566528),\n",
       "   ('intento', 0.7818194031715393)]},\n",
       " {'amor': [('baco', 0.9323112964630127),\n",
       "   ('sperar', 0.925197422504425),\n",
       "   ('torma', 0.9220345616340637),\n",
       "   ('minor', 0.916789174079895),\n",
       "   ('fonti', 0.915496289730072),\n",
       "   ('supin', 0.9140049815177917),\n",
       "   ('pazzi', 0.9128738641738892),\n",
       "   ('torca', 0.9101109504699707),\n",
       "   ('ascoltarli', 0.9100451469421387),\n",
       "   ('inganno', 0.908724844455719)]},\n",
       " {'selva': [('calcando', 0.8103247880935669),\n",
       "   ('nova', 0.8034713864326477),\n",
       "   ('ossa', 0.8014115691184998),\n",
       "   ('saranno', 0.7986683249473572),\n",
       "   ('scende', 0.7901967763900757),\n",
       "   ('aspetto', 0.7896765470504761),\n",
       "   ('buoni', 0.7865514755249023),\n",
       "   ('bonturo', 0.7844891548156738),\n",
       "   ('dinanzi', 0.780364453792572),\n",
       "   ('poggio', 0.7718517780303955)]},\n",
       " {'stelle': [('cuori', 0.7690198421478271),\n",
       "   ('mpegolate', 0.7277268767356873),\n",
       "   ('vuolsi', 0.7081919312477112),\n",
       "   ('riveder', 0.7038862705230713),\n",
       "   ('colà', 0.6893956065177917),\n",
       "   ('atropòs', 0.6831193566322327),\n",
       "   ('serrame', 0.6823397874832153),\n",
       "   ('intrammo', 0.681720495223999),\n",
       "   ('ho', 0.6772205233573914),\n",
       "   ('monte', 0.6737211346626282)]},\n",
       " {'occhi': [('accapriccia', 0.7764295339584351),\n",
       "   ('ciel', 0.7741003632545471),\n",
       "   ('aspettar', 0.7732015252113342),\n",
       "   ('calcagni', 0.7616329193115234),\n",
       "   ('mutato', 0.7571580410003662),\n",
       "   ('gaetta', 0.7511500716209412),\n",
       "   ('mirabilmente', 0.7486355900764465),\n",
       "   ('parrà', 0.7481623291969299),\n",
       "   ('condotta', 0.7468336224555969),\n",
       "   ('fortunata', 0.7458495497703552)]},\n",
       " {'cielo': [('perder', 0.7090205550193787),\n",
       "   ('aiutino', 0.6859914660453796),\n",
       "   ('ripresi', 0.6831752061843872),\n",
       "   ('ingiuria', 0.6744210124015808),\n",
       "   ('empie', 0.6730960607528687),\n",
       "   ('sodisfammi', 0.6730936169624329),\n",
       "   ('doppia', 0.6729542016983032),\n",
       "   ('parlarmi', 0.6714016199111938),\n",
       "   ('false', 0.6706095933914185),\n",
       "   ('sepulcro', 0.6694326400756836)]}]"
      ]
     },
     "execution_count": 50,
     "metadata": {},
     "output_type": "execute_result"
    }
   ],
   "source": [
    "[{word: embeddings_W2V_CBOW.wv.most_similar(word)} for word in words_sample]"
   ]
  },
  {
   "cell_type": "code",
   "execution_count": 51,
   "metadata": {
    "colab": {
     "base_uri": "https://localhost:8080/"
    },
    "executionInfo": {
     "elapsed": 22,
     "status": "ok",
     "timestamp": 1640217388239,
     "user": {
      "displayName": "Francesco Salvi",
      "photoUrl": "https://lh3.googleusercontent.com/a/default-user=s64",
      "userId": "17039456355099176000"
     },
     "user_tz": -60
    },
    "id": "_BHD0EWSzZQp",
    "outputId": "a35a7591-e880-4bdd-9ec6-e4f6b4b5fb81"
   },
   "outputs": [
    {
     "data": {
      "text/plain": [
       "[{'odo': [('fuoro', 0.9842718839645386),\n",
       "   ('è', 0.9797706007957458),\n",
       "   ('eteòcle', 0.9797658324241638),\n",
       "   ('fatte', 0.9795335531234741),\n",
       "   ('niego', 0.9783422946929932),\n",
       "   ('lieto', 0.9772276282310486),\n",
       "   ('cerchiato', 0.9766700267791748),\n",
       "   ('appar', 0.9753099679946899),\n",
       "   ('vecchio', 0.9751527309417725),\n",
       "   ('spirti', 0.9750978350639343)]},\n",
       " {'aver': [('sterpi', 0.9997766017913818),\n",
       "   ('sofferta', 0.9997408986091614),\n",
       "   ('italia', 0.9997218251228333),\n",
       "   ('rotture', 0.9997185468673706),\n",
       "   ('attese', 0.9997132420539856),\n",
       "   ('famoso', 0.9997126460075378),\n",
       "   ('germoglia', 0.9997106194496155),\n",
       "   ('miserere', 0.9997076988220215),\n",
       "   ('bui', 0.9997053742408752),\n",
       "   ('uomo', 0.9997023940086365)]},\n",
       " {'pensa': [('stanno', 0.9965602159500122),\n",
       "   ('fiammella', 0.9965111017227173),\n",
       "   ('accorsi', 0.9964174628257751),\n",
       "   ('ghisolabella', 0.9963535666465759),\n",
       "   ('biasmo', 0.9961010217666626),\n",
       "   ('aggrappa', 0.9960902333259583),\n",
       "   ('smozzicate', 0.9960758686065674),\n",
       "   ('natiche', 0.9960358142852783),\n",
       "   ('dipartille', 0.9959701299667358),\n",
       "   ('grandine', 0.9959308505058289)]},\n",
       " {'sul': [('cangiando', 0.9994291663169861),\n",
       "   ('lento', 0.9994149208068848),\n",
       "   ('mestieri', 0.9994041919708252),\n",
       "   ('vegno', 0.9993979930877686),\n",
       "   ('perduti', 0.9993848204612732),\n",
       "   ('tormento', 0.9993647336959839),\n",
       "   ('nero', 0.9993605613708496),\n",
       "   ('cespuglio', 0.9993264675140381),\n",
       "   ('cader', 0.999326229095459),\n",
       "   ('udir', 0.9993070960044861)]},\n",
       " {'sùbito': [('canzon', 0.9952304363250732),\n",
       "   ('capraia', 0.9936670064926147),\n",
       "   ('sodo', 0.9932284951210022),\n",
       "   ('ultima', 0.9925488829612732),\n",
       "   ('avvien', 0.9920935034751892),\n",
       "   ('sessanta', 0.9920425415039062),\n",
       "   ('scorgere', 0.9919298887252808),\n",
       "   ('conciando', 0.9918829798698425),\n",
       "   ('pigli', 0.9915357828140259),\n",
       "   ('drizza', 0.9911335110664368)]},\n",
       " {'dolenti': [('discende', 0.9759003520011902),\n",
       "   ('molti', 0.9661008715629578),\n",
       "   ('vide', 0.9659518599510193),\n",
       "   ('dì', 0.9648224115371704),\n",
       "   ('aura', 0.9642208814620972),\n",
       "   ('cenni', 0.9635156989097595),\n",
       "   ('sinistra', 0.9624324440956116),\n",
       "   ('in', 0.9624122977256775),\n",
       "   ('avesse', 0.9622658491134644),\n",
       "   ('omo', 0.9611006379127502)]},\n",
       " {'vedere': [('privo', 0.9955760836601257),\n",
       "   ('scaccia', 0.9947309494018555),\n",
       "   ('fora', 0.9947255849838257),\n",
       "   ('contradizion', 0.9945981502532959),\n",
       "   ('morisse', 0.994586706161499),\n",
       "   ('aronta', 0.9942529201507568),\n",
       "   ('partir', 0.993713915348053),\n",
       "   ('cristiano', 0.9936575889587402),\n",
       "   ('miran', 0.9934366345405579),\n",
       "   ('natiche', 0.9934042692184448)]},\n",
       " {'ebbi': [('vïaggio', 0.9977355003356934),\n",
       "   ('félli', 0.9971427917480469),\n",
       "   ('diverse', 0.9970173835754395),\n",
       "   ('circe', 0.996971607208252),\n",
       "   ('vapori', 0.9965963363647461),\n",
       "   ('sicuro', 0.9965199828147888),\n",
       "   ('mercatante', 0.9965068697929382),\n",
       "   ('picciola', 0.9964286684989929),\n",
       "   ('remoto', 0.996242344379425),\n",
       "   ('riguardai', 0.9961475133895874)]},\n",
       " {'piano': [('intero', 0.9971450567245483),\n",
       "   ('giogo', 0.9969366788864136),\n",
       "   ('lascio', 0.9965179562568665),\n",
       "   ('ferite', 0.9965060353279114),\n",
       "   ('facevan', 0.9964976906776428),\n",
       "   ('parere', 0.996468722820282),\n",
       "   ('martìri', 0.9963555335998535),\n",
       "   ('crude', 0.996320366859436),\n",
       "   ('figlio', 0.9962964653968811),\n",
       "   ('narrate', 0.9962620735168457)]},\n",
       " {'ten': [('impedir', 0.9833825826644897),\n",
       "   ('confessa', 0.9819806814193726),\n",
       "   ('ritrova', 0.9816974997520447),\n",
       "   ('dovrebbe', 0.9815117120742798),\n",
       "   ('colpe', 0.9813160300254822),\n",
       "   ('achille', 0.9811697602272034),\n",
       "   ('puglia', 0.9808395504951477),\n",
       "   ('piego', 0.9806854724884033),\n",
       "   ('temendo', 0.9799562096595764),\n",
       "   ('feceli', 0.9798072576522827)]},\n",
       " {'amor': [('atamante', 0.9912291765213013),\n",
       "   ('consorti', 0.9911805987358093),\n",
       "   ('volgonsi', 0.9907037019729614),\n",
       "   ('ghiacciati', 0.9901074171066284),\n",
       "   ('scusava', 0.9896649122238159),\n",
       "   ('venendo', 0.9890029430389404),\n",
       "   ('peccai', 0.9887736439704895),\n",
       "   ('vana', 0.9883837103843689),\n",
       "   ('vidine', 0.9881475567817688),\n",
       "   ('fida', 0.987869381904602)]},\n",
       " {'selva': [('fatte', 0.9918667078018188),\n",
       "   ('pianto', 0.9917922616004944),\n",
       "   ('bollor', 0.9915505051612854),\n",
       "   ('cieco', 0.9907122254371643),\n",
       "   ('etterni', 0.9907013177871704),\n",
       "   ('somma', 0.9906566739082336),\n",
       "   ('trassi', 0.9905380606651306),\n",
       "   ('chinati', 0.9904949069023132),\n",
       "   ('istra', 0.9903929829597473),\n",
       "   ('compito', 0.9903360605239868)]},\n",
       " {'stelle': [('rocchi', 0.9984124302864075),\n",
       "   ('corna', 0.9981555938720703),\n",
       "   ('stagno', 0.9980738162994385),\n",
       "   ('facemmo', 0.9980007410049438),\n",
       "   ('sensi', 0.9979395866394043),\n",
       "   ('labbia', 0.9979201555252075),\n",
       "   ('regi', 0.9978682398796082),\n",
       "   ('elia', 0.997816264629364),\n",
       "   ('promette', 0.9977657198905945),\n",
       "   ('allette', 0.9975847601890564)]},\n",
       " {'occhi': [('vaghe', 0.9827350974082947),\n",
       "   ('cerno', 0.9820264577865601),\n",
       "   ('procedere', 0.9811304807662964),\n",
       "   ('nsieme', 0.9808530807495117),\n",
       "   ('cominciai', 0.980033278465271),\n",
       "   ('squarciò', 0.980025589466095),\n",
       "   ('grasso', 0.9787384271621704),\n",
       "   ('fesso', 0.9786303043365479),\n",
       "   ('tratti', 0.9785012602806091),\n",
       "   ('cali', 0.9783757925033569)]},\n",
       " {'cielo': [('tronca', 0.9561930894851685),\n",
       "   ('insieme', 0.9401288032531738),\n",
       "   ('de', 0.9368468523025513),\n",
       "   ('ascolte', 0.9225698113441467),\n",
       "   ('quand', 0.9196145534515381),\n",
       "   ('voce', 0.91302490234375),\n",
       "   ('sempiterno', 0.9053964018821716),\n",
       "   ('bogliente', 0.9003604650497437),\n",
       "   ('fianchi', 0.9003075361251831),\n",
       "   ('nasconde', 0.8978011012077332)]}]"
      ]
     },
     "execution_count": 51,
     "metadata": {},
     "output_type": "execute_result"
    }
   ],
   "source": [
    "[{word: embeddings_W2V_SkipGram.wv.most_similar(word)} for word in words_sample]"
   ]
  },
  {
   "cell_type": "code",
   "execution_count": 52,
   "metadata": {
    "colab": {
     "base_uri": "https://localhost:8080/"
    },
    "executionInfo": {
     "elapsed": 19,
     "status": "ok",
     "timestamp": 1640217388239,
     "user": {
      "displayName": "Francesco Salvi",
      "photoUrl": "https://lh3.googleusercontent.com/a/default-user=s64",
      "userId": "17039456355099176000"
     },
     "user_tz": -60
    },
    "id": "zwI-0jtbzZQp",
    "outputId": "7efac8f9-ff3a-4d5b-cbeb-d07d2f2b9816"
   },
   "outputs": [
    {
     "data": {
      "text/plain": [
       "[{'odo': [('sappiendo', 0.9872816205024719),\n",
       "   ('nodo', 0.9869675636291504),\n",
       "   ('timido', 0.985020637512207),\n",
       "   ('ludo', 0.9824327826499939),\n",
       "   ('chiamando', 0.980663001537323),\n",
       "   ('deggio', 0.9805757403373718),\n",
       "   ('escotendo', 0.9801772236824036),\n",
       "   ('affermando', 0.980002224445343),\n",
       "   ('seguitando', 0.9796355962753296),\n",
       "   ('dolce', 0.9796009063720703)]},\n",
       " {'aver': [('aveva', 0.9882729053497314),\n",
       "   ('avere', 0.9859660863876343),\n",
       "   ('avem', 0.9844799041748047),\n",
       "   ('er', 0.9822856783866882),\n",
       "   ('averebbe', 0.9796825647354126),\n",
       "   ('avrà', 0.9791682362556458),\n",
       "   ('averei', 0.9767240285873413),\n",
       "   ('avevan', 0.9726406931877136),\n",
       "   ('avete', 0.9680737853050232),\n",
       "   ('trarrei', 0.9678024649620056)]},\n",
       " {'pensa': [('pensavi', 0.9899008870124817),\n",
       "   ('perciò', 0.9868162870407104),\n",
       "   ('vincerò', 0.9856489896774292),\n",
       "   ('pensai', 0.9835110306739807),\n",
       "   ('vivo', 0.9796106219291687),\n",
       "   ('vincer', 0.979404866695404),\n",
       "   ('viv', 0.9786506295204163),\n",
       "   ('pensata', 0.9776929020881653),\n",
       "   ('viemmi', 0.9775874614715576),\n",
       "   ('segui', 0.977327287197113)]},\n",
       " {'sul': [('sub', 0.992348313331604),\n",
       "   ('infin', 0.982771098613739),\n",
       "   ('fin', 0.9815002083778381),\n",
       "   ('fine', 0.9812753796577454),\n",
       "   ('nfin', 0.9778724908828735),\n",
       "   ('supin', 0.9687487483024597),\n",
       "   ('onde', 0.9654026627540588),\n",
       "   ('suso', 0.9651789665222168),\n",
       "   ('cade', 0.9634466767311096),\n",
       "   ('grossa', 0.9629367589950562)]},\n",
       " {'sùbito': [('sito', 0.9962832927703857),\n",
       "   ('abito', 0.995121419429779),\n",
       "   ('tenuto', 0.9936804175376892),\n",
       "   ('beato', 0.9933006763458252),\n",
       "   ('muto', 0.99278324842453),\n",
       "   ('imposto', 0.9927739500999451),\n",
       "   ('apposto', 0.9923960566520691),\n",
       "   ('prato', 0.9922739863395691),\n",
       "   ('giovato', 0.9916868805885315),\n",
       "   ('voto', 0.991477906703949)]},\n",
       " {'dolenti': [('vïolenti', 0.9953814744949341),\n",
       "   ('cocenti', 0.993329644203186),\n",
       "   ('spenti', 0.9916269779205322),\n",
       "   ('menti', 0.9914648532867432),\n",
       "   ('pungenti', 0.9911713600158691),\n",
       "   ('attienti', 0.9910923838615417),\n",
       "   ('godenti', 0.9900833368301392),\n",
       "   ('contenti', 0.9883202314376831),\n",
       "   ('beati', 0.987785279750824),\n",
       "   ('lieti', 0.98762047290802)]},\n",
       " {'vedere': [('verrò', 0.986646831035614),\n",
       "   ('vegn', 0.9845818281173706),\n",
       "   ('vedea', 0.9845194220542908),\n",
       "   ('vederlo', 0.984283983707428),\n",
       "   ('verrà', 0.9839326739311218),\n",
       "   ('antiveder', 0.9793865084648132),\n",
       "   ('riveder', 0.9792018532752991),\n",
       "   ('tacer', 0.9783254861831665),\n",
       "   ('vedermi', 0.978024423122406),\n",
       "   ('vedestù', 0.976218044757843)]},\n",
       " {'ebbi': [('credea', 0.9869406819343567),\n",
       "   ('accorri', 0.9851843118667603),\n",
       "   ('potessi', 0.9841993451118469),\n",
       "   ('mei', 0.983199417591095),\n",
       "   ('accorgo', 0.9831460118293762),\n",
       "   ('accorso', 0.9824374318122864),\n",
       "   ('messi', 0.9823678731918335),\n",
       "   ('accorsi', 0.9822811484336853),\n",
       "   ('udir', 0.9811035990715027),\n",
       "   ('saprei', 0.9810307621955872)]},\n",
       " {'piano': [('pian', 0.9866601824760437),\n",
       "   ('troian', 0.9862098693847656),\n",
       "   ('caino', 0.9847584962844849),\n",
       "   ('scanno', 0.9836682081222534),\n",
       "   ('lino', 0.9830310940742493),\n",
       "   ('carcava', 0.9828956127166748),\n",
       "   ('apennino', 0.9824271202087402),\n",
       "   ('castello', 0.9818931221961975),\n",
       "   ('nino', 0.9811576008796692),\n",
       "   ('truono', 0.9807334542274475)]},\n",
       " {'ten': [('cortese', 0.9822179675102234),\n",
       "   ('dispetta', 0.9820641875267029),\n",
       "   ('spense', 0.9818722605705261),\n",
       "   ('sanese', 0.9801202416419983),\n",
       "   ('manda', 0.9788844585418701),\n",
       "   ('dispoglia', 0.9785710573196411),\n",
       "   ('vinse', 0.9776502847671509),\n",
       "   ('dimane', 0.9775969386100769),\n",
       "   ('diserrare', 0.9775674939155579),\n",
       "   ('dispaia', 0.9773735404014587)]},\n",
       " {'amor': [('marmi', 0.9935306310653687),\n",
       "   ('reducemi', 0.9918216466903687),\n",
       "   ('omor', 0.9914656281471252),\n",
       "   ('miglior', 0.990688681602478),\n",
       "   ('segni', 0.9903265833854675),\n",
       "   ('taccio', 0.9903176426887512),\n",
       "   ('seguir', 0.9897421002388),\n",
       "   ('segnò', 0.9889662265777588),\n",
       "   ('nomar', 0.9887926578521729),\n",
       "   ('seguire', 0.9887228012084961)]},\n",
       " {'selva': [('chiostra', 0.9912562966346741),\n",
       "   ('artù', 0.9898821711540222),\n",
       "   ('schiara', 0.9898812174797058),\n",
       "   ('selvaggia', 0.9889014363288879),\n",
       "   ('sovrasta', 0.9886738657951355),\n",
       "   ('selvagge', 0.988351047039032),\n",
       "   ('martira', 0.9879047870635986),\n",
       "   ('coverchia', 0.9878533482551575),\n",
       "   ('cangiata', 0.9875870943069458),\n",
       "   ('schiuma', 0.9875764846801758)]},\n",
       " {'stelle': [('gatte', 0.9883801341056824),\n",
       "   ('mbedue', 0.9875304102897644),\n",
       "   ('gambe', 0.9866729974746704),\n",
       "   ('ratte', 0.9861920475959778),\n",
       "   ('rotelle', 0.9847890734672546),\n",
       "   ('batte', 0.9836864471435547),\n",
       "   ('brutte', 0.9828706979751587),\n",
       "   ('favelle', 0.982296347618103),\n",
       "   ('legate', 0.9809020161628723),\n",
       "   ('isnelle', 0.9799825549125671)]},\n",
       " {'occhi': [('rocchi', 0.9594054222106934),\n",
       "   ('nocchi', 0.9379028677940369),\n",
       "   ('ranocchi', 0.9235479831695557),\n",
       "   ('altri', 0.9170526266098022),\n",
       "   ('occhio', 0.9077396988868713),\n",
       "   ('sciocchi', 0.9042161703109741),\n",
       "   ('orecchi', 0.901413083076477),\n",
       "   ('lecchi', 0.90029376745224),\n",
       "   ('accocchi', 0.8852611780166626),\n",
       "   ('ficchi', 0.8758972883224487)]},\n",
       " {'cielo': [('opizzo', 0.9900124073028564),\n",
       "   ('arezzo', 0.9884280562400818),\n",
       "   ('infermo', 0.9880219101905823),\n",
       "   ('sezzo', 0.9879708886146545),\n",
       "   ('montare', 0.9851793050765991),\n",
       "   ('gelo', 0.9850133657455444),\n",
       "   ('girone', 0.9849426746368408),\n",
       "   ('principe', 0.984826385974884),\n",
       "   ('rezzo', 0.9847657680511475),\n",
       "   ('ultimo', 0.9839255213737488)]}]"
      ]
     },
     "execution_count": 52,
     "metadata": {},
     "output_type": "execute_result"
    }
   ],
   "source": [
    "[{word: embeddings_FT_CBOW.wv.most_similar(word)} for word in words_sample]"
   ]
  },
  {
   "cell_type": "code",
   "execution_count": 53,
   "metadata": {
    "colab": {
     "base_uri": "https://localhost:8080/"
    },
    "executionInfo": {
     "elapsed": 16,
     "status": "ok",
     "timestamp": 1640217388240,
     "user": {
      "displayName": "Francesco Salvi",
      "photoUrl": "https://lh3.googleusercontent.com/a/default-user=s64",
      "userId": "17039456355099176000"
     },
     "user_tz": -60
    },
    "id": "9FgvrMfxzZQq",
    "outputId": "8af58598-0c87-4867-9a68-3e7d283bf937"
   },
   "outputs": [
    {
     "data": {
      "text/plain": [
       "[{'odo': [('nodo', 0.8466202616691589),\n",
       "   ('lodo', 0.8347836136817932),\n",
       "   ('sodo', 0.833865225315094),\n",
       "   ('rodo', 0.8071862459182739),\n",
       "   ('rispondo', 0.8022314310073853),\n",
       "   ('secondo', 0.7911775708198547),\n",
       "   ('vado', 0.7873966693878174),\n",
       "   ('giocondo', 0.7868850827217102),\n",
       "   ('negar', 0.7655240297317505),\n",
       "   ('riguardando', 0.7563911080360413)]},\n",
       " {'aver': [('saver', 0.8614267110824585),\n",
       "   ('aveva', 0.8501336574554443),\n",
       "   ('averei', 0.7998648881912231),\n",
       "   ('averien', 0.7970209121704102),\n",
       "   ('avevan', 0.7916484475135803),\n",
       "   ('avere', 0.7814022302627563),\n",
       "   ('avem', 0.7537034153938293),\n",
       "   ('avei', 0.7388995289802551),\n",
       "   ('graverà', 0.7369255423545837),\n",
       "   ('averebbe', 0.7232455015182495)]},\n",
       " {'pensa': [('pensai', 0.924590528011322),\n",
       "   ('pensata', 0.9062861204147339),\n",
       "   ('pensavi', 0.9027813076972961),\n",
       "   ('penso', 0.8537748456001282),\n",
       "   ('pensava', 0.8305099606513977),\n",
       "   ('pensi', 0.8039803504943848),\n",
       "   ('pene', 0.788193941116333),\n",
       "   ('nvita', 0.7794637084007263),\n",
       "   ('comprender', 0.7707058191299438),\n",
       "   ('pensando', 0.7696148753166199)]},\n",
       " {'sul': [('sub', 0.822263777256012),\n",
       "   ('surgëa', 0.7737811207771301),\n",
       "   ('montava', 0.7649805545806885),\n",
       "   ('groppone', 0.760205090045929),\n",
       "   ('su', 0.757777988910675),\n",
       "   ('tenavamo', 0.7514597773551941),\n",
       "   ('anastasio', 0.745017945766449),\n",
       "   ('rovinava', 0.7410362958908081),\n",
       "   ('arrivammo', 0.7403540015220642),\n",
       "   ('coperchio', 0.7335309386253357)]},\n",
       " {'sùbito': [('fornito', 0.8832985758781433),\n",
       "   ('abito', 0.8753167986869812),\n",
       "   ('dito', 0.8532199263572693),\n",
       "   ('sito', 0.8442885279655457),\n",
       "   ('sbigottito', 0.8384407758712769),\n",
       "   ('disparito', 0.8246460556983948),\n",
       "   ('debito', 0.8231736421585083),\n",
       "   ('vòto', 0.820730984210968),\n",
       "   ('stallo', 0.8102338314056396),\n",
       "   ('finito', 0.8081993460655212)]},\n",
       " {'dolenti': [('lenti', 0.9277441501617432),\n",
       "   ('vïolenti', 0.9218417406082153),\n",
       "   ('spenti', 0.9191588759422302),\n",
       "   ('ricenti', 0.8847576975822449),\n",
       "   ('godenti', 0.8769943714141846),\n",
       "   ('spiacenti', 0.8718915581703186),\n",
       "   ('attienti', 0.8714854717254639),\n",
       "   ('pungenti', 0.8692208528518677),\n",
       "   ('innocenti', 0.8622900247573853),\n",
       "   ('denti', 0.8581877946853638)]},\n",
       " {'vedere': [('vederlo', 0.8854190111160278),\n",
       "   ('veder', 0.8716815710067749),\n",
       "   ('sedere', 0.828604519367218),\n",
       "   ('riveder', 0.8051045536994934),\n",
       "   ('vedermi', 0.8009601831436157),\n",
       "   ('vedete', 0.7990983724594116),\n",
       "   ('mordere', 0.7957373261451721),\n",
       "   ('vedea', 0.7919342517852783),\n",
       "   ('vederai', 0.7843437790870667),\n",
       "   ('procedere', 0.783889651298523)]},\n",
       " {'ebbi': [('abbi', 0.8029729723930359),\n",
       "   ('procuro', 0.7539114952087402),\n",
       "   ('lacciuoli', 0.743124783039093),\n",
       "   ('dubbio', 0.739865243434906),\n",
       "   ('smarrito', 0.7389857769012451),\n",
       "   ('pregai', 0.7311089634895325),\n",
       "   ('ritornarci', 0.728119969367981),\n",
       "   ('rimanga', 0.7213715314865112),\n",
       "   ('dubbiar', 0.7191956043243408),\n",
       "   ('sarebbero', 0.7187046408653259)]},\n",
       " {'piano': [('pian', 0.8466856479644775),\n",
       "   ('piangea', 0.8446090221405029),\n",
       "   ('piangëa', 0.8322641253471375),\n",
       "   ('piangere', 0.8264129161834717),\n",
       "   ('piangon', 0.8203075528144836),\n",
       "   ('piangevan', 0.8120617270469666),\n",
       "   ('pianger', 0.8068124651908875),\n",
       "   ('piange', 0.8040512800216675),\n",
       "   ('piangeva', 0.79781574010849),\n",
       "   ('piango', 0.7889009714126587)]},\n",
       " {'ten': [('tentò', 0.7729718685150146),\n",
       "   ('tenni', 0.7697867155075073),\n",
       "   ('tene', 0.7532606720924377),\n",
       "   ('tencione', 0.7315468192100525),\n",
       "   ('teco', 0.7278570532798767),\n",
       "   ('tener', 0.7259839177131653),\n",
       "   ('tenciona', 0.719683825969696),\n",
       "   ('tenea', 0.7166872024536133),\n",
       "   ('tenere', 0.7121833562850952),\n",
       "   ('tesëo', 0.7113581299781799)]},\n",
       " {'amor': [('omor', 0.8252298831939697),\n",
       "   ('amore', 0.7830502390861511),\n",
       "   ('romor', 0.7666998505592346),\n",
       "   ('amomo', 0.713743269443512),\n",
       "   ('novità', 0.7049378156661987),\n",
       "   ('sartor', 0.6989672183990479),\n",
       "   ('amar', 0.6987003684043884),\n",
       "   ('cuor', 0.6974540948867798),\n",
       "   ('valor', 0.6905257105827332),\n",
       "   ('radice', 0.6895590424537659)]},\n",
       " {'selva': [('selvagge', 0.8677442669868469),\n",
       "   ('selvaggia', 0.8449021577835083),\n",
       "   ('nuova', 0.7837625741958618),\n",
       "   ('salva', 0.7820134162902832),\n",
       "   ('selvaggio', 0.7800620198249817),\n",
       "   ('impetüosa', 0.7624878883361816),\n",
       "   ('marzïa', 0.7587159872055054),\n",
       "   ('malebolge', 0.7586961388587952),\n",
       "   ('livida', 0.753897488117218),\n",
       "   ('marturi', 0.748478889465332)]},\n",
       " {'stelle': [('rotelle', 0.9168022871017456),\n",
       "   ('svelle', 0.897490918636322),\n",
       "   ('elle', 0.894474446773529),\n",
       "   ('isnelle', 0.8937158584594727),\n",
       "   ('belle', 0.8932308554649353),\n",
       "   ('mammelle', 0.8850723505020142),\n",
       "   ('favelle', 0.8706271052360535),\n",
       "   ('mascelle', 0.8460050225257874),\n",
       "   ('ascelle', 0.835271418094635),\n",
       "   ('pecorelle', 0.8284996151924133)]},\n",
       " {'occhi': [('rocchi', 0.9147536754608154),\n",
       "   ('nocchi', 0.9046149253845215),\n",
       "   ('ficchi', 0.8685935139656067),\n",
       "   ('accocchi', 0.8554151654243469),\n",
       "   ('sciocchi', 0.8491539359092712),\n",
       "   ('lecchi', 0.8419762849807739),\n",
       "   ('schicchi', 0.8378685116767883),\n",
       "   ('ranocchi', 0.8357276320457458),\n",
       "   ('biechi', 0.8267870545387268),\n",
       "   ('pochi', 0.8180971741676331)]},\n",
       " {'cielo': [('ciel', 0.8473945260047913),\n",
       "   ('ruinare', 0.7931782603263855),\n",
       "   ('ingiuria', 0.7637684941291809),\n",
       "   ('saladino', 0.7624067664146423),\n",
       "   ('benigno', 0.7554748058319092),\n",
       "   ('cieca', 0.7483761310577393),\n",
       "   ('belzebù', 0.7435541152954102),\n",
       "   ('ampio', 0.7425131797790527),\n",
       "   ('eurialo', 0.7375537157058716),\n",
       "   ('salute', 0.7302162647247314)]}]"
      ]
     },
     "execution_count": 53,
     "metadata": {},
     "output_type": "execute_result"
    }
   ],
   "source": [
    "[{word: embeddings_FT_SkipGram.wv.most_similar(word)} for word in words_sample]"
   ]
  },
  {
   "cell_type": "markdown",
   "metadata": {
    "id": "seZoKzqBzZQq"
   },
   "source": [
    "The word2vec embeddings do not seem to perform any good for this task with so little data, with very little similarity between the query and the output words. fasttext has indeed much better performances, due to the fact that it learns also char ngrams, so it can for example learn the similarity between *signore* and *signor*, *semone* and *sermo* or *amor* and *amore*.\n",
    "Also, the SkipGram model seem to perform significantly better for this task, learning at least one meaningful neighbor for each of the 15 words except *ciocca* and *battesimo*, the ones with a frequency of 1.\n",
    "We can however see that a lot of the proposed similarity are only morphologically similar, having the same endings but not being semantically related."
   ]
  },
  {
   "cell_type": "markdown",
   "metadata": {
    "id": "M_j4n60XzZQq"
   },
   "source": [
    "## Predicting uncertainties"
   ]
  },
  {
   "cell_type": "markdown",
   "metadata": {
    "id": "3avqWbD2ZuGB"
   },
   "source": [
    "Word2Vec models, also, cannot be used to compute out-of-vocabulary embeddings, and are thus not at all usable for our task. For FastText model, we are instead interested in evaluating the performances over different types of uncertainties."
   ]
  },
  {
   "cell_type": "code",
   "execution_count": 54,
   "metadata": {
    "executionInfo": {
     "elapsed": 8,
     "status": "ok",
     "timestamp": 1640217388240,
     "user": {
      "displayName": "Francesco Salvi",
      "photoUrl": "https://lh3.googleusercontent.com/a/default-user=s64",
      "userId": "17039456355099176000"
     },
     "user_tz": -60
    },
    "id": "xuZRBMT0lJSm"
   },
   "outputs": [],
   "source": [
    "# valid.predict_and_evaluate_model(embeddings_W2V_CBOW, 5, uncertainty_list_nocorr, 'cosine')"
   ]
  },
  {
   "cell_type": "code",
   "execution_count": 55,
   "metadata": {
    "executionInfo": {
     "elapsed": 9,
     "status": "ok",
     "timestamp": 1640217388241,
     "user": {
      "displayName": "Francesco Salvi",
      "photoUrl": "https://lh3.googleusercontent.com/a/default-user=s64",
      "userId": "17039456355099176000"
     },
     "user_tz": -60
    },
    "id": "MNPX530wlNwh"
   },
   "outputs": [],
   "source": [
    "# valid.predict_and_evaluate_model(embeddings_W2V_SkipGram, 5, uncertainty_list_nocorr, 'cosine')"
   ]
  },
  {
   "cell_type": "code",
   "execution_count": 56,
   "metadata": {
    "colab": {
     "base_uri": "https://localhost:8080/"
    },
    "executionInfo": {
     "elapsed": 2960,
     "status": "ok",
     "timestamp": 1640217391193,
     "user": {
      "displayName": "Francesco Salvi",
      "photoUrl": "https://lh3.googleusercontent.com/a/default-user=s64",
      "userId": "17039456355099176000"
     },
     "user_tz": -60
    },
    "id": "cSSu4uCclG1U",
    "outputId": "4100f25a-5ea2-482d-e637-f7c87b006c63"
   },
   "outputs": [
    {
     "data": {
      "text/plain": [
       "type\n",
       "ALTERNATE_READING     0.511551\n",
       "SINGLE_UNCERTAINTY    0.075472\n",
       "UNCERTAIN_SPACE       0.386102\n",
       "overall               0.400357\n",
       "dtype: float64"
      ]
     },
     "execution_count": 56,
     "metadata": {},
     "output_type": "execute_result"
    }
   ],
   "source": [
    "valid.predict_and_evaluate_model(embeddings_FT_CBOW, 5, uncertainty_list_nocorr, 'cosine')"
   ]
  },
  {
   "cell_type": "code",
   "execution_count": 57,
   "metadata": {
    "colab": {
     "base_uri": "https://localhost:8080/"
    },
    "executionInfo": {
     "elapsed": 2708,
     "status": "ok",
     "timestamp": 1640217393888,
     "user": {
      "displayName": "Francesco Salvi",
      "photoUrl": "https://lh3.googleusercontent.com/a/default-user=s64",
      "userId": "17039456355099176000"
     },
     "user_tz": -60
    },
    "id": "hNhf8FRDHU_Z",
    "outputId": "b47746b6-d846-4601-f8fa-9d790f64aabd"
   },
   "outputs": [
    {
     "data": {
      "text/plain": [
       "type\n",
       "ALTERNATE_READING     0.496700\n",
       "SINGLE_UNCERTAINTY    0.069182\n",
       "UNCERTAIN_SPACE       0.387588\n",
       "overall               0.398570\n",
       "dtype: float64"
      ]
     },
     "execution_count": 57,
     "metadata": {},
     "output_type": "execute_result"
    }
   ],
   "source": [
    "valid.predict_and_evaluate_model(embeddings_FT_SkipGram, 5, uncertainty_list_nocorr, 'cosine')"
   ]
  },
  {
   "cell_type": "markdown",
   "metadata": {
    "id": "iSdsA7oO2jmx"
   },
   "source": [
    "### Baseline"
   ]
  },
  {
   "cell_type": "markdown",
   "metadata": {
    "id": "tA4HCi5pZ9R7"
   },
   "source": [
    "Before proceeding, we compare these results with a baseline, which replace randomly each uncertainty by sampling according to the character distribution of the language."
   ]
  },
  {
   "cell_type": "code",
   "execution_count": 58,
   "metadata": {
    "executionInfo": {
     "elapsed": 578,
     "status": "ok",
     "timestamp": 1640217394428,
     "user": {
      "displayName": "Francesco Salvi",
      "photoUrl": "https://lh3.googleusercontent.com/a/default-user=s64",
      "userId": "17039456355099176000"
     },
     "user_tz": -60
    },
    "id": "N1lXD2Zh4208"
   },
   "outputs": [],
   "source": [
    "# Merge the text in a single string\n",
    "inferno_corrupted_merged = ' '.join(inferno_corrupted)"
   ]
  },
  {
   "cell_type": "code",
   "execution_count": 59,
   "metadata": {
    "colab": {
     "base_uri": "https://localhost:8080/"
    },
    "executionInfo": {
     "elapsed": 18,
     "status": "ok",
     "timestamp": 1640217394431,
     "user": {
      "displayName": "Francesco Salvi",
      "photoUrl": "https://lh3.googleusercontent.com/a/default-user=s64",
      "userId": "17039456355099176000"
     },
     "user_tz": -60
    },
    "id": "o9lfnB51QfUT",
    "outputId": "dd44b48d-9eec-4aeb-f3cb-12e324b22c23"
   },
   "outputs": [
    {
     "data": {
      "text/plain": [
       "{'ó': 0.00018314881401798597,\n",
       " 's': 0.05623042363442002,\n",
       " 'c': 0.0539205059392544,\n",
       " 'è': 0.0024145741603187536,\n",
       " 'n': 0.06605691816611971,\n",
       " 'e': 0.11275986574070614,\n",
       " 'ä': 8.970554155982985e-05,\n",
       " 'r': 0.06275650178289764,\n",
       " 'b': 0.00775205388312863,\n",
       " 'y': 5.98036943732199e-05,\n",
       " 'f': 0.013044680835158591,\n",
       " 'm': 0.030167226080391116,\n",
       " 'p': 0.027633044531325923,\n",
       " 'w': 6.354142527154615e-05,\n",
       " 'a': 0.10554230737603816,\n",
       " 'ò': 0.0024893287782852785,\n",
       " 'ü': 0.00013829604323807102,\n",
       " 'i': 0.09739031628678861,\n",
       " 'q': 0.007819333039298503,\n",
       " 'g': 0.018677441298936243,\n",
       " 'j': 4.485277077991493e-05,\n",
       " 'ì': 0.003416286041070187,\n",
       " 't': 0.056357506484963106,\n",
       " 'v': 0.019862301993705662,\n",
       " 'o': 0.09472157642538367,\n",
       " 'à': 0.00238841004403047,\n",
       " 'u': 0.033800300513564224,\n",
       " 'h': 0.018348520979883532,\n",
       " 'd': 0.03634943298622272,\n",
       " 'ë': 0.00027659208647614204,\n",
       " 'x': 7.849234886485113e-05,\n",
       " 'k': 3.36395780849362e-05,\n",
       " 'l': 0.05928041204745423,\n",
       " 'ö': 4.111503988158869e-05,\n",
       " 'ù': 0.0023510327350472074,\n",
       " 'z': 0.004373145151041705,\n",
       " 'é': 0.002156670728334243,\n",
       " 'ï': 0.0009306949936832348}"
      ]
     },
     "execution_count": 59,
     "metadata": {},
     "output_type": "execute_result"
    }
   ],
   "source": [
    "letter_prob_dict = base.get_letter_probabilities(inferno_corrupted_merged, inferno_uncertainty_chars)\n",
    "letter_prob_dict"
   ]
  },
  {
   "cell_type": "code",
   "execution_count": 60,
   "metadata": {
    "executionInfo": {
     "elapsed": 14,
     "status": "ok",
     "timestamp": 1640217394432,
     "user": {
      "displayName": "Francesco Salvi",
      "photoUrl": "https://lh3.googleusercontent.com/a/default-user=s64",
      "userId": "17039456355099176000"
     },
     "user_tz": -60
    },
    "id": "eXgsj4XJLj-9"
   },
   "outputs": [],
   "source": [
    "np.random.seed(42)\n",
    "y, predictions_baseline, types = base.predict_corruptions_baseline(uncertainty_list_nocorr, inferno_uncertainty_chars, letter_prob_dict)"
   ]
  },
  {
   "cell_type": "code",
   "execution_count": 61,
   "metadata": {
    "colab": {
     "base_uri": "https://localhost:8080/"
    },
    "executionInfo": {
     "elapsed": 326,
     "status": "ok",
     "timestamp": 1640217394744,
     "user": {
      "displayName": "Francesco Salvi",
      "photoUrl": "https://lh3.googleusercontent.com/a/default-user=s64",
      "userId": "17039456355099176000"
     },
     "user_tz": -60
    },
    "id": "Rasr6wuZLuoP",
    "outputId": "67914e9c-fe88-4566-fe89-7aea6e12c59f"
   },
   "outputs": [
    {
     "data": {
      "text/plain": [
       "type\n",
       "ALTERNATE_READING     0.742574\n",
       "SINGLE_UNCERTAINTY    0.069182\n",
       "UNCERTAIN_SPACE       0.457822\n",
       "overall               0.495383\n",
       "dtype: float64"
      ]
     },
     "execution_count": 61,
     "metadata": {},
     "output_type": "execute_result"
    }
   ],
   "source": [
    "valid.evaluate_model(y, predictions_baseline, types)"
   ]
  },
  {
   "cell_type": "markdown",
   "metadata": {
    "id": "Fu6mvidelQI0"
   },
   "source": [
    "As of now, the baseline perform better then our initial toy models."
   ]
  },
  {
   "cell_type": "markdown",
   "metadata": {
    "id": "erGC5LrRV486"
   },
   "source": [
    "### Hyperparameter optimization"
   ]
  },
  {
   "cell_type": "code",
   "execution_count": 62,
   "metadata": {
    "executionInfo": {
     "elapsed": 4,
     "status": "ok",
     "timestamp": 1640217394745,
     "user": {
      "displayName": "Francesco Salvi",
      "photoUrl": "https://lh3.googleusercontent.com/a/default-user=s64",
      "userId": "17039456355099176000"
     },
     "user_tz": -60
    },
    "id": "cqcC-KkarEy-"
   },
   "outputs": [],
   "source": [
    "import datetime\n",
    "import pytz\n",
    "def printts(*objects):\n",
    "    print(datetime.datetime.now(pytz.timezone('Europe/Zurich')).strftime(\"%d %b %Y %H:%M:%S\"), \":\", *objects)"
   ]
  },
  {
   "cell_type": "code",
   "execution_count": 63,
   "metadata": {
    "executionInfo": {
     "elapsed": 333,
     "status": "ok",
     "timestamp": 1640219377246,
     "user": {
      "displayName": "Francesco Salvi",
      "photoUrl": "https://lh3.googleusercontent.com/a/default-user=s64",
      "userId": "17039456355099176000"
     },
     "user_tz": -60
    },
    "id": "0wuxHA4jrxGs"
   },
   "outputs": [],
   "source": [
    "def grid_search_optimization(convert_uncertaintiess, build_vocabs, sgs, min_counts,\n",
    "                             vector_sizes, windows, epochss, negatives, min_ns,\n",
    "                             max_ns, alphas):\n",
    "    '''\n",
    "    Perform grid-search optimization, finding the best hyperparameters \n",
    "    for FastText models among a list of possibilities.\n",
    "\n",
    "    Args:\n",
    "        convert_uncertaintiess (list of int): 0 corresponds to models I, 1 to models II\n",
    "        build_vocabs (list of int): 0 corresponds to models A, 1 to models B\n",
    "        sgs (list of int): 0 corresponds to CBOW, 1 to SkipGram\n",
    "        min_counts (list of int): minimum word frequencies\n",
    "        vector_sizes (list of int): embeddings sizes\n",
    "        windows (list of int): window sizes\n",
    "        epochss (list of int): numbers of epochs\n",
    "        negatives (list of int): numbers of draws for negaive sampling\n",
    "        min_ns (list of int): minimum char n-grams\n",
    "        max_ns (list of int): maximum char n-grams\n",
    "        alphas (list of float): learning rates\n",
    "\n",
    "    Returns:\n",
    "        (list of dict): dictionaries of hyperparameter sets enriched with\n",
    "            accuracies over different types of ambiguities\n",
    "    '''\n",
    "\n",
    "    hyperparams_list = [{'convert_uncertainties': convert_uncertainties,\n",
    "                         'build_vocab': build_vocab,\n",
    "                         'sg': sg,  \n",
    "                         'min_count': min_count,\n",
    "                         'vector_size': vector_size,\n",
    "                         'window': window,\n",
    "                         'epochs': epochs,\n",
    "                         'negative': negative,\n",
    "                         'min_n': min_n,\n",
    "                         'max_n': max_n,\n",
    "                         'alpha': alpha,\n",
    "                         'min_alpha': alpha / 10\n",
    "                         } \n",
    "                        for build_vocab in build_vocabs\n",
    "                        for convert_uncertainties in convert_uncertaintiess\n",
    "                        for sg in sgs for min_count in min_counts\n",
    "                        for vector_size in vector_sizes\n",
    "                        for window in windows for epochs in epochss\n",
    "                        for negative in negatives\n",
    "                        for min_n in min_ns for max_n in max_ns \n",
    "                        for alpha in alphas]\n",
    "\n",
    "    n_hyperparams = len(hyperparams_list)\n",
    "    training_time = 60\n",
    "    evaluation_time = 2\n",
    "    iteration_time = training_time + evaluation_time\n",
    "    estimated_time = n_hyperparams * iteration_time / 3600\n",
    "\n",
    "    printts('Number of hyperparameters to try: ', n_hyperparams)\n",
    "    printts('Estimated time:', estimated_time, 'h')\n",
    "\n",
    "    results = []\n",
    "    printts('Starting optimization...')\n",
    "    t_prev = time.time()\n",
    "\n",
    "    for i, hyperparams in enumerate(hyperparams_list):\n",
    "\n",
    "        conv_uncert = hyperparams['convert_uncertainties']\n",
    "        build_vocab = hyperparams['build_vocab']\n",
    "        how = 'softmax' if build_vocab else 'cosine'\n",
    "        del hyperparams['convert_uncertainties']\n",
    "        del hyperparams['build_vocab']\n",
    "\n",
    "        text = inferno_corrupted_nocorr_tokenized if not conv_uncert \\\n",
    "            else inferno_corrupted_repcorr_tokenized\n",
    "        uncert_list = uncertainty_list_nocorr if not conv_uncert else uncertainty_list_repcorr\n",
    "        uncert_vocab = vocab_nocorr if not conv_uncert else vocab_repcorr\n",
    "\n",
    "        model = FastText(seed=42, **hyperparams)\n",
    "        vocab = text\n",
    "        vocab += uncert_vocab if build_vocab else []\n",
    "        model.build_vocab(vocab)\n",
    "        model.train(text, total_examples=model.corpus_count, epochs=model.epochs)\n",
    "\n",
    "        accuracies = valid.predict_and_evaluate_model(model, hyperparams['window'], uncert_list, how)\n",
    "\n",
    "        result = {'accuracies': accuracies,\n",
    "                'convert_uncertainties': conv_uncert,\n",
    "                'build_vocab': build_vocab,\n",
    "                **hyperparams}\n",
    "\n",
    "        t_now = time.time()\n",
    "        estimated_time -= iteration_time / 3600\n",
    "        printts(f'Iteration {i}/{n_hyperparams}: time taken {t_now-t_prev:.2f}s, time remaining {estimated_time:.2f}h')\n",
    "        print(result, '\\n')\n",
    "        t_prev = t_now\n",
    "        \n",
    "        results.append(result)\n",
    "\n",
    "    printts('Optimization finished')\n",
    "    results = sorted(results, key=lambda result: result['accuracies']['overall'], reverse=True)\n",
    "    return results"
   ]
  },
  {
   "cell_type": "code",
   "execution_count": 64,
   "metadata": {
    "executionInfo": {
     "elapsed": 332,
     "status": "ok",
     "timestamp": 1640219279078,
     "user": {
      "displayName": "Francesco Salvi",
      "photoUrl": "https://lh3.googleusercontent.com/a/default-user=s64",
      "userId": "17039456355099176000"
     },
     "user_tz": -60
    },
    "id": "EtmLUx5FuvP9"
   },
   "outputs": [],
   "source": [
    "sgs = [0, 1]\n",
    "min_counts = [1, 2, 5]\n",
    "vector_sizes = [20, 50, 100, 300]\n",
    "windows = [5, 8, 11]\n",
    "epochss = [20]\n",
    "negatives = [20]\n",
    "min_ns = [2]\n",
    "max_ns = [6]\n",
    "alphas = [0.05]"
   ]
  },
  {
   "cell_type": "markdown",
   "metadata": {
    "id": "Z_4iVwswrFkO"
   },
   "source": [
    "#### 1A"
   ]
  },
  {
   "cell_type": "code",
   "execution_count": 65,
   "metadata": {
    "id": "NFQqcy8-t5Ra"
   },
   "outputs": [
    {
     "name": "stdout",
     "output_type": "stream",
     "text": [
      "23 Dec 2021 12:10:10 : Number of hyperparameters to try:  72\n",
      "23 Dec 2021 12:10:10 : Estimated time: 1.24 h\n",
      "23 Dec 2021 12:10:10 : Starting optimization...\n",
      "23 Dec 2021 12:10:18 : Iteration 0/72: time taken 7.52s, time remaining 1.22h\n",
      "{'accuracies': type\n",
      "ALTERNATE_READING     0.556106\n",
      "SINGLE_UNCERTAINTY    0.106918\n",
      "UNCERTAIN_SPACE       0.448532\n",
      "overall               0.460530\n",
      "dtype: float64, 'convert_uncertainties': 0, 'build_vocab': 0, 'sg': 0, 'min_count': 1, 'vector_size': 20, 'window': 5, 'epochs': 20, 'negative': 20, 'min_n': 2, 'max_n': 6, 'alpha': 0.05, 'min_alpha': 0.005} \n",
      "\n",
      "23 Dec 2021 12:10:28 : Iteration 1/72: time taken 9.56s, time remaining 1.21h\n",
      "{'accuracies': type\n",
      "ALTERNATE_READING     0.580858\n",
      "SINGLE_UNCERTAINTY    0.138365\n",
      "UNCERTAIN_SPACE       0.445931\n",
      "overall               0.463807\n",
      "dtype: float64, 'convert_uncertainties': 0, 'build_vocab': 0, 'sg': 0, 'min_count': 1, 'vector_size': 20, 'window': 8, 'epochs': 20, 'negative': 20, 'min_n': 2, 'max_n': 6, 'alpha': 0.05, 'min_alpha': 0.005} \n",
      "\n",
      "23 Dec 2021 12:10:37 : Iteration 2/72: time taken 9.42s, time remaining 1.19h\n",
      "{'accuracies': type\n",
      "ALTERNATE_READING     0.572607\n",
      "SINGLE_UNCERTAINTY    0.119497\n",
      "UNCERTAIN_SPACE       0.439985\n",
      "overall               0.456956\n",
      "dtype: float64, 'convert_uncertainties': 0, 'build_vocab': 0, 'sg': 0, 'min_count': 1, 'vector_size': 20, 'window': 11, 'epochs': 20, 'negative': 20, 'min_n': 2, 'max_n': 6, 'alpha': 0.05, 'min_alpha': 0.005} \n",
      "\n",
      "23 Dec 2021 12:10:46 : Iteration 3/72: time taken 8.56s, time remaining 1.17h\n",
      "{'accuracies': type\n",
      "ALTERNATE_READING     0.554455\n",
      "SINGLE_UNCERTAINTY    0.113208\n",
      "UNCERTAIN_SPACE       0.445931\n",
      "overall               0.458743\n",
      "dtype: float64, 'convert_uncertainties': 0, 'build_vocab': 0, 'sg': 0, 'min_count': 1, 'vector_size': 50, 'window': 5, 'epochs': 20, 'negative': 20, 'min_n': 2, 'max_n': 6, 'alpha': 0.05, 'min_alpha': 0.005} \n",
      "\n",
      "23 Dec 2021 12:10:54 : Iteration 4/72: time taken 8.78s, time remaining 1.15h\n",
      "{'accuracies': type\n",
      "ALTERNATE_READING     0.569307\n",
      "SINGLE_UNCERTAINTY    0.125786\n",
      "UNCERTAIN_SPACE       0.443701\n",
      "overall               0.459934\n",
      "dtype: float64, 'convert_uncertainties': 0, 'build_vocab': 0, 'sg': 0, 'min_count': 1, 'vector_size': 50, 'window': 8, 'epochs': 20, 'negative': 20, 'min_n': 2, 'max_n': 6, 'alpha': 0.05, 'min_alpha': 0.005} \n",
      "\n",
      "23 Dec 2021 12:11:05 : Iteration 5/72: time taken 10.69s, time remaining 1.14h\n",
      "{'accuracies': type\n",
      "ALTERNATE_READING     0.570957\n",
      "SINGLE_UNCERTAINTY    0.125786\n",
      "UNCERTAIN_SPACE       0.444444\n",
      "overall               0.459934\n",
      "dtype: float64, 'convert_uncertainties': 0, 'build_vocab': 0, 'sg': 0, 'min_count': 1, 'vector_size': 50, 'window': 11, 'epochs': 20, 'negative': 20, 'min_n': 2, 'max_n': 6, 'alpha': 0.05, 'min_alpha': 0.005} \n",
      "\n",
      "23 Dec 2021 12:11:15 : Iteration 6/72: time taken 9.58s, time remaining 1.12h\n",
      "{'accuracies': type\n",
      "ALTERNATE_READING     0.566007\n",
      "SINGLE_UNCERTAINTY    0.106918\n",
      "UNCERTAIN_SPACE       0.449647\n",
      "overall               0.463509\n",
      "dtype: float64, 'convert_uncertainties': 0, 'build_vocab': 0, 'sg': 0, 'min_count': 1, 'vector_size': 100, 'window': 5, 'epochs': 20, 'negative': 20, 'min_n': 2, 'max_n': 6, 'alpha': 0.05, 'min_alpha': 0.005} \n",
      "\n",
      "23 Dec 2021 12:11:23 : Iteration 7/72: time taken 8.87s, time remaining 1.10h\n",
      "{'accuracies': type\n",
      "ALTERNATE_READING     0.575908\n",
      "SINGLE_UNCERTAINTY    0.132075\n",
      "UNCERTAIN_SPACE       0.439985\n",
      "overall               0.457551\n",
      "dtype: float64, 'convert_uncertainties': 0, 'build_vocab': 0, 'sg': 0, 'min_count': 1, 'vector_size': 100, 'window': 8, 'epochs': 20, 'negative': 20, 'min_n': 2, 'max_n': 6, 'alpha': 0.05, 'min_alpha': 0.005} \n",
      "\n",
      "23 Dec 2021 12:11:34 : Iteration 8/72: time taken 10.40s, time remaining 1.08h\n",
      "{'accuracies': type\n",
      "ALTERNATE_READING     0.572607\n",
      "SINGLE_UNCERTAINTY    0.125786\n",
      "UNCERTAIN_SPACE       0.442586\n",
      "overall               0.459339\n",
      "dtype: float64, 'convert_uncertainties': 0, 'build_vocab': 0, 'sg': 0, 'min_count': 1, 'vector_size': 100, 'window': 11, 'epochs': 20, 'negative': 20, 'min_n': 2, 'max_n': 6, 'alpha': 0.05, 'min_alpha': 0.005} \n",
      "\n",
      "23 Dec 2021 12:11:49 : Iteration 9/72: time taken 14.95s, time remaining 1.07h\n",
      "{'accuracies': type\n",
      "ALTERNATE_READING     0.562706\n",
      "SINGLE_UNCERTAINTY    0.113208\n",
      "UNCERTAIN_SPACE       0.442215\n",
      "overall               0.457849\n",
      "dtype: float64, 'convert_uncertainties': 0, 'build_vocab': 0, 'sg': 0, 'min_count': 1, 'vector_size': 300, 'window': 5, 'epochs': 20, 'negative': 20, 'min_n': 2, 'max_n': 6, 'alpha': 0.05, 'min_alpha': 0.005} \n",
      "\n",
      "23 Dec 2021 12:12:05 : Iteration 10/72: time taken 15.84s, time remaining 1.05h\n",
      "{'accuracies': type\n",
      "ALTERNATE_READING     0.577558\n",
      "SINGLE_UNCERTAINTY    0.119497\n",
      "UNCERTAIN_SPACE       0.438127\n",
      "overall               0.455466\n",
      "dtype: float64, 'convert_uncertainties': 0, 'build_vocab': 0, 'sg': 0, 'min_count': 1, 'vector_size': 300, 'window': 8, 'epochs': 20, 'negative': 20, 'min_n': 2, 'max_n': 6, 'alpha': 0.05, 'min_alpha': 0.005} \n",
      "\n",
      "23 Dec 2021 12:12:20 : Iteration 11/72: time taken 15.85s, time remaining 1.03h\n",
      "{'accuracies': type\n",
      "ALTERNATE_READING     0.569307\n",
      "SINGLE_UNCERTAINTY    0.138365\n",
      "UNCERTAIN_SPACE       0.435897\n",
      "overall               0.453679\n",
      "dtype: float64, 'convert_uncertainties': 0, 'build_vocab': 0, 'sg': 0, 'min_count': 1, 'vector_size': 300, 'window': 11, 'epochs': 20, 'negative': 20, 'min_n': 2, 'max_n': 6, 'alpha': 0.05, 'min_alpha': 0.005} \n",
      "\n",
      "23 Dec 2021 12:12:27 : Iteration 12/72: time taken 6.95s, time remaining 1.02h\n",
      "{'accuracies': type\n",
      "ALTERNATE_READING     0.533003\n",
      "SINGLE_UNCERTAINTY    0.100629\n",
      "UNCERTAIN_SPACE       0.442586\n",
      "overall               0.451296\n",
      "dtype: float64, 'convert_uncertainties': 0, 'build_vocab': 0, 'sg': 0, 'min_count': 2, 'vector_size': 20, 'window': 5, 'epochs': 20, 'negative': 20, 'min_n': 2, 'max_n': 6, 'alpha': 0.05, 'min_alpha': 0.005} \n",
      "\n",
      "23 Dec 2021 12:12:36 : Iteration 13/72: time taken 8.56s, time remaining 1.00h\n",
      "{'accuracies': type\n",
      "ALTERNATE_READING     0.561056\n",
      "SINGLE_UNCERTAINTY    0.113208\n",
      "UNCERTAIN_SPACE       0.444073\n",
      "overall               0.458743\n",
      "dtype: float64, 'convert_uncertainties': 0, 'build_vocab': 0, 'sg': 0, 'min_count': 2, 'vector_size': 20, 'window': 8, 'epochs': 20, 'negative': 20, 'min_n': 2, 'max_n': 6, 'alpha': 0.05, 'min_alpha': 0.005} \n",
      "\n",
      "23 Dec 2021 12:12:45 : Iteration 14/72: time taken 9.32s, time remaining 0.98h\n",
      "{'accuracies': type\n",
      "ALTERNATE_READING     0.554455\n",
      "SINGLE_UNCERTAINTY    0.113208\n",
      "UNCERTAIN_SPACE       0.442586\n",
      "overall               0.456360\n",
      "dtype: float64, 'convert_uncertainties': 0, 'build_vocab': 0, 'sg': 0, 'min_count': 2, 'vector_size': 20, 'window': 11, 'epochs': 20, 'negative': 20, 'min_n': 2, 'max_n': 6, 'alpha': 0.05, 'min_alpha': 0.005} \n",
      "\n",
      "23 Dec 2021 12:12:53 : Iteration 15/72: time taken 7.55s, time remaining 0.96h\n",
      "{'accuracies': type\n",
      "ALTERNATE_READING     0.554455\n",
      "SINGLE_UNCERTAINTY    0.119497\n",
      "UNCERTAIN_SPACE       0.436641\n",
      "overall               0.451892\n",
      "dtype: float64, 'convert_uncertainties': 0, 'build_vocab': 0, 'sg': 0, 'min_count': 2, 'vector_size': 50, 'window': 5, 'epochs': 20, 'negative': 20, 'min_n': 2, 'max_n': 6, 'alpha': 0.05, 'min_alpha': 0.005} \n",
      "\n",
      "23 Dec 2021 12:13:01 : Iteration 16/72: time taken 7.96s, time remaining 0.95h\n",
      "{'accuracies': type\n",
      "ALTERNATE_READING     0.552805\n",
      "SINGLE_UNCERTAINTY    0.132075\n",
      "UNCERTAIN_SPACE       0.445188\n",
      "overall               0.458743\n",
      "dtype: float64, 'convert_uncertainties': 0, 'build_vocab': 0, 'sg': 0, 'min_count': 2, 'vector_size': 50, 'window': 8, 'epochs': 20, 'negative': 20, 'min_n': 2, 'max_n': 6, 'alpha': 0.05, 'min_alpha': 0.005} \n",
      "\n",
      "23 Dec 2021 12:13:10 : Iteration 17/72: time taken 8.78s, time remaining 0.93h\n",
      "{'accuracies': type\n",
      "ALTERNATE_READING     0.541254\n",
      "SINGLE_UNCERTAINTY    0.125786\n",
      "UNCERTAIN_SPACE       0.442215\n",
      "overall               0.453381\n",
      "dtype: float64, 'convert_uncertainties': 0, 'build_vocab': 0, 'sg': 0, 'min_count': 2, 'vector_size': 50, 'window': 11, 'epochs': 20, 'negative': 20, 'min_n': 2, 'max_n': 6, 'alpha': 0.05, 'min_alpha': 0.005} \n",
      "\n",
      "23 Dec 2021 12:13:19 : Iteration 18/72: time taken 8.99s, time remaining 0.91h\n",
      "{'accuracies': type\n",
      "ALTERNATE_READING     0.542904\n",
      "SINGLE_UNCERTAINTY    0.119497\n",
      "UNCERTAIN_SPACE       0.433668\n",
      "overall               0.447125\n",
      "dtype: float64, 'convert_uncertainties': 0, 'build_vocab': 0, 'sg': 0, 'min_count': 2, 'vector_size': 100, 'window': 5, 'epochs': 20, 'negative': 20, 'min_n': 2, 'max_n': 6, 'alpha': 0.05, 'min_alpha': 0.005} \n",
      "\n"
     ]
    },
    {
     "name": "stdout",
     "output_type": "stream",
     "text": [
      "23 Dec 2021 12:13:29 : Iteration 19/72: time taken 9.99s, time remaining 0.90h\n",
      "{'accuracies': type\n",
      "ALTERNATE_READING     0.564356\n",
      "SINGLE_UNCERTAINTY    0.119497\n",
      "UNCERTAIN_SPACE       0.450762\n",
      "overall               0.464701\n",
      "dtype: float64, 'convert_uncertainties': 0, 'build_vocab': 0, 'sg': 0, 'min_count': 2, 'vector_size': 100, 'window': 8, 'epochs': 20, 'negative': 20, 'min_n': 2, 'max_n': 6, 'alpha': 0.05, 'min_alpha': 0.005} \n",
      "\n",
      "23 Dec 2021 12:13:39 : Iteration 20/72: time taken 9.95s, time remaining 0.88h\n",
      "{'accuracies': type\n",
      "ALTERNATE_READING     0.546205\n",
      "SINGLE_UNCERTAINTY    0.119497\n",
      "UNCERTAIN_SPACE       0.441472\n",
      "overall               0.454870\n",
      "dtype: float64, 'convert_uncertainties': 0, 'build_vocab': 0, 'sg': 0, 'min_count': 2, 'vector_size': 100, 'window': 11, 'epochs': 20, 'negative': 20, 'min_n': 2, 'max_n': 6, 'alpha': 0.05, 'min_alpha': 0.005} \n",
      "\n",
      "23 Dec 2021 12:13:52 : Iteration 21/72: time taken 13.58s, time remaining 0.86h\n",
      "{'accuracies': type\n",
      "ALTERNATE_READING     0.559406\n",
      "SINGLE_UNCERTAINTY    0.100629\n",
      "UNCERTAIN_SPACE       0.430323\n",
      "overall               0.446530\n",
      "dtype: float64, 'convert_uncertainties': 0, 'build_vocab': 0, 'sg': 0, 'min_count': 2, 'vector_size': 300, 'window': 5, 'epochs': 20, 'negative': 20, 'min_n': 2, 'max_n': 6, 'alpha': 0.05, 'min_alpha': 0.005} \n",
      "\n",
      "23 Dec 2021 12:14:05 : Iteration 22/72: time taken 12.69s, time remaining 0.84h\n",
      "{'accuracies': type\n",
      "ALTERNATE_READING     0.572607\n",
      "SINGLE_UNCERTAINTY    0.106918\n",
      "UNCERTAIN_SPACE       0.443701\n",
      "overall               0.459934\n",
      "dtype: float64, 'convert_uncertainties': 0, 'build_vocab': 0, 'sg': 0, 'min_count': 2, 'vector_size': 300, 'window': 8, 'epochs': 20, 'negative': 20, 'min_n': 2, 'max_n': 6, 'alpha': 0.05, 'min_alpha': 0.005} \n",
      "\n"
     ]
    },
    {
     "ename": "KeyboardInterrupt",
     "evalue": "",
     "output_type": "error",
     "traceback": [
      "\u001b[1;31m---------------------------------------------------------------------------\u001b[0m",
      "\u001b[1;31mAttributeError\u001b[0m                            Traceback (most recent call last)",
      "\u001b[1;32mC:\\ProgramData\\Anaconda3\\lib\\site-packages\\pandas\\core\\generic.py\u001b[0m in \u001b[0;36m__setattr__\u001b[1;34m(self, name, value)\u001b[0m\n\u001b[0;32m   5476\u001b[0m         \u001b[1;32mtry\u001b[0m\u001b[1;33m:\u001b[0m\u001b[1;33m\u001b[0m\u001b[1;33m\u001b[0m\u001b[0m\n\u001b[1;32m-> 5477\u001b[1;33m             \u001b[0mobject\u001b[0m\u001b[1;33m.\u001b[0m\u001b[0m__getattribute__\u001b[0m\u001b[1;33m(\u001b[0m\u001b[0mself\u001b[0m\u001b[1;33m,\u001b[0m \u001b[0mname\u001b[0m\u001b[1;33m)\u001b[0m\u001b[1;33m\u001b[0m\u001b[1;33m\u001b[0m\u001b[0m\n\u001b[0m\u001b[0;32m   5478\u001b[0m             \u001b[1;32mreturn\u001b[0m \u001b[0mobject\u001b[0m\u001b[1;33m.\u001b[0m\u001b[0m__setattr__\u001b[0m\u001b[1;33m(\u001b[0m\u001b[0mself\u001b[0m\u001b[1;33m,\u001b[0m \u001b[0mname\u001b[0m\u001b[1;33m,\u001b[0m \u001b[0mvalue\u001b[0m\u001b[1;33m)\u001b[0m\u001b[1;33m\u001b[0m\u001b[1;33m\u001b[0m\u001b[0m\n",
      "\u001b[1;32mC:\\ProgramData\\Anaconda3\\lib\\site-packages\\pandas\\core\\series.py\u001b[0m in \u001b[0;36mname\u001b[1;34m(self)\u001b[0m\n\u001b[0;32m    535\u001b[0m         \"\"\"\n\u001b[1;32m--> 536\u001b[1;33m         \u001b[1;32mreturn\u001b[0m \u001b[0mself\u001b[0m\u001b[1;33m.\u001b[0m\u001b[0m_name\u001b[0m\u001b[1;33m\u001b[0m\u001b[1;33m\u001b[0m\u001b[0m\n\u001b[0m\u001b[0;32m    537\u001b[0m \u001b[1;33m\u001b[0m\u001b[0m\n",
      "\u001b[1;32mC:\\ProgramData\\Anaconda3\\lib\\site-packages\\pandas\\core\\generic.py\u001b[0m in \u001b[0;36m__getattr__\u001b[1;34m(self, name)\u001b[0m\n\u001b[0;32m   5460\u001b[0m         ):\n\u001b[1;32m-> 5461\u001b[1;33m             \u001b[1;32mreturn\u001b[0m \u001b[0mobject\u001b[0m\u001b[1;33m.\u001b[0m\u001b[0m__getattribute__\u001b[0m\u001b[1;33m(\u001b[0m\u001b[0mself\u001b[0m\u001b[1;33m,\u001b[0m \u001b[0mname\u001b[0m\u001b[1;33m)\u001b[0m\u001b[1;33m\u001b[0m\u001b[1;33m\u001b[0m\u001b[0m\n\u001b[0m\u001b[0;32m   5462\u001b[0m         \u001b[1;32melse\u001b[0m\u001b[1;33m:\u001b[0m\u001b[1;33m\u001b[0m\u001b[1;33m\u001b[0m\u001b[0m\n",
      "\u001b[1;31mAttributeError\u001b[0m: 'Series' object has no attribute '_name'",
      "\nDuring handling of the above exception, another exception occurred:\n",
      "\u001b[1;31mKeyboardInterrupt\u001b[0m                         Traceback (most recent call last)",
      "\u001b[1;32m<ipython-input-65-b3050e552ffa>\u001b[0m in \u001b[0;36m<module>\u001b[1;34m\u001b[0m\n\u001b[1;32m----> 1\u001b[1;33m results_1A = grid_search_optimization([0], [0], sgs, min_counts, vector_sizes, \n\u001b[0m\u001b[0;32m      2\u001b[0m                                       \u001b[0mwindows\u001b[0m\u001b[1;33m,\u001b[0m \u001b[0mepochss\u001b[0m\u001b[1;33m,\u001b[0m \u001b[0mnegatives\u001b[0m\u001b[1;33m,\u001b[0m \u001b[0mmin_ns\u001b[0m\u001b[1;33m,\u001b[0m\u001b[1;33m\u001b[0m\u001b[1;33m\u001b[0m\u001b[0m\n\u001b[0;32m      3\u001b[0m                                       max_ns, alphas)\n",
      "\u001b[1;32m<ipython-input-63-98c88d08c83c>\u001b[0m in \u001b[0;36mgrid_search_optimization\u001b[1;34m(convert_uncertaintiess, build_vocabs, sgs, min_counts, vector_sizes, windows, epochss, negatives, min_ns, max_ns, alphas)\u001b[0m\n\u001b[0;32m     78\u001b[0m         \u001b[0mmodel\u001b[0m\u001b[1;33m.\u001b[0m\u001b[0mtrain\u001b[0m\u001b[1;33m(\u001b[0m\u001b[0mtext\u001b[0m\u001b[1;33m,\u001b[0m \u001b[0mtotal_examples\u001b[0m\u001b[1;33m=\u001b[0m\u001b[0mmodel\u001b[0m\u001b[1;33m.\u001b[0m\u001b[0mcorpus_count\u001b[0m\u001b[1;33m,\u001b[0m \u001b[0mepochs\u001b[0m\u001b[1;33m=\u001b[0m\u001b[0mmodel\u001b[0m\u001b[1;33m.\u001b[0m\u001b[0mepochs\u001b[0m\u001b[1;33m)\u001b[0m\u001b[1;33m\u001b[0m\u001b[1;33m\u001b[0m\u001b[0m\n\u001b[0;32m     79\u001b[0m \u001b[1;33m\u001b[0m\u001b[0m\n\u001b[1;32m---> 80\u001b[1;33m         \u001b[0maccuracies\u001b[0m \u001b[1;33m=\u001b[0m \u001b[0mvalid\u001b[0m\u001b[1;33m.\u001b[0m\u001b[0mpredict_and_evaluate_model\u001b[0m\u001b[1;33m(\u001b[0m\u001b[0mmodel\u001b[0m\u001b[1;33m,\u001b[0m \u001b[0mhyperparams\u001b[0m\u001b[1;33m[\u001b[0m\u001b[1;34m'window'\u001b[0m\u001b[1;33m]\u001b[0m\u001b[1;33m,\u001b[0m \u001b[0muncert_list\u001b[0m\u001b[1;33m,\u001b[0m \u001b[0mhow\u001b[0m\u001b[1;33m)\u001b[0m\u001b[1;33m\u001b[0m\u001b[1;33m\u001b[0m\u001b[0m\n\u001b[0m\u001b[0;32m     81\u001b[0m \u001b[1;33m\u001b[0m\u001b[0m\n\u001b[0;32m     82\u001b[0m         result = {'accuracies': accuracies,\n",
      "\u001b[1;32m~\\Documents\\ml-project-2-scikit-learn2\\validation.py\u001b[0m in \u001b[0;36mpredict_and_evaluate_model\u001b[1;34m(model, window, uncertainties_list, how)\u001b[0m\n\u001b[0;32m    176\u001b[0m     '''\n\u001b[0;32m    177\u001b[0m     \u001b[0my\u001b[0m\u001b[1;33m,\u001b[0m \u001b[0mpredictions\u001b[0m\u001b[1;33m,\u001b[0m \u001b[0mtypes\u001b[0m \u001b[1;33m=\u001b[0m \u001b[0mpredict_corruption\u001b[0m\u001b[1;33m(\u001b[0m\u001b[0mmodel\u001b[0m\u001b[1;33m,\u001b[0m \u001b[0mwindow\u001b[0m\u001b[1;33m,\u001b[0m \u001b[0muncertainties_list\u001b[0m\u001b[1;33m,\u001b[0m \u001b[0mhow\u001b[0m\u001b[1;33m)\u001b[0m\u001b[1;33m\u001b[0m\u001b[1;33m\u001b[0m\u001b[0m\n\u001b[1;32m--> 178\u001b[1;33m     \u001b[0maccuracies\u001b[0m \u001b[1;33m=\u001b[0m \u001b[0mevaluate_model\u001b[0m\u001b[1;33m(\u001b[0m\u001b[0my\u001b[0m\u001b[1;33m,\u001b[0m \u001b[0mpredictions\u001b[0m\u001b[1;33m,\u001b[0m \u001b[0mtypes\u001b[0m\u001b[1;33m)\u001b[0m\u001b[1;33m\u001b[0m\u001b[1;33m\u001b[0m\u001b[0m\n\u001b[0m\u001b[0;32m    179\u001b[0m     \u001b[1;32mreturn\u001b[0m \u001b[0maccuracies\u001b[0m\u001b[1;33m\u001b[0m\u001b[1;33m\u001b[0m\u001b[0m\n",
      "\u001b[1;32m~\\Documents\\ml-project-2-scikit-learn2\\validation.py\u001b[0m in \u001b[0;36mevaluate_model\u001b[1;34m(y, predictions, types)\u001b[0m\n\u001b[0;32m    151\u001b[0m     results = pd.DataFrame({'y': y, 'prediction': predictions,\n\u001b[0;32m    152\u001b[0m                             'types': types}).set_index(['y', 'prediction'])\n\u001b[1;32m--> 153\u001b[1;33m     \u001b[0mresults\u001b[0m \u001b[1;33m=\u001b[0m \u001b[0mresults\u001b[0m\u001b[1;33m.\u001b[0m\u001b[0mtypes\u001b[0m\u001b[1;33m.\u001b[0m\u001b[0mapply\u001b[0m\u001b[1;33m(\u001b[0m\u001b[0mpd\u001b[0m\u001b[1;33m.\u001b[0m\u001b[0mSeries\u001b[0m\u001b[1;33m)\u001b[0m\u001b[1;33m.\u001b[0m\u001b[0mstack\u001b[0m\u001b[1;33m(\u001b[0m\u001b[1;33m)\u001b[0m\u001b[1;33m.\u001b[0m\u001b[0mreset_index\u001b[0m\u001b[1;33m(\u001b[0m\u001b[1;33m)\u001b[0m\u001b[1;33m.\u001b[0m\u001b[0mrename\u001b[0m\u001b[1;33m(\u001b[0m\u001b[1;33m{\u001b[0m\u001b[1;36m0\u001b[0m\u001b[1;33m:\u001b[0m \u001b[1;34m'type'\u001b[0m\u001b[1;33m}\u001b[0m\u001b[1;33m,\u001b[0m \u001b[0maxis\u001b[0m\u001b[1;33m=\u001b[0m\u001b[1;36m1\u001b[0m\u001b[1;33m)\u001b[0m\u001b[1;33m\u001b[0m\u001b[1;33m\u001b[0m\u001b[0m\n\u001b[0m\u001b[0;32m    154\u001b[0m     \u001b[0maccuracies\u001b[0m \u001b[1;33m=\u001b[0m \u001b[0mresults\u001b[0m\u001b[1;33m.\u001b[0m\u001b[0mgroupby\u001b[0m\u001b[1;33m(\u001b[0m\u001b[1;34m'type'\u001b[0m\u001b[1;33m)\u001b[0m\u001b[1;33m.\u001b[0m\u001b[0mapply\u001b[0m\u001b[1;33m(\u001b[0m\u001b[1;32mlambda\u001b[0m \u001b[0mx\u001b[0m\u001b[1;33m:\u001b[0m \u001b[0mx\u001b[0m\u001b[1;33m.\u001b[0m\u001b[0my\u001b[0m \u001b[1;33m==\u001b[0m \u001b[0mx\u001b[0m\u001b[1;33m.\u001b[0m\u001b[0mprediction\u001b[0m\u001b[1;33m)\u001b[0m\u001b[1;33m.\u001b[0m\u001b[0mgroupby\u001b[0m\u001b[1;33m(\u001b[0m\u001b[1;34m'type'\u001b[0m\u001b[1;33m)\u001b[0m\u001b[1;33m\u001b[0m\u001b[1;33m\u001b[0m\u001b[0m\n\u001b[0;32m    155\u001b[0m     \u001b[0maccuracies\u001b[0m \u001b[1;33m=\u001b[0m \u001b[0maccuracies\u001b[0m\u001b[1;33m.\u001b[0m\u001b[0msum\u001b[0m\u001b[1;33m(\u001b[0m\u001b[1;33m)\u001b[0m \u001b[1;33m/\u001b[0m \u001b[0maccuracies\u001b[0m\u001b[1;33m.\u001b[0m\u001b[0msize\u001b[0m\u001b[1;33m(\u001b[0m\u001b[1;33m)\u001b[0m\u001b[1;33m\u001b[0m\u001b[1;33m\u001b[0m\u001b[0m\n",
      "\u001b[1;32mC:\\ProgramData\\Anaconda3\\lib\\site-packages\\pandas\\core\\series.py\u001b[0m in \u001b[0;36mapply\u001b[1;34m(self, func, convert_dtype, args, **kwds)\u001b[0m\n\u001b[0;32m   4136\u001b[0m             \u001b[1;32melse\u001b[0m\u001b[1;33m:\u001b[0m\u001b[1;33m\u001b[0m\u001b[1;33m\u001b[0m\u001b[0m\n\u001b[0;32m   4137\u001b[0m                 \u001b[0mvalues\u001b[0m \u001b[1;33m=\u001b[0m \u001b[0mself\u001b[0m\u001b[1;33m.\u001b[0m\u001b[0mastype\u001b[0m\u001b[1;33m(\u001b[0m\u001b[0mobject\u001b[0m\u001b[1;33m)\u001b[0m\u001b[1;33m.\u001b[0m\u001b[0m_values\u001b[0m\u001b[1;33m\u001b[0m\u001b[1;33m\u001b[0m\u001b[0m\n\u001b[1;32m-> 4138\u001b[1;33m                 \u001b[0mmapped\u001b[0m \u001b[1;33m=\u001b[0m \u001b[0mlib\u001b[0m\u001b[1;33m.\u001b[0m\u001b[0mmap_infer\u001b[0m\u001b[1;33m(\u001b[0m\u001b[0mvalues\u001b[0m\u001b[1;33m,\u001b[0m \u001b[0mf\u001b[0m\u001b[1;33m,\u001b[0m \u001b[0mconvert\u001b[0m\u001b[1;33m=\u001b[0m\u001b[0mconvert_dtype\u001b[0m\u001b[1;33m)\u001b[0m\u001b[1;33m\u001b[0m\u001b[1;33m\u001b[0m\u001b[0m\n\u001b[0m\u001b[0;32m   4139\u001b[0m \u001b[1;33m\u001b[0m\u001b[0m\n\u001b[0;32m   4140\u001b[0m         \u001b[1;32mif\u001b[0m \u001b[0mlen\u001b[0m\u001b[1;33m(\u001b[0m\u001b[0mmapped\u001b[0m\u001b[1;33m)\u001b[0m \u001b[1;32mand\u001b[0m \u001b[0misinstance\u001b[0m\u001b[1;33m(\u001b[0m\u001b[0mmapped\u001b[0m\u001b[1;33m[\u001b[0m\u001b[1;36m0\u001b[0m\u001b[1;33m]\u001b[0m\u001b[1;33m,\u001b[0m \u001b[0mSeries\u001b[0m\u001b[1;33m)\u001b[0m\u001b[1;33m:\u001b[0m\u001b[1;33m\u001b[0m\u001b[1;33m\u001b[0m\u001b[0m\n",
      "\u001b[1;32mpandas\\_libs\\lib.pyx\u001b[0m in \u001b[0;36mpandas._libs.lib.map_infer\u001b[1;34m()\u001b[0m\n",
      "\u001b[1;32mC:\\ProgramData\\Anaconda3\\lib\\site-packages\\pandas\\core\\series.py\u001b[0m in \u001b[0;36m__init__\u001b[1;34m(self, data, index, dtype, name, copy, fastpath)\u001b[0m\n\u001b[0;32m    367\u001b[0m \u001b[1;33m\u001b[0m\u001b[0m\n\u001b[0;32m    368\u001b[0m         \u001b[0mgeneric\u001b[0m\u001b[1;33m.\u001b[0m\u001b[0mNDFrame\u001b[0m\u001b[1;33m.\u001b[0m\u001b[0m__init__\u001b[0m\u001b[1;33m(\u001b[0m\u001b[0mself\u001b[0m\u001b[1;33m,\u001b[0m \u001b[0mdata\u001b[0m\u001b[1;33m)\u001b[0m\u001b[1;33m\u001b[0m\u001b[1;33m\u001b[0m\u001b[0m\n\u001b[1;32m--> 369\u001b[1;33m         \u001b[0mself\u001b[0m\u001b[1;33m.\u001b[0m\u001b[0mname\u001b[0m \u001b[1;33m=\u001b[0m \u001b[0mname\u001b[0m\u001b[1;33m\u001b[0m\u001b[1;33m\u001b[0m\u001b[0m\n\u001b[0m\u001b[0;32m    370\u001b[0m         \u001b[0mself\u001b[0m\u001b[1;33m.\u001b[0m\u001b[0m_set_axis\u001b[0m\u001b[1;33m(\u001b[0m\u001b[1;36m0\u001b[0m\u001b[1;33m,\u001b[0m \u001b[0mindex\u001b[0m\u001b[1;33m,\u001b[0m \u001b[0mfastpath\u001b[0m\u001b[1;33m=\u001b[0m\u001b[1;32mTrue\u001b[0m\u001b[1;33m)\u001b[0m\u001b[1;33m\u001b[0m\u001b[1;33m\u001b[0m\u001b[0m\n\u001b[0;32m    371\u001b[0m \u001b[1;33m\u001b[0m\u001b[0m\n",
      "\u001b[1;32mC:\\ProgramData\\Anaconda3\\lib\\site-packages\\pandas\\core\\generic.py\u001b[0m in \u001b[0;36m__setattr__\u001b[1;34m(self, name, value)\u001b[0m\n\u001b[0;32m   5477\u001b[0m             \u001b[0mobject\u001b[0m\u001b[1;33m.\u001b[0m\u001b[0m__getattribute__\u001b[0m\u001b[1;33m(\u001b[0m\u001b[0mself\u001b[0m\u001b[1;33m,\u001b[0m \u001b[0mname\u001b[0m\u001b[1;33m)\u001b[0m\u001b[1;33m\u001b[0m\u001b[1;33m\u001b[0m\u001b[0m\n\u001b[0;32m   5478\u001b[0m             \u001b[1;32mreturn\u001b[0m \u001b[0mobject\u001b[0m\u001b[1;33m.\u001b[0m\u001b[0m__setattr__\u001b[0m\u001b[1;33m(\u001b[0m\u001b[0mself\u001b[0m\u001b[1;33m,\u001b[0m \u001b[0mname\u001b[0m\u001b[1;33m,\u001b[0m \u001b[0mvalue\u001b[0m\u001b[1;33m)\u001b[0m\u001b[1;33m\u001b[0m\u001b[1;33m\u001b[0m\u001b[0m\n\u001b[1;32m-> 5479\u001b[1;33m         \u001b[1;32mexcept\u001b[0m \u001b[0mAttributeError\u001b[0m\u001b[1;33m:\u001b[0m\u001b[1;33m\u001b[0m\u001b[1;33m\u001b[0m\u001b[0m\n\u001b[0m\u001b[0;32m   5480\u001b[0m             \u001b[1;32mpass\u001b[0m\u001b[1;33m\u001b[0m\u001b[1;33m\u001b[0m\u001b[0m\n\u001b[0;32m   5481\u001b[0m \u001b[1;33m\u001b[0m\u001b[0m\n",
      "\u001b[1;31mKeyboardInterrupt\u001b[0m: "
     ]
    }
   ],
   "source": [
    "results_1A = grid_search_optimization([0], [0], sgs, min_counts, vector_sizes, \n",
    "                                      windows, epochss, negatives, min_ns,\n",
    "                                      max_ns, alphas)"
   ]
  },
  {
   "cell_type": "code",
   "execution_count": 66,
   "metadata": {
    "colab": {
     "base_uri": "https://localhost:8080/"
    },
    "id": "ZQpq0gQQvg7o",
    "outputId": "29cf02d3-aa64-4ee6-fe37-1d5c3e5abdb8"
   },
   "outputs": [
    {
     "ename": "NameError",
     "evalue": "name 'results_1A' is not defined",
     "output_type": "error",
     "traceback": [
      "\u001b[1;31m---------------------------------------------------------------------------\u001b[0m",
      "\u001b[1;31mNameError\u001b[0m                                 Traceback (most recent call last)",
      "\u001b[1;32m<ipython-input-66-8b51df3abe20>\u001b[0m in \u001b[0;36m<module>\u001b[1;34m\u001b[0m\n\u001b[1;32m----> 1\u001b[1;33m \u001b[0mresults_1A\u001b[0m\u001b[1;33m[\u001b[0m\u001b[1;33m:\u001b[0m\u001b[1;36m10\u001b[0m\u001b[1;33m]\u001b[0m\u001b[1;33m\u001b[0m\u001b[1;33m\u001b[0m\u001b[0m\n\u001b[0m",
      "\u001b[1;31mNameError\u001b[0m: name 'results_1A' is not defined"
     ]
    }
   ],
   "source": [
    "results_1A[:10]"
   ]
  },
  {
   "cell_type": "markdown",
   "metadata": {
    "id": "xaSeELTxrIw_"
   },
   "source": [
    "#### 1B"
   ]
  },
  {
   "cell_type": "code",
   "execution_count": null,
   "metadata": {
    "id": "TeXQq7RFu9ai"
   },
   "outputs": [],
   "source": [
    "results_1B = grid_search_optimization([0], [1], sgs, min_counts, vector_sizes, \n",
    "                                      windows, epochss, negatives, min_ns,\n",
    "                                      max_ns, alphas)"
   ]
  },
  {
   "cell_type": "code",
   "execution_count": null,
   "metadata": {
    "colab": {
     "base_uri": "https://localhost:8080/"
    },
    "id": "opRKCW_tvij-",
    "outputId": "b8bcf215-e2f7-4db7-c796-63a9b6666dce"
   },
   "outputs": [],
   "source": [
    "results_1B[:10]"
   ]
  },
  {
   "cell_type": "markdown",
   "metadata": {
    "id": "5ug8qVNQrJaF"
   },
   "source": [
    "#### 2A"
   ]
  },
  {
   "cell_type": "code",
   "execution_count": null,
   "metadata": {
    "id": "tsX_q8GOu_nn"
   },
   "outputs": [],
   "source": [
    "results_2A = grid_search_optimization([1], [0], sgs, min_counts, vector_sizes, \n",
    "                                       windows, epochss, negatives, min_ns,\n",
    "                                       max_ns, alphas)"
   ]
  },
  {
   "cell_type": "code",
   "execution_count": null,
   "metadata": {
    "colab": {
     "base_uri": "https://localhost:8080/"
    },
    "id": "jzN_gj5gvkko",
    "outputId": "d253f825-b378-4544-9ffa-af20aa253baa"
   },
   "outputs": [],
   "source": [
    "results_2A[:10]"
   ]
  },
  {
   "cell_type": "markdown",
   "metadata": {
    "id": "tahjnAEOrJ9o"
   },
   "source": [
    "#### 2B"
   ]
  },
  {
   "cell_type": "code",
   "execution_count": null,
   "metadata": {
    "id": "q2dFHzgRvBUa"
   },
   "outputs": [],
   "source": [
    "results_2B = grid_search_optimization([1], [1], sgs, min_counts, vector_sizes, \n",
    "                                       windows, epochss, negatives, min_ns,\n",
    "                                       max_ns, alphas)"
   ]
  },
  {
   "cell_type": "code",
   "execution_count": null,
   "metadata": {
    "colab": {
     "base_uri": "https://localhost:8080/"
    },
    "id": "JZbUEOl0vmq-",
    "outputId": "c2c2e236-cc17-40cb-bf9a-b1255cdfe757"
   },
   "outputs": [],
   "source": [
    "results_2B[:10]"
   ]
  }
 ],
 "metadata": {
  "colab": {
   "collapsed_sections": [],
   "machine_shape": "hm",
   "name": "embeddings_italian.ipynb",
   "provenance": [],
   "toc_visible": true
  },
  "deepnote": {
   "is_reactive": false
  },
  "deepnote_execution_queue": [],
  "deepnote_notebook_id": "9fa1d5ed-7c8d-46b6-a49d-2aab1dbabe3a",
  "kernelspec": {
   "display_name": "Python 3",
   "language": "python",
   "name": "python3"
  },
  "language_info": {
   "codemirror_mode": {
    "name": "ipython",
    "version": 3
   },
   "file_extension": ".py",
   "mimetype": "text/x-python",
   "name": "python",
   "nbconvert_exporter": "python",
   "pygments_lexer": "ipython3",
   "version": "3.8.8"
  }
 },
 "nbformat": 4,
 "nbformat_minor": 1
}
